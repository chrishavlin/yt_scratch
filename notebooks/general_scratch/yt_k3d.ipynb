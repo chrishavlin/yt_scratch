{
 "cells": [
  {
   "cell_type": "code",
   "execution_count": 1,
   "id": "3c9f4916-8909-4988-a4b2-25eb5d94718e",
   "metadata": {},
   "outputs": [],
   "source": [
    "import yt \n",
    "import k3d \n",
    "import numpy as np"
   ]
  },
  {
   "cell_type": "code",
   "execution_count": 2,
   "id": "76eb8c6a-130e-44d7-96ca-6ccf9cafe994",
   "metadata": {},
   "outputs": [
    {
     "name": "stderr",
     "output_type": "stream",
     "text": [
      "yt : [INFO     ] 2024-09-18 13:15:17,152 Sample dataset found in '/Users/chavlin/data/yt_data/IsolatedGalaxy/galaxy0030/galaxy0030'\n",
      "yt : [INFO     ] 2024-09-18 13:15:17,256 Parameters: current_time              = 0.0060000200028298\n",
      "yt : [INFO     ] 2024-09-18 13:15:17,256 Parameters: domain_dimensions         = [32 32 32]\n",
      "yt : [INFO     ] 2024-09-18 13:15:17,257 Parameters: domain_left_edge          = [0. 0. 0.]\n",
      "yt : [INFO     ] 2024-09-18 13:15:17,257 Parameters: domain_right_edge         = [1. 1. 1.]\n",
      "yt : [INFO     ] 2024-09-18 13:15:17,257 Parameters: cosmological_simulation   = 0\n",
      "Parsing Hierarchy : 100%|██████████████████████████████████████████████████████████| 173/173 [00:00<00:00, 30702.15it/s]\n",
      "yt : [INFO     ] 2024-09-18 13:15:17,278 Gathering a field list (this may take a moment.)\n"
     ]
    }
   ],
   "source": [
    "ds = yt.load_sample(\"IsolatedGalaxy\")\n",
    "reg = ds.r[::500j,::500j,::500j]\n",
    "dens = np.log10(reg[\"gas\", \"density\"])"
   ]
  },
  {
   "cell_type": "code",
   "execution_count": 3,
   "id": "e5db1083-774e-4ae4-b7bc-fc5223f825e0",
   "metadata": {},
   "outputs": [
    {
     "data": {
      "application/vnd.jupyter.widget-view+json": {
       "model_id": "ecdeac6467da4d7db5aecb2b923f0d77",
       "version_major": 2,
       "version_minor": 0
      },
      "text/plain": [
       "Output()"
      ]
     },
     "metadata": {},
     "output_type": "display_data"
    }
   ],
   "source": [
    "plt_volume = k3d.mip(dens.astype(np.float32))\n",
    "\n",
    "plot = k3d.plot()\n",
    "plot += plt_volume\n",
    "plot.display()"
   ]
  },
  {
   "cell_type": "code",
   "execution_count": null,
   "id": "8662d281-3608-450a-8aa9-d03c6289e28f",
   "metadata": {},
   "outputs": [],
   "source": []
  }
 ],
 "metadata": {
  "kernelspec": {
   "display_name": "Python 3 (ipykernel)",
   "language": "python",
   "name": "python3"
  },
  "language_info": {
   "codemirror_mode": {
    "name": "ipython",
    "version": 3
   },
   "file_extension": ".py",
   "mimetype": "text/x-python",
   "name": "python",
   "nbconvert_exporter": "python",
   "pygments_lexer": "ipython3",
   "version": "3.10.11"
  }
 },
 "nbformat": 4,
 "nbformat_minor": 5
}
