{
 "cells": [
  {
   "cell_type": "code",
   "execution_count": 2,
   "id": "3c9f4916-8909-4988-a4b2-25eb5d94718e",
   "metadata": {},
   "outputs": [],
   "source": [
    "import yt \n",
    "import k3d \n",
    "import numpy as np\n"
   ]
  },
  {
   "cell_type": "code",
   "execution_count": null,
   "id": "290ca5de-ffc0-463e-9620-07532231dea0",
   "metadata": {},
   "outputs": [],
   "source": []
  },
  {
   "cell_type": "code",
   "execution_count": null,
   "id": "474f680b-cab3-497a-ac90-81577f0c9b5f",
   "metadata": {},
   "outputs": [],
   "source": []
  },
  {
   "cell_type": "code",
   "execution_count": 8,
   "id": "76eb8c6a-130e-44d7-96ca-6ccf9cafe994",
   "metadata": {},
   "outputs": [
    {
     "name": "stderr",
     "output_type": "stream",
     "text": [
      "yt : [INFO     ] 2024-09-18 14:08:05,208 Sample dataset found in '/Users/chavlin/data/yt_data/IsolatedGalaxy/galaxy0030/galaxy0030'\n",
      "yt : [INFO     ] 2024-09-18 14:08:05,247 Parameters: current_time              = 0.0060000200028298\n",
      "yt : [INFO     ] 2024-09-18 14:08:05,248 Parameters: domain_dimensions         = [32 32 32]\n",
      "yt : [INFO     ] 2024-09-18 14:08:05,248 Parameters: domain_left_edge          = [0. 0. 0.]\n",
      "yt : [INFO     ] 2024-09-18 14:08:05,249 Parameters: domain_right_edge         = [1. 1. 1.]\n",
      "yt : [INFO     ] 2024-09-18 14:08:05,249 Parameters: cosmological_simulation   = 0\n",
      "Parsing Hierarchy : 100%|██████████████████████████████████████████████████████████| 173/173 [00:00<00:00, 28051.75it/s]\n",
      "yt : [INFO     ] 2024-09-18 14:08:05,261 Gathering a field list (this may take a moment.)\n"
     ]
    }
   ],
   "source": [
    "ds = yt.load_sample(\"IsolatedGalaxy\")\n",
    "le = ds.domain_center - ds.quan(.25, 'code_length')\n",
    "re = ds.domain_center + ds.quan(.25, 'code_length')\n",
    "reg = ds.r[le[0]:re[0]:512j,le[1]:re[1]:512j,le[2]:re[2]:512j]\n",
    "dens = np.log10(reg[\"gas\", \"density\"]).astype(np.float32)"
   ]
  },
  {
   "cell_type": "code",
   "execution_count": 10,
   "id": "e5db1083-774e-4ae4-b7bc-fc5223f825e0",
   "metadata": {},
   "outputs": [
    {
     "data": {
      "application/vnd.jupyter.widget-view+json": {
       "model_id": "f5a02c8af07f45f5843097885f38f235",
       "version_major": 2,
       "version_minor": 0
      },
      "text/plain": [
       "Output()"
      ]
     },
     "metadata": {},
     "output_type": "display_data"
    }
   ],
   "source": [
    "plt_volume = k3d.mip(dens, color_map=k3d.matplotlib_color_maps.viridis)\n",
    "\n",
    "plot = k3d.plot()\n",
    "plot += plt_volume\n",
    "plot.display()"
   ]
  },
  {
   "cell_type": "code",
   "execution_count": 6,
   "id": "8662d281-3608-450a-8aa9-d03c6289e28f",
   "metadata": {},
   "outputs": [
    {
     "name": "stderr",
     "output_type": "stream",
     "text": [
      "yt : [INFO     ] 2024-09-18 14:06:47,904 Sample dataset found in '/Users/chavlin/data/yt_data/snapshot_033/snap_033.0.hdf5'\n",
      "yt : [INFO     ] 2024-09-18 14:06:47,946 Parameters: current_time              = 4.343952725460923e+17 s\n",
      "yt : [INFO     ] 2024-09-18 14:06:47,946 Parameters: domain_dimensions         = [1 1 1]\n",
      "yt : [INFO     ] 2024-09-18 14:06:47,947 Parameters: domain_left_edge          = [0. 0. 0.]\n",
      "yt : [INFO     ] 2024-09-18 14:06:47,947 Parameters: domain_right_edge         = [25. 25. 25.]\n",
      "yt : [INFO     ] 2024-09-18 14:06:47,947 Parameters: cosmological_simulation   = 1\n",
      "yt : [INFO     ] 2024-09-18 14:06:47,947 Parameters: current_redshift          = -4.811891664902035e-05\n",
      "yt : [INFO     ] 2024-09-18 14:06:47,948 Parameters: omega_lambda              = 0.762\n",
      "yt : [INFO     ] 2024-09-18 14:06:47,948 Parameters: omega_matter              = 0.238\n",
      "yt : [INFO     ] 2024-09-18 14:06:47,948 Parameters: omega_radiation           = 0.0\n",
      "yt : [INFO     ] 2024-09-18 14:06:47,948 Parameters: hubble_constant           = 0.73\n"
     ]
    }
   ],
   "source": [
    "ds = yt.load_sample(\"snapshot_033\")"
   ]
  },
  {
   "cell_type": "code",
   "execution_count": 26,
   "id": "121f6cf4-6f2e-4b72-8176-c0d1b5f660a3",
   "metadata": {},
   "outputs": [],
   "source": [
    "ad = ds.all_data()\n",
    "xyz = ad[\"PartType0\", \"Coordinates\"].to('unitary').astype(np.float32)"
   ]
  },
  {
   "cell_type": "code",
   "execution_count": 23,
   "id": "b425bb0e-9e20-4dec-8b17-01ae02a1b0b1",
   "metadata": {},
   "outputs": [
    {
     "data": {
      "text/plain": [
       "(1941226, 3)"
      ]
     },
     "execution_count": 23,
     "metadata": {},
     "output_type": "execute_result"
    }
   ],
   "source": [
    "xyz.shape"
   ]
  },
  {
   "cell_type": "code",
   "execution_count": 34,
   "id": "89f5fc85-8c4c-4ec0-ab8a-eb85d3ea5196",
   "metadata": {},
   "outputs": [],
   "source": [
    "dens = np.log10(ad[\"PartType0\", \"Density\"].astype(np.float32))"
   ]
  },
  {
   "cell_type": "code",
   "execution_count": 32,
   "id": "a9e99b46-ec39-4e80-9f4a-deb11a864bbb",
   "metadata": {},
   "outputs": [],
   "source": [
    "rad = ad[\"PartType0\", \"smoothing_length\"].to('unitary').astype(np.float32)"
   ]
  },
  {
   "cell_type": "code",
   "execution_count": null,
   "id": "b2c6f32c-f1e1-4cbc-a6f9-355e153d91d7",
   "metadata": {},
   "outputs": [],
   "source": []
  },
  {
   "cell_type": "code",
   "execution_count": 31,
   "id": "099fc3d5-7b32-4973-b5ce-3c2b82528bcd",
   "metadata": {},
   "outputs": [
    {
     "data": {
      "text/plain": [
       "(unyt_quantity(2.07880535e-05, 'unitary'),\n",
       " unyt_quantity(0.05378245, 'unitary'))"
      ]
     },
     "execution_count": 31,
     "metadata": {},
     "output_type": "execute_result"
    }
   ],
   "source": [
    "rad.min(), rad.max()"
   ]
  },
  {
   "cell_type": "code",
   "execution_count": null,
   "id": "3cc24b1e-a46a-4bd8-99d6-fa279323d23b",
   "metadata": {},
   "outputs": [],
   "source": []
  },
  {
   "cell_type": "code",
   "execution_count": 21,
   "id": "cf519e7b-5aa8-4850-a764-dbdef39871f5",
   "metadata": {},
   "outputs": [
    {
     "data": {
      "text/plain": [
       "unyt_quantity(0.99999886, 'unitary')"
      ]
     },
     "execution_count": 21,
     "metadata": {},
     "output_type": "execute_result"
    }
   ],
   "source": [
    "xyz.max().to('unitary')"
   ]
  },
  {
   "cell_type": "code",
   "execution_count": 42,
   "id": "bc7ba206-5e29-4aa8-aa95-e36e8ca38885",
   "metadata": {},
   "outputs": [
    {
     "data": {
      "text/plain": [
       "\u001b[0;31mSignature:\u001b[0m \u001b[0mmcolors\u001b[0m\u001b[0;34m.\u001b[0m\u001b[0mto_hex\u001b[0m\u001b[0;34m(\u001b[0m\u001b[0mc\u001b[0m\u001b[0;34m,\u001b[0m \u001b[0mkeep_alpha\u001b[0m\u001b[0;34m=\u001b[0m\u001b[0;32mFalse\u001b[0m\u001b[0;34m)\u001b[0m\u001b[0;34m\u001b[0m\u001b[0;34m\u001b[0m\u001b[0m\n",
       "\u001b[0;31mDocstring:\u001b[0m\n",
       "Convert *c* to a hex color.\n",
       "\n",
       "Parameters\n",
       "----------\n",
       "c : :ref:`color <colors_def>` or `numpy.ma.masked`\n",
       "\n",
       "keep_alpha : bool, default: False\n",
       "  If False, use the ``#rrggbb`` format, otherwise use ``#rrggbbaa``.\n",
       "\n",
       "Returns\n",
       "-------\n",
       "str\n",
       "  ``#rrggbb`` or ``#rrggbbaa`` hex color string\n",
       "\u001b[0;31mFile:\u001b[0m      ~/.pyenv/versions/3.10.11/envs/yt_dev/lib/python3.10/site-packages/matplotlib/colors.py\n",
       "\u001b[0;31mType:\u001b[0m      function"
      ]
     },
     "metadata": {},
     "output_type": "display_data"
    }
   ],
   "source": [
    "mcolors.to_hex?"
   ]
  },
  {
   "cell_type": "code",
   "execution_count": 58,
   "id": "f2240eb2-c86e-4342-9432-6fbc8ce094a3",
   "metadata": {},
   "outputs": [],
   "source": [
    "import matplotlib \n",
    "import matplotlib.pyplot as plt \n",
    "import matplotlib.colors as mcolors\n",
    "\n",
    "norm = matplotlib.colors.Normalize(vmin=dens.min(), vmax=dens.max())\n",
    "mapper = plt.cm.ScalarMappable(norm=norm, cmap=plt.cm.viridis)\n",
    "colors = mapper.to_rgba(dens)\n",
    "# slow... but to_hex is not vectorized :( \n",
    "colors = [int(mcolors.to_hex(clr).replace(\"#\",\"0x\"), 16) for clr in colors]\n",
    "# colors.shape"
   ]
  },
  {
   "cell_type": "code",
   "execution_count": null,
   "id": "a924ad8a-f42d-4b9b-8649-90109d0b12ef",
   "metadata": {},
   "outputs": [],
   "source": []
  },
  {
   "cell_type": "code",
   "execution_count": 59,
   "id": "cdafebf8-aab4-45e8-9318-88ce6b05b4c4",
   "metadata": {},
   "outputs": [
    {
     "data": {
      "text/plain": [
       "6802524"
      ]
     },
     "execution_count": 59,
     "metadata": {},
     "output_type": "execute_result"
    }
   ],
   "source": [
    "colors[0]"
   ]
  },
  {
   "cell_type": "code",
   "execution_count": 49,
   "id": "7d14fcfa-d152-4365-9682-c7ee74198d77",
   "metadata": {},
   "outputs": [],
   "source": [
    "colors = np.array(colors)"
   ]
  },
  {
   "cell_type": "code",
   "execution_count": null,
   "id": "9251feef-5622-4af6-9142-6eedcfc212c5",
   "metadata": {},
   "outputs": [],
   "source": []
  },
  {
   "cell_type": "code",
   "execution_count": 61,
   "id": "3e16a522-b77b-41d2-8982-9c3fba757813",
   "metadata": {},
   "outputs": [
    {
     "name": "stderr",
     "output_type": "stream",
     "text": [
      "/Users/chavlin/.pyenv/versions/3.10.11/envs/yt_dev/lib/python3.10/site-packages/traittypes/traittypes.py:97: UserWarning: Given trait value dtype \"float32\" does not match required type \"float32\". A coerced copy has been created.\n",
      "  warnings.warn(\n"
     ]
    },
    {
     "data": {
      "application/vnd.jupyter.widget-view+json": {
       "model_id": "1e7212c5001540bca5220b96d38f216f",
       "version_major": 2,
       "version_minor": 0
      },
      "text/plain": [
       "Output()"
      ]
     },
     "metadata": {},
     "output_type": "display_data"
    }
   ],
   "source": [
    "plt_points = k3d.points(xyz,                        \n",
    "                        point_sizes=rad,\n",
    "                        colors=colors\n",
    "                        )\n",
    "\n",
    "plot = k3d.plot(grid_visible=False,\n",
    "                camera_auto_fit=False,)\n",
    "plot += plt_points\n",
    "plot.display()"
   ]
  },
  {
   "cell_type": "code",
   "execution_count": 52,
   "id": "2a087005-1ae5-4848-9aef-2b8abb24bc85",
   "metadata": {},
   "outputs": [
    {
     "data": {
      "text/plain": [
       "numpy.str_"
      ]
     },
     "execution_count": 52,
     "metadata": {},
     "output_type": "execute_result"
    }
   ],
   "source": [
    "type(colors[0])"
   ]
  },
  {
   "cell_type": "code",
   "execution_count": 53,
   "id": "0c8716e6-292a-4617-9c4a-1adcffcbf330",
   "metadata": {},
   "outputs": [],
   "source": [
    "#67cc5c"
   ]
  },
  {
   "cell_type": "code",
   "execution_count": 55,
   "id": "a4b18e7b-0c8c-4d40-8296-7fbadce09d8b",
   "metadata": {},
   "outputs": [
    {
     "data": {
      "text/plain": [
       "6802524"
      ]
     },
     "execution_count": 55,
     "metadata": {},
     "output_type": "execute_result"
    }
   ],
   "source": [
    "0x67cc5c"
   ]
  },
  {
   "cell_type": "code",
   "execution_count": null,
   "id": "0c2299e6-7a41-4945-ba86-8d3cff52f99d",
   "metadata": {},
   "outputs": [],
   "source": []
  }
 ],
 "metadata": {
  "kernelspec": {
   "display_name": "Python 3 (ipykernel)",
   "language": "python",
   "name": "python3"
  },
  "language_info": {
   "codemirror_mode": {
    "name": "ipython",
    "version": 3
   },
   "file_extension": ".py",
   "mimetype": "text/x-python",
   "name": "python",
   "nbconvert_exporter": "python",
   "pygments_lexer": "ipython3",
   "version": "3.10.11"
  }
 },
 "nbformat": 4,
 "nbformat_minor": 5
}
