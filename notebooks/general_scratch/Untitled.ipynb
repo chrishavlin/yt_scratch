{
 "cells": [
  {
   "cell_type": "code",
   "execution_count": 9,
   "id": "62e15988-039d-494c-9568-948fe6558311",
   "metadata": {},
   "outputs": [
    {
     "name": "stderr",
     "output_type": "stream",
     "text": [
      "yt : [INFO     ] 2023-07-25 09:42:26,987 Parameters: current_time              = 450.81680002092\n",
      "yt : [INFO     ] 2023-07-25 09:42:26,987 Parameters: domain_dimensions         = [64 64 64]\n",
      "yt : [INFO     ] 2023-07-25 09:42:26,988 Parameters: domain_left_edge          = [0. 0. 0.]\n",
      "yt : [INFO     ] 2023-07-25 09:42:26,989 Parameters: domain_right_edge         = [1. 1. 1.]\n",
      "yt : [INFO     ] 2023-07-25 09:42:26,990 Parameters: cosmological_simulation   = 1\n",
      "yt : [INFO     ] 2023-07-25 09:42:26,990 Parameters: current_redshift          = 0.37540545510405\n",
      "yt : [INFO     ] 2023-07-25 09:42:26,991 Parameters: omega_lambda              = 0.7\n",
      "yt : [INFO     ] 2023-07-25 09:42:26,991 Parameters: omega_matter              = 0.3\n",
      "yt : [INFO     ] 2023-07-25 09:42:26,991 Parameters: omega_radiation           = 0.0\n",
      "yt : [INFO     ] 2023-07-25 09:42:26,992 Parameters: hubble_constant           = 0.71\n",
      "yt : [INFO     ] 2023-07-25 09:42:27,040 Parameters: current_time              = 600.81661335481\n",
      "yt : [INFO     ] 2023-07-25 09:42:27,041 Parameters: domain_dimensions         = [64 64 64]\n",
      "yt : [INFO     ] 2023-07-25 09:42:27,042 Parameters: domain_left_edge          = [0. 0. 0.]\n",
      "yt : [INFO     ] 2023-07-25 09:42:27,042 Parameters: domain_right_edge         = [1. 1. 1.]\n",
      "yt : [INFO     ] 2023-07-25 09:42:27,043 Parameters: cosmological_simulation   = 1\n",
      "yt : [INFO     ] 2023-07-25 09:42:27,043 Parameters: current_redshift          = 0.072084332616549\n",
      "yt : [INFO     ] 2023-07-25 09:42:27,043 Parameters: omega_lambda              = 0.7\n",
      "yt : [INFO     ] 2023-07-25 09:42:27,044 Parameters: omega_matter              = 0.3\n",
      "yt : [INFO     ] 2023-07-25 09:42:27,044 Parameters: omega_radiation           = 0.0\n",
      "yt : [INFO     ] 2023-07-25 09:42:27,044 Parameters: hubble_constant           = 0.71\n"
     ]
    },
    {
     "name": "stdout",
     "output_type": "stream",
     "text": [
      "/hdd/data/yt_data/yt_sample_sets/Enzo_64/DD0030/data0030\n",
      "/home/chavlin/hdd/data/yt_data/yt_sample_sets/Enzo_64/DD0040/data0040\n"
     ]
    }
   ],
   "source": [
    "import yt\n",
    "\n",
    "base_dir = \"/home/chavlin/hdd/data/yt_data/yt_sample_sets/Enzo_64/\"\n",
    "ts_list = [\"DD0030/data0030\", \"DD0040/data0040\"]\n",
    "ts_list = [base_dir + ts_i for ts_i in ts_list]\n",
    "ts = yt.DatasetSeries(ts_list)\n",
    "\n",
    "for ds in ts:    \n",
    "    print(ds.filename)\n"
   ]
  },
  {
   "cell_type": "code",
   "execution_count": 10,
   "id": "4817c813-512a-497a-bc15-f350f363709e",
   "metadata": {},
   "outputs": [
    {
     "name": "stderr",
     "output_type": "stream",
     "text": [
      "yt : [INFO     ] 2023-07-25 09:42:54,036 Parameters: current_time              = 450.81680002092\n",
      "yt : [INFO     ] 2023-07-25 09:42:54,037 Parameters: domain_dimensions         = [64 64 64]\n",
      "yt : [INFO     ] 2023-07-25 09:42:54,037 Parameters: domain_left_edge          = [0. 0. 0.]\n",
      "yt : [INFO     ] 2023-07-25 09:42:54,039 Parameters: domain_right_edge         = [1. 1. 1.]\n",
      "yt : [INFO     ] 2023-07-25 09:42:54,039 Parameters: cosmological_simulation   = 1\n",
      "yt : [INFO     ] 2023-07-25 09:42:54,040 Parameters: current_redshift          = 0.37540545510405\n",
      "yt : [INFO     ] 2023-07-25 09:42:54,040 Parameters: omega_lambda              = 0.7\n",
      "yt : [INFO     ] 2023-07-25 09:42:54,040 Parameters: omega_matter              = 0.3\n",
      "yt : [INFO     ] 2023-07-25 09:42:54,041 Parameters: omega_radiation           = 0.0\n",
      "yt : [INFO     ] 2023-07-25 09:42:54,041 Parameters: hubble_constant           = 0.71\n",
      "yt : [INFO     ] 2023-07-25 09:42:54,083 Parameters: current_time              = 600.81661335481\n",
      "yt : [INFO     ] 2023-07-25 09:42:54,084 Parameters: domain_dimensions         = [64 64 64]\n",
      "yt : [INFO     ] 2023-07-25 09:42:54,084 Parameters: domain_left_edge          = [0. 0. 0.]\n",
      "yt : [INFO     ] 2023-07-25 09:42:54,085 Parameters: domain_right_edge         = [1. 1. 1.]\n",
      "yt : [INFO     ] 2023-07-25 09:42:54,085 Parameters: cosmological_simulation   = 1\n",
      "yt : [INFO     ] 2023-07-25 09:42:54,086 Parameters: current_redshift          = 0.072084332616549\n",
      "yt : [INFO     ] 2023-07-25 09:42:54,086 Parameters: omega_lambda              = 0.7\n",
      "yt : [INFO     ] 2023-07-25 09:42:54,086 Parameters: omega_matter              = 0.3\n",
      "yt : [INFO     ] 2023-07-25 09:42:54,087 Parameters: omega_radiation           = 0.0\n",
      "yt : [INFO     ] 2023-07-25 09:42:54,087 Parameters: hubble_constant           = 0.71\n"
     ]
    },
    {
     "name": "stdout",
     "output_type": "stream",
     "text": [
      "/home/chavlin/hdd/data/yt_data/yt_sample_sets/Enzo_64/DD0030/data0030\n",
      "/home/chavlin/hdd/data/yt_data/yt_sample_sets/Enzo_64/DD0030/data0030\n",
      "/home/chavlin/hdd/data/yt_data/yt_sample_sets/Enzo_64/DD0040/data0040\n",
      "/home/chavlin/hdd/data/yt_data/yt_sample_sets/Enzo_64/DD0040/data0040\n"
     ]
    }
   ],
   "source": [
    "for fname, ds in zip(ts_list, ts):\n",
    "    print(fname)\n",
    "    print(ds.filename)"
   ]
  },
  {
   "cell_type": "code",
   "execution_count": 15,
   "id": "57a78eb1-2450-4a4a-bfd9-706cc68f4233",
   "metadata": {},
   "outputs": [
    {
     "name": "stderr",
     "output_type": "stream",
     "text": [
      "yt : [INFO     ] 2023-07-25 09:45:16,783 Parameters: current_time              = 450.81680002092\n",
      "yt : [INFO     ] 2023-07-25 09:45:16,783 Parameters: domain_dimensions         = [64 64 64]\n",
      "yt : [INFO     ] 2023-07-25 09:45:16,784 Parameters: domain_left_edge          = [0. 0. 0.]\n",
      "yt : [INFO     ] 2023-07-25 09:45:16,784 Parameters: domain_right_edge         = [1. 1. 1.]\n",
      "yt : [INFO     ] 2023-07-25 09:45:16,785 Parameters: cosmological_simulation   = 1\n",
      "yt : [INFO     ] 2023-07-25 09:45:16,785 Parameters: current_redshift          = 0.37540545510405\n",
      "yt : [INFO     ] 2023-07-25 09:45:16,786 Parameters: omega_lambda              = 0.7\n",
      "yt : [INFO     ] 2023-07-25 09:45:16,786 Parameters: omega_matter              = 0.3\n",
      "yt : [INFO     ] 2023-07-25 09:45:16,786 Parameters: omega_radiation           = 0.0\n",
      "yt : [INFO     ] 2023-07-25 09:45:16,787 Parameters: hubble_constant           = 0.71\n",
      "Parsing Hierarchy : 100%|██████████████████████████████| 608/608 [00:00<00:00, 4503.62it/s]\n",
      "yt : [INFO     ] 2023-07-25 09:45:16,946 Gathering a field list (this may take a moment.)\n",
      "yt : [INFO     ] 2023-07-25 09:45:19,354 Parameters: current_time              = 600.81661335481\n",
      "yt : [INFO     ] 2023-07-25 09:45:19,355 Parameters: domain_dimensions         = [64 64 64]\n",
      "yt : [INFO     ] 2023-07-25 09:45:19,355 Parameters: domain_left_edge          = [0. 0. 0.]\n",
      "yt : [INFO     ] 2023-07-25 09:45:19,356 Parameters: domain_right_edge         = [1. 1. 1.]\n",
      "yt : [INFO     ] 2023-07-25 09:45:19,356 Parameters: cosmological_simulation   = 1\n",
      "yt : [INFO     ] 2023-07-25 09:45:19,357 Parameters: current_redshift          = 0.072084332616549\n",
      "yt : [INFO     ] 2023-07-25 09:45:19,357 Parameters: omega_lambda              = 0.7\n",
      "yt : [INFO     ] 2023-07-25 09:45:19,357 Parameters: omega_matter              = 0.3\n",
      "yt : [INFO     ] 2023-07-25 09:45:19,358 Parameters: omega_radiation           = 0.0\n",
      "yt : [INFO     ] 2023-07-25 09:45:19,358 Parameters: hubble_constant           = 0.71\n"
     ]
    },
    {
     "name": "stdout",
     "output_type": "stream",
     "text": [
      "3.197716539467609 code_mass/code_length**3\n"
     ]
    },
    {
     "name": "stderr",
     "output_type": "stream",
     "text": [
      "Parsing Hierarchy : 100%|█████████████████████████████| 718/718 [00:00<00:00, 23829.58it/s]\n",
      "yt : [INFO     ] 2023-07-25 09:45:19,405 Gathering a field list (this may take a moment.)\n"
     ]
    },
    {
     "name": "stdout",
     "output_type": "stream",
     "text": [
      "4.93466794479589 code_mass/code_length**3\n"
     ]
    }
   ],
   "source": [
    "for fname, ds in zip(ts_list, ts):\n",
    "    sp = ds.sphere((0.,0.,0.), (100, 'Mpc'))\n",
    "    print(sp['enzo','Density'].mean())"
   ]
  },
  {
   "cell_type": "code",
   "execution_count": null,
   "id": "e9fb1ca3-6b1c-4e3f-8557-01681dc4609c",
   "metadata": {},
   "outputs": [],
   "source": []
  },
  {
   "cell_type": "code",
   "execution_count": null,
   "id": "a415651a-2701-46b4-a5d6-1f14fef94485",
   "metadata": {},
   "outputs": [],
   "source": []
  }
 ],
 "metadata": {
  "kernelspec": {
   "display_name": "Python 3 (ipykernel)",
   "language": "python",
   "name": "python3"
  },
  "language_info": {
   "codemirror_mode": {
    "name": "ipython",
    "version": 3
   },
   "file_extension": ".py",
   "mimetype": "text/x-python",
   "name": "python",
   "nbconvert_exporter": "python",
   "pygments_lexer": "ipython3",
   "version": "3.9.10"
  }
 },
 "nbformat": 4,
 "nbformat_minor": 5
}
