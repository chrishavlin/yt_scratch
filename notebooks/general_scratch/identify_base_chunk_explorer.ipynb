{
 "cells": [
  {
   "cell_type": "code",
   "execution_count": 16,
   "id": "3e17ac67-ef72-4dca-95ee-4756c319f2db",
   "metadata": {},
   "outputs": [],
   "source": [
    "from yt.frontends import *"
   ]
  },
  {
   "cell_type": "code",
   "execution_count": 17,
   "id": "66688e45-aabc-44d8-b90f-90eb81a8a477",
   "metadata": {},
   "outputs": [],
   "source": [
    "from yt.geometry.geometry_handler import Index"
   ]
  },
  {
   "cell_type": "code",
   "execution_count": 18,
   "id": "a7f025a3-9c7e-4b07-9f9c-a8888cc969c0",
   "metadata": {},
   "outputs": [],
   "source": [
    "from inheritance_explorer import ClassGraphTree"
   ]
  },
  {
   "cell_type": "code",
   "execution_count": 19,
   "id": "6d1a66a4-a139-4e54-9f9c-e13c0fe575d6",
   "metadata": {},
   "outputs": [],
   "source": [
    "cgt = ClassGraphTree(Index, funcname=\"_identify_base_chunk\")"
   ]
  },
  {
   "cell_type": "code",
   "execution_count": 12,
   "id": "19b524c6-c247-4c1b-80f6-301291063814",
   "metadata": {},
   "outputs": [
    {
     "name": "stdout",
     "output_type": "stream",
     "text": [
      "_tmp.html\n"
     ]
    },
    {
     "data": {
      "text/html": [
       "\n",
       "        <iframe\n",
       "            width=\"100%\"\n",
       "            height=\"600px\"\n",
       "            src=\"_tmp.html\"\n",
       "            frameborder=\"0\"\n",
       "            allowfullscreen\n",
       "            \n",
       "        ></iframe>\n",
       "        "
      ],
      "text/plain": [
       "<IPython.lib.display.IFrame at 0x15742d180>"
      ]
     },
     "execution_count": 12,
     "metadata": {},
     "output_type": "execute_result"
    }
   ],
   "source": [
    "n = cgt.build_interactive_graph(cdn_resources='in_line')\n",
    "n.show('_tmp.html')"
   ]
  },
  {
   "cell_type": "code",
   "execution_count": 15,
   "id": "7b4c3c13-9e8c-48af-832a-f7828a259b83",
   "metadata": {},
   "outputs": [
    {
     "data": {
      "application/vnd.jupyter.widget-view+json": {
       "model_id": "2bbe340a9c4342d895a71620daefd910",
       "version_major": 2,
       "version_minor": 0
      },
      "text/plain": [
       "HBox(children=(VBox(children=(Dropdown(options=('AMRVACHierarchy', 'AMReXHierarchy', 'ARTIOIndex', 'ARTIndex',…"
      ]
     },
     "metadata": {},
     "output_type": "display_data"
    }
   ],
   "source": [
    "cgt.display_code_comparison()"
   ]
  },
  {
   "cell_type": "code",
   "execution_count": 26,
   "id": "cf2f1a52-8764-40b6-b941-5816450dd530",
   "metadata": {},
   "outputs": [],
   "source": [
    "from yt.geometry.grid_geometry_handler import GridIndex\n",
    "cgt = ClassGraphTree(GridIndex)"
   ]
  },
  {
   "cell_type": "code",
   "execution_count": 27,
   "id": "1a297640-d0dc-4600-9088-3fdb68548a20",
   "metadata": {},
   "outputs": [
    {
     "name": "stdout",
     "output_type": "stream",
     "text": [
      "_tmp.html\n"
     ]
    },
    {
     "data": {
      "text/html": [
       "\n",
       "        <iframe\n",
       "            width=\"100%\"\n",
       "            height=\"600px\"\n",
       "            src=\"_tmp.html\"\n",
       "            frameborder=\"0\"\n",
       "            allowfullscreen\n",
       "            \n",
       "        ></iframe>\n",
       "        "
      ],
      "text/plain": [
       "<IPython.lib.display.IFrame at 0x1689ec340>"
      ]
     },
     "execution_count": 27,
     "metadata": {},
     "output_type": "execute_result"
    }
   ],
   "source": [
    "\n",
    "n = cgt.build_interactive_graph(cdn_resources='in_line')\n",
    "n.show('_tmp.html')"
   ]
  },
  {
   "cell_type": "code",
   "execution_count": null,
   "id": "e5facab9-ba20-4efc-9687-56b6360ea3d2",
   "metadata": {},
   "outputs": [],
   "source": []
  }
 ],
 "metadata": {
  "kernelspec": {
   "display_name": "Python 3 (ipykernel)",
   "language": "python",
   "name": "python3"
  },
  "language_info": {
   "codemirror_mode": {
    "name": "ipython",
    "version": 3
   },
   "file_extension": ".py",
   "mimetype": "text/x-python",
   "name": "python",
   "nbconvert_exporter": "python",
   "pygments_lexer": "ipython3",
   "version": "3.10.11"
  }
 },
 "nbformat": 4,
 "nbformat_minor": 5
}
