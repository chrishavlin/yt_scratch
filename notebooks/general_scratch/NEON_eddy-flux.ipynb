{
 "cells": [
  {
   "cell_type": "markdown",
   "id": "13bd145c-5a96-4f5c-924d-f83105185557",
   "metadata": {},
   "source": [
    "checking out some single-site eddy covariance flux data from NEON \n",
    "\n",
    "https://www.neonscience.org/ \n",
    "\n",
    "https://data.neonscience.org/data-products/DP4.00200.001 \n"
   ]
  },
  {
   "cell_type": "code",
   "execution_count": 4,
   "id": "c26474e0-6c6f-4e86-b7cf-de4cbfe1d504",
   "metadata": {},
   "outputs": [],
   "source": [
    "import h5py\n",
    "fname = \"/Users/chavlin/data/yt_data/NEON/NEON_eddy-flux/NEON.D13.NIWO.DP4.00200.001.2023-01.basic.20240127T000425Z.RELEASE-2024/NEON.D13.NIWO.DP4.00200.001.nsae.2023-01.basic.20240122T083454Z.h5\""
   ]
  },
  {
   "cell_type": "code",
   "execution_count": 5,
   "id": "331e1dbe-b5a9-490a-b32e-6f9435961965",
   "metadata": {},
   "outputs": [],
   "source": [
    "f = h5py.File(fname,'r')"
   ]
  },
  {
   "cell_type": "code",
   "execution_count": 9,
   "id": "bf97c42c-9261-4f06-836d-02b2e37e6ddc",
   "metadata": {},
   "outputs": [
    {
     "data": {
      "text/plain": [
       "<KeysViewHDF5 ['CiVerJava', 'CiVerPython', 'CiVerR', 'SciVer']>"
      ]
     },
     "execution_count": 9,
     "metadata": {},
     "output_type": "execute_result"
    }
   ],
   "source": [
    "f.attrs.keys()"
   ]
  },
  {
   "cell_type": "code",
   "execution_count": 10,
   "id": "ca546971-ffd0-40ee-9662-8357bf8f01e3",
   "metadata": {},
   "outputs": [
    {
     "data": {
      "text/plain": [
       "<KeysViewHDF5 ['NIWO', 'objDesc', 'readMe']>"
      ]
     },
     "execution_count": 10,
     "metadata": {},
     "output_type": "execute_result"
    }
   ],
   "source": [
    "f.keys()"
   ]
  },
  {
   "cell_type": "code",
   "execution_count": 12,
   "id": "6950ce89-543c-4211-87d5-2d6ad2d2a1f0",
   "metadata": {},
   "outputs": [
    {
     "data": {
      "text/plain": [
       "<KeysViewHDF5 ['dp01', 'dp02', 'dp03', 'dp04', 'dp0p']>"
      ]
     },
     "execution_count": 12,
     "metadata": {},
     "output_type": "execute_result"
    }
   ],
   "source": [
    "f['NIWO'].keys()"
   ]
  },
  {
   "cell_type": "code",
   "execution_count": 16,
   "id": "7ab0f77e-f75a-40eb-8cf4-8c6f138a89e1",
   "metadata": {},
   "outputs": [
    {
     "data": {
      "text/plain": [
       "<KeysViewHDF5 ['amrs', 'ch4Conc', 'co2Stor', 'co2Turb', 'fluxHeatSoil', 'h2oSoilVol', 'h2oStor', 'h2oTurb', 'isoCo2', 'isoH2o', 'presBaro', 'radiNet', 'soni', 'tempAirLvl', 'tempAirTop', 'tempSoil']>"
      ]
     },
     "execution_count": 16,
     "metadata": {},
     "output_type": "execute_result"
    }
   ],
   "source": [
    "f['NIWO']['dp01']['data'].keys()"
   ]
  },
  {
   "cell_type": "code",
   "execution_count": 20,
   "id": "78bb2718-4fa6-4c6b-a99c-6f30814b23c0",
   "metadata": {},
   "outputs": [
    {
     "data": {
      "text/plain": [
       "<KeysViewHDF5 ['000_010_01m', '000_010_30m', '000_020_01m', '000_020_30m', '000_030_01m', '000_030_30m']>"
      ]
     },
     "execution_count": 20,
     "metadata": {},
     "output_type": "execute_result"
    }
   ],
   "source": [
    "f['NIWO']['dp01']['data']['tempAirLvl'].keys()"
   ]
  },
  {
   "cell_type": "code",
   "execution_count": 29,
   "id": "7a5fee1e-1677-4dae-b9d7-5d1e3ad98d0f",
   "metadata": {},
   "outputs": [
    {
     "data": {
      "text/plain": [
       "(b'2023-01-01T00:00:00.000Z', b'2023-01-01T00:01:00.000Z', -5.2702, -5.2806, -5.2869, 60., 0.)"
      ]
     },
     "execution_count": 29,
     "metadata": {},
     "output_type": "execute_result"
    }
   ],
   "source": [
    "f['NIWO']['dp01']['data']['tempAirLvl']['000_010_01m']['temp'][:][0]"
   ]
  },
  {
   "cell_type": "code",
   "execution_count": 33,
   "id": "c9db736e-f62e-4faf-b8ca-61dbc5281504",
   "metadata": {},
   "outputs": [
    {
     "data": {
      "text/plain": [
       "<KeysViewHDF5 ['amrs', 'crdCo2', 'crdCo2ValvLvl', 'crdH2o', 'crdH2oValvLvl', 'crdH2oValvVali', 'envHut', 'gasRefe', 'h2oRefe', 'irgaStor', 'irgaTurb', 'irgaValvLvl', 'mfcSampStor', 'mfcSampTurb', 'mfcValiStor', 'mfcValiTurb', 'mfm', 'presInlt', 'presTrap', 'presValiLineTurb', 'presValiRegInStor', 'presValiRegInTurb', 'presValiRegOutStor', 'presValiRegOutTurb', 'pumpStor', 'pumpTurb', 'rhSens', 'soni', 'valvAux', 'valvLeakHeatTurb', 'valvValiHutTurb', 'valvValiNemaTurb', 'valvValiStor']>"
      ]
     },
     "execution_count": 33,
     "metadata": {},
     "output_type": "execute_result"
    }
   ],
   "source": [
    "f['NIWO']['dp0p']['data'].keys()"
   ]
  },
  {
   "cell_type": "code",
   "execution_count": 34,
   "id": "af35dd9f-dbf4-4a5d-810b-8aa74fb37020",
   "metadata": {},
   "outputs": [
    {
     "data": {
      "text/plain": [
       "<KeysViewHDF5 ['dp01', 'dp02', 'dp03', 'dp04', 'dp0p']>"
      ]
     },
     "execution_count": 34,
     "metadata": {},
     "output_type": "execute_result"
    }
   ],
   "source": [
    "f['NIWO'].keys()"
   ]
  },
  {
   "cell_type": "markdown",
   "id": "4bf66871-19ce-457f-82ca-4ff3205d1e42",
   "metadata": {},
   "source": [
    "from the accompanying text file \n",
    "\n",
    "| DP1.00007 3D wind speed, direction and sonic temperature | data, qfqm, ucrt | soni | 1-min, 30-min |\n",
    "| DP1.00010 3D wind attitude and motion reference | data, qfqm, ucrt | amrs | 1-min, 30-min |"
   ]
  },
  {
   "cell_type": "code",
   "execution_count": 36,
   "id": "3bdd1c7c-cf8e-4f59-b107-b315c831f0f5",
   "metadata": {},
   "outputs": [
    {
     "data": {
      "text/plain": [
       "<KeysViewHDF5 ['amrs', 'ch4Conc', 'co2Stor', 'co2Turb', 'fluxHeatSoil', 'h2oSoilVol', 'h2oStor', 'h2oTurb', 'isoCo2', 'isoH2o', 'presBaro', 'radiNet', 'soni', 'tempAirLvl', 'tempAirTop', 'tempSoil']>"
      ]
     },
     "execution_count": 36,
     "metadata": {},
     "output_type": "execute_result"
    }
   ],
   "source": [
    "f['NIWO']['dp01']['data'].keys()"
   ]
  },
  {
   "cell_type": "markdown",
   "id": "821230dd-0b28-455b-84f1-c26940050cee",
   "metadata": {},
   "source": [
    "huh. not there... maybe cause i didnt include provisional data in the download? or related to their notifcation on the webstie about problems with data to be fixed by end of january...."
   ]
  },
  {
   "cell_type": "code",
   "execution_count": 37,
   "id": "125eb802-3e66-4ffe-8f6b-1f148e0ef10e",
   "metadata": {},
   "outputs": [
    {
     "name": "stdout",
     "output_type": "stream",
     "text": [
      "dp01 amrs\n",
      "dp01 ch4Conc\n",
      "dp01 co2Stor\n",
      "dp01 co2Turb\n",
      "dp01 fluxHeatSoil\n",
      "dp01 h2oSoilVol\n",
      "dp01 h2oStor\n",
      "dp01 h2oTurb\n",
      "dp01 isoCo2\n",
      "dp01 isoH2o\n",
      "dp01 presBaro\n",
      "dp01 radiNet\n",
      "dp01 soni\n",
      "dp01 tempAirLvl\n",
      "dp01 tempAirTop\n",
      "dp01 tempSoil\n",
      "dp02 co2Stor\n",
      "dp02 h2oStor\n",
      "dp02 tempStor\n",
      "dp03 co2Stor\n",
      "dp03 h2oStor\n",
      "dp03 tempStor\n",
      "dp04 fluxCo2\n",
      "dp04 fluxH2o\n",
      "dp04 fluxMome\n",
      "dp04 fluxTemp\n",
      "dp04 foot\n",
      "dp0p amrs\n",
      "dp0p crdCo2\n",
      "dp0p crdCo2ValvLvl\n",
      "dp0p crdH2o\n",
      "dp0p crdH2oValvLvl\n",
      "dp0p crdH2oValvVali\n",
      "dp0p envHut\n",
      "dp0p gasRefe\n",
      "dp0p h2oRefe\n",
      "dp0p irgaStor\n",
      "dp0p irgaTurb\n",
      "dp0p irgaValvLvl\n",
      "dp0p mfcSampStor\n",
      "dp0p mfcSampTurb\n",
      "dp0p mfcValiStor\n",
      "dp0p mfcValiTurb\n",
      "dp0p mfm\n",
      "dp0p presInlt\n",
      "dp0p presTrap\n",
      "dp0p presValiLineTurb\n",
      "dp0p presValiRegInStor\n",
      "dp0p presValiRegInTurb\n",
      "dp0p presValiRegOutStor\n",
      "dp0p presValiRegOutTurb\n",
      "dp0p pumpStor\n",
      "dp0p pumpTurb\n",
      "dp0p rhSens\n",
      "dp0p soni\n",
      "dp0p valvAux\n",
      "dp0p valvLeakHeatTurb\n",
      "dp0p valvValiHutTurb\n",
      "dp0p valvValiNemaTurb\n",
      "dp0p valvValiStor\n"
     ]
    }
   ],
   "source": [
    "for ky in f['NIWO'].keys():\n",
    "    if str(ky).startswith('dp'):\n",
    "        data_keys = f['NIWO'][ky]['data'].keys()\n",
    "        for dky in data_keys: \n",
    "            print(ky, dky)"
   ]
  },
  {
   "cell_type": "code",
   "execution_count": null,
   "id": "121463f5-3736-4eec-81b1-5c2f8140db46",
   "metadata": {},
   "outputs": [],
   "source": []
  }
 ],
 "metadata": {
  "kernelspec": {
   "display_name": "Python 3 (ipykernel)",
   "language": "python",
   "name": "python3"
  },
  "language_info": {
   "codemirror_mode": {
    "name": "ipython",
    "version": 3
   },
   "file_extension": ".py",
   "mimetype": "text/x-python",
   "name": "python",
   "nbconvert_exporter": "python",
   "pygments_lexer": "ipython3",
   "version": "3.10.11"
  }
 },
 "nbformat": 4,
 "nbformat_minor": 5
}
