{
 "cells": [
  {
   "cell_type": "code",
   "execution_count": 1,
   "metadata": {},
   "outputs": [],
   "source": [
    "import yt"
   ]
  },
  {
   "cell_type": "code",
   "execution_count": 2,
   "metadata": {},
   "outputs": [
    {
     "name": "stderr",
     "output_type": "stream",
     "text": [
      "yt : [INFO     ] 2021-07-06 17:15:02,247 Parameters: current_time              = 276.2223582906\n",
      "yt : [INFO     ] 2021-07-06 17:15:02,248 Parameters: domain_dimensions         = [64 64 64]\n",
      "yt : [INFO     ] 2021-07-06 17:15:02,248 Parameters: domain_left_edge          = [0. 0. 0.]\n",
      "yt : [INFO     ] 2021-07-06 17:15:02,249 Parameters: domain_right_edge         = [1. 1. 1.]\n",
      "yt : [INFO     ] 2021-07-06 17:15:02,249 Parameters: cosmological_simulation   = 1\n",
      "yt : [INFO     ] 2021-07-06 17:15:02,250 Parameters: current_redshift          = 0.99999976328968\n",
      "yt : [INFO     ] 2021-07-06 17:15:02,250 Parameters: omega_lambda              = 0.7\n",
      "yt : [INFO     ] 2021-07-06 17:15:02,251 Parameters: omega_matter              = 0.3\n",
      "yt : [INFO     ] 2021-07-06 17:15:02,251 Parameters: omega_radiation           = 0.0\n",
      "yt : [INFO     ] 2021-07-06 17:15:02,252 Parameters: hubble_constant           = 0.71\n"
     ]
    }
   ],
   "source": [
    "ds = yt.load(\"Enzo_64/RD0005/RedshiftOutput0005\")"
   ]
  },
  {
   "cell_type": "code",
   "execution_count": 3,
   "metadata": {},
   "outputs": [],
   "source": [
    "slc = ds.slice(0, 0.5)  # fixed x\n",
    "\n",
    "frb = slc.to_frb(1.0, (400, 800), height=0.8)"
   ]
  },
  {
   "cell_type": "code",
   "execution_count": 31,
   "metadata": {},
   "outputs": [],
   "source": [
    "\n",
    "\n",
    "\n",
    "# slice_data = PlaneData(data_source=slc)\n",
    "# slice_data.add_data(\n",
    "#     (\"enzo\", \"z\"),\n",
    "#     1.0,\n",
    "#     (400, 400),\n",
    "# )"
   ]
  },
  {
   "cell_type": "code",
   "execution_count": 32,
   "metadata": {},
   "outputs": [
    {
     "name": "stderr",
     "output_type": "stream",
     "text": [
      "yt : [INFO     ] 2021-07-06 17:22:27,889 Making a fixed resolution buffer of (('enzo', 'z')) 400 by 800\n",
      "yt : [INFO     ] 2021-07-06 17:22:27,901 Making a fixed resolution buffer of (('enzo', 'y')) 400 by 800\n",
      "yt : [INFO     ] 2021-07-06 17:22:27,910 Making a fixed resolution buffer of (('enzo', 'x')) 400 by 800\n"
     ]
    }
   ],
   "source": [
    "z = frb[(\"enzo\", \"z\")]\n",
    "y = frb[(\"enzo\", \"y\")]\n",
    "x = frb[(\"enzo\", \"x\")]"
   ]
  },
  {
   "cell_type": "code",
   "execution_count": 33,
   "metadata": {},
   "outputs": [
    {
     "data": {
      "text/plain": [
       "(800, 400)"
      ]
     },
     "execution_count": 33,
     "metadata": {},
     "output_type": "execute_result"
    }
   ],
   "source": [
    "z.shape"
   ]
  },
  {
   "cell_type": "code",
   "execution_count": 34,
   "metadata": {},
   "outputs": [],
   "source": [
    "import matplotlib.pyplot as plt"
   ]
  },
  {
   "cell_type": "code",
   "execution_count": 35,
   "metadata": {},
   "outputs": [
    {
     "data": {
      "text/plain": [
       "<matplotlib.image.AxesImage at 0x7f95637e56d0>"
      ]
     },
     "execution_count": 35,
     "metadata": {},
     "output_type": "execute_result"
    },
    {
     "data": {
      "image/png": "[encoded data removed]",
      "text/plain": [
       "<Figure size 432x288 with 1 Axes>"
      ]
     },
     "metadata": {
      "needs_background": "light"
     },
     "output_type": "display_data"
    }
   ],
   "source": [
    "plt.imshow(z.value)"
   ]
  },
  {
   "cell_type": "code",
   "execution_count": 39,
   "metadata": {},
   "outputs": [
    {
     "data": {
      "text/plain": [
       "<matplotlib.colorbar.Colorbar at 0x7f9563b0a450>"
      ]
     },
     "execution_count": 39,
     "metadata": {},
     "output_type": "execute_result"
    },
    {
     "data": {
      "image/png": "[encoded data removed]",
      "text/plain": [
       "<Figure size 432x288 with 2 Axes>"
      ]
     },
     "metadata": {
      "needs_background": "light"
     },
     "output_type": "display_data"
    }
   ],
   "source": [
    "plt.imshow(x.value)\n",
    "plt.colorbar()"
   ]
  },
  {
   "cell_type": "code",
   "execution_count": 40,
   "metadata": {},
   "outputs": [
    {
     "data": {
      "text/plain": [
       "<matplotlib.colorbar.Colorbar at 0x7f95637872d0>"
      ]
     },
     "execution_count": 40,
     "metadata": {},
     "output_type": "execute_result"
    },
    {
     "data": {
      "image/png": "[encoded data removed]",
      "text/plain": [
       "<Figure size 432x288 with 2 Axes>"
      ]
     },
     "metadata": {
      "needs_background": "light"
     },
     "output_type": "display_data"
    }
   ],
   "source": [
    "plt.imshow(y.value)\n",
    "plt.colorbar()"
   ]
  },
  {
   "cell_type": "code",
   "execution_count": 15,
   "metadata": {},
   "outputs": [
    {
     "data": {
      "text/plain": [
       "{'x': None,\n",
       " 'y': (unyt_quantity(0., 'code_length'), unyt_quantity(1., 'code_length')),\n",
       " 'z': (unyt_quantity(0., 'code_length'), unyt_quantity(1., 'code_length'))}"
      ]
     },
     "execution_count": 15,
     "metadata": {},
     "output_type": "execute_result"
    }
   ],
   "source": [
    "frb.limits"
   ]
  },
  {
   "cell_type": "code",
   "execution_count": 22,
   "metadata": {},
   "outputs": [
    {
     "data": {
      "text/plain": [
       "(unyt_quantity(0., 'code_length'),\n",
       " unyt_quantity(1., 'code_length'),\n",
       " unyt_quantity(0., 'code_length'),\n",
       " unyt_quantity(1., 'code_length'))"
      ]
     },
     "execution_count": 22,
     "metadata": {},
     "output_type": "execute_result"
    }
   ],
   "source": [
    "frb.bounds"
   ]
  },
  {
   "cell_type": "code",
   "execution_count": 25,
   "metadata": {},
   "outputs": [
    {
     "data": {
      "text/plain": [
       "0"
      ]
     },
     "execution_count": 25,
     "metadata": {},
     "output_type": "execute_result"
    }
   ],
   "source": [
    "frb.axis"
   ]
  },
  {
   "cell_type": "code",
   "execution_count": 42,
   "metadata": {},
   "outputs": [
    {
     "name": "stderr",
     "output_type": "stream",
     "text": [
      "yt : [INFO     ] 2021-07-06 17:24:22,375 xlim = 0.000000 1.000000\n",
      "yt : [INFO     ] 2021-07-06 17:24:22,376 ylim = 0.000000 1.000000\n",
      "yt : [INFO     ] 2021-07-06 17:24:22,379 xlim = 0.000000 1.000000\n",
      "yt : [INFO     ] 2021-07-06 17:24:22,380 ylim = 0.000000 1.000000\n",
      "yt : [INFO     ] 2021-07-06 17:24:22,383 Making a fixed resolution buffer of (('enzo', 'z')) 800 by 800\n"
     ]
    },
    {
     "data": {
      "text/html": [
       "<img style=\"max-width:100%;max-height:100%;\" src=\"data:image/png;base64,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\"><br>"
      ],
      "text/plain": [
       "<yt.visualization.plot_window.AxisAlignedSlicePlot at 0x7f9563767890>"
      ]
     },
     "execution_count": 42,
     "metadata": {},
     "output_type": "execute_result"
    }
   ],
   "source": [
    "yt.SlicePlot(ds, \"x\", (\"enzo\",\"z\"))"
   ]
  },
  {
   "cell_type": "code",
   "execution_count": 44,
   "metadata": {},
   "outputs": [
    {
     "name": "stderr",
     "output_type": "stream",
     "text": [
      "yt : [INFO     ] 2021-07-06 17:24:43,599 xlim = 0.000000 1.000000\n",
      "yt : [INFO     ] 2021-07-06 17:24:43,600 ylim = 0.000000 1.000000\n",
      "yt : [INFO     ] 2021-07-06 17:24:43,601 xlim = 0.000000 1.000000\n",
      "yt : [INFO     ] 2021-07-06 17:24:43,602 ylim = 0.000000 1.000000\n",
      "yt : [INFO     ] 2021-07-06 17:24:43,603 Making a fixed resolution buffer of (('enzo', 'y')) 800 by 800\n"
     ]
    },
    {
     "data": {
      "text/html": [
       "<img style=\"max-width:100%;max-height:100%;\" src=\"data:image/png;base64,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\"><br>"
      ],
      "text/plain": [
       "<yt.visualization.plot_window.AxisAlignedSlicePlot at 0x7f956312dbd0>"
      ]
     },
     "execution_count": 44,
     "metadata": {},
     "output_type": "execute_result"
    }
   ],
   "source": [
    "yt.SlicePlot(ds, \"x\", (\"enzo\",\"y\"))"
   ]
  },
  {
   "cell_type": "code",
   "execution_count": 45,
   "metadata": {},
   "outputs": [
    {
     "name": "stderr",
     "output_type": "stream",
     "text": [
      "yt : [INFO     ] 2021-07-06 17:25:18,487 xlim = 0.000000 1.000000\n",
      "yt : [INFO     ] 2021-07-06 17:25:18,488 ylim = 0.000000 1.000000\n",
      "yt : [INFO     ] 2021-07-06 17:25:18,489 xlim = 0.000000 1.000000\n",
      "yt : [INFO     ] 2021-07-06 17:25:18,489 ylim = 0.000000 1.000000\n",
      "yt : [INFO     ] 2021-07-06 17:25:18,490 Making a fixed resolution buffer of (('enzo', 'z')) 800 by 800\n"
     ]
    },
    {
     "data": {
      "text/html": [
       "<img style=\"max-width:100%;max-height:100%;\" src=\"data:image/png;base64,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\"><br>"
      ],
      "text/plain": [
       "<yt.visualization.plot_window.AxisAlignedSlicePlot at 0x7f9562a65890>"
      ]
     },
     "execution_count": 45,
     "metadata": {},
     "output_type": "execute_result"
    }
   ],
   "source": [
    "yt.SlicePlot(ds, \"y\", (\"enzo\",\"z\"))"
   ]
  },
  {
   "cell_type": "code",
   "execution_count": 46,
   "metadata": {},
   "outputs": [],
   "source": [
    "slc = ds.slice(1, 0.5)  # fixed y\n",
    "frb = slc.to_frb(1.0, (400, 800), height=0.8)"
   ]
  },
  {
   "cell_type": "code",
   "execution_count": 47,
   "metadata": {},
   "outputs": [
    {
     "data": {
      "text/plain": [
       "{'x': (unyt_quantity(0.1, 'code_length'), unyt_quantity(0.9, 'code_length')),\n",
       " 'y': None,\n",
       " 'z': (unyt_quantity(0., 'code_length'), unyt_quantity(1., 'code_length'))}"
      ]
     },
     "execution_count": 47,
     "metadata": {},
     "output_type": "execute_result"
    }
   ],
   "source": [
    "frb.limits"
   ]
  },
  {
   "cell_type": "code",
   "execution_count": 48,
   "metadata": {},
   "outputs": [
    {
     "data": {
      "text/plain": [
       "(unyt_quantity(0., 'code_length'),\n",
       " unyt_quantity(1., 'code_length'),\n",
       " unyt_quantity(0.1, 'code_length'),\n",
       " unyt_quantity(0.9, 'code_length'))"
      ]
     },
     "execution_count": 48,
     "metadata": {},
     "output_type": "execute_result"
    }
   ],
   "source": [
    "frb.bounds"
   ]
  },
  {
   "cell_type": "code",
   "execution_count": 51,
   "metadata": {},
   "outputs": [
    {
     "data": {
      "text/plain": [
       "(('x', 'y'), ('y', 'z'), ('z', 'x'))"
      ]
     },
     "execution_count": 51,
     "metadata": {},
     "output_type": "execute_result"
    }
   ],
   "source": [
    "ds.coordinates._x_pairs"
   ]
  },
  {
   "cell_type": "code",
   "execution_count": 53,
   "metadata": {},
   "outputs": [
    {
     "data": {
      "text/plain": [
       "{'x': 2, 0: 2, 'y': 0, 1: 0, 'z': 1, 2: 1}"
      ]
     },
     "execution_count": 53,
     "metadata": {},
     "output_type": "execute_result"
    }
   ],
   "source": [
    "ds.coordinates.y_axis"
   ]
  },
  {
   "cell_type": "code",
   "execution_count": 54,
   "metadata": {},
   "outputs": [
    {
     "data": {
      "text/plain": [
       "{'x': 1, 0: 1, 'y': 2, 1: 2, 'z': 0, 2: 0}"
      ]
     },
     "execution_count": 54,
     "metadata": {},
     "output_type": "execute_result"
    }
   ],
   "source": [
    "ds.coordinates.x_axis"
   ]
  },
  {
   "cell_type": "code",
   "execution_count": 55,
   "metadata": {},
   "outputs": [
    {
     "data": {
      "text/plain": [
       "(('x', 'z'), ('y', 'x'), ('z', 'y'))"
      ]
     },
     "execution_count": 55,
     "metadata": {},
     "output_type": "execute_result"
    }
   ],
   "source": [
    "ds.coordinates._y_pairs"
   ]
  },
  {
   "cell_type": "code",
   "execution_count": 56,
   "metadata": {},
   "outputs": [
    {
     "data": {
      "text/plain": [
       "('x', 'y', 'z')"
      ]
     },
     "execution_count": 56,
     "metadata": {},
     "output_type": "execute_result"
    }
   ],
   "source": [
    "ds.coordinates.axis_order"
   ]
  },
  {
   "cell_type": "code",
   "execution_count": 57,
   "metadata": {},
   "outputs": [],
   "source": [
    "# from coordinate_handler.CoordinateHandler\n",
    "\n",
    "ai = {}\n",
    "for axi, ax in enumerate(ds.coordinates.axis_order):\n",
    "    ai[ax] = ai[axi] = axi\n",
    "axis_id = ai\n",
    "\n",
    "\n",
    "ai = axis_id\n",
    "xa = {}\n",
    "for a1, a2 in ds.coordinates._x_pairs:\n",
    "    xa[a1] = xa[ai[a1]] = ai[a2]\n",
    "_x_axis = xa"
   ]
  },
  {
   "cell_type": "code",
   "execution_count": 58,
   "metadata": {},
   "outputs": [
    {
     "data": {
      "text/plain": [
       "{'x': 1, 0: 1, 'y': 2, 1: 2, 'z': 0, 2: 0}"
      ]
     },
     "execution_count": 58,
     "metadata": {},
     "output_type": "execute_result"
    }
   ],
   "source": [
    "_x_axis"
   ]
  },
  {
   "cell_type": "code",
   "execution_count": 63,
   "metadata": {},
   "outputs": [
    {
     "data": {
      "text/plain": [
       "1"
      ]
     },
     "execution_count": 63,
     "metadata": {},
     "output_type": "execute_result"
    }
   ],
   "source": [
    "_x_axis[0]"
   ]
  },
  {
   "cell_type": "code",
   "execution_count": 64,
   "metadata": {},
   "outputs": [
    {
     "data": {
      "text/plain": [
       "{0: ('y', 'z'),\n",
       " 'x': ('y', 'z'),\n",
       " 'X': ('y', 'z'),\n",
       " 1: ('z', 'x'),\n",
       " 'y': ('z', 'x'),\n",
       " 'Y': ('z', 'x'),\n",
       " 2: ('x', 'y'),\n",
       " 'z': ('x', 'y'),\n",
       " 'Z': ('x', 'y')}"
      ]
     },
     "execution_count": 64,
     "metadata": {},
     "output_type": "execute_result"
    }
   ],
   "source": [
    "ds.coordinates.image_axis_name"
   ]
  },
  {
   "cell_type": "code",
   "execution_count": 65,
   "metadata": {},
   "outputs": [
    {
     "data": {
      "text/plain": [
       "('y', 'z')"
      ]
     },
     "execution_count": 65,
     "metadata": {},
     "output_type": "execute_result"
    }
   ],
   "source": [
    "ds.coordinates.image_axis_name[0]"
   ]
  },
  {
   "cell_type": "code",
   "execution_count": 66,
   "metadata": {},
   "outputs": [
    {
     "data": {
      "text/plain": [
       "('z', 'x')"
      ]
     },
     "execution_count": 66,
     "metadata": {},
     "output_type": "execute_result"
    }
   ],
   "source": [
    "ds.coordinates.image_axis_name[1]"
   ]
  },
  {
   "cell_type": "code",
   "execution_count": 67,
   "metadata": {},
   "outputs": [
    {
     "data": {
      "text/plain": [
       "('x', 'y')"
      ]
     },
     "execution_count": 67,
     "metadata": {},
     "output_type": "execute_result"
    }
   ],
   "source": [
    "ds.coordinates.image_axis_name[2]"
   ]
  },
  {
   "cell_type": "code",
   "execution_count": 68,
   "metadata": {},
   "outputs": [
    {
     "data": {
      "text/plain": [
       "{'x': 0, 0: 0, 'y': 1, 1: 1, 'z': 2, 2: 2}"
      ]
     },
     "execution_count": 68,
     "metadata": {},
     "output_type": "execute_result"
    }
   ],
   "source": [
    "ds.coordinates.axis_id"
   ]
  },
  {
   "cell_type": "code",
   "execution_count": 80,
   "metadata": {},
   "outputs": [
    {
     "name": "stdout",
     "output_type": "stream",
     "text": [
      "for a slice normal to x:\n",
      "    the y axis will be on the image's x-axis\n",
      "    the z axis will be on the image's y-axis\n",
      "\n",
      "for a slice normal to y:\n",
      "    the z axis will be on the image's x-axis\n",
      "    the x axis will be on the image's y-axis\n",
      "\n",
      "for a slice normal to z:\n",
      "    the x axis will be on the image's x-axis\n",
      "    the y axis will be on the image's y-axis\n",
      "\n"
     ]
    }
   ],
   "source": [
    "normal_axis = 0\n",
    "\n",
    "for normal_axis in range(3):\n",
    "    image_x_axis_id = ds.coordinates.axis_id[ds.coordinates.image_axis_name[normal_axis][0]]\n",
    "    image_y_axis_id = ds.coordinates.axis_id[ds.coordinates.image_axis_name[normal_axis][1]]\n",
    "    print(f\"for a slice normal to {ds.coordinates.axis_order[normal_axis]}:\")\n",
    "    print(f\"    the {ds.coordinates.axis_order[image_x_axis_id]} axis will be on the image's x-axis\")\n",
    "    print(f\"    the {ds.coordinates.axis_order[image_y_axis_id]} axis will be on the image's y-axis\")\n",
    "    print(\"\")\n"
   ]
  },
  {
   "cell_type": "code",
   "execution_count": 81,
   "metadata": {},
   "outputs": [
    {
     "name": "stderr",
     "output_type": "stream",
     "text": [
      "yt : [INFO     ] 2021-07-06 17:44:03,395 xlim = 0.000000 1.000000\n",
      "yt : [INFO     ] 2021-07-06 17:44:03,396 ylim = 0.000000 1.000000\n",
      "yt : [INFO     ] 2021-07-06 17:44:03,397 xlim = 0.000000 1.000000\n",
      "yt : [INFO     ] 2021-07-06 17:44:03,397 ylim = 0.000000 1.000000\n",
      "yt : [INFO     ] 2021-07-06 17:44:03,398 Making a fixed resolution buffer of (('enzo', 'z')) 800 by 800\n"
     ]
    },
    {
     "data": {
      "text/html": [
       "<img style=\"max-width:100%;max-height:100%;\" src=\"data:image/png;base64,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\"><br>"
      ],
      "text/plain": [
       "<yt.visualization.plot_window.AxisAlignedSlicePlot at 0x7f9562de0710>"
      ]
     },
     "execution_count": 81,
     "metadata": {},
     "output_type": "execute_result"
    }
   ],
   "source": [
    "yt.SlicePlot(ds, 0, (\"enzo\",\"z\"))"
   ]
  },
  {
   "cell_type": "code",
   "execution_count": null,
   "metadata": {},
   "outputs": [],
   "source": []
  }
 ],
 "metadata": {
  "kernelspec": {
   "display_name": "Python 3",
   "language": "python",
   "name": "python3"
  },
  "language_info": {
   "codemirror_mode": {
    "name": "ipython",
    "version": 3
   },
   "file_extension": ".py",
   "mimetype": "text/x-python",
   "name": "python",
   "nbconvert_exporter": "python",
   "pygments_lexer": "ipython3",
   "version": "3.7.7"
  }
 },
 "nbformat": 4,
 "nbformat_minor": 4
}
