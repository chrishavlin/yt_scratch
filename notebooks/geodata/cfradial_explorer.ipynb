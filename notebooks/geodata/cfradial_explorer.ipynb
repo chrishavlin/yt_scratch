{
 "cells": [
  {
   "cell_type": "markdown",
   "id": "e34cc393-3add-4bf3-a9e5-2c4c3d1e0e01",
   "metadata": {},
   "source": [
    "### cfradial performance testing\n",
    "\n",
    "figuring out good defaults that re-grid quickly..."
   ]
  },
  {
   "cell_type": "code",
   "execution_count": 1,
   "id": "b119519c-b028-4cd1-8b88-cab46da6bcb1",
   "metadata": {},
   "outputs": [],
   "source": [
    "import yt\n",
    "cf = \"CfRadialGrid/grid1.nc\"  # an already gridded cfradial file\n",
    "cf_nongridded = (\n",
    "    \"CfRadialGrid/swx_20120520_0641.nc\"  # cfradial file without cartesian grid\n",
    ")\n"
   ]
  },
  {
   "cell_type": "code",
   "execution_count": 2,
   "id": "a322a1ea-2029-4e24-9c3d-4009bdf82c76",
   "metadata": {},
   "outputs": [
    {
     "name": "stderr",
     "output_type": "stream",
     "text": [
      "yt : [INFO     ] 2022-06-08 12:05:39,222 Building cfradial grid\n"
     ]
    },
    {
     "name": "stdout",
     "output_type": "stream",
     "text": [
      "\n",
      "## You are using the Python ARM Radar Toolkit (Py-ART), an open source\n",
      "## library for working with weather radar data. Py-ART is partly\n",
      "## supported by the U.S. Department of Energy as part of the Atmospheric\n",
      "## Radiation Measurement (ARM) Climate Research Facility, an Office of\n",
      "## Science user facility.\n",
      "##\n",
      "## If you use this software to prepare a publication, please cite:\n",
      "##\n",
      "##     JJ Helmus and SM Collis, JORS 2016, doi: 10.5334/jors.119\n",
      "\n"
     ]
    },
    {
     "name": "stderr",
     "output_type": "stream",
     "text": [
      "yt : [INFO     ] 2022-06-08 12:05:40,452 grid_limit_z not provided, using max height range in data: (0.000000, 30625.140820)\n",
      "yt : [INFO     ] 2022-06-08 12:05:40,452 grid_limit_x not provided, using max horizontal range in data: (-25669.093279, 25669.093279)\n",
      "yt : [INFO     ] 2022-06-08 12:05:40,453 grid_limit_y not provided, using max horizontal range in data: (-25669.093279, 25669.093279)\n",
      "yt : [INFO     ] 2022-06-08 12:05:40,453 to override default grid values, use any of the following parameters: grid_limit_x, grid_limit_y, grid_limit_z, grid_shape with yt.load(cf_radial_file, ...)\n",
      "yt : [INFO     ] 2022-06-08 12:05:40,453 Calling pyart.map.grid_from_radars ... \n",
      "yt : [INFO     ] 2022-06-08 12:05:42,228 Successfully built cfradial grid, writing to /home/chavlin/hdd/data/yt_data/yt_sample_sets/CfRadialGrid/swx_20120520_0641_yt_grid.nc\n",
      "yt : [INFO     ] 2022-06-08 12:05:42,228 Subsequent loads of /home/chavlin/hdd/data/yt_data/yt_sample_sets/CfRadialGrid/swx_20120520_0641.nc will load the gridded file by default\n",
      "yt : [INFO     ] 2022-06-08 12:05:42,354 Parameters: current_time              = 1.305873731e+18\n",
      "yt : [INFO     ] 2022-06-08 12:05:42,355 Parameters: domain_dimensions         = [10 10 10]\n",
      "yt : [INFO     ] 2022-06-08 12:05:42,355 Parameters: domain_left_edge          = [-25669.09327873 -25669.09327873      0.        ]\n",
      "yt : [INFO     ] 2022-06-08 12:05:42,356 Parameters: domain_right_edge         = [25669.09327873 25669.09327873 30625.14082005]\n",
      "yt : [INFO     ] 2022-06-08 12:05:42,357 Parameters: cosmological_simulation   = 0\n"
     ]
    },
    {
     "name": "stdout",
     "output_type": "stream",
     "text": [
      "CPU times: user 3.31 s, sys: 321 ms, total: 3.63 s\n",
      "Wall time: 3.65 s\n"
     ]
    }
   ],
   "source": [
    "%%time\n",
    "ds = yt.load(cf_nongridded, storage_overwrite=True, grid_shape=(10,10,10))"
   ]
  },
  {
   "cell_type": "code",
   "execution_count": 4,
   "id": "1eef09cc-0644-43af-8696-2f3284d44ebb",
   "metadata": {},
   "outputs": [
    {
     "ename": "KeyError",
     "evalue": "'altitude'",
     "output_type": "error",
     "traceback": [
      "\u001b[0;31m---------------------------------------------------------------------------\u001b[0m",
      "\u001b[0;31mKeyError\u001b[0m                                  Traceback (most recent call last)",
      "\u001b[0;32m/tmp/ipykernel_22264/1076307550.py\u001b[0m in \u001b[0;36m<module>\u001b[0;34m\u001b[0m\n\u001b[1;32m      1\u001b[0m \u001b[0;32mwith\u001b[0m \u001b[0mds\u001b[0m\u001b[0;34m.\u001b[0m\u001b[0m_handle\u001b[0m\u001b[0;34m(\u001b[0m\u001b[0;34m)\u001b[0m \u001b[0;32mas\u001b[0m \u001b[0mh\u001b[0m\u001b[0;34m:\u001b[0m\u001b[0;34m\u001b[0m\u001b[0;34m\u001b[0m\u001b[0m\n\u001b[0;32m----> 2\u001b[0;31m     \u001b[0mh\u001b[0m\u001b[0;34m.\u001b[0m\u001b[0mvariables\u001b[0m\u001b[0;34m[\u001b[0m\u001b[0;34m'altitude'\u001b[0m\u001b[0;34m]\u001b[0m\u001b[0;34m\u001b[0m\u001b[0;34m\u001b[0m\u001b[0m\n\u001b[0m",
      "\u001b[0;32m~/miniconda3/envs/yt_dev/lib/python3.9/site-packages/xarray/core/utils.py\u001b[0m in \u001b[0;36m__getitem__\u001b[0;34m(self, key)\u001b[0m\n\u001b[1;32m    424\u001b[0m \u001b[0;34m\u001b[0m\u001b[0m\n\u001b[1;32m    425\u001b[0m     \u001b[0;32mdef\u001b[0m \u001b[0m__getitem__\u001b[0m\u001b[0;34m(\u001b[0m\u001b[0mself\u001b[0m\u001b[0;34m,\u001b[0m \u001b[0mkey\u001b[0m\u001b[0;34m:\u001b[0m \u001b[0mK\u001b[0m\u001b[0;34m)\u001b[0m \u001b[0;34m->\u001b[0m \u001b[0mV\u001b[0m\u001b[0;34m:\u001b[0m\u001b[0;34m\u001b[0m\u001b[0;34m\u001b[0m\u001b[0m\n\u001b[0;32m--> 426\u001b[0;31m         \u001b[0;32mreturn\u001b[0m \u001b[0mself\u001b[0m\u001b[0;34m.\u001b[0m\u001b[0mmapping\u001b[0m\u001b[0;34m[\u001b[0m\u001b[0mkey\u001b[0m\u001b[0;34m]\u001b[0m\u001b[0;34m\u001b[0m\u001b[0;34m\u001b[0m\u001b[0m\n\u001b[0m\u001b[1;32m    427\u001b[0m \u001b[0;34m\u001b[0m\u001b[0m\n\u001b[1;32m    428\u001b[0m     \u001b[0;32mdef\u001b[0m \u001b[0m__iter__\u001b[0m\u001b[0;34m(\u001b[0m\u001b[0mself\u001b[0m\u001b[0;34m)\u001b[0m \u001b[0;34m->\u001b[0m \u001b[0mIterator\u001b[0m\u001b[0;34m[\u001b[0m\u001b[0mK\u001b[0m\u001b[0;34m]\u001b[0m\u001b[0;34m:\u001b[0m\u001b[0;34m\u001b[0m\u001b[0;34m\u001b[0m\u001b[0m\n",
      "\u001b[0;31mKeyError\u001b[0m: 'altitude'"
     ]
    }
   ],
   "source": [
    "with ds._handle() as h:\n",
    "    h.variables['altitude']"
   ]
  },
  {
   "cell_type": "code",
   "execution_count": 5,
   "id": "74f3f751-b64a-470d-977f-920d6e666b4d",
   "metadata": {},
   "outputs": [
    {
     "data": {
      "text/plain": [
       "'/home/chavlin/hdd/data/yt_data/yt_sample_sets/CfRadialGrid/swx_20120520_0641_yt_grid.nc'"
      ]
     },
     "execution_count": 5,
     "metadata": {},
     "output_type": "execute_result"
    }
   ],
   "source": [
    "ds.filename"
   ]
  },
  {
   "cell_type": "code",
   "execution_count": 12,
   "id": "eb20f371-a2f5-40f8-9482-26e5bdcc83e2",
   "metadata": {},
   "outputs": [
    {
     "name": "stdout",
     "output_type": "stream",
     "text": [
      "<xarray.Variable ()>\n",
      "array(214.)\n",
      "Attributes:\n",
      "    units:          meters\n",
      "    standard_name:  Altitude\n"
     ]
    }
   ],
   "source": [
    "import xarray as xr\n",
    "\n",
    "\n",
    "dsxr = xr.open_dataset(\"/home/chavlin/hdd/data/yt_data/yt_sample_sets/CfRadialGrid/swx_20120520_0641.nc\")\n",
    "print(dsxr.variables[\"altitude\"])\n"
   ]
  },
  {
   "cell_type": "code",
   "execution_count": 15,
   "id": "1c8f73fc-b6ea-4dde-8b83-b2a4a5c0f6db",
   "metadata": {},
   "outputs": [
    {
     "data": {
      "text/plain": [
       "['time',\n",
       " 'range',\n",
       " 'azimuth',\n",
       " 'elevation',\n",
       " 'corrected_reflectivity_horizontal',\n",
       " 'reflectivity_horizontal',\n",
       " 'recalculated_diff_phase',\n",
       " 'specific_attenuation',\n",
       " 'unf_dp_phase_shift',\n",
       " 'mean_doppler_velocity',\n",
       " 'diff_phase',\n",
       " 'rain_rate_A',\n",
       " 'norm_coherent_power',\n",
       " 'dp_phase_shift',\n",
       " 'diff_reflectivity',\n",
       " 'proc_dp_phase_shift',\n",
       " 'copol_coeff',\n",
       " 'sweep_start_ray_index',\n",
       " 'sweep_mode',\n",
       " 'sweep_number',\n",
       " 'sweep_end_ray_index',\n",
       " 'fixed_angle',\n",
       " 'latitude',\n",
       " 'altitude',\n",
       " 'longitude']"
      ]
     },
     "execution_count": 15,
     "metadata": {},
     "output_type": "execute_result"
    }
   ],
   "source": [
    "list(dsxr.variables.keys())"
   ]
  },
  {
   "cell_type": "code",
   "execution_count": 16,
   "id": "df4076bf-ea09-4b0d-8053-15474992f54f",
   "metadata": {},
   "outputs": [],
   "source": [
    "ds_pyart.init_gate_altitude()"
   ]
  },
  {
   "cell_type": "code",
   "execution_count": 26,
   "id": "93f37395-0fdc-48b9-96b4-5bbda8c2f805",
   "metadata": {},
   "outputs": [
    {
     "ename": "TypeError",
     "evalue": "get_gate_x_y_z() missing 1 required positional argument: 'sweep'",
     "output_type": "error",
     "traceback": [
      "\u001b[0;31m---------------------------------------------------------------------------\u001b[0m",
      "\u001b[0;31mTypeError\u001b[0m                                 Traceback (most recent call last)",
      "\u001b[0;32m/tmp/ipykernel_6940/3791762616.py\u001b[0m in \u001b[0;36m<module>\u001b[0;34m\u001b[0m\n\u001b[0;32m----> 1\u001b[0;31m \u001b[0mds_pyart\u001b[0m\u001b[0;34m.\u001b[0m\u001b[0mget_gate_x_y_z\u001b[0m\u001b[0;34m(\u001b[0m\u001b[0;34m)\u001b[0m\u001b[0;34m\u001b[0m\u001b[0;34m\u001b[0m\u001b[0m\n\u001b[0m",
      "\u001b[0;31mTypeError\u001b[0m: get_gate_x_y_z() missing 1 required positional argument: 'sweep'"
     ]
    }
   ],
   "source": [
    "ds_pyart.get_gate_x_y_z()"
   ]
  },
  {
   "cell_type": "code",
   "execution_count": 22,
   "id": "e30f8dda-35ed-4405-8e88-768433842c52",
   "metadata": {},
   "outputs": [
    {
     "name": "stdout",
     "output_type": "stream",
     "text": [
      "KeysView(<pyart.lazydict.LazyLoadDict object at 0x7f3f950d47f0>)\n"
     ]
    }
   ],
   "source": [
    "print(ds_pyart.gate_altitude.keys())"
   ]
  },
  {
   "cell_type": "code",
   "execution_count": 24,
   "id": "11bd45c9-d767-4894-bae6-09aebc25dcd1",
   "metadata": {},
   "outputs": [
    {
     "data": {
      "text/plain": [
       "ValuesView(<pyart.lazydict.LazyLoadDict object at 0x7f3f950d47f0>)"
      ]
     },
     "execution_count": 24,
     "metadata": {},
     "output_type": "execute_result"
    }
   ],
   "source": [
    "import numpy as np\n",
    "\n",
    "np.min(ds_pyart.gate_altitude.values())"
   ]
  },
  {
   "cell_type": "code",
   "execution_count": 2,
   "id": "f5347266-9479-4e2c-a0d8-f7dbb7fc5dd3",
   "metadata": {},
   "outputs": [
    {
     "name": "stdout",
     "output_type": "stream",
     "text": [
      "\n",
      "## You are using the Python ARM Radar Toolkit (Py-ART), an open source\n",
      "## library for working with weather radar data. Py-ART is partly\n",
      "## supported by the U.S. Department of Energy as part of the Atmospheric\n",
      "## Radiation Measurement (ARM) Climate Research Facility, an Office of\n",
      "## Science user facility.\n",
      "##\n",
      "## If you use this software to prepare a publication, please cite:\n",
      "##\n",
      "##     JJ Helmus and SM Collis, JORS 2016, doi: 10.5334/jors.119\n",
      "\n"
     ]
    },
    {
     "data": {
      "text/plain": [
       "{'units': 'meters',\n",
       " 'standard_name': 'Altitude',\n",
       " 'data': masked_array(data=[214.],\n",
       "              mask=False,\n",
       "        fill_value=1e+20)}"
      ]
     },
     "execution_count": 2,
     "metadata": {},
     "output_type": "execute_result"
    }
   ],
   "source": [
    "import pyart\n",
    "ds_pyart = pyart.io.read_cfradial(\"/home/chavlin/hdd/data/yt_data/yt_sample_sets/CfRadialGrid/swx_20120520_0641.nc\")\n",
    "ds_pyart.altitude"
   ]
  },
  {
   "cell_type": "code",
   "execution_count": 11,
   "id": "2810274c-3ab7-431b-b2b9-bf77ea0d6116",
   "metadata": {},
   "outputs": [
    {
     "ename": "AttributeError",
     "evalue": "'Radar' object has no attribute 'run_info'",
     "output_type": "error",
     "traceback": [
      "\u001b[0;31m---------------------------------------------------------------------------\u001b[0m",
      "\u001b[0;31mAttributeError\u001b[0m                            Traceback (most recent call last)",
      "\u001b[0;32m/tmp/ipykernel_6940/282588026.py\u001b[0m in \u001b[0;36m<module>\u001b[0;34m\u001b[0m\n\u001b[0;32m----> 1\u001b[0;31m \u001b[0mds_pyart\u001b[0m\u001b[0;34m.\u001b[0m\u001b[0mrun_info\u001b[0m\u001b[0;34m\u001b[0m\u001b[0;34m\u001b[0m\u001b[0m\n\u001b[0m",
      "\u001b[0;31mAttributeError\u001b[0m: 'Radar' object has no attribute 'run_info'"
     ]
    }
   ],
   "source": [
    "ds_pyart.in"
   ]
  },
  {
   "cell_type": "code",
   "execution_count": 3,
   "id": "99a671f6-a73f-416c-92ae-5f1c662412c2",
   "metadata": {},
   "outputs": [
    {
     "data": {
      "text/plain": [
       "{'units': 'meters',\n",
       " 'standard_name': 'Altitude',\n",
       " 'data': masked_array(data=[214.],\n",
       "              mask=False,\n",
       "        fill_value=1e+20)}"
      ]
     },
     "execution_count": 3,
     "metadata": {},
     "output_type": "execute_result"
    }
   ],
   "source": [
    "ds_pyart.altitude"
   ]
  },
  {
   "cell_type": "code",
   "execution_count": 20,
   "id": "911b9927-5c63-49a2-803c-abd9253fe584",
   "metadata": {},
   "outputs": [
    {
     "name": "stdout",
     "output_type": "stream",
     "text": [
      "altitude:\n",
      "\tdata: <ndarray of type: float64 and shape: (1,)>\n",
      "\tunits: meters\n",
      "\tstandard_name: Altitude\n",
      "altitude_agl: None\n",
      "antenna_transition: None\n",
      "azimuth:\n",
      "\tdata: <ndarray of type: float64 and shape: (8800,)>\n",
      "\tunits: degrees\n",
      "\tcomment: Azimuth of antenna relative to true north\n",
      "\tstandard_name: beam_azimuth_angle\n",
      "\tlong_name: azimuth_angle_from_true_north\n",
      "elevation:\n",
      "\tdata: <ndarray of type: float64 and shape: (8800,)>\n",
      "\tunits: degrees\n",
      "\tcomment: Elevation of antenna relative to the horizontal plane\n",
      "\tstandard_name: beam_elevation_angle\n",
      "\tlong_name: elevation_angle_from_horizontal_plane\n",
      "fields:\n",
      "\tcorrected_reflectivity_horizontal:\n",
      "\t\tdata: <ndarray of type: float32 and shape: (8800, 667)>\n",
      "\t\t_FillValue: -9999.0\n",
      "\t\tleast_significant_digit: 2\n",
      "\t\tunits: dBZ\n",
      "\t\tlong_name: equivalent_reflectivity_factor\n",
      "\t\tvalid_min: -45.0\n",
      "\t\tvalid_max: 80.0\n",
      "\t\tstandard_name: equivalent_reflectivity_factor\n",
      "\treflectivity_horizontal:\n",
      "\t\tdata: <ndarray of type: float32 and shape: (8800, 667)>\n",
      "\t\t_FillValue: -9999.0\n",
      "\t\tleast_significant_digit: 2\n",
      "\t\tunits: dBZ\n",
      "\t\tlong_name: equivalent_reflectivity_factor\n",
      "\t\tstandard_name: equivalent_reflectivity_factor\n",
      "\t\tvalid_max: 80.0\n",
      "\t\tvalid_min: -45.0\n",
      "\trecalculated_diff_phase:\n",
      "\t\tdata: <ndarray of type: float32 and shape: (8800, 667)>\n",
      "\t\t_FillValue: -9999.0\n",
      "\t\tleast_significant_digit: 2\n",
      "\t\tunits: degrees/km\n",
      "\t\tlong_name: specific_differential_phase_hv\n",
      "\t\tvalid_min: 0.0\n",
      "\t\tvalid_max: 20.0\n",
      "\t\tstandard_name: specific_differential_phase_hv\n",
      "\tspecific_attenuation:\n",
      "\t\tdata: <ndarray of type: float32 and shape: (8800, 667)>\n",
      "\t\t_FillValue: -9999.0\n",
      "\t\tleast_significant_digit: 4\n",
      "\t\tunits: dB/km\n",
      "\t\tlong_name: specific_attenuation\n",
      "\t\tvalid_min: 0.0\n",
      "\t\tvalid_max: 1.0\n",
      "\t\tstandard_name: specific_attenuation\n",
      "\tunf_dp_phase_shift:\n",
      "\t\tdata: <ndarray of type: float32 and shape: (8800, 667)>\n",
      "\t\t_FillValue: -9999.0\n",
      "\t\tleast_significant_digit: 2\n",
      "\t\tunits: degrees\n",
      "\t\tlong_name: differential_phase_hv\n",
      "\t\tvalid_min: -180.0\n",
      "\t\tvalid_max: 180.0\n",
      "\t\tstandard_name: differential_phase_hv\n",
      "\tmean_doppler_velocity:\n",
      "\t\tdata: <ndarray of type: float32 and shape: (8800, 667)>\n",
      "\t\t_FillValue: -9999.0\n",
      "\t\tleast_significant_digit: 2\n",
      "\t\tunits: m/s\n",
      "\t\tlong_name: radial_velocity_of_scatterers_away_from_instrument\n",
      "\t\tstandard_name: radial_velocity_of_scatterers_away_from_instrument\n",
      "\t\tvalid_max: 95.0\n",
      "\t\tvalid_min: -95.0\n",
      "\tdiff_phase:\n",
      "\t\tdata: <ndarray of type: float32 and shape: (8800, 667)>\n",
      "\t\t_FillValue: -9999.0\n",
      "\t\tleast_significant_digit: 2\n",
      "\t\tunits: degrees/km\n",
      "\t\tlong_name: specific_differential_phase_hv\n",
      "\t\tstandard_name: specific_differential_phase_hv\n",
      "\t\tvalid_max: 20.0\n",
      "\t\tvalid_min: -10.0\n",
      "\train_rate_A:\n",
      "\t\tdata: <ndarray of type: float32 and shape: (8800, 667)>\n",
      "\t\t_FillValue: -9999.0\n",
      "\t\tleast_significant_digit: 1\n",
      "\t\tunits: mm/hr\n",
      "\t\tlong_name: rainfall_rate\n",
      "\t\tvalid_min: 0.0\n",
      "\t\tvalid_max: 400.0\n",
      "\t\tstandard_name: rainfall_rate\n",
      "\tnorm_coherent_power:\n",
      "\t\tdata: <ndarray of type: float32 and shape: (8800, 667)>\n",
      "\t\t_FillValue: -9999.0\n",
      "\t\tleast_significant_digit: 5\n",
      "\t\tcomment: Also know as Normalized Coherent Power\n",
      "\t\tstandard_name: signal_quality\n",
      "\t\tlong_name: signal_quality\n",
      "\t\tvalid_min: 0.0\n",
      "\t\tunits: ratio\n",
      "\t\tvalid_max: 1.0\n",
      "\tdp_phase_shift:\n",
      "\t\tdata: <ndarray of type: float32 and shape: (8800, 667)>\n",
      "\t\t_FillValue: -9999.0\n",
      "\t\tleast_significant_digit: 2\n",
      "\t\tunits: degrees\n",
      "\t\tlong_name: differential_phase_hv\n",
      "\t\tstandard_name: differential_phase_hv\n",
      "\t\tvalid_max: 180.0\n",
      "\t\tvalid_min: -180.0\n",
      "\tdiff_reflectivity:\n",
      "\t\tdata: <ndarray of type: float32 and shape: (8800, 667)>\n",
      "\t\t_FillValue: -9999.0\n",
      "\t\tleast_significant_digit: 3\n",
      "\t\tunits: dB\n",
      "\t\tlong_name: log_differential_reflectivity_hv\n",
      "\t\tstandard_name: log_differential_reflectivity_hv\n",
      "\t\tvalid_max: 8.0\n",
      "\t\tvalid_min: -6.0\n",
      "\tproc_dp_phase_shift:\n",
      "\t\tdata: <ndarray of type: float32 and shape: (8800, 667)>\n",
      "\t\t_FillValue: -9999.0\n",
      "\t\tleast_significant_digit: 2\n",
      "\t\tunits: degrees\n",
      "\t\tlong_name: differential_phase_hv\n",
      "\t\tstandard_name: differential_phase_hv\n",
      "\t\tvalid_max: 400.0\n",
      "\t\tvalid_min: 0.0\n",
      "\tcopol_coeff:\n",
      "\t\tdata: <ndarray of type: float32 and shape: (8800, 667)>\n",
      "\t\t_FillValue: -9999.0\n",
      "\t\tleast_significant_digit: 5\n",
      "\t\tunits: ratio\n",
      "\t\tlong_name: cross_correlation_ratio_hv\n",
      "\t\tstandard_name: cross_correlation_ratio_hv\n",
      "\t\tvalid_max: 1.0\n",
      "\t\tvalid_min: 0.0\n",
      "fixed_angle:\n",
      "\tdata: <ndarray of type: float64 and shape: (22,)>\n",
      "\tunits: degrees\n",
      "\tlong_name: target_angle_for_sweep\n",
      "\tstandard_name: target_fixed_angle\n",
      "instrument_parameters: None\n",
      "latitude:\n",
      "\tdata: <ndarray of type: float64 and shape: (1,)>\n",
      "\tunits: degrees_north\n",
      "\tstandard_name: Latitude\n",
      "longitude:\n",
      "\tdata: <ndarray of type: float64 and shape: (1,)>\n",
      "\tunits: degrees_east\n",
      "\tstandard_name: Longitude\n",
      "nsweeps: 22\n",
      "ngates: 667\n",
      "nrays: 8800\n",
      "radar_calibration: None\n",
      "range:\n",
      "\tdata: <ndarray of type: float64 and shape: (667,)>\n",
      "\tcomment: Coordinate variable for range. Range to center of each bin.\n",
      "\tmeters_to_center_of_first_gate: 0\n",
      "\tlong_name: range_to_measurement_volume\n",
      "\tstandard_name: projection_range_coordinate\n",
      "\tmeters_between_gates: 60\n",
      "\tunits: meters\n",
      "scan_rate: None\n",
      "scan_type: ppi\n",
      "sweep_end_ray_index:\n",
      "\tdata: <ndarray of type: int32 and shape: (22,)>\n",
      "\tunits: count\n",
      "\tlong_name: index of last ray in sweep, 0-based\n",
      "sweep_mode:\n",
      "\tdata: <ndarray of type: |S1 and shape: (22, 24)>\n",
      "\tunits: uniteless\n",
      "\tlong_name: sweep_mode\n",
      "\tcomment: Options are:\"sector\",\"coplane\",rhi\",\"vertical_pointing\",\"idle\",\"azimuth_surveillance\",\"elevation_surveillance\",\"sunscan\",\"pointing\",\"manual_ppi\",\"manual_rhi\"\n",
      "sweep_number:\n",
      "\tdata: <ndarray of type: int32 and shape: (22,)>\n",
      "\tunits: count\n",
      "\tlong_name: sweep_number\n",
      "sweep_start_ray_index:\n",
      "\tdata: <ndarray of type: int32 and shape: (22,)>\n",
      "\tunits: count\n",
      "\tlong_name: index of first ray in sweep, 0-based\n",
      "target_scan_rate: None\n",
      "time:\n",
      "\tdata: <ndarray of type: float64 and shape: (8800,)>\n",
      "\tunits: seconds since 2011-05-20 06:42:11.0\n",
      "\tcomment: Coordinate variable for time. Time at the center of each ray, in fractional seconds since the global variable time_coverage_start\n",
      "\tcalendar: gregorian\n",
      "\tstandard_name: time\n",
      "\tlong_name: time in seconds since volume start\n",
      "metadata:\n",
      "\tproject: \n",
      "\tcountry: \n",
      "\tstate: \n",
      "\tinstrument_name: xsapr-sg\n",
      "\toriginal_container: rsl\n",
      "\tplatform_is_mobile: False\n",
      "\thistory: created by user scollis on evs346820 at 13-Nov-2012,18:37:47 using -c\n",
      "\tconventions: CF/Radial\n",
      "\tvolume_number: 0\n",
      "\tplatform_type: fixed\n",
      "\tinstrument_type: radar\n",
      "\tprimary_axis: axis_z\n"
     ]
    }
   ],
   "source": [
    "ds_pyart.info()"
   ]
  },
  {
   "cell_type": "code",
   "execution_count": null,
   "id": "ff731db9-aa4d-48b0-98df-0338aec67237",
   "metadata": {},
   "outputs": [],
   "source": []
  },
  {
   "cell_type": "code",
   "execution_count": 10,
   "id": "808328f0-536a-4051-bc0c-2868bad7bec7",
   "metadata": {},
   "outputs": [
    {
     "data": {
      "text/html": [
       "<div><svg style=\"position: absolute; width: 0; height: 0; overflow: hidden\">\n",
       "<defs>\n",
       "<symbol id=\"icon-database\" viewBox=\"0 0 32 32\">\n",
       "<path d=\"M16 0c-8.837 0-16 2.239-16 5v4c0 2.761 7.163 5 16 5s16-2.239 16-5v-4c0-2.761-7.163-5-16-5z\"></path>\n",
       "<path d=\"M16 17c-8.837 0-16-2.239-16-5v6c0 2.761 7.163 5 16 5s16-2.239 16-5v-6c0 2.761-7.163 5-16 5z\"></path>\n",
       "<path d=\"M16 26c-8.837 0-16-2.239-16-5v6c0 2.761 7.163 5 16 5s16-2.239 16-5v-6c0 2.761-7.163 5-16 5z\"></path>\n",
       "</symbol>\n",
       "<symbol id=\"icon-file-text2\" viewBox=\"0 0 32 32\">\n",
       "<path d=\"M28.681 7.159c-0.694-0.947-1.662-2.053-2.724-3.116s-2.169-2.030-3.116-2.724c-1.612-1.182-2.393-1.319-2.841-1.319h-15.5c-1.378 0-2.5 1.121-2.5 2.5v27c0 1.378 1.122 2.5 2.5 2.5h23c1.378 0 2.5-1.122 2.5-2.5v-19.5c0-0.448-0.137-1.23-1.319-2.841zM24.543 5.457c0.959 0.959 1.712 1.825 2.268 2.543h-4.811v-4.811c0.718 0.556 1.584 1.309 2.543 2.268zM28 29.5c0 0.271-0.229 0.5-0.5 0.5h-23c-0.271 0-0.5-0.229-0.5-0.5v-27c0-0.271 0.229-0.5 0.5-0.5 0 0 15.499-0 15.5 0v7c0 0.552 0.448 1 1 1h7v19.5z\"></path>\n",
       "<path d=\"M23 26h-14c-0.552 0-1-0.448-1-1s0.448-1 1-1h14c0.552 0 1 0.448 1 1s-0.448 1-1 1z\"></path>\n",
       "<path d=\"M23 22h-14c-0.552 0-1-0.448-1-1s0.448-1 1-1h14c0.552 0 1 0.448 1 1s-0.448 1-1 1z\"></path>\n",
       "<path d=\"M23 18h-14c-0.552 0-1-0.448-1-1s0.448-1 1-1h14c0.552 0 1 0.448 1 1s-0.448 1-1 1z\"></path>\n",
       "</symbol>\n",
       "</defs>\n",
       "</svg>\n",
       "<style>/* CSS stylesheet for displaying xarray objects in jupyterlab.\n",
       " *\n",
       " */\n",
       "\n",
       ":root {\n",
       "  --xr-font-color0: var(--jp-content-font-color0, rgba(0, 0, 0, 1));\n",
       "  --xr-font-color2: var(--jp-content-font-color2, rgba(0, 0, 0, 0.54));\n",
       "  --xr-font-color3: var(--jp-content-font-color3, rgba(0, 0, 0, 0.38));\n",
       "  --xr-border-color: var(--jp-border-color2, #e0e0e0);\n",
       "  --xr-disabled-color: var(--jp-layout-color3, #bdbdbd);\n",
       "  --xr-background-color: var(--jp-layout-color0, white);\n",
       "  --xr-background-color-row-even: var(--jp-layout-color1, white);\n",
       "  --xr-background-color-row-odd: var(--jp-layout-color2, #eeeeee);\n",
       "}\n",
       "\n",
       "html[theme=dark],\n",
       "body.vscode-dark {\n",
       "  --xr-font-color0: rgba(255, 255, 255, 1);\n",
       "  --xr-font-color2: rgba(255, 255, 255, 0.54);\n",
       "  --xr-font-color3: rgba(255, 255, 255, 0.38);\n",
       "  --xr-border-color: #1F1F1F;\n",
       "  --xr-disabled-color: #515151;\n",
       "  --xr-background-color: #111111;\n",
       "  --xr-background-color-row-even: #111111;\n",
       "  --xr-background-color-row-odd: #313131;\n",
       "}\n",
       "\n",
       ".xr-wrap {\n",
       "  display: block;\n",
       "  min-width: 300px;\n",
       "  max-width: 700px;\n",
       "}\n",
       "\n",
       ".xr-text-repr-fallback {\n",
       "  /* fallback to plain text repr when CSS is not injected (untrusted notebook) */\n",
       "  display: none;\n",
       "}\n",
       "\n",
       ".xr-header {\n",
       "  padding-top: 6px;\n",
       "  padding-bottom: 6px;\n",
       "  margin-bottom: 4px;\n",
       "  border-bottom: solid 1px var(--xr-border-color);\n",
       "}\n",
       "\n",
       ".xr-header > div,\n",
       ".xr-header > ul {\n",
       "  display: inline;\n",
       "  margin-top: 0;\n",
       "  margin-bottom: 0;\n",
       "}\n",
       "\n",
       ".xr-obj-type,\n",
       ".xr-array-name {\n",
       "  margin-left: 2px;\n",
       "  margin-right: 10px;\n",
       "}\n",
       "\n",
       ".xr-obj-type {\n",
       "  color: var(--xr-font-color2);\n",
       "}\n",
       "\n",
       ".xr-sections {\n",
       "  padding-left: 0 !important;\n",
       "  display: grid;\n",
       "  grid-template-columns: 150px auto auto 1fr 20px 20px;\n",
       "}\n",
       "\n",
       ".xr-section-item {\n",
       "  display: contents;\n",
       "}\n",
       "\n",
       ".xr-section-item input {\n",
       "  display: none;\n",
       "}\n",
       "\n",
       ".xr-section-item input + label {\n",
       "  color: var(--xr-disabled-color);\n",
       "}\n",
       "\n",
       ".xr-section-item input:enabled + label {\n",
       "  cursor: pointer;\n",
       "  color: var(--xr-font-color2);\n",
       "}\n",
       "\n",
       ".xr-section-item input:enabled + label:hover {\n",
       "  color: var(--xr-font-color0);\n",
       "}\n",
       "\n",
       ".xr-section-summary {\n",
       "  grid-column: 1;\n",
       "  color: var(--xr-font-color2);\n",
       "  font-weight: 500;\n",
       "}\n",
       "\n",
       ".xr-section-summary > span {\n",
       "  display: inline-block;\n",
       "  padding-left: 0.5em;\n",
       "}\n",
       "\n",
       ".xr-section-summary-in:disabled + label {\n",
       "  color: var(--xr-font-color2);\n",
       "}\n",
       "\n",
       ".xr-section-summary-in + label:before {\n",
       "  display: inline-block;\n",
       "  content: '►';\n",
       "  font-size: 11px;\n",
       "  width: 15px;\n",
       "  text-align: center;\n",
       "}\n",
       "\n",
       ".xr-section-summary-in:disabled + label:before {\n",
       "  color: var(--xr-disabled-color);\n",
       "}\n",
       "\n",
       ".xr-section-summary-in:checked + label:before {\n",
       "  content: '▼';\n",
       "}\n",
       "\n",
       ".xr-section-summary-in:checked + label > span {\n",
       "  display: none;\n",
       "}\n",
       "\n",
       ".xr-section-summary,\n",
       ".xr-section-inline-details {\n",
       "  padding-top: 4px;\n",
       "  padding-bottom: 4px;\n",
       "}\n",
       "\n",
       ".xr-section-inline-details {\n",
       "  grid-column: 2 / -1;\n",
       "}\n",
       "\n",
       ".xr-section-details {\n",
       "  display: none;\n",
       "  grid-column: 1 / -1;\n",
       "  margin-bottom: 5px;\n",
       "}\n",
       "\n",
       ".xr-section-summary-in:checked ~ .xr-section-details {\n",
       "  display: contents;\n",
       "}\n",
       "\n",
       ".xr-array-wrap {\n",
       "  grid-column: 1 / -1;\n",
       "  display: grid;\n",
       "  grid-template-columns: 20px auto;\n",
       "}\n",
       "\n",
       ".xr-array-wrap > label {\n",
       "  grid-column: 1;\n",
       "  vertical-align: top;\n",
       "}\n",
       "\n",
       ".xr-preview {\n",
       "  color: var(--xr-font-color3);\n",
       "}\n",
       "\n",
       ".xr-array-preview,\n",
       ".xr-array-data {\n",
       "  padding: 0 5px !important;\n",
       "  grid-column: 2;\n",
       "}\n",
       "\n",
       ".xr-array-data,\n",
       ".xr-array-in:checked ~ .xr-array-preview {\n",
       "  display: none;\n",
       "}\n",
       "\n",
       ".xr-array-in:checked ~ .xr-array-data,\n",
       ".xr-array-preview {\n",
       "  display: inline-block;\n",
       "}\n",
       "\n",
       ".xr-dim-list {\n",
       "  display: inline-block !important;\n",
       "  list-style: none;\n",
       "  padding: 0 !important;\n",
       "  margin: 0;\n",
       "}\n",
       "\n",
       ".xr-dim-list li {\n",
       "  display: inline-block;\n",
       "  padding: 0;\n",
       "  margin: 0;\n",
       "}\n",
       "\n",
       ".xr-dim-list:before {\n",
       "  content: '(';\n",
       "}\n",
       "\n",
       ".xr-dim-list:after {\n",
       "  content: ')';\n",
       "}\n",
       "\n",
       ".xr-dim-list li:not(:last-child):after {\n",
       "  content: ',';\n",
       "  padding-right: 5px;\n",
       "}\n",
       "\n",
       ".xr-has-index {\n",
       "  font-weight: bold;\n",
       "}\n",
       "\n",
       ".xr-var-list,\n",
       ".xr-var-item {\n",
       "  display: contents;\n",
       "}\n",
       "\n",
       ".xr-var-item > div,\n",
       ".xr-var-item label,\n",
       ".xr-var-item > .xr-var-name span {\n",
       "  background-color: var(--xr-background-color-row-even);\n",
       "  margin-bottom: 0;\n",
       "}\n",
       "\n",
       ".xr-var-item > .xr-var-name:hover span {\n",
       "  padding-right: 5px;\n",
       "}\n",
       "\n",
       ".xr-var-list > li:nth-child(odd) > div,\n",
       ".xr-var-list > li:nth-child(odd) > label,\n",
       ".xr-var-list > li:nth-child(odd) > .xr-var-name span {\n",
       "  background-color: var(--xr-background-color-row-odd);\n",
       "}\n",
       "\n",
       ".xr-var-name {\n",
       "  grid-column: 1;\n",
       "}\n",
       "\n",
       ".xr-var-dims {\n",
       "  grid-column: 2;\n",
       "}\n",
       "\n",
       ".xr-var-dtype {\n",
       "  grid-column: 3;\n",
       "  text-align: right;\n",
       "  color: var(--xr-font-color2);\n",
       "}\n",
       "\n",
       ".xr-var-preview {\n",
       "  grid-column: 4;\n",
       "}\n",
       "\n",
       ".xr-var-name,\n",
       ".xr-var-dims,\n",
       ".xr-var-dtype,\n",
       ".xr-preview,\n",
       ".xr-attrs dt {\n",
       "  white-space: nowrap;\n",
       "  overflow: hidden;\n",
       "  text-overflow: ellipsis;\n",
       "  padding-right: 10px;\n",
       "}\n",
       "\n",
       ".xr-var-name:hover,\n",
       ".xr-var-dims:hover,\n",
       ".xr-var-dtype:hover,\n",
       ".xr-attrs dt:hover {\n",
       "  overflow: visible;\n",
       "  width: auto;\n",
       "  z-index: 1;\n",
       "}\n",
       "\n",
       ".xr-var-attrs,\n",
       ".xr-var-data {\n",
       "  display: none;\n",
       "  background-color: var(--xr-background-color) !important;\n",
       "  padding-bottom: 5px !important;\n",
       "}\n",
       "\n",
       ".xr-var-attrs-in:checked ~ .xr-var-attrs,\n",
       ".xr-var-data-in:checked ~ .xr-var-data {\n",
       "  display: block;\n",
       "}\n",
       "\n",
       ".xr-var-data > table {\n",
       "  float: right;\n",
       "}\n",
       "\n",
       ".xr-var-name span,\n",
       ".xr-var-data,\n",
       ".xr-attrs {\n",
       "  padding-left: 25px !important;\n",
       "}\n",
       "\n",
       ".xr-attrs,\n",
       ".xr-var-attrs,\n",
       ".xr-var-data {\n",
       "  grid-column: 1 / -1;\n",
       "}\n",
       "\n",
       "dl.xr-attrs {\n",
       "  padding: 0;\n",
       "  margin: 0;\n",
       "  display: grid;\n",
       "  grid-template-columns: 125px auto;\n",
       "}\n",
       "\n",
       ".xr-attrs dt,\n",
       ".xr-attrs dd {\n",
       "  padding: 0;\n",
       "  margin: 0;\n",
       "  float: left;\n",
       "  padding-right: 10px;\n",
       "  width: auto;\n",
       "}\n",
       "\n",
       ".xr-attrs dt {\n",
       "  font-weight: normal;\n",
       "  grid-column: 1;\n",
       "}\n",
       "\n",
       ".xr-attrs dt:hover span {\n",
       "  display: inline-block;\n",
       "  background: var(--xr-background-color);\n",
       "  padding-right: 10px;\n",
       "}\n",
       "\n",
       ".xr-attrs dd {\n",
       "  grid-column: 2;\n",
       "  white-space: pre-wrap;\n",
       "  word-break: break-all;\n",
       "}\n",
       "\n",
       ".xr-icon-database,\n",
       ".xr-icon-file-text2 {\n",
       "  display: inline-block;\n",
       "  vertical-align: middle;\n",
       "  width: 1em;\n",
       "  height: 1.5em !important;\n",
       "  stroke-width: 0;\n",
       "  stroke: currentColor;\n",
       "  fill: currentColor;\n",
       "}\n",
       "</style><pre class='xr-text-repr-fallback'>&lt;xarray.Dataset&gt;\n",
       "Dimensions:                            (range: 667, sweep: 22, time: 8800)\n",
       "Coordinates:\n",
       "  * time                               (time) datetime64[ns] 2011-05-20T06:42...\n",
       "  * range                              (range) float64 0.0 60.0 ... 3.996e+04\n",
       "Dimensions without coordinates: sweep\n",
       "Data variables:\n",
       "    azimuth                            (time) float64 360.0 0.8281 ... 359.1\n",
       "    elevation                          (time) float64 0.3906 0.3906 ... 49.97\n",
       "    corrected_reflectivity_horizontal  (time, range) float32 ...\n",
       "    reflectivity_horizontal            (time, range) float32 ...\n",
       "    recalculated_diff_phase            (time, range) float32 ...\n",
       "    specific_attenuation               (time, range) float32 ...\n",
       "    unf_dp_phase_shift                 (time, range) float32 ...\n",
       "    mean_doppler_velocity              (time, range) float32 ...\n",
       "    diff_phase                         (time, range) float32 ...\n",
       "    rain_rate_A                        (time, range) float32 ...\n",
       "    norm_coherent_power                (time, range) float32 ...\n",
       "    dp_phase_shift                     (time, range) float32 ...\n",
       "    diff_reflectivity                  (time, range) float32 ...\n",
       "    proc_dp_phase_shift                (time, range) float32 ...\n",
       "    copol_coeff                        (time, range) float32 ...\n",
       "    sweep_start_ray_index              (sweep) int32 0 400 800 ... 8000 8400\n",
       "    sweep_mode                         (sweep) |S24 b&#x27;azimuth_surveillance   ...\n",
       "    sweep_number                       (sweep) int32 0 1 2 3 4 ... 18 19 20 21\n",
       "    sweep_end_ray_index                (sweep) int32 399 799 1199 ... 8399 8799\n",
       "    fixed_angle                        (sweep) float64 0.5 1.5 2.5 ... 45.0 50.0\n",
       "    latitude                           float64 36.49\n",
       "    altitude                           float64 214.0\n",
       "    longitude                          float64 -97.59\n",
       "Attributes:\n",
       "    project:             \n",
       "    country:             \n",
       "    state:               \n",
       "    instrument_name:     xsapr-sg\n",
       "    original_container:  rsl\n",
       "    platform_is_mobile:  False\n",
       "    history:             created by user scollis on evs346820 at 13-Nov-2012,...\n",
       "    conventions:         CF/Radial</pre><div class='xr-wrap' hidden><div class='xr-header'><div class='xr-obj-type'>xarray.Dataset</div></div><ul class='xr-sections'><li class='xr-section-item'><input id='section-31941770-6913-4b25-9d63-4379ae0e3cd3' class='xr-section-summary-in' type='checkbox' disabled ><label for='section-31941770-6913-4b25-9d63-4379ae0e3cd3' class='xr-section-summary'  title='Expand/collapse section'>Dimensions:</label><div class='xr-section-inline-details'><ul class='xr-dim-list'><li><span class='xr-has-index'>range</span>: 667</li><li><span>sweep</span>: 22</li><li><span class='xr-has-index'>time</span>: 8800</li></ul></div><div class='xr-section-details'></div></li><li class='xr-section-item'><input id='section-8ced3ed1-ee1a-4757-ba1d-d0602b088ef5' class='xr-section-summary-in' type='checkbox'  checked><label for='section-8ced3ed1-ee1a-4757-ba1d-d0602b088ef5' class='xr-section-summary' >Coordinates: <span>(2)</span></label><div class='xr-section-inline-details'></div><div class='xr-section-details'><ul class='xr-var-list'><li class='xr-var-item'><div class='xr-var-name'><span class='xr-has-index'>time</span></div><div class='xr-var-dims'>(time)</div><div class='xr-var-dtype'>datetime64[ns]</div><div class='xr-var-preview xr-preview'>2011-05-20T06:42:11 ... 2011-05-...</div><input id='attrs-4b710881-80f0-4c95-84b4-6aea83db8a09' class='xr-var-attrs-in' type='checkbox' ><label for='attrs-4b710881-80f0-4c95-84b4-6aea83db8a09' title='Show/Hide attributes'><svg class='icon xr-icon-file-text2'><use xlink:href='#icon-file-text2'></use></svg></label><input id='data-30b5c164-4c41-4c4d-bee0-86cead18b125' class='xr-var-data-in' type='checkbox'><label for='data-30b5c164-4c41-4c4d-bee0-86cead18b125' title='Show/Hide data repr'><svg class='icon xr-icon-database'><use xlink:href='#icon-database'></use></svg></label><div class='xr-var-attrs'><dl class='xr-attrs'><dt><span>comment :</span></dt><dd>Coordinate variable for time. Time at the center of each ray, in fractional seconds since the global variable time_coverage_start</dd><dt><span>standard_name :</span></dt><dd>time</dd><dt><span>long_name :</span></dt><dd>time in seconds since volume start</dd></dl></div><div class='xr-var-data'><pre>array([&#x27;2011-05-20T06:42:11.000000000&#x27;, &#x27;2011-05-20T06:42:11.039436300&#x27;,\n",
       "       &#x27;2011-05-20T06:42:11.078872601&#x27;, ..., &#x27;2011-05-20T06:47:57.921136220&#x27;,\n",
       "       &#x27;2011-05-20T06:47:57.960572520&#x27;, &#x27;2011-05-20T06:47:58.000008821&#x27;],\n",
       "      dtype=&#x27;datetime64[ns]&#x27;)</pre></div></li><li class='xr-var-item'><div class='xr-var-name'><span class='xr-has-index'>range</span></div><div class='xr-var-dims'>(range)</div><div class='xr-var-dtype'>float64</div><div class='xr-var-preview xr-preview'>0.0 60.0 ... 3.99e+04 3.996e+04</div><input id='attrs-6c70fb60-491e-4560-8d6b-417c3dcd3b18' class='xr-var-attrs-in' type='checkbox' ><label for='attrs-6c70fb60-491e-4560-8d6b-417c3dcd3b18' title='Show/Hide attributes'><svg class='icon xr-icon-file-text2'><use xlink:href='#icon-file-text2'></use></svg></label><input id='data-6ee8b9e3-4584-4227-ac5c-4042b01f6462' class='xr-var-data-in' type='checkbox'><label for='data-6ee8b9e3-4584-4227-ac5c-4042b01f6462' title='Show/Hide data repr'><svg class='icon xr-icon-database'><use xlink:href='#icon-database'></use></svg></label><div class='xr-var-attrs'><dl class='xr-attrs'><dt><span>comment :</span></dt><dd>Coordinate variable for range. Range to center of each bin.</dd><dt><span>meters_to_center_of_first_gate :</span></dt><dd>0</dd><dt><span>long_name :</span></dt><dd>range_to_measurement_volume</dd><dt><span>standard_name :</span></dt><dd>projection_range_coordinate</dd><dt><span>meters_between_gates :</span></dt><dd>60</dd><dt><span>units :</span></dt><dd>meters</dd></dl></div><div class='xr-var-data'><pre>array([    0.,    60.,   120., ..., 39840., 39900., 39960.])</pre></div></li></ul></div></li><li class='xr-section-item'><input id='section-8a9bae4f-e873-4ee9-9443-8ef1836d067b' class='xr-section-summary-in' type='checkbox'  ><label for='section-8a9bae4f-e873-4ee9-9443-8ef1836d067b' class='xr-section-summary' >Data variables: <span>(23)</span></label><div class='xr-section-inline-details'></div><div class='xr-section-details'><ul class='xr-var-list'><li class='xr-var-item'><div class='xr-var-name'><span>azimuth</span></div><div class='xr-var-dims'>(time)</div><div class='xr-var-dtype'>float64</div><div class='xr-var-preview xr-preview'>...</div><input id='attrs-f91ffdf7-17c3-4681-9576-cfa1b101b610' class='xr-var-attrs-in' type='checkbox' ><label for='attrs-f91ffdf7-17c3-4681-9576-cfa1b101b610' title='Show/Hide attributes'><svg class='icon xr-icon-file-text2'><use xlink:href='#icon-file-text2'></use></svg></label><input id='data-837560ad-b33c-4daa-a91f-1204da747c94' class='xr-var-data-in' type='checkbox'><label for='data-837560ad-b33c-4daa-a91f-1204da747c94' title='Show/Hide data repr'><svg class='icon xr-icon-database'><use xlink:href='#icon-database'></use></svg></label><div class='xr-var-attrs'><dl class='xr-attrs'><dt><span>units :</span></dt><dd>degrees</dd><dt><span>comment :</span></dt><dd>Azimuth of antenna relative to true north</dd><dt><span>standard_name :</span></dt><dd>beam_azimuth_angle</dd><dt><span>long_name :</span></dt><dd>azimuth_angle_from_true_north</dd></dl></div><div class='xr-var-data'><pre>array([359.953125,   0.828125,   1.71875 , ..., 357.21875 , 358.125   ,\n",
       "       359.0625  ])</pre></div></li><li class='xr-var-item'><div class='xr-var-name'><span>elevation</span></div><div class='xr-var-dims'>(time)</div><div class='xr-var-dtype'>float64</div><div class='xr-var-preview xr-preview'>...</div><input id='attrs-8a15a162-0329-4734-929b-e48c74e76ef7' class='xr-var-attrs-in' type='checkbox' ><label for='attrs-8a15a162-0329-4734-929b-e48c74e76ef7' title='Show/Hide attributes'><svg class='icon xr-icon-file-text2'><use xlink:href='#icon-file-text2'></use></svg></label><input id='data-243565b7-7319-40c3-bfe8-b829b0dd7e87' class='xr-var-data-in' type='checkbox'><label for='data-243565b7-7319-40c3-bfe8-b829b0dd7e87' title='Show/Hide data repr'><svg class='icon xr-icon-database'><use xlink:href='#icon-database'></use></svg></label><div class='xr-var-attrs'><dl class='xr-attrs'><dt><span>units :</span></dt><dd>degrees</dd><dt><span>comment :</span></dt><dd>Elevation of antenna relative to the horizontal plane</dd><dt><span>standard_name :</span></dt><dd>beam_elevation_angle</dd><dt><span>long_name :</span></dt><dd>elevation_angle_from_horizontal_plane</dd></dl></div><div class='xr-var-data'><pre>array([ 0.390625,  0.390625,  0.390625, ..., 49.96875 , 49.96875 , 49.96875 ])</pre></div></li><li class='xr-var-item'><div class='xr-var-name'><span>corrected_reflectivity_horizontal</span></div><div class='xr-var-dims'>(time, range)</div><div class='xr-var-dtype'>float32</div><div class='xr-var-preview xr-preview'>...</div><input id='attrs-55a2e7ba-9996-4c96-b098-cf0fbc08e9c7' class='xr-var-attrs-in' type='checkbox' ><label for='attrs-55a2e7ba-9996-4c96-b098-cf0fbc08e9c7' title='Show/Hide attributes'><svg class='icon xr-icon-file-text2'><use xlink:href='#icon-file-text2'></use></svg></label><input id='data-0cc8e664-5914-40a1-8cab-d89fa1018e72' class='xr-var-data-in' type='checkbox'><label for='data-0cc8e664-5914-40a1-8cab-d89fa1018e72' title='Show/Hide data repr'><svg class='icon xr-icon-database'><use xlink:href='#icon-database'></use></svg></label><div class='xr-var-attrs'><dl class='xr-attrs'><dt><span>units :</span></dt><dd>dBZ</dd><dt><span>long_name :</span></dt><dd>equivalent_reflectivity_factor</dd><dt><span>valid_min :</span></dt><dd>-45.0</dd><dt><span>valid_max :</span></dt><dd>80.0</dd><dt><span>standard_name :</span></dt><dd>equivalent_reflectivity_factor</dd></dl></div><div class='xr-var-data'><pre>[5869600 values with dtype=float32]</pre></div></li><li class='xr-var-item'><div class='xr-var-name'><span>reflectivity_horizontal</span></div><div class='xr-var-dims'>(time, range)</div><div class='xr-var-dtype'>float32</div><div class='xr-var-preview xr-preview'>...</div><input id='attrs-93700320-1b4c-4fc5-827d-db97343cb2b8' class='xr-var-attrs-in' type='checkbox' ><label for='attrs-93700320-1b4c-4fc5-827d-db97343cb2b8' title='Show/Hide attributes'><svg class='icon xr-icon-file-text2'><use xlink:href='#icon-file-text2'></use></svg></label><input id='data-55d64d75-4b99-471e-907f-3ab9266c9074' class='xr-var-data-in' type='checkbox'><label for='data-55d64d75-4b99-471e-907f-3ab9266c9074' title='Show/Hide data repr'><svg class='icon xr-icon-database'><use xlink:href='#icon-database'></use></svg></label><div class='xr-var-attrs'><dl class='xr-attrs'><dt><span>units :</span></dt><dd>dBZ</dd><dt><span>long_name :</span></dt><dd>equivalent_reflectivity_factor</dd><dt><span>standard_name :</span></dt><dd>equivalent_reflectivity_factor</dd><dt><span>valid_max :</span></dt><dd>80.0</dd><dt><span>valid_min :</span></dt><dd>-45.0</dd></dl></div><div class='xr-var-data'><pre>[5869600 values with dtype=float32]</pre></div></li><li class='xr-var-item'><div class='xr-var-name'><span>recalculated_diff_phase</span></div><div class='xr-var-dims'>(time, range)</div><div class='xr-var-dtype'>float32</div><div class='xr-var-preview xr-preview'>...</div><input id='attrs-15c4bd14-9552-4482-9f58-b3de3dcb7302' class='xr-var-attrs-in' type='checkbox' ><label for='attrs-15c4bd14-9552-4482-9f58-b3de3dcb7302' title='Show/Hide attributes'><svg class='icon xr-icon-file-text2'><use xlink:href='#icon-file-text2'></use></svg></label><input id='data-70c5d82f-c195-4f3e-b1e0-a36af90e18b2' class='xr-var-data-in' type='checkbox'><label for='data-70c5d82f-c195-4f3e-b1e0-a36af90e18b2' title='Show/Hide data repr'><svg class='icon xr-icon-database'><use xlink:href='#icon-database'></use></svg></label><div class='xr-var-attrs'><dl class='xr-attrs'><dt><span>units :</span></dt><dd>degrees/km</dd><dt><span>long_name :</span></dt><dd>specific_differential_phase_hv</dd><dt><span>valid_min :</span></dt><dd>0.0</dd><dt><span>valid_max :</span></dt><dd>20.0</dd><dt><span>standard_name :</span></dt><dd>specific_differential_phase_hv</dd></dl></div><div class='xr-var-data'><pre>[5869600 values with dtype=float32]</pre></div></li><li class='xr-var-item'><div class='xr-var-name'><span>specific_attenuation</span></div><div class='xr-var-dims'>(time, range)</div><div class='xr-var-dtype'>float32</div><div class='xr-var-preview xr-preview'>...</div><input id='attrs-a0548208-451d-47c3-8492-1be62600f773' class='xr-var-attrs-in' type='checkbox' ><label for='attrs-a0548208-451d-47c3-8492-1be62600f773' title='Show/Hide attributes'><svg class='icon xr-icon-file-text2'><use xlink:href='#icon-file-text2'></use></svg></label><input id='data-b00f059f-2d9c-4cfa-8a71-ab26723fdb73' class='xr-var-data-in' type='checkbox'><label for='data-b00f059f-2d9c-4cfa-8a71-ab26723fdb73' title='Show/Hide data repr'><svg class='icon xr-icon-database'><use xlink:href='#icon-database'></use></svg></label><div class='xr-var-attrs'><dl class='xr-attrs'><dt><span>units :</span></dt><dd>dB/km</dd><dt><span>long_name :</span></dt><dd>specific_attenuation</dd><dt><span>valid_min :</span></dt><dd>0.0</dd><dt><span>valid_max :</span></dt><dd>1.0</dd><dt><span>standard_name :</span></dt><dd>specific_attenuation</dd></dl></div><div class='xr-var-data'><pre>[5869600 values with dtype=float32]</pre></div></li><li class='xr-var-item'><div class='xr-var-name'><span>unf_dp_phase_shift</span></div><div class='xr-var-dims'>(time, range)</div><div class='xr-var-dtype'>float32</div><div class='xr-var-preview xr-preview'>...</div><input id='attrs-4ef37fda-51cb-4665-a067-c9edc97b08dd' class='xr-var-attrs-in' type='checkbox' ><label for='attrs-4ef37fda-51cb-4665-a067-c9edc97b08dd' title='Show/Hide attributes'><svg class='icon xr-icon-file-text2'><use xlink:href='#icon-file-text2'></use></svg></label><input id='data-3d73919a-681f-4000-9bcd-e36c5a110fcc' class='xr-var-data-in' type='checkbox'><label for='data-3d73919a-681f-4000-9bcd-e36c5a110fcc' title='Show/Hide data repr'><svg class='icon xr-icon-database'><use xlink:href='#icon-database'></use></svg></label><div class='xr-var-attrs'><dl class='xr-attrs'><dt><span>units :</span></dt><dd>degrees</dd><dt><span>long_name :</span></dt><dd>differential_phase_hv</dd><dt><span>valid_min :</span></dt><dd>-180.0</dd><dt><span>valid_max :</span></dt><dd>180.0</dd><dt><span>standard_name :</span></dt><dd>differential_phase_hv</dd></dl></div><div class='xr-var-data'><pre>[5869600 values with dtype=float32]</pre></div></li><li class='xr-var-item'><div class='xr-var-name'><span>mean_doppler_velocity</span></div><div class='xr-var-dims'>(time, range)</div><div class='xr-var-dtype'>float32</div><div class='xr-var-preview xr-preview'>...</div><input id='attrs-056a4a1c-64cc-4a20-b741-cca66179aaee' class='xr-var-attrs-in' type='checkbox' ><label for='attrs-056a4a1c-64cc-4a20-b741-cca66179aaee' title='Show/Hide attributes'><svg class='icon xr-icon-file-text2'><use xlink:href='#icon-file-text2'></use></svg></label><input id='data-8e291a65-dc2f-469a-a1a3-278d2db20a6b' class='xr-var-data-in' type='checkbox'><label for='data-8e291a65-dc2f-469a-a1a3-278d2db20a6b' title='Show/Hide data repr'><svg class='icon xr-icon-database'><use xlink:href='#icon-database'></use></svg></label><div class='xr-var-attrs'><dl class='xr-attrs'><dt><span>units :</span></dt><dd>m/s</dd><dt><span>long_name :</span></dt><dd>radial_velocity_of_scatterers_away_from_instrument</dd><dt><span>standard_name :</span></dt><dd>radial_velocity_of_scatterers_away_from_instrument</dd><dt><span>valid_max :</span></dt><dd>95.0</dd><dt><span>valid_min :</span></dt><dd>-95.0</dd></dl></div><div class='xr-var-data'><pre>[5869600 values with dtype=float32]</pre></div></li><li class='xr-var-item'><div class='xr-var-name'><span>diff_phase</span></div><div class='xr-var-dims'>(time, range)</div><div class='xr-var-dtype'>float32</div><div class='xr-var-preview xr-preview'>...</div><input id='attrs-49ccff91-5f3c-431d-b828-6b6678cb319a' class='xr-var-attrs-in' type='checkbox' ><label for='attrs-49ccff91-5f3c-431d-b828-6b6678cb319a' title='Show/Hide attributes'><svg class='icon xr-icon-file-text2'><use xlink:href='#icon-file-text2'></use></svg></label><input id='data-fafdd209-f3df-4aae-ac66-df37f3454616' class='xr-var-data-in' type='checkbox'><label for='data-fafdd209-f3df-4aae-ac66-df37f3454616' title='Show/Hide data repr'><svg class='icon xr-icon-database'><use xlink:href='#icon-database'></use></svg></label><div class='xr-var-attrs'><dl class='xr-attrs'><dt><span>units :</span></dt><dd>degrees/km</dd><dt><span>long_name :</span></dt><dd>specific_differential_phase_hv</dd><dt><span>standard_name :</span></dt><dd>specific_differential_phase_hv</dd><dt><span>valid_max :</span></dt><dd>20.0</dd><dt><span>valid_min :</span></dt><dd>-10.0</dd></dl></div><div class='xr-var-data'><pre>[5869600 values with dtype=float32]</pre></div></li><li class='xr-var-item'><div class='xr-var-name'><span>rain_rate_A</span></div><div class='xr-var-dims'>(time, range)</div><div class='xr-var-dtype'>float32</div><div class='xr-var-preview xr-preview'>...</div><input id='attrs-2fc6b75a-37a3-4481-bac9-ea132c6d04d2' class='xr-var-attrs-in' type='checkbox' ><label for='attrs-2fc6b75a-37a3-4481-bac9-ea132c6d04d2' title='Show/Hide attributes'><svg class='icon xr-icon-file-text2'><use xlink:href='#icon-file-text2'></use></svg></label><input id='data-1c889b60-065a-4fa8-bc7b-ca271fee1e1b' class='xr-var-data-in' type='checkbox'><label for='data-1c889b60-065a-4fa8-bc7b-ca271fee1e1b' title='Show/Hide data repr'><svg class='icon xr-icon-database'><use xlink:href='#icon-database'></use></svg></label><div class='xr-var-attrs'><dl class='xr-attrs'><dt><span>units :</span></dt><dd>mm/hr</dd><dt><span>long_name :</span></dt><dd>rainfall_rate</dd><dt><span>valid_min :</span></dt><dd>0.0</dd><dt><span>valid_max :</span></dt><dd>400.0</dd><dt><span>standard_name :</span></dt><dd>rainfall_rate</dd></dl></div><div class='xr-var-data'><pre>[5869600 values with dtype=float32]</pre></div></li><li class='xr-var-item'><div class='xr-var-name'><span>norm_coherent_power</span></div><div class='xr-var-dims'>(time, range)</div><div class='xr-var-dtype'>float32</div><div class='xr-var-preview xr-preview'>...</div><input id='attrs-e81d38eb-d3e1-47b1-b823-62566509dcc8' class='xr-var-attrs-in' type='checkbox' ><label for='attrs-e81d38eb-d3e1-47b1-b823-62566509dcc8' title='Show/Hide attributes'><svg class='icon xr-icon-file-text2'><use xlink:href='#icon-file-text2'></use></svg></label><input id='data-79bbbcad-a593-4dc8-929d-c5cc4b31d23e' class='xr-var-data-in' type='checkbox'><label for='data-79bbbcad-a593-4dc8-929d-c5cc4b31d23e' title='Show/Hide data repr'><svg class='icon xr-icon-database'><use xlink:href='#icon-database'></use></svg></label><div class='xr-var-attrs'><dl class='xr-attrs'><dt><span>comment :</span></dt><dd>Also know as Normalized Coherent Power</dd><dt><span>standard_name :</span></dt><dd>signal_quality</dd><dt><span>long_name :</span></dt><dd>signal_quality</dd><dt><span>valid_min :</span></dt><dd>0.0</dd><dt><span>units :</span></dt><dd>ratio</dd><dt><span>valid_max :</span></dt><dd>1.0</dd></dl></div><div class='xr-var-data'><pre>[5869600 values with dtype=float32]</pre></div></li><li class='xr-var-item'><div class='xr-var-name'><span>dp_phase_shift</span></div><div class='xr-var-dims'>(time, range)</div><div class='xr-var-dtype'>float32</div><div class='xr-var-preview xr-preview'>...</div><input id='attrs-3ae13c3b-3a20-464a-9b7b-7d723574ed47' class='xr-var-attrs-in' type='checkbox' ><label for='attrs-3ae13c3b-3a20-464a-9b7b-7d723574ed47' title='Show/Hide attributes'><svg class='icon xr-icon-file-text2'><use xlink:href='#icon-file-text2'></use></svg></label><input id='data-83f159ba-45fe-4979-8aa9-499ba6beec2e' class='xr-var-data-in' type='checkbox'><label for='data-83f159ba-45fe-4979-8aa9-499ba6beec2e' title='Show/Hide data repr'><svg class='icon xr-icon-database'><use xlink:href='#icon-database'></use></svg></label><div class='xr-var-attrs'><dl class='xr-attrs'><dt><span>units :</span></dt><dd>degrees</dd><dt><span>long_name :</span></dt><dd>differential_phase_hv</dd><dt><span>standard_name :</span></dt><dd>differential_phase_hv</dd><dt><span>valid_max :</span></dt><dd>180.0</dd><dt><span>valid_min :</span></dt><dd>-180.0</dd></dl></div><div class='xr-var-data'><pre>[5869600 values with dtype=float32]</pre></div></li><li class='xr-var-item'><div class='xr-var-name'><span>diff_reflectivity</span></div><div class='xr-var-dims'>(time, range)</div><div class='xr-var-dtype'>float32</div><div class='xr-var-preview xr-preview'>...</div><input id='attrs-ad689711-1229-4d61-b5cb-ac68066dda43' class='xr-var-attrs-in' type='checkbox' ><label for='attrs-ad689711-1229-4d61-b5cb-ac68066dda43' title='Show/Hide attributes'><svg class='icon xr-icon-file-text2'><use xlink:href='#icon-file-text2'></use></svg></label><input id='data-2d14247a-4cba-4b56-91c9-0f9623bcf7e6' class='xr-var-data-in' type='checkbox'><label for='data-2d14247a-4cba-4b56-91c9-0f9623bcf7e6' title='Show/Hide data repr'><svg class='icon xr-icon-database'><use xlink:href='#icon-database'></use></svg></label><div class='xr-var-attrs'><dl class='xr-attrs'><dt><span>units :</span></dt><dd>dB</dd><dt><span>long_name :</span></dt><dd>log_differential_reflectivity_hv</dd><dt><span>standard_name :</span></dt><dd>log_differential_reflectivity_hv</dd><dt><span>valid_max :</span></dt><dd>8.0</dd><dt><span>valid_min :</span></dt><dd>-6.0</dd></dl></div><div class='xr-var-data'><pre>[5869600 values with dtype=float32]</pre></div></li><li class='xr-var-item'><div class='xr-var-name'><span>proc_dp_phase_shift</span></div><div class='xr-var-dims'>(time, range)</div><div class='xr-var-dtype'>float32</div><div class='xr-var-preview xr-preview'>...</div><input id='attrs-67a1c3b7-05b0-47b2-bc84-aa54c1970b53' class='xr-var-attrs-in' type='checkbox' ><label for='attrs-67a1c3b7-05b0-47b2-bc84-aa54c1970b53' title='Show/Hide attributes'><svg class='icon xr-icon-file-text2'><use xlink:href='#icon-file-text2'></use></svg></label><input id='data-e2cdef7e-ea56-4459-9b73-a382927aaa63' class='xr-var-data-in' type='checkbox'><label for='data-e2cdef7e-ea56-4459-9b73-a382927aaa63' title='Show/Hide data repr'><svg class='icon xr-icon-database'><use xlink:href='#icon-database'></use></svg></label><div class='xr-var-attrs'><dl class='xr-attrs'><dt><span>units :</span></dt><dd>degrees</dd><dt><span>long_name :</span></dt><dd>differential_phase_hv</dd><dt><span>standard_name :</span></dt><dd>differential_phase_hv</dd><dt><span>valid_max :</span></dt><dd>400.0</dd><dt><span>valid_min :</span></dt><dd>0.0</dd></dl></div><div class='xr-var-data'><pre>[5869600 values with dtype=float32]</pre></div></li><li class='xr-var-item'><div class='xr-var-name'><span>copol_coeff</span></div><div class='xr-var-dims'>(time, range)</div><div class='xr-var-dtype'>float32</div><div class='xr-var-preview xr-preview'>...</div><input id='attrs-f2f2e341-ef3b-423d-aab4-a26679675fc5' class='xr-var-attrs-in' type='checkbox' ><label for='attrs-f2f2e341-ef3b-423d-aab4-a26679675fc5' title='Show/Hide attributes'><svg class='icon xr-icon-file-text2'><use xlink:href='#icon-file-text2'></use></svg></label><input id='data-a07d1c69-ec89-460b-a441-d492e133cad8' class='xr-var-data-in' type='checkbox'><label for='data-a07d1c69-ec89-460b-a441-d492e133cad8' title='Show/Hide data repr'><svg class='icon xr-icon-database'><use xlink:href='#icon-database'></use></svg></label><div class='xr-var-attrs'><dl class='xr-attrs'><dt><span>units :</span></dt><dd>ratio</dd><dt><span>long_name :</span></dt><dd>cross_correlation_ratio_hv</dd><dt><span>standard_name :</span></dt><dd>cross_correlation_ratio_hv</dd><dt><span>valid_max :</span></dt><dd>1.0</dd><dt><span>valid_min :</span></dt><dd>0.0</dd></dl></div><div class='xr-var-data'><pre>[5869600 values with dtype=float32]</pre></div></li><li class='xr-var-item'><div class='xr-var-name'><span>sweep_start_ray_index</span></div><div class='xr-var-dims'>(sweep)</div><div class='xr-var-dtype'>int32</div><div class='xr-var-preview xr-preview'>...</div><input id='attrs-1d100bf4-d9ce-43ee-9c15-decdffdbfaa7' class='xr-var-attrs-in' type='checkbox' ><label for='attrs-1d100bf4-d9ce-43ee-9c15-decdffdbfaa7' title='Show/Hide attributes'><svg class='icon xr-icon-file-text2'><use xlink:href='#icon-file-text2'></use></svg></label><input id='data-80c1ca41-f17f-4aee-a70e-addbc30fe21f' class='xr-var-data-in' type='checkbox'><label for='data-80c1ca41-f17f-4aee-a70e-addbc30fe21f' title='Show/Hide data repr'><svg class='icon xr-icon-database'><use xlink:href='#icon-database'></use></svg></label><div class='xr-var-attrs'><dl class='xr-attrs'><dt><span>units :</span></dt><dd>count</dd><dt><span>long_name :</span></dt><dd>index of first ray in sweep, 0-based</dd></dl></div><div class='xr-var-data'><pre>array([   0,  400,  800, 1200, 1600, 2000, 2400, 2800, 3200, 3600, 4000, 4400,\n",
       "       4800, 5200, 5600, 6000, 6400, 6800, 7200, 7600, 8000, 8400], dtype=int32)</pre></div></li><li class='xr-var-item'><div class='xr-var-name'><span>sweep_mode</span></div><div class='xr-var-dims'>(sweep)</div><div class='xr-var-dtype'>|S24</div><div class='xr-var-preview xr-preview'>...</div><input id='attrs-743ffa84-451b-4584-90ed-3fed74cd7492' class='xr-var-attrs-in' type='checkbox' ><label for='attrs-743ffa84-451b-4584-90ed-3fed74cd7492' title='Show/Hide attributes'><svg class='icon xr-icon-file-text2'><use xlink:href='#icon-file-text2'></use></svg></label><input id='data-340cfffb-e235-45ab-a3de-e38fe8218dd4' class='xr-var-data-in' type='checkbox'><label for='data-340cfffb-e235-45ab-a3de-e38fe8218dd4' title='Show/Hide data repr'><svg class='icon xr-icon-database'><use xlink:href='#icon-database'></use></svg></label><div class='xr-var-attrs'><dl class='xr-attrs'><dt><span>units :</span></dt><dd>uniteless</dd><dt><span>long_name :</span></dt><dd>sweep_mode</dd><dt><span>comment :</span></dt><dd>Options are:&quot;sector&quot;,&quot;coplane&quot;,rhi&quot;,&quot;vertical_pointing&quot;,&quot;idle&quot;,&quot;azimuth_surveillance&quot;,&quot;elevation_surveillance&quot;,&quot;sunscan&quot;,&quot;pointing&quot;,&quot;manual_ppi&quot;,&quot;manual_rhi&quot;</dd></dl></div><div class='xr-var-data'><pre>array([b&#x27;azimuth_surveillance    &#x27;, b&#x27;azimuth_surveillance    &#x27;,\n",
       "       b&#x27;azimuth_surveillance    &#x27;, b&#x27;azimuth_surveillance    &#x27;,\n",
       "       b&#x27;azimuth_surveillance    &#x27;, b&#x27;azimuth_surveillance    &#x27;,\n",
       "       b&#x27;azimuth_surveillance    &#x27;, b&#x27;azimuth_surveillance    &#x27;,\n",
       "       b&#x27;azimuth_surveillance    &#x27;, b&#x27;azimuth_surveillance    &#x27;,\n",
       "       b&#x27;azimuth_surveillance    &#x27;, b&#x27;azimuth_surveillance    &#x27;,\n",
       "       b&#x27;azimuth_surveillance    &#x27;, b&#x27;azimuth_surveillance    &#x27;,\n",
       "       b&#x27;azimuth_surveillance    &#x27;, b&#x27;azimuth_surveillance    &#x27;,\n",
       "       b&#x27;azimuth_surveillance    &#x27;, b&#x27;azimuth_surveillance    &#x27;,\n",
       "       b&#x27;azimuth_surveillance    &#x27;, b&#x27;azimuth_surveillance    &#x27;,\n",
       "       b&#x27;azimuth_surveillance    &#x27;, b&#x27;azimuth_surveillance    &#x27;], dtype=&#x27;|S24&#x27;)</pre></div></li><li class='xr-var-item'><div class='xr-var-name'><span>sweep_number</span></div><div class='xr-var-dims'>(sweep)</div><div class='xr-var-dtype'>int32</div><div class='xr-var-preview xr-preview'>...</div><input id='attrs-72d73182-bbd6-481d-8d48-32a8aa413846' class='xr-var-attrs-in' type='checkbox' ><label for='attrs-72d73182-bbd6-481d-8d48-32a8aa413846' title='Show/Hide attributes'><svg class='icon xr-icon-file-text2'><use xlink:href='#icon-file-text2'></use></svg></label><input id='data-37142b46-0af3-493f-abf2-8e65677432b2' class='xr-var-data-in' type='checkbox'><label for='data-37142b46-0af3-493f-abf2-8e65677432b2' title='Show/Hide data repr'><svg class='icon xr-icon-database'><use xlink:href='#icon-database'></use></svg></label><div class='xr-var-attrs'><dl class='xr-attrs'><dt><span>units :</span></dt><dd>count</dd><dt><span>long_name :</span></dt><dd>sweep_number</dd></dl></div><div class='xr-var-data'><pre>array([ 0,  1,  2,  3,  4,  5,  6,  7,  8,  9, 10, 11, 12, 13, 14, 15, 16, 17,\n",
       "       18, 19, 20, 21], dtype=int32)</pre></div></li><li class='xr-var-item'><div class='xr-var-name'><span>sweep_end_ray_index</span></div><div class='xr-var-dims'>(sweep)</div><div class='xr-var-dtype'>int32</div><div class='xr-var-preview xr-preview'>...</div><input id='attrs-10c65455-1ae1-476d-8151-5edbde26ec5c' class='xr-var-attrs-in' type='checkbox' ><label for='attrs-10c65455-1ae1-476d-8151-5edbde26ec5c' title='Show/Hide attributes'><svg class='icon xr-icon-file-text2'><use xlink:href='#icon-file-text2'></use></svg></label><input id='data-5a7899fb-383d-452b-a49a-bf0263941420' class='xr-var-data-in' type='checkbox'><label for='data-5a7899fb-383d-452b-a49a-bf0263941420' title='Show/Hide data repr'><svg class='icon xr-icon-database'><use xlink:href='#icon-database'></use></svg></label><div class='xr-var-attrs'><dl class='xr-attrs'><dt><span>units :</span></dt><dd>count</dd><dt><span>long_name :</span></dt><dd>index of last ray in sweep, 0-based</dd></dl></div><div class='xr-var-data'><pre>array([ 399,  799, 1199, 1599, 1999, 2399, 2799, 3199, 3599, 3999, 4399, 4799,\n",
       "       5199, 5599, 5999, 6399, 6799, 7199, 7599, 7999, 8399, 8799], dtype=int32)</pre></div></li><li class='xr-var-item'><div class='xr-var-name'><span>fixed_angle</span></div><div class='xr-var-dims'>(sweep)</div><div class='xr-var-dtype'>float64</div><div class='xr-var-preview xr-preview'>...</div><input id='attrs-f431fcf9-5176-46e2-ad4c-8cc622dd3930' class='xr-var-attrs-in' type='checkbox' ><label for='attrs-f431fcf9-5176-46e2-ad4c-8cc622dd3930' title='Show/Hide attributes'><svg class='icon xr-icon-file-text2'><use xlink:href='#icon-file-text2'></use></svg></label><input id='data-c5785afd-b79d-4b1d-9cfd-29f8fad7deb2' class='xr-var-data-in' type='checkbox'><label for='data-c5785afd-b79d-4b1d-9cfd-29f8fad7deb2' title='Show/Hide data repr'><svg class='icon xr-icon-database'><use xlink:href='#icon-database'></use></svg></label><div class='xr-var-attrs'><dl class='xr-attrs'><dt><span>units :</span></dt><dd>degrees</dd><dt><span>long_name :</span></dt><dd>target_angle_for_sweep</dd><dt><span>standard_name :</span></dt><dd>target_fixed_angle</dd></dl></div><div class='xr-var-data'><pre>array([ 0.5,  1.5,  2.5,  3.5,  4.5,  5.5,  6.5,  7.5,  8.5,  9.5, 10.5, 11.5,\n",
       "       12.5, 14. , 17. , 20. , 25. , 30. , 35. , 40. , 45. , 50. ])</pre></div></li><li class='xr-var-item'><div class='xr-var-name'><span>latitude</span></div><div class='xr-var-dims'>()</div><div class='xr-var-dtype'>float64</div><div class='xr-var-preview xr-preview'>...</div><input id='attrs-9898e4a0-8691-4d02-987e-dabb987963ef' class='xr-var-attrs-in' type='checkbox' ><label for='attrs-9898e4a0-8691-4d02-987e-dabb987963ef' title='Show/Hide attributes'><svg class='icon xr-icon-file-text2'><use xlink:href='#icon-file-text2'></use></svg></label><input id='data-b630a0ba-384b-430b-a4df-ccd6cdc3eb74' class='xr-var-data-in' type='checkbox'><label for='data-b630a0ba-384b-430b-a4df-ccd6cdc3eb74' title='Show/Hide data repr'><svg class='icon xr-icon-database'><use xlink:href='#icon-database'></use></svg></label><div class='xr-var-attrs'><dl class='xr-attrs'><dt><span>units :</span></dt><dd>degrees_north</dd><dt><span>standard_name :</span></dt><dd>Latitude</dd></dl></div><div class='xr-var-data'><pre>array(36.490833)</pre></div></li><li class='xr-var-item'><div class='xr-var-name'><span>altitude</span></div><div class='xr-var-dims'>()</div><div class='xr-var-dtype'>float64</div><div class='xr-var-preview xr-preview'>...</div><input id='attrs-d4ed7026-a1e3-4984-942d-409114ceca84' class='xr-var-attrs-in' type='checkbox' ><label for='attrs-d4ed7026-a1e3-4984-942d-409114ceca84' title='Show/Hide attributes'><svg class='icon xr-icon-file-text2'><use xlink:href='#icon-file-text2'></use></svg></label><input id='data-c50ea75e-cd10-45dc-b78f-10f4a667b58a' class='xr-var-data-in' type='checkbox'><label for='data-c50ea75e-cd10-45dc-b78f-10f4a667b58a' title='Show/Hide data repr'><svg class='icon xr-icon-database'><use xlink:href='#icon-database'></use></svg></label><div class='xr-var-attrs'><dl class='xr-attrs'><dt><span>units :</span></dt><dd>meters</dd><dt><span>standard_name :</span></dt><dd>Altitude</dd></dl></div><div class='xr-var-data'><pre>array(214.)</pre></div></li><li class='xr-var-item'><div class='xr-var-name'><span>longitude</span></div><div class='xr-var-dims'>()</div><div class='xr-var-dtype'>float64</div><div class='xr-var-preview xr-preview'>...</div><input id='attrs-2a1cb38b-2f11-4b85-a27e-71bc9e4ab650' class='xr-var-attrs-in' type='checkbox' ><label for='attrs-2a1cb38b-2f11-4b85-a27e-71bc9e4ab650' title='Show/Hide attributes'><svg class='icon xr-icon-file-text2'><use xlink:href='#icon-file-text2'></use></svg></label><input id='data-b867b5c7-f396-4c73-b356-57f8ee4bef23' class='xr-var-data-in' type='checkbox'><label for='data-b867b5c7-f396-4c73-b356-57f8ee4bef23' title='Show/Hide data repr'><svg class='icon xr-icon-database'><use xlink:href='#icon-database'></use></svg></label><div class='xr-var-attrs'><dl class='xr-attrs'><dt><span>units :</span></dt><dd>degrees_east</dd><dt><span>standard_name :</span></dt><dd>Longitude</dd></dl></div><div class='xr-var-data'><pre>array(-97.594167)</pre></div></li></ul></div></li><li class='xr-section-item'><input id='section-f015dcae-bede-42f2-9f10-59df3e1494a1' class='xr-section-summary-in' type='checkbox'  checked><label for='section-f015dcae-bede-42f2-9f10-59df3e1494a1' class='xr-section-summary' >Attributes: <span>(8)</span></label><div class='xr-section-inline-details'></div><div class='xr-section-details'><dl class='xr-attrs'><dt><span>project :</span></dt><dd></dd><dt><span>country :</span></dt><dd></dd><dt><span>state :</span></dt><dd></dd><dt><span>instrument_name :</span></dt><dd>xsapr-sg</dd><dt><span>original_container :</span></dt><dd>rsl</dd><dt><span>platform_is_mobile :</span></dt><dd>False</dd><dt><span>history :</span></dt><dd>created by user scollis on evs346820 at 13-Nov-2012,18:37:47 using -c</dd><dt><span>conventions :</span></dt><dd>CF/Radial</dd></dl></div></li></ul></div></div>"
      ],
      "text/plain": [
       "<xarray.Dataset>\n",
       "Dimensions:                            (range: 667, sweep: 22, time: 8800)\n",
       "Coordinates:\n",
       "  * time                               (time) datetime64[ns] 2011-05-20T06:42...\n",
       "  * range                              (range) float64 0.0 60.0 ... 3.996e+04\n",
       "Dimensions without coordinates: sweep\n",
       "Data variables:\n",
       "    azimuth                            (time) float64 ...\n",
       "    elevation                          (time) float64 ...\n",
       "    corrected_reflectivity_horizontal  (time, range) float32 ...\n",
       "    reflectivity_horizontal            (time, range) float32 ...\n",
       "    recalculated_diff_phase            (time, range) float32 ...\n",
       "    specific_attenuation               (time, range) float32 ...\n",
       "    unf_dp_phase_shift                 (time, range) float32 ...\n",
       "    mean_doppler_velocity              (time, range) float32 ...\n",
       "    diff_phase                         (time, range) float32 ...\n",
       "    rain_rate_A                        (time, range) float32 ...\n",
       "    norm_coherent_power                (time, range) float32 ...\n",
       "    dp_phase_shift                     (time, range) float32 ...\n",
       "    diff_reflectivity                  (time, range) float32 ...\n",
       "    proc_dp_phase_shift                (time, range) float32 ...\n",
       "    copol_coeff                        (time, range) float32 ...\n",
       "    sweep_start_ray_index              (sweep) int32 ...\n",
       "    sweep_mode                         (sweep) |S24 ...\n",
       "    sweep_number                       (sweep) int32 ...\n",
       "    sweep_end_ray_index                (sweep) int32 ...\n",
       "    fixed_angle                        (sweep) float64 ...\n",
       "    latitude                           float64 ...\n",
       "    altitude                           float64 ...\n",
       "    longitude                          float64 ...\n",
       "Attributes:\n",
       "    project:             \n",
       "    country:             \n",
       "    state:               \n",
       "    instrument_name:     xsapr-sg\n",
       "    original_container:  rsl\n",
       "    platform_is_mobile:  False\n",
       "    history:             created by user scollis on evs346820 at 13-Nov-2012,...\n",
       "    conventions:         CF/Radial"
      ]
     },
     "execution_count": 10,
     "metadata": {},
     "output_type": "execute_result"
    }
   ],
   "source": [
    "dsxr"
   ]
  },
  {
   "cell_type": "code",
   "execution_count": null,
   "id": "3a747a6a-56f6-4609-bde9-21b3331690c4",
   "metadata": {},
   "outputs": [],
   "source": []
  },
  {
   "cell_type": "code",
   "execution_count": null,
   "id": "8eae8656-7097-4ccc-8d51-ed43a159fe92",
   "metadata": {},
   "outputs": [],
   "source": []
  },
  {
   "cell_type": "code",
   "execution_count": 3,
   "id": "7291d711-cd0e-484b-8396-58e1d10c40bc",
   "metadata": {},
   "outputs": [
    {
     "data": {
      "text/plain": [
       "array([10, 10, 10])"
      ]
     },
     "execution_count": 3,
     "metadata": {},
     "output_type": "execute_result"
    }
   ],
   "source": [
    "ds.domain_dimensions"
   ]
  },
  {
   "cell_type": "code",
   "execution_count": 4,
   "id": "3a2b08f8-0ef5-423f-814d-a9210a57daa9",
   "metadata": {},
   "outputs": [
    {
     "name": "stderr",
     "output_type": "stream",
     "text": [
      "yt : [INFO     ] 2022-06-08 11:45:00,553 Building cfradial grid\n",
      "yt : [INFO     ] 2022-06-08 11:45:01,513 grid_limit_z not provided, using max height range in data: (0.000000, 30625.140820)\n",
      "yt : [INFO     ] 2022-06-08 11:45:01,513 grid_limit_x not provided, using max horizontal range in data: (-25669.093279, 25669.093279)\n",
      "yt : [INFO     ] 2022-06-08 11:45:01,514 grid_limit_y not provided, using max horizontal range in data: (-25669.093279, 25669.093279)\n",
      "yt : [INFO     ] 2022-06-08 11:45:01,514 to override default grid values, use any of the following parameters: grid_limit_x, grid_limit_y, grid_limit_z, grid_shape with yt.load(cf_radial_file, ...)\n",
      "yt : [INFO     ] 2022-06-08 11:45:01,514 Calling pyart.map.grid_from_radars ... \n",
      "yt : [INFO     ] 2022-06-08 11:45:03,274 Successfully built cfradial grid, writing to /home/chavlin/hdd/data/yt_data/yt_sample_sets/CfRadialGrid/swx_20120520_0641_yt_grid.nc\n",
      "yt : [INFO     ] 2022-06-08 11:45:03,274 Subsequent loads of /home/chavlin/hdd/data/yt_data/yt_sample_sets/CfRadialGrid/swx_20120520_0641.nc will load the gridded file by default\n",
      "yt : [INFO     ] 2022-06-08 11:45:03,369 Parameters: current_time              = 1.305873731e+18\n",
      "yt : [INFO     ] 2022-06-08 11:45:03,370 Parameters: domain_dimensions         = [10 10 10]\n",
      "yt : [INFO     ] 2022-06-08 11:45:03,370 Parameters: domain_left_edge          = [-25669.09327873 -25669.09327873      0.        ]\n",
      "yt : [INFO     ] 2022-06-08 11:45:03,371 Parameters: domain_right_edge         = [25669.09327873 25669.09327873 30625.14082005]\n",
      "yt : [INFO     ] 2022-06-08 11:45:03,372 Parameters: cosmological_simulation   = 0\n"
     ]
    },
    {
     "name": "stdout",
     "output_type": "stream",
     "text": [
      "CPU times: user 2.67 s, sys: 204 ms, total: 2.87 s\n",
      "Wall time: 2.87 s\n"
     ]
    }
   ],
   "source": [
    "%%time\n",
    "ds = yt.load(cf_nongridded, grid_shape=(15, 15, 15), storage_overwrite=True)"
   ]
  },
  {
   "cell_type": "code",
   "execution_count": 5,
   "id": "4b133ceb-90f9-4373-9359-16bbf16a052e",
   "metadata": {},
   "outputs": [
    {
     "data": {
      "text/plain": [
       "array([10, 10, 10])"
      ]
     },
     "execution_count": 5,
     "metadata": {},
     "output_type": "execute_result"
    }
   ],
   "source": [
    "ds.domain_dimensions"
   ]
  },
  {
   "cell_type": "code",
   "execution_count": 6,
   "id": "2f2fb8a6-6904-4a6a-befe-80b8d52fd833",
   "metadata": {},
   "outputs": [
    {
     "data": {
      "text/plain": [
       "[('cf_radial', 'ROI'),\n",
       " ('cf_radial', 'copol_coeff'),\n",
       " ('cf_radial', 'corrected_reflectivity_horizontal'),\n",
       " ('cf_radial', 'diff_phase'),\n",
       " ('cf_radial', 'diff_reflectivity'),\n",
       " ('cf_radial', 'dp_phase_shift'),\n",
       " ('cf_radial', 'mean_doppler_velocity'),\n",
       " ('cf_radial', 'norm_coherent_power'),\n",
       " ('cf_radial', 'proc_dp_phase_shift'),\n",
       " ('cf_radial', 'rain_rate_A'),\n",
       " ('cf_radial', 'recalculated_diff_phase'),\n",
       " ('cf_radial', 'reflectivity_horizontal'),\n",
       " ('cf_radial', 'specific_attenuation'),\n",
       " ('cf_radial', 'unf_dp_phase_shift')]"
      ]
     },
     "execution_count": 6,
     "metadata": {},
     "output_type": "execute_result"
    }
   ],
   "source": [
    "ds.field_list"
   ]
  },
  {
   "cell_type": "code",
   "execution_count": 9,
   "id": "84525400-a97e-4bd6-9d36-bdfa352b9a34",
   "metadata": {},
   "outputs": [],
   "source": [
    "ad = ds.all_data()"
   ]
  },
  {
   "cell_type": "code",
   "execution_count": 13,
   "id": "3e309f00-c561-42fd-aaba-75d8d7bf895f",
   "metadata": {},
   "outputs": [
    {
     "data": {
      "text/plain": [
       "unyt_quantity(23102.18395086, 'm')"
      ]
     },
     "execution_count": 13,
     "metadata": {},
     "output_type": "execute_result"
    }
   ],
   "source": [
    "ad[(\"index\",\"x\")].max().to('m')"
   ]
  },
  {
   "cell_type": "code",
   "execution_count": 15,
   "id": "0230f4ed-1949-4193-aa2b-9a671510df97",
   "metadata": {},
   "outputs": [],
   "source": [
    "ad.coords"
   ]
  },
  {
   "cell_type": "code",
   "execution_count": null,
   "id": "c5f206ba-b3c4-45e7-af6b-f54939246383",
   "metadata": {},
   "outputs": [],
   "source": []
  },
  {
   "cell_type": "code",
   "execution_count": null,
   "id": "8462a5d9-5a57-4bc2-8336-2997dac92ebd",
   "metadata": {},
   "outputs": [],
   "source": []
  },
  {
   "cell_type": "code",
   "execution_count": 4,
   "id": "1e80a2a1-0398-4b5f-8f3c-cee8575d2b09",
   "metadata": {},
   "outputs": [
    {
     "name": "stderr",
     "output_type": "stream",
     "text": [
      "yt : [WARNING  ] 2022-06-08 11:00:47,908 Ignoring provided grid parameters because /home/chavlin/hdd/data/yt_data/yt_sample_sets/CfRadialGrid/swx_20120520_0641_yt_grid.nc exists.\n",
      "yt : [WARNING  ] 2022-06-08 11:00:47,908 To re-grid, either provide a unique storage_filename or set storage_overwrite to True to overwrite /home/chavlin/hdd/data/yt_data/yt_sample_sets/CfRadialGrid/swx_20120520_0641_yt_grid.nc.\n",
      "yt : [INFO     ] 2022-06-08 11:00:47,974 Parameters: current_time              = 1.305873731e+18\n",
      "yt : [INFO     ] 2022-06-08 11:00:47,974 Parameters: domain_dimensions         = [100 100 100]\n",
      "yt : [INFO     ] 2022-06-08 11:00:47,975 Parameters: domain_left_edge          = [-25669.09327873 -25669.09327873      0.        ]\n",
      "yt : [INFO     ] 2022-06-08 11:00:47,976 Parameters: domain_right_edge         = [25669.09327873 25669.09327873 30625.14082005]\n",
      "yt : [INFO     ] 2022-06-08 11:00:47,976 Parameters: cosmological_simulation   = 0\n"
     ]
    }
   ],
   "source": [
    "ds = yt.load(cf_nongridded, grid_shape=(200, 200, 200))"
   ]
  },
  {
   "cell_type": "code",
   "execution_count": 10,
   "id": "6856d21f-b107-46c8-9966-e093590a3526",
   "metadata": {},
   "outputs": [],
   "source": [
    "z,y,x = ds.domain_width.to(\"m\").value"
   ]
  },
  {
   "cell_type": "code",
   "execution_count": 14,
   "id": "98514ff1-e77f-4803-ad23-3e5ab5c5326e",
   "metadata": {},
   "outputs": [
    {
     "data": {
      "application/vnd.jupyter.widget-view+json": {
       "model_id": "f86d51af96094a939f5e19d8a6a27d59",
       "version_major": 2,
       "version_minor": 0
      },
      "text/plain": [
       "HBox(children=(Text(value='-25669.093278734385', disabled=True), Text(value='-25669.093278734385', disabled=Tr…"
      ]
     },
     "metadata": {},
     "output_type": "display_data"
    }
   ],
   "source": [
    "ds.domain_left_edge"
   ]
  },
  {
   "cell_type": "code",
   "execution_count": 15,
   "id": "d306718f-ff9b-44ee-a133-e4471f39fb98",
   "metadata": {},
   "outputs": [
    {
     "data": {
      "application/vnd.jupyter.widget-view+json": {
       "model_id": "129e65771b50469a997d0b2bcf9b8fca",
       "version_major": 2,
       "version_minor": 0
      },
      "text/plain": [
       "HBox(children=(Text(value='25669.093278734385', disabled=True), Text(value='25669.093278734385', disabled=True…"
      ]
     },
     "metadata": {},
     "output_type": "display_data"
    }
   ],
   "source": [
    "ds.domain_right_edge"
   ]
  },
  {
   "cell_type": "code",
   "execution_count": 16,
   "id": "667d9601-b2b8-43e7-a2d9-32fa156bad19",
   "metadata": {},
   "outputs": [
    {
     "data": {
      "text/plain": [
       "51338.18655746877"
      ]
     },
     "execution_count": 16,
     "metadata": {},
     "output_type": "execute_result"
    }
   ],
   "source": [
    "z"
   ]
  },
  {
   "cell_type": "code",
   "execution_count": 17,
   "id": "b56195a1-2e99-4c6f-831b-0b9ce1bbe666",
   "metadata": {},
   "outputs": [
    {
     "data": {
      "text/plain": [
       "51338.18655746877"
      ]
     },
     "execution_count": 17,
     "metadata": {},
     "output_type": "execute_result"
    }
   ],
   "source": [
    "y"
   ]
  },
  {
   "cell_type": "code",
   "execution_count": 18,
   "id": "3da0356c-051e-449c-b5c5-9ab4f67d7fd9",
   "metadata": {},
   "outputs": [
    {
     "data": {
      "text/plain": [
       "30625.140820045766"
      ]
     },
     "execution_count": 18,
     "metadata": {},
     "output_type": "execute_result"
    }
   ],
   "source": [
    "x"
   ]
  },
  {
   "cell_type": "code",
   "execution_count": null,
   "id": "af8e5aab-5e23-4e6b-9365-7ce6d884b83b",
   "metadata": {},
   "outputs": [],
   "source": [
    "from yt.testing import re"
   ]
  },
  {
   "cell_type": "code",
   "execution_count": null,
   "id": "6979f6ea-203b-44b6-8bab-c9d0056742e5",
   "metadata": {},
   "outputs": [],
   "source": []
  },
  {
   "cell_type": "code",
   "execution_count": null,
   "id": "68b4ad52-7110-4b7d-aad3-b35e65757404",
   "metadata": {},
   "outputs": [],
   "source": []
  },
  {
   "cell_type": "code",
   "execution_count": null,
   "id": "4c7dfbf1-59b4-4f02-b55c-2cb9268be09a",
   "metadata": {},
   "outputs": [],
   "source": []
  },
  {
   "cell_type": "code",
   "execution_count": null,
   "id": "f45124cb-4ef7-4783-b8c9-07b5a4ecb088",
   "metadata": {},
   "outputs": [],
   "source": []
  },
  {
   "cell_type": "code",
   "execution_count": null,
   "id": "b17d560c-9fb8-4c20-9646-22570869c113",
   "metadata": {},
   "outputs": [],
   "source": []
  },
  {
   "cell_type": "code",
   "execution_count": null,
   "id": "90946e6a-1489-4f7d-a6e8-f3ac7b48a691",
   "metadata": {},
   "outputs": [],
   "source": []
  },
  {
   "cell_type": "code",
   "execution_count": 27,
   "id": "c949440b-cc24-4d46-ae29-bf477fe6e620",
   "metadata": {},
   "outputs": [
    {
     "data": {
      "text/plain": [
       "{'units': 'meters',\n",
       " 'standard_name': 'Altitude',\n",
       " 'data': masked_array(data=[214.],\n",
       "              mask=False,\n",
       "        fill_value=1e+20)}"
      ]
     },
     "execution_count": 27,
     "metadata": {},
     "output_type": "execute_result"
    }
   ],
   "source": [
    "import pyart\n",
    "ds_pyart = pyart.io.read_cfradial(\"/home/chavlin/hdd/data/yt_data/yt_sample_sets/CfRadialGrid/swx_20120520_0641.nc\")\n",
    "ds_pyart.altitude"
   ]
  },
  {
   "cell_type": "code",
   "execution_count": 30,
   "id": "419f8486-66e3-4bf7-8b99-5ff0d5845d5e",
   "metadata": {},
   "outputs": [
    {
     "data": {
      "text/plain": [
       "214.0"
      ]
     },
     "execution_count": 30,
     "metadata": {},
     "output_type": "execute_result"
    }
   ],
   "source": [
    "ds_pyart.gate_altitude['data'].min()"
   ]
  },
  {
   "cell_type": "code",
   "execution_count": 31,
   "id": "bda91d75-19ad-4f86-9985-22b0ea443b7a",
   "metadata": {},
   "outputs": [
    {
     "data": {
      "text/plain": [
       "30877.784708799794"
      ]
     },
     "execution_count": 31,
     "metadata": {},
     "output_type": "execute_result"
    }
   ],
   "source": [
    "ds_pyart.gate_altitude['data'].max()"
   ]
  },
  {
   "cell_type": "code",
   "execution_count": 32,
   "id": "36ff9d09-20b8-444a-8a93-22d43deafb7c",
   "metadata": {},
   "outputs": [
    {
     "data": {
      "text/plain": [
       "'meters'"
      ]
     },
     "execution_count": 32,
     "metadata": {},
     "output_type": "execute_result"
    }
   ],
   "source": [
    "ds_pyart.gate_altitude['units']"
   ]
  },
  {
   "cell_type": "code",
   "execution_count": 36,
   "id": "29139210-79f3-4704-9d1b-533bb575aaaf",
   "metadata": {},
   "outputs": [],
   "source": [
    "import unyt\n",
    "vals = (10123.21, 123030.452)\n",
    "unit_str = \"m\""
   ]
  },
  {
   "cell_type": "code",
   "execution_count": 53,
   "id": "0f2e6e38-3d62-477f-bdc5-855a8b5eb7c2",
   "metadata": {},
   "outputs": [
    {
     "data": {
      "text/plain": [
       "(10000.0, 130000.0)"
      ]
     },
     "execution_count": 53,
     "metadata": {},
     "output_type": "execute_result"
    }
   ],
   "source": [
    "\n",
    "\n",
    "limits = unyt.unyt_array(vals, unit_str).to(\"km\")\n",
    "limits[0] = (np.floor(limits[0] / 10) * 10)\n",
    "limits[1] = (np.ceil(limits[1] / 10) * 10)\n",
    "tuple(limits.to(unit_str).tolist())"
   ]
  },
  {
   "cell_type": "code",
   "execution_count": 38,
   "id": "dc0019c5-e1ee-4876-b515-742e6e79799e",
   "metadata": {},
   "outputs": [],
   "source": [
    "import numpy as np\n"
   ]
  },
  {
   "cell_type": "code",
   "execution_count": 48,
   "id": "dc355d06-6407-46fb-bcbd-643a1ee2fa21",
   "metadata": {},
   "outputs": [
    {
     "data": {
      "text/plain": [
       "unyt_array([ 20000., 130000.], 'm')"
      ]
     },
     "execution_count": 48,
     "metadata": {},
     "output_type": "execute_result"
    }
   ],
   "source": [
    "        limits[0] = (np.floor(limits / 10) * 10)\n",
    "        limits[1] = (np.ceil(limits / 10) * 10)  "
   ]
  },
  {
   "cell_type": "code",
   "execution_count": 51,
   "id": "7d05c7dc-3376-4ab6-8145-6899e14fc8d6",
   "metadata": {},
   "outputs": [
    {
     "data": {
      "text/plain": [
       "[20000.0, 130000.0]"
      ]
     },
     "execution_count": 51,
     "metadata": {},
     "output_type": "execute_result"
    }
   ],
   "source": []
  },
  {
   "cell_type": "code",
   "execution_count": null,
   "id": "2f373707-e641-418a-b14d-e28829e4067c",
   "metadata": {},
   "outputs": [],
   "source": []
  }
 ],
 "metadata": {
  "kernelspec": {
   "display_name": "Python 3 (ipykernel)",
   "language": "python",
   "name": "python3"
  },
  "language_info": {
   "codemirror_mode": {
    "name": "ipython",
    "version": 3
   },
   "file_extension": ".py",
   "mimetype": "text/x-python",
   "name": "python",
   "nbconvert_exporter": "python",
   "pygments_lexer": "ipython3",
   "version": "3.10.6"
  }
 },
 "nbformat": 4,
 "nbformat_minor": 5
}
