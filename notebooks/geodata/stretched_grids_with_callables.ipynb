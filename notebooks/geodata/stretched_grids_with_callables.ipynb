{
 "cells": [
  {
   "cell_type": "code",
   "execution_count": 1,
   "id": "b6773a25-dd07-4a28-9417-c8c1221bc390",
   "metadata": {},
   "outputs": [],
   "source": [
    "import xarray as xr\n",
    "import yt\n",
    "import os\n",
    "import numpy as np\n",
    "import cartopy.feature as cfeature\n",
    "import cartopy.crs as ccrs\n",
    "\n",
    "ddir = os.path.join(yt.config.ytcfg.get('yt','test_data_dir'), 'sample_nc')\n",
    "      \n",
    "\n",
    "# https://ds.iris.edu/files/products/emc/emc-files/GYPSUM_percent.nc : a global model\n",
    "# https://ds.iris.edu/files/products/emc/emc-files/wUS-SH-2010_percent.nc : a non-global model covering the western US\n",
    "\n",
    "\n",
    "datasets = {\n",
    "    \"internal_geographic_partial\": os.path.join(ddir,'wUS-SH-2010_percent.nc'), \n",
    "    \"internal_geographic_global\": os.path.join(ddir,'GYPSUM_percent.nc'), \n",
    "}\n"
   ]
  },
  {
   "cell_type": "code",
   "execution_count": null,
   "id": "d8f2b261-0dc3-4293-b3db-e4021ea6aea5",
   "metadata": {},
   "outputs": [],
   "source": []
  }
 ],
 "metadata": {
  "kernelspec": {
   "display_name": "Python 3 (ipykernel)",
   "language": "python",
   "name": "python3"
  },
  "language_info": {
   "codemirror_mode": {
    "name": "ipython",
    "version": 3
   },
   "file_extension": ".py",
   "mimetype": "text/x-python",
   "name": "python",
   "nbconvert_exporter": "python",
   "pygments_lexer": "ipython3",
   "version": "3.9.10"
  }
 },
 "nbformat": 4,
 "nbformat_minor": 5
}
