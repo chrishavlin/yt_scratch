{
 "cells": [
  {
   "cell_type": "markdown",
   "id": "ac6ba05d-be09-4b3b-ac63-454d32e4bf39",
   "metadata": {},
   "source": [
    "cartesian slices of spherical dataset via custom fields and cut regions?"
   ]
  },
  {
   "cell_type": "code",
   "execution_count": 2,
   "id": "7a633ca2-0537-49cd-955f-af4c878837c9",
   "metadata": {},
   "outputs": [],
   "source": [
    "import yt\n",
    "import numpy as np \n",
    "from yt.testing import fake_amr_ds"
   ]
  },
  {
   "cell_type": "code",
   "execution_count": 4,
   "id": "350c3e89-342f-4e02-8073-c32fa009049e",
   "metadata": {},
   "outputs": [
    {
     "name": "stderr",
     "output_type": "stream",
     "text": [
      "yt : [INFO     ] 2023-11-27 09:39:14,844 Parameters: current_time              = 0.0\n",
      "yt : [INFO     ] 2023-11-27 09:39:14,845 Parameters: domain_dimensions         = [32 32 32]\n",
      "yt : [INFO     ] 2023-11-27 09:39:14,845 Parameters: domain_left_edge          = [0. 0. 0.]\n",
      "yt : [INFO     ] 2023-11-27 09:39:14,846 Parameters: domain_right_edge         = [1.         3.14159265 6.28318531]\n",
      "yt : [INFO     ] 2023-11-27 09:39:14,847 Parameters: cosmological_simulation   = 0\n"
     ]
    }
   ],
   "source": [
    "ds = fake_amr_ds(geometry='spherical')"
   ]
  },
  {
   "cell_type": "markdown",
   "id": "a12e4d91-d232-484b-b453-22699085b118",
   "metadata": {},
   "source": [
    "define a plane in cartesian coordinates:\n",
    "\n",
    "use 2 points on the surface and the sphere center to define 2 vectors.\n",
    "\n",
    "Define points in spherical coordinates (r, theta, phi):"
   ]
  },
  {
   "cell_type": "code",
   "execution_count": 13,
   "id": "68e169aa-7bbd-4972-9645-3bbbe3813ab0",
   "metadata": {},
   "outputs": [],
   "source": [
    "pt1 = (1.0, 20. * np.pi/180, 45. * np.pi/180)\n",
    "pt2 = (1.0, 35. * np.pi/180, 75. * np.pi/180)\n",
    "pt3 = (0., 0., 0.)"
   ]
  },
  {
   "cell_type": "code",
   "execution_count": 14,
   "id": "ee010ee7-574b-4415-ba7f-b63796caed12",
   "metadata": {},
   "outputs": [],
   "source": [
    "def to_cartesian(r, theta, phi):\n",
    "    z = r * np.cos(theta)\n",
    "    xy = r * np.sin(theta)\n",
    "    x = xy * np.cos(phi)\n",
    "    y = xy * np.sin(phi)\n",
    "    return x, y, z\n",
    "\n",
    "pt3_xyz = np.array(to_cartesian(*pt3))"
   ]
  },
  {
   "cell_type": "code",
   "execution_count": 19,
   "id": "1291eb82-af53-410c-afde-026da4af88c4",
   "metadata": {},
   "outputs": [],
   "source": [
    "def _dist_from_plane(field, data):\n",
    "    # always recalculate the cartesian plane in case\n",
    "    # points have changed\n",
    "    pt1_xyz = np.array(to_cartesian(*pt1))\n",
    "    pt2_xyz = np.array(to_cartesian(*pt2))\n",
    "    vec1 = pt1_xyz - pt3_xyz\n",
    "    vec2 = pt2_xyz - pt3_xyz\n",
    "    normal_vec = np.cross(vec1, vec2)\n",
    "    vec_mag = np.sqrt(np.sum(normal_vec ** 2))\n",
    "    normal_vec = normal_vec / vec_mag\n",
    "    \n",
    "    # get cartesian points of each data point\n",
    "    r = data['index', 'r'].to('code_length').d\n",
    "    theta = data['index', 'theta'].d\n",
    "    phi = data['index', 'phi'].d\n",
    "    x, y, z = to_cartesian(r, theta, phi)\n",
    "    \n",
    "    # vector from each point to point on plane\n",
    "    dist_vec = (x - pt1_xyz[0], y - pt1_xyz[1], z - pt1_xyz[2])\n",
    "    \n",
    "    # distance to plane for each point \n",
    "    dist = np.zeros(x.shape)\n",
    "    for idim in range(3):\n",
    "        dist += dist_vec[idim] * normal_vec[idim]\n",
    "    dist = np.abs(dist) \n",
    "    return data.ds.arr(dist, 'code_length')"
   ]
  },
  {
   "cell_type": "code",
   "execution_count": 20,
   "id": "fa5f7f03-7aaf-47e8-80b9-9d07045fb0fa",
   "metadata": {},
   "outputs": [],
   "source": [
    "ds.add_field(\n",
    "    name=(\"index\", \"dist_from_plane\"),\n",
    "    function=_dist_from_plane,\n",
    "    sampling_type=\"local\",\n",
    "    units=\"code_length\",\n",
    "    force_override=True,\n",
    ")"
   ]
  },
  {
   "cell_type": "code",
   "execution_count": 22,
   "id": "5ac3741a-6a03-49ad-beb2-cd28804f663c",
   "metadata": {},
   "outputs": [],
   "source": [
    "cr = ds.cut_region(ds.all_data(), [\"obj[('index', 'dist_from_plane')] < 0.01\"])"
   ]
  },
  {
   "cell_type": "code",
   "execution_count": 26,
   "id": "142be160-5ba2-4145-8f21-7d8fda59d761",
   "metadata": {},
   "outputs": [
    {
     "data": {
      "text/plain": [
       "(3803,)"
      ]
     },
     "execution_count": 26,
     "metadata": {},
     "output_type": "execute_result"
    }
   ],
   "source": [
    "d = cr[('stream', 'Density')]"
   ]
  },
  {
   "cell_type": "markdown",
   "id": "4305110c-7ae6-4240-91a0-7af412a2e3f9",
   "metadata": {},
   "source": [
    "now need to arrange"
   ]
  },
  {
   "cell_type": "code",
   "execution_count": null,
   "id": "097b2809-9ef6-4d20-a431-854ee1a455ee",
   "metadata": {},
   "outputs": [],
   "source": []
  }
 ],
 "metadata": {
  "kernelspec": {
   "display_name": "Python 3 (ipykernel)",
   "language": "python",
   "name": "python3"
  },
  "language_info": {
   "codemirror_mode": {
    "name": "ipython",
    "version": 3
   },
   "file_extension": ".py",
   "mimetype": "text/x-python",
   "name": "python",
   "nbconvert_exporter": "python",
   "pygments_lexer": "ipython3",
   "version": "3.9.12"
  }
 },
 "nbformat": 4,
 "nbformat_minor": 5
}
