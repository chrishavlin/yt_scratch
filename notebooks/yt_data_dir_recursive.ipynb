{
 "cells": [
  {
   "cell_type": "markdown",
   "id": "6df09915-39a4-4b8b-bcd8-954ffdabeef8",
   "metadata": {},
   "source": [
    "# recursive directory object..."
   ]
  },
  {
   "cell_type": "code",
   "execution_count": 1,
   "id": "4f794e03-a5fc-4b19-a318-3ada542eb4c1",
   "metadata": {},
   "outputs": [],
   "source": [
    "import os\n",
    "import yt \n",
    "\n",
    "def make_filename_safe(fname):\n",
    "    safename = fname.replace(\".\", \"_\").replace(\"-\", \"_\")    \n",
    "    if safename[0].isnumeric():\n",
    "        safename = \"_\" + safename\n",
    "    return safename\n",
    "\n",
    "class FileLikeHelper:\n",
    "    def __init__(self, pathlike):\n",
    "        # print(\"setting fullpath\")\n",
    "        self._fullpath = os.path.abspath(pathlike)\n",
    "        bname = os.path.basename(self._fullpath)\n",
    "        base, ext = os.path.splitext(bname)\n",
    "        \n",
    "        self._name = os.path.basename(str(self._fullpath))\n",
    "        self._safe_name = make_filename_safe(self._name)\n",
    "        \n",
    "    def __str__(self):\n",
    "        return str(self._fullpath)\n",
    "    \n",
    "    def __repr__(self):\n",
    "        return self._fullpath    \n",
    "\n",
    "class FileInfo(FileLikeHelper):\n",
    "\n",
    "    @property\n",
    "    def filepath(self):\n",
    "        return self._fullpath\n",
    "\n",
    "class DirectoryInfo(FileLikeHelper):\n",
    "    def __init__(self, pathlike, top_path, max_recursion_level = 10):   \n",
    "        # print(\"hello\")\n",
    "        super().__init__(pathlike)\n",
    "        new_depth = True    \n",
    "        self.___files = []\n",
    "        self.___directories = []\n",
    "        for file_or_dir in os.listdir(self._fullpath):  \n",
    "            \n",
    "            fullfidir = os.path.join(self._fullpath, file_or_dir)\n",
    "            if os.path.isfile(fullfidir):\n",
    "                # print(f\"adding {fullfidir} as file\")\n",
    "                newfile = FileInfo(fullfidir)\n",
    "                setattr(self, newfile._safe_name, newfile)\n",
    "                self.___files.append(file_or_dir)\n",
    "            elif os.path.isdir(fullfidir):          \n",
    "                # print(f\"adding {fullfidir} as dir\")\n",
    "                new_dir_path = os.path.join(self._fullpath, fullfidir)\n",
    "                rel_to_top = os.path.relpath(os.path.abspath(top_path), new_dir_path)\n",
    "                self.___directories.append(file_or_dir)\n",
    "                dist_to_top = len(rel_to_top.split(os.path.pathsep))\n",
    "                if dist_to_top <= max_recursion_level:    \n",
    "                    newdir = DirectoryInfo(new_dir_path, top_path, max_recursion_level=max_recursion_level)\n",
    "                    setattr(self, newdir._safe_name, newdir)\n",
    "        self.___files.sort()\n",
    "        self.___directories.sort()\n",
    "        \n",
    "    def __repr__(self):\n",
    "        finfi = f\"Directory: {self._fullpath}\\n\\n\"\n",
    "        finfi = finfi + \"Files:\\n\"\n",
    "        for fi in self.___files:\n",
    "            finfi += f\"{fi}\\n\"\n",
    "        finfi+=\"\\nSubdirectories:\\n\"\n",
    "            \n",
    "        for thisdir in self.___directories:\n",
    "            finfi += f\"{thisdir}\\n\"\n",
    "        \n",
    "        return finfi \n",
    "    \n",
    "def walk_directory(starting_directory, max_levels=10):    \n",
    "    return DirectoryInfo(starting_directory, starting_directory, max_recursion_level=max_levels)\n",
    "\n",
    "def walk_yt_data_directory(max_levels=30):    \n",
    "    return walk_directory(yt.config.ytcfg.get('yt','test_data_dir'), max_levels=max_levels)"
   ]
  },
  {
   "cell_type": "code",
   "execution_count": 2,
   "id": "23a27616-29fb-4c0a-82a1-df6978926a07",
   "metadata": {},
   "outputs": [],
   "source": [
    "ytData = walk_yt_data_directory()"
   ]
  },
  {
   "cell_type": "code",
   "execution_count": 4,
   "id": "885eb777-d4e2-4785-a17f-ef4275ebf50e",
   "metadata": {},
   "outputs": [
    {
     "data": {
      "text/plain": [
       "/home/chavlin/hdd/data/yt_data/yt_sample_sets/enzo_cosmology_plus/DD0000/DD0000"
      ]
     },
     "execution_count": 4,
     "metadata": {},
     "output_type": "execute_result"
    }
   ],
   "source": [
    "ytData.enzo_cosmology_plus.DD0000.DD0000"
   ]
  },
  {
   "cell_type": "code",
   "execution_count": 5,
   "id": "6c1b3c79-262e-4d76-8c8c-8fbc1976a73c",
   "metadata": {},
   "outputs": [
    {
     "name": "stderr",
     "output_type": "stream",
     "text": [
      "yt : [INFO     ] 2023-03-23 16:30:23,826 Parameters: current_time              = 0.81651036015641\n",
      "yt : [INFO     ] 2023-03-23 16:30:23,826 Parameters: domain_dimensions         = [32 32 32]\n",
      "yt : [INFO     ] 2023-03-23 16:30:23,827 Parameters: domain_left_edge          = [0. 0. 0.]\n",
      "yt : [INFO     ] 2023-03-23 16:30:23,828 Parameters: domain_right_edge         = [1. 1. 1.]\n",
      "yt : [INFO     ] 2023-03-23 16:30:23,828 Parameters: cosmological_simulation   = 1\n",
      "yt : [INFO     ] 2023-03-23 16:30:23,828 Parameters: current_redshift          = 50\n",
      "yt : [INFO     ] 2023-03-23 16:30:23,829 Parameters: omega_lambda              = 0.732\n",
      "yt : [INFO     ] 2023-03-23 16:30:23,829 Parameters: omega_matter              = 0.268\n",
      "yt : [INFO     ] 2023-03-23 16:30:23,829 Parameters: omega_radiation           = 0.0\n",
      "yt : [INFO     ] 2023-03-23 16:30:23,830 Parameters: hubble_constant           = 0.704\n"
     ]
    }
   ],
   "source": [
    "ds = yt.load(ytData.enzo_cosmology_plus.DD0000.DD0000.filepath)"
   ]
  },
  {
   "cell_type": "code",
   "execution_count": null,
   "id": "5cc10166-e5b4-47c8-8f0f-2e4b3ba54a0e",
   "metadata": {},
   "outputs": [],
   "source": []
  }
 ],
 "metadata": {
  "kernelspec": {
   "display_name": "Python 3 (ipykernel)",
   "language": "python",
   "name": "python3"
  },
  "language_info": {
   "codemirror_mode": {
    "name": "ipython",
    "version": 3
   },
   "file_extension": ".py",
   "mimetype": "text/x-python",
   "name": "python",
   "nbconvert_exporter": "python",
   "pygments_lexer": "ipython3",
   "version": "3.9.4"
  }
 },
 "nbformat": 4,
 "nbformat_minor": 5
}
