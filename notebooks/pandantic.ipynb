{
 "cells": [
  {
   "cell_type": "markdown",
   "id": "c3f9b92d-3d09-4096-a73b-ff517d24da60",
   "metadata": {},
   "source": [
    "## pydantic + pandas\n",
    "\n",
    "\"simple\" goal: pydantic schema for generating a dataframe\n",
    "\n"
   ]
  },
  {
   "cell_type": "code",
   "execution_count": 1,
   "id": "c45ae309-11ef-4997-b26c-26d1d571f58c",
   "metadata": {},
   "outputs": [],
   "source": [
    "from inspect import getfullargspec\n",
    "import pandas as pd\n",
    "import typing\n",
    "import json\n",
    "from pydantic import BaseModel, create_model, validator, Field, ValidationError\n",
    "import numpy as np\n",
    "from enum import Enum"
   ]
  },
  {
   "cell_type": "markdown",
   "id": "97099fd5-140f-4ad0-9189-676426f76ed4",
   "metadata": {},
   "source": [
    "first, check out the instantiation args for a dataframe:"
   ]
  },
  {
   "cell_type": "markdown",
   "id": "ef529e78-fe44-4144-ba06-6571885df8ad",
   "metadata": {},
   "source": [
    "pd.DataFrame"
   ]
  },
  {
   "cell_type": "code",
   "execution_count": 2,
   "id": "6ba25911-4303-490c-95bb-e6df540d29b1",
   "metadata": {},
   "outputs": [
    {
     "data": {
      "text/plain": [
       "\u001b[0;31mInit signature:\u001b[0m\n",
       "\u001b[0mpd\u001b[0m\u001b[0;34m.\u001b[0m\u001b[0mDataFrame\u001b[0m\u001b[0;34m(\u001b[0m\u001b[0;34m\u001b[0m\n",
       "\u001b[0;34m\u001b[0m    \u001b[0mdata\u001b[0m\u001b[0;34m=\u001b[0m\u001b[0;32mNone\u001b[0m\u001b[0;34m,\u001b[0m\u001b[0;34m\u001b[0m\n",
       "\u001b[0;34m\u001b[0m    \u001b[0mindex\u001b[0m\u001b[0;34m:\u001b[0m \u001b[0;34m'Axes | None'\u001b[0m \u001b[0;34m=\u001b[0m \u001b[0;32mNone\u001b[0m\u001b[0;34m,\u001b[0m\u001b[0;34m\u001b[0m\n",
       "\u001b[0;34m\u001b[0m    \u001b[0mcolumns\u001b[0m\u001b[0;34m:\u001b[0m \u001b[0;34m'Axes | None'\u001b[0m \u001b[0;34m=\u001b[0m \u001b[0;32mNone\u001b[0m\u001b[0;34m,\u001b[0m\u001b[0;34m\u001b[0m\n",
       "\u001b[0;34m\u001b[0m    \u001b[0mdtype\u001b[0m\u001b[0;34m:\u001b[0m \u001b[0;34m'Dtype | None'\u001b[0m \u001b[0;34m=\u001b[0m \u001b[0;32mNone\u001b[0m\u001b[0;34m,\u001b[0m\u001b[0;34m\u001b[0m\n",
       "\u001b[0;34m\u001b[0m    \u001b[0mcopy\u001b[0m\u001b[0;34m:\u001b[0m \u001b[0;34m'bool | None'\u001b[0m \u001b[0;34m=\u001b[0m \u001b[0;32mNone\u001b[0m\u001b[0;34m,\u001b[0m\u001b[0;34m\u001b[0m\n",
       "\u001b[0;34m\u001b[0m\u001b[0;34m)\u001b[0m\u001b[0;34m\u001b[0m\u001b[0;34m\u001b[0m\u001b[0m\n",
       "\u001b[0;31mDocstring:\u001b[0m     \n",
       "Two-dimensional, size-mutable, potentially heterogeneous tabular data.\n",
       "\n",
       "Data structure also contains labeled axes (rows and columns).\n",
       "Arithmetic operations align on both row and column labels. Can be\n",
       "thought of as a dict-like container for Series objects. The primary\n",
       "pandas data structure.\n",
       "\n",
       "Parameters\n",
       "----------\n",
       "data : ndarray (structured or homogeneous), Iterable, dict, or DataFrame\n",
       "    Dict can contain Series, arrays, constants, dataclass or list-like objects. If\n",
       "    data is a dict, column order follows insertion-order.\n",
       "\n",
       "    .. versionchanged:: 0.25.0\n",
       "       If data is a list of dicts, column order follows insertion-order.\n",
       "\n",
       "index : Index or array-like\n",
       "    Index to use for resulting frame. Will default to RangeIndex if\n",
       "    no indexing information part of input data and no index provided.\n",
       "columns : Index or array-like\n",
       "    Column labels to use for resulting frame when data does not have them,\n",
       "    defaulting to RangeIndex(0, 1, 2, ..., n). If data contains column labels,\n",
       "    will perform column selection instead.\n",
       "dtype : dtype, default None\n",
       "    Data type to force. Only a single dtype is allowed. If None, infer.\n",
       "copy : bool or None, default None\n",
       "    Copy data from inputs.\n",
       "    For dict data, the default of None behaves like ``copy=True``.  For DataFrame\n",
       "    or 2d ndarray input, the default of None behaves like ``copy=False``.\n",
       "\n",
       "    .. versionchanged:: 1.3.0\n",
       "\n",
       "See Also\n",
       "--------\n",
       "DataFrame.from_records : Constructor from tuples, also record arrays.\n",
       "DataFrame.from_dict : From dicts of Series, arrays, or dicts.\n",
       "read_csv : Read a comma-separated values (csv) file into DataFrame.\n",
       "read_table : Read general delimited file into DataFrame.\n",
       "read_clipboard : Read text from clipboard into DataFrame.\n",
       "\n",
       "Examples\n",
       "--------\n",
       "Constructing DataFrame from a dictionary.\n",
       "\n",
       ">>> d = {'col1': [1, 2], 'col2': [3, 4]}\n",
       ">>> df = pd.DataFrame(data=d)\n",
       ">>> df\n",
       "   col1  col2\n",
       "0     1     3\n",
       "1     2     4\n",
       "\n",
       "Notice that the inferred dtype is int64.\n",
       "\n",
       ">>> df.dtypes\n",
       "col1    int64\n",
       "col2    int64\n",
       "dtype: object\n",
       "\n",
       "To enforce a single dtype:\n",
       "\n",
       ">>> df = pd.DataFrame(data=d, dtype=np.int8)\n",
       ">>> df.dtypes\n",
       "col1    int8\n",
       "col2    int8\n",
       "dtype: object\n",
       "\n",
       "Constructing DataFrame from numpy ndarray:\n",
       "\n",
       ">>> df2 = pd.DataFrame(np.array([[1, 2, 3], [4, 5, 6], [7, 8, 9]]),\n",
       "...                    columns=['a', 'b', 'c'])\n",
       ">>> df2\n",
       "   a  b  c\n",
       "0  1  2  3\n",
       "1  4  5  6\n",
       "2  7  8  9\n",
       "\n",
       "Constructing DataFrame from a numpy ndarray that has labeled columns:\n",
       "\n",
       ">>> data = np.array([(1, 2, 3), (4, 5, 6), (7, 8, 9)],\n",
       "...                 dtype=[(\"a\", \"i4\"), (\"b\", \"i4\"), (\"c\", \"i4\")])\n",
       ">>> df3 = pd.DataFrame(data, columns=['c', 'a'])\n",
       "...\n",
       ">>> df3\n",
       "   c  a\n",
       "0  3  1\n",
       "1  6  4\n",
       "2  9  7\n",
       "\n",
       "Constructing DataFrame from dataclass:\n",
       "\n",
       ">>> from dataclasses import make_dataclass\n",
       ">>> Point = make_dataclass(\"Point\", [(\"x\", int), (\"y\", int)])\n",
       ">>> pd.DataFrame([Point(0, 0), Point(0, 3), Point(2, 3)])\n",
       "   x  y\n",
       "0  0  0\n",
       "1  0  3\n",
       "2  2  3\n",
       "\u001b[0;31mFile:\u001b[0m           ~/.pyenv/versions/3.9.1/envs/pandantic/lib/python3.9/site-packages/pandas/core/frame.py\n",
       "\u001b[0;31mType:\u001b[0m           type\n",
       "\u001b[0;31mSubclasses:\u001b[0m     SubclassedDataFrame\n"
      ]
     },
     "metadata": {},
     "output_type": "display_data"
    }
   ],
   "source": [
    "pd.DataFrame?"
   ]
  },
  {
   "cell_type": "markdown",
   "id": "47e49727-fe2d-411c-81b9-3ab4dd92bcf5",
   "metadata": {},
   "source": [
    "So some complexity here... \n",
    "1. the `data` arg can be many things and is not explicitly typed. it's validated within `DataFrame.__init__()`, but not typed because it can be so many things.\n",
    "2. except for `copy`, the arguments are internal pandas types. We can check out the `Dtypes` and `Axes` types are with:\n"
   ]
  },
  {
   "cell_type": "code",
   "execution_count": 3,
   "id": "1c818c70-0916-4b24-bd7f-62d821e221b8",
   "metadata": {},
   "outputs": [
    {
     "data": {
      "text/plain": [
       "typing.Collection[typing.Any]"
      ]
     },
     "execution_count": 3,
     "metadata": {},
     "output_type": "execute_result"
    }
   ],
   "source": [
    "pd._typing.Axes"
   ]
  },
  {
   "cell_type": "code",
   "execution_count": 4,
   "id": "ded6f473-9b48-4994-845f-b6ac0ab42291",
   "metadata": {},
   "outputs": [
    {
     "data": {
      "text/plain": [
       "typing.Union[ForwardRef('ExtensionDtype'), str, numpy.dtype, typing.Type[typing.Union[str, float, int, complex, bool, object]]]"
      ]
     },
     "execution_count": 4,
     "metadata": {},
     "output_type": "execute_result"
    }
   ],
   "source": [
    "pd._typing.Dtype"
   ]
  },
  {
   "cell_type": "markdown",
   "id": "47956ad1-451a-4be9-85eb-76c2150d7daf",
   "metadata": {},
   "source": [
    "### initial manual `DataFrameModel`\n",
    "\n",
    "a simple attempt at building a pydantic model. Adding a `dtype` attribute is proving difficult... for now, we'll use a string declaration approach with `Enum`. So let's construct a `DtypeEnum` from a list of strings corresponding to data types that we'll allow. When we get to trying to instantiate a true pandas `DataFrame`, we'll use `eval()` to get an actual type. "
   ]
  },
  {
   "cell_type": "code",
   "execution_count": 5,
   "id": "239b4717-ad6f-4edb-9c95-a8a50d26d1a5",
   "metadata": {},
   "outputs": [],
   "source": [
    "allowed_types = ['int', 'float', 'str', 'complex', 'np.int64', 'np.float64']\n",
    "DtypeEnum = Enum(\"DtypeEnum\", dict(zip(allowed_types, allowed_types)))"
   ]
  },
  {
   "cell_type": "code",
   "execution_count": 6,
   "id": "75062e0d-407c-412a-a091-0d1d8a40bc2d",
   "metadata": {},
   "outputs": [],
   "source": [
    "class DataFrameModel(BaseModel):\n",
    "    data: dict # for simplicity for now, only allow data dict\n",
    "    index: typing.Optional[pd._typing.Axes] = None\n",
    "    columns: typing.Optional[pd._typing.Axes] = None    \n",
    "    dtype: typing.Optional[DtypeEnum] = None\n",
    "    copy_: typing.Optional[bool] = Field(None, alias='copy')\n",
    "    \n",
    "    class Config:\n",
    "        arbitrary_types_allowed = True  ## needed for Axes type        "
   ]
  },
  {
   "cell_type": "code",
   "execution_count": 7,
   "id": "71d10c87-4db8-40c4-b229-f2ecec8f6828",
   "metadata": {},
   "outputs": [],
   "source": [
    "df = DataFrameModel.construct()"
   ]
  },
  {
   "cell_type": "code",
   "execution_count": 8,
   "id": "1d3a9524-51fc-4f84-9b39-f65b1b97d680",
   "metadata": {},
   "outputs": [
    {
     "data": {
      "text/plain": [
       "{'title': 'DataFrameModel',\n",
       " 'type': 'object',\n",
       " 'properties': {'data': {'title': 'Data', 'type': 'object'},\n",
       "  'index': {'title': 'Index'},\n",
       "  'columns': {'title': 'Columns'},\n",
       "  'dtype': {'$ref': '#/definitions/DtypeEnum'},\n",
       "  'copy': {'title': 'Copy', 'type': 'boolean'}},\n",
       " 'required': ['data'],\n",
       " 'definitions': {'DtypeEnum': {'title': 'DtypeEnum',\n",
       "   'description': 'An enumeration.',\n",
       "   'enum': ['int', 'float', 'str', 'complex', 'np.int64', 'np.float64']}}}"
      ]
     },
     "execution_count": 8,
     "metadata": {},
     "output_type": "execute_result"
    }
   ],
   "source": [
    "df.schema()"
   ]
  },
  {
   "cell_type": "code",
   "execution_count": 9,
   "id": "9a91308d-0770-477c-8b0c-7d7b2bf7197e",
   "metadata": {},
   "outputs": [],
   "source": [
    "with open('test_schema.json', 'w') as fi:\n",
    "    fi.write(df.schema_json())"
   ]
  },
  {
   "cell_type": "code",
   "execution_count": 10,
   "id": "e6f96bf1-3597-4a57-99ba-6248ecc5341f",
   "metadata": {},
   "outputs": [
    {
     "data": {
      "text/plain": [
       "DataFrameModel(data={'a': [1, 2, 3]}, index=None, columns=None, dtype=<DtypeEnum.complex: 'complex'>, copy_=None)"
      ]
     },
     "execution_count": 10,
     "metadata": {},
     "output_type": "execute_result"
    }
   ],
   "source": [
    "DataFrameModel(data={\"a\":[1,2,3]}, dtype=\"complex\")"
   ]
  },
  {
   "cell_type": "code",
   "execution_count": 11,
   "id": "7a876b1b-5eb9-4eea-ab1c-836523a1338c",
   "metadata": {},
   "outputs": [
    {
     "data": {
      "text/plain": [
       "'{\"data\": {\"a\": [1, 2, 3]}, \"index\": null, \"columns\": null, \"dtype\": \"complex\", \"copy_\": null}'"
      ]
     },
     "execution_count": 11,
     "metadata": {},
     "output_type": "execute_result"
    }
   ],
   "source": [
    "DataFrameModel(data={\"a\":[1,2,3]}, dtype=\"complex\").json()"
   ]
  },
  {
   "cell_type": "markdown",
   "id": "7e0853f9-8124-4fff-b5de-91ad5d8a938a",
   "metadata": {},
   "source": [
    "## instiating a dataframe. \n",
    "\n",
    "Assuming we've used our schema above to write a json to `filled_schema.json`, let's actually instantiate a dataframe:"
   ]
  },
  {
   "cell_type": "code",
   "execution_count": 12,
   "id": "008ae56a-3fe4-4f01-a3f4-2584c7fc9f71",
   "metadata": {},
   "outputs": [],
   "source": [
    "valid_model = DataFrameModel.parse_file('filled_schema.json')"
   ]
  },
  {
   "cell_type": "code",
   "execution_count": 13,
   "id": "10df4c8a-3b53-4537-b3a8-9777427bb077",
   "metadata": {},
   "outputs": [
    {
     "data": {
      "text/plain": [
       "DataFrameModel(data={'col_1': [1, 2, 3, 4], 'col_2': [-1, 20, 30, -20]}, index=None, columns=None, dtype=<DtypeEnum.np.int64: 'np.int64'>, copy_=True)"
      ]
     },
     "execution_count": 13,
     "metadata": {},
     "output_type": "execute_result"
    }
   ],
   "source": [
    "valid_model"
   ]
  },
  {
   "cell_type": "markdown",
   "id": "976ff53a-e3ca-4d09-9861-9328ce74708d",
   "metadata": {},
   "source": [
    "in the yt analysis schema approach, we attached a `._run` attribute to the pydantic classes. but it may be clearer to have a separate ingestion process:"
   ]
  },
  {
   "cell_type": "code",
   "execution_count": 14,
   "id": "5487a1a1-48d9-4b09-a45b-045e1b6c4c61",
   "metadata": {},
   "outputs": [],
   "source": [
    "def instantiate_df(pandantic_model: DataFrameModel) -> pd.DataFrame:\n",
    "    enum_dtype = pandantic_model.dtype # e.g., <DtypeEnum.int: 'int'>\n",
    "    dtype_str = enum_dtype.value # e.g., 'int'\n",
    "    actual_dtype = eval(dtype_str) # e.g., int \n",
    "    return pd.DataFrame(pandantic_model.data, \n",
    "                        index=pandantic_model.index, \n",
    "                        columns=pandantic_model.columns,\n",
    "                        dtype=actual_dtype,\n",
    "                        copy=pandantic_model.copy_\n",
    "                       )"
   ]
  },
  {
   "cell_type": "code",
   "execution_count": 15,
   "id": "138f6071-0a71-4c32-96e8-6af219c91dee",
   "metadata": {},
   "outputs": [],
   "source": [
    "df = instantiate_df(valid_model)"
   ]
  },
  {
   "cell_type": "code",
   "execution_count": 16,
   "id": "f6acdbab-9c53-481b-8b46-601178f5d1ce",
   "metadata": {},
   "outputs": [
    {
     "data": {
      "text/html": [
       "<div>\n",
       "<style scoped>\n",
       "    .dataframe tbody tr th:only-of-type {\n",
       "        vertical-align: middle;\n",
       "    }\n",
       "\n",
       "    .dataframe tbody tr th {\n",
       "        vertical-align: top;\n",
       "    }\n",
       "\n",
       "    .dataframe thead th {\n",
       "        text-align: right;\n",
       "    }\n",
       "</style>\n",
       "<table border=\"1\" class=\"dataframe\">\n",
       "  <thead>\n",
       "    <tr style=\"text-align: right;\">\n",
       "      <th></th>\n",
       "      <th>col_1</th>\n",
       "      <th>col_2</th>\n",
       "    </tr>\n",
       "  </thead>\n",
       "  <tbody>\n",
       "    <tr>\n",
       "      <th>0</th>\n",
       "      <td>1</td>\n",
       "      <td>-1</td>\n",
       "    </tr>\n",
       "    <tr>\n",
       "      <th>1</th>\n",
       "      <td>2</td>\n",
       "      <td>20</td>\n",
       "    </tr>\n",
       "    <tr>\n",
       "      <th>2</th>\n",
       "      <td>3</td>\n",
       "      <td>30</td>\n",
       "    </tr>\n",
       "    <tr>\n",
       "      <th>3</th>\n",
       "      <td>4</td>\n",
       "      <td>-20</td>\n",
       "    </tr>\n",
       "  </tbody>\n",
       "</table>\n",
       "</div>"
      ],
      "text/plain": [
       "   col_1  col_2\n",
       "0      1     -1\n",
       "1      2     20\n",
       "2      3     30\n",
       "3      4    -20"
      ]
     },
     "execution_count": 16,
     "metadata": {},
     "output_type": "execute_result"
    }
   ],
   "source": [
    "df.head()"
   ]
  },
  {
   "cell_type": "code",
   "execution_count": null,
   "id": "2e6c9f07-2666-45c9-8e34-0bf57e866fce",
   "metadata": {},
   "outputs": [],
   "source": []
  }
 ],
 "metadata": {
  "kernelspec": {
   "display_name": "Python 3 (ipykernel)",
   "language": "python",
   "name": "python3"
  },
  "language_info": {
   "codemirror_mode": {
    "name": "ipython",
    "version": 3
   },
   "file_extension": ".py",
   "mimetype": "text/x-python",
   "name": "python",
   "nbconvert_exporter": "python",
   "pygments_lexer": "ipython3",
   "version": "3.9.1"
  }
 },
 "nbformat": 4,
 "nbformat_minor": 5
}
