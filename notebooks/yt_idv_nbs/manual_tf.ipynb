{
 "cells": [
  {
   "cell_type": "code",
   "execution_count": 1,
   "id": "d4768bdd-ada8-4579-88b4-36ea95e5740d",
   "metadata": {},
   "outputs": [],
   "source": [
    "import yt\n",
    "import yt_idv"
   ]
  },
  {
   "cell_type": "code",
   "execution_count": 2,
   "id": "e8e24640-c715-422a-9229-a73b67c80b5e",
   "metadata": {},
   "outputs": [
    {
     "name": "stderr",
     "output_type": "stream",
     "text": [
      "yt : [INFO     ] 2022-03-07 11:59:08,565 Sample dataset found in '/home/chavlin/hdd/data/yt_data/yt_sample_sets/IsolatedGalaxy/galaxy0030/galaxy0030'\n",
      "yt : [INFO     ] 2022-03-07 11:59:08,627 Parameters: current_time              = 0.0060000200028298\n",
      "yt : [INFO     ] 2022-03-07 11:59:08,628 Parameters: domain_dimensions         = [32 32 32]\n",
      "yt : [INFO     ] 2022-03-07 11:59:08,629 Parameters: domain_left_edge          = [0. 0. 0.]\n",
      "yt : [INFO     ] 2022-03-07 11:59:08,629 Parameters: domain_right_edge         = [1. 1. 1.]\n",
      "yt : [INFO     ] 2022-03-07 11:59:08,630 Parameters: cosmological_simulation   = 0\n",
      "Parsing Hierarchy : 100%|██████████████████| 173/173 [00:00<00:00, 22840.33it/s]\n",
      "yt : [INFO     ] 2022-03-07 11:59:08,646 Gathering a field list (this may take a moment.)\n"
     ]
    }
   ],
   "source": [
    "ds = yt.load_sample(\"IsolatedGalaxy\")\n",
    "dd = ds.all_data()"
   ]
  },
  {
   "cell_type": "code",
   "execution_count": 3,
   "id": "841a7b95-79f9-406a-a45e-c13f77669240",
   "metadata": {},
   "outputs": [],
   "source": [
    "# rc = yt_idv.render_context(\"osmesa\", width = 400, height = 400)\n",
    "# rc.add_scene(dd, \"density\", no_ghost=True)\n",
    "# rc.run()\n",
    "# rc.add_image()"
   ]
  },
  {
   "cell_type": "code",
   "execution_count": 4,
   "id": "7b9ce8f5-b545-4d87-89e7-1f80eb168634",
   "metadata": {},
   "outputs": [],
   "source": [
    "# rc = yt_idv.render_context(\"osmesa\", width = 400, height = 400)\n",
    "# sg = rc.add_scene(ds, None, no_ghost=True)\n",
    "\n",
    "# odata = yt_idv.scene_data.block_collection.BlockCollection(data_source=dd)\n",
    "# odata.add_data(\"density\")\n",
    "# oren = yt_idv.scene_components.blocks.BlockRendering(data=odata)\n",
    "\n",
    "# sg.data_objects.append(odata)\n",
    "# sg.components.append(oren)\n",
    "\n",
    "# rc.run()\n",
    "# rc.add_image()"
   ]
  },
  {
   "cell_type": "code",
   "execution_count": null,
   "id": "49d8ce69-62cf-4a9c-ba62-69820ab00f58",
   "metadata": {},
   "outputs": [],
   "source": [
    "\n"
   ]
  },
  {
   "cell_type": "code",
   "execution_count": 17,
   "id": "6d273bcd-edff-4772-b39e-25ce0d565146",
   "metadata": {},
   "outputs": [],
   "source": [
    "rc = yt_idv.render_context(\"osmesa\", width = 400, height = 400)\n",
    "sg = rc.add_scene(ds, None, no_ghost=True)\n"
   ]
  },
  {
   "cell_type": "code",
   "execution_count": 18,
   "id": "9e62536e-ffe6-495b-b400-e57609196df4",
   "metadata": {},
   "outputs": [],
   "source": [
    "odata = yt_idv.scene_data.block_collection.BlockCollection(data_source=dd)\n",
    "odata.add_data(\"density\")\n",
    "oren = yt_idv.scene_components.blocks.BlockRendering(data=odata)"
   ]
  },
  {
   "cell_type": "code",
   "execution_count": 19,
   "id": "c38cee07-7f10-4990-a476-6e81c6190eb3",
   "metadata": {},
   "outputs": [
    {
     "data": {
      "text/plain": [
       "'max_intensity'"
      ]
     },
     "execution_count": 19,
     "metadata": {},
     "output_type": "execute_result"
    }
   ],
   "source": [
    "oren.render_method"
   ]
  },
  {
   "cell_type": "code",
   "execution_count": 20,
   "id": "fa3d88dc-44a5-4044-b857-c9009c042aa6",
   "metadata": {},
   "outputs": [],
   "source": [
    "oren.render_method = \"transfer_function\""
   ]
  },
  {
   "cell_type": "code",
   "execution_count": 21,
   "id": "b4332555-225c-454b-86e0-b239e71ac54b",
   "metadata": {},
   "outputs": [
    {
     "data": {
      "image/png": "[encoded data removed]",
      "text/plain": [
       "<Figure size 432x288 with 1 Axes>"
      ]
     },
     "metadata": {
      "needs_background": "light"
     },
     "output_type": "display_data"
    }
   ],
   "source": [
    "import matplotlib.pyplot as plt \n",
    "import numpy as np \n",
    "def plot_tf(oren, ax):\n",
    "    R = oren.transfer_function.data[:,0,0]\n",
    "    G = oren.transfer_function.data[:,0,1]\n",
    "    B = oren.transfer_function.data[:,0,2]\n",
    "    a = oren.transfer_function.data[:,0,3]\n",
    "    x = np.linspace(0, 1, 256)    \n",
    "    ax.plot(x, R, 'r')\n",
    "    ax.plot(x, G, 'g')\n",
    "    ax.plot(x, B, 'b')\n",
    "    ax.plot(x, a, '--k')\n",
    "    \n",
    "f, ax = plt.subplots(1)\n",
    "plot_tf(oren, ax)\n"
   ]
  },
  {
   "cell_type": "code",
   "execution_count": 22,
   "id": "ff40a7c5-6734-4f43-8461-d68b356f7375",
   "metadata": {},
   "outputs": [],
   "source": [
    "new_tf = np.ones(oren.transfer_function.data.shape)\n",
    "x = np.linspace(0, 1, 256)\n",
    "\n",
    "new_tf[:,0, 0] = 255 * np.exp(-((x - 0.8)/0.02)**2)\n",
    "new_tf[:,0, 1] = 255 * np.exp(-((x - 0.6)/0.02)**2)\n",
    "new_tf[:,0, 2] = 255 * np.exp(-((x - 0.4)/0.02)**2)\n",
    "new_tf[:,0, 3] = 255 * np.ones(x.shape)\n",
    "new_tf = new_tf.astype(\"u1\")\n",
    "oren.transfer_function.data = new_tf\n"
   ]
  },
  {
   "cell_type": "code",
   "execution_count": 23,
   "id": "fe00070a-385f-44e7-945b-47d361702d76",
   "metadata": {},
   "outputs": [
    {
     "data": {
      "image/png": "[encoded data removed]",
      "text/plain": [
       "<Figure size 432x288 with 1 Axes>"
      ]
     },
     "metadata": {
      "needs_background": "light"
     },
     "output_type": "display_data"
    }
   ],
   "source": [
    "f, ax = plt.subplots(1)\n",
    "plot_tf(oren, ax)"
   ]
  },
  {
   "cell_type": "code",
   "execution_count": 24,
   "id": "9237388f-e34f-4e3f-b54a-e1280638ee9c",
   "metadata": {},
   "outputs": [
    {
     "name": "stdout",
     "output_type": "stream",
     "text": [
      "Computed new cmap values 0.0 - 0.0\n"
     ]
    },
    {
     "name": "stderr",
     "output_type": "stream",
     "text": [
      "/home/chavlin/src/yt_general/yt/yt/visualization/image_writer.py:152: RuntimeWarning: invalid value encountered in true_divide\n",
      "  bitmap_array = np.clip(bitmap_array[:, :, :3] / max_val, 0.0, 1.0) * 255\n"
     ]
    },
    {
     "data": {
      "application/vnd.jupyter.widget-view+json": {
       "model_id": "df639d55ba784f4a93e5b5f38764081e",
       "version_major": 2,
       "version_minor": 0
      },
      "text/plain": [
       "Image(value=b'\\x89PNG\\r\\n\\x1a\\n\\x00\\x00\\x00\\rIHDR\\x00\\x00\\x01\\x90\\x00\\x00\\x01\\x90\\x08\\x06\\x00\\x00\\x00\\x80\\xbf6…"
      ]
     },
     "metadata": {},
     "output_type": "display_data"
    }
   ],
   "source": [
    "sg.data_objects.append(odata)\n",
    "sg.components.append(oren)\n",
    "\n",
    "rc.run()\n",
    "rc.add_image()"
   ]
  },
  {
   "cell_type": "code",
   "execution_count": null,
   "id": "f32fcce5-1152-48bf-9f9e-16ecf34fabe7",
   "metadata": {},
   "outputs": [],
   "source": []
  },
  {
   "cell_type": "code",
   "execution_count": null,
   "id": "acb4415b-b1db-4aaf-ad75-e12079c8d934",
   "metadata": {},
   "outputs": [],
   "source": []
  },
  {
   "cell_type": "code",
   "execution_count": 25,
   "id": "c4602874-118d-4af7-bea0-cb1651e6a798",
   "metadata": {},
   "outputs": [],
   "source": [
    "import numpy as np \n"
   ]
  },
  {
   "cell_type": "code",
   "execution_count": 35,
   "id": "d272c09e-af1b-440e-96e0-f67e38be97f2",
   "metadata": {},
   "outputs": [
    {
     "name": "stdout",
     "output_type": "stream",
     "text": [
      "Computed new cmap values 0.0 - 0.0\n"
     ]
    },
    {
     "name": "stderr",
     "output_type": "stream",
     "text": [
      "/home/chavlin/src/yt_general/yt/yt/visualization/image_writer.py:152: RuntimeWarning: invalid value encountered in true_divide\n",
      "  bitmap_array = np.clip(bitmap_array[:, :, :3] / max_val, 0.0, 1.0) * 255\n"
     ]
    },
    {
     "data": {
      "application/vnd.jupyter.widget-view+json": {
       "model_id": "6ee5b2c65c50481bbbb4da422a3a2837",
       "version_major": 2,
       "version_minor": 0
      },
      "text/plain": [
       "Image(value=b'\\x89PNG\\r\\n\\x1a\\n\\x00\\x00\\x00\\rIHDR\\x00\\x00\\x01\\x90\\x00\\x00\\x01\\x90\\x08\\x06\\x00\\x00\\x00\\x80\\xbf6…"
      ]
     },
     "metadata": {},
     "output_type": "display_data"
    }
   ],
   "source": [
    "rc = yt_idv.render_context(\"osmesa\", width = 400, height = 400)\n",
    "sg = rc.add_scene(ds, None, no_ghost=True)\n",
    "\n",
    "odata = yt_idv.scene_data.block_collection.BlockCollection(data_source=dd)\n",
    "odata.add_data(\"density\")\n",
    "oren = yt_idv.scene_components.blocks.BlockRendering(data=odata)\n",
    "\n",
    "# set render method to use tf\n",
    "oren.render_method = \"transfer_function\"\n",
    "oren.tf_log = False\n",
    "oren.tf_min = 0.\n",
    "oren.tf_max = 1. \n",
    "\n",
    "# set the value of the tf function\n",
    "new_tf = np.zeros(oren.transfer_function.data.shape)\n",
    "x = np.linspace(0, 1, 256)\n",
    "new_tf[:,0, 0] = np.exp(-((x - 0.8)/0.1)**2)\n",
    "# new_tf[:,0, 0] = np.exp(-((x - 0.1)/0.1)**2)\n",
    "# new_tf[:,0, 1] = np.exp(-((x - 0.6)/0.02)**2)\n",
    "# new_tf[:,0, 2] = np.exp(-((x - 0.4)/0.02)**2)\n",
    "new_tf[:,0, 3] = np.ones(x.shape)\n",
    "\n",
    "# assign the function\n",
    "oren.transfer_function.data = (255 * new_tf).astype(\"u1\")\n",
    "\n",
    "sg.data_objects.append(odata)\n",
    "sg.components.append(oren)\n",
    "\n",
    "rc.run()\n",
    "rc.add_image()"
   ]
  },
  {
   "cell_type": "code",
   "execution_count": null,
   "id": "011c0aa9-fc3d-42fa-b384-2dc3e17eedf0",
   "metadata": {},
   "outputs": [],
   "source": []
  }
 ],
 "metadata": {
  "kernelspec": {
   "display_name": "Python 3 (ipykernel)",
   "language": "python",
   "name": "python3"
  },
  "language_info": {
   "codemirror_mode": {
    "name": "ipython",
    "version": 3
   },
   "file_extension": ".py",
   "mimetype": "text/x-python",
   "name": "python",
   "nbconvert_exporter": "python",
   "pygments_lexer": "ipython3",
   "version": "3.9.7"
  }
 },
 "nbformat": 4,
 "nbformat_minor": 5
}
