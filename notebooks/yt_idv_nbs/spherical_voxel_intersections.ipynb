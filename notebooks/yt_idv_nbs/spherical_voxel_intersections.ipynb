{
 "cells": [
  {
   "cell_type": "code",
   "execution_count": 21,
   "id": "ebb343ca-2277-4ecf-b48c-caebb1c235c0",
   "metadata": {},
   "outputs": [],
   "source": [
    "from spherical_voxels.intersections import SphericalVoxel, find_all_intersections, transform_to_cartesian, transform_to_spherical\n",
    "import numpy as np "
   ]
  },
  {
   "cell_type": "code",
   "execution_count": 2,
   "id": "b9a63caf-5783-4bff-a434-6192c1c5ba9f",
   "metadata": {},
   "outputs": [
    {
     "data": {
      "text/plain": [
       "(array([0.4       , 0.78539816, 0.78539816]),\n",
       " array([0.6       , 1.57079633, 1.57079633]))"
      ]
     },
     "execution_count": 2,
     "metadata": {},
     "output_type": "execute_result"
    }
   ],
   "source": [
    "# create a single voxel\n",
    "left_edge = np.array([0.4, np.pi/4, np.pi/4])\n",
    "right_edge = np.array([0.6, np.pi/2, np.pi/2])\n",
    "axis_id = {'r': 0, 'phi': 1, 'theta': 2}\n",
    "\n",
    "vox = SphericalVoxel(left_edge, right_edge, axis_id)\n",
    "left_edge, right_edge"
   ]
  },
  {
   "cell_type": "code",
   "execution_count": 3,
   "id": "df8b60ab-a68d-44c0-83af-5cd68b820061",
   "metadata": {},
   "outputs": [
    {
     "data": {
      "text/plain": [
       "array([ 0.2, -0.2,  0. ,  0. ])"
      ]
     },
     "execution_count": 3,
     "metadata": {},
     "output_type": "execute_result"
    }
   ],
   "source": [
    "vox.phi_plane_le"
   ]
  },
  {
   "cell_type": "code",
   "execution_count": 16,
   "id": "3cdae940-4bee-4522-9ab5-bdc98193f44d",
   "metadata": {},
   "outputs": [
    {
     "name": "stdout",
     "output_type": "stream",
     "text": [
      "0.6\n",
      "[2.59786817e-17 4.24264069e-01 4.24264069e-01]\n"
     ]
    }
   ],
   "source": [
    "# find intersections \n",
    "\n",
    "v_model_vertex = np.array([0.6, np.pi/2, np.pi/4])\n",
    "camer_pos_cartesian = np.array([0.1, -1, 0.1])\n",
    "t_points, inters, inters_sp, inters_bools = find_all_intersections(v_model_vertex, camer_pos_cartesian, vox)"
   ]
  },
  {
   "cell_type": "code",
   "execution_count": 17,
   "id": "8c7cee37-5183-4461-83bf-cf21317f059a",
   "metadata": {},
   "outputs": [
    {
     "data": {
      "text/plain": [
       "{'t_sphere_outer': array([-1.01334976e+00,  1.11022302e-16]),\n",
       " 't_sphere_inner': array([-0.7448333 , -0.26851646]),\n",
       " 't_p_1': array([-0.40752621]),\n",
       " 't_p_2': array([-0.]),\n",
       " 't_cone_outer': array([inf, inf]),\n",
       " 't_cone_inner': array([inf, inf])}"
      ]
     },
     "execution_count": 17,
     "metadata": {},
     "output_type": "execute_result"
    }
   ],
   "source": [
    "t_points"
   ]
  },
  {
   "cell_type": "code",
   "execution_count": 18,
   "id": "f9aaeae9-ad37-40df-b0cd-38187e2c77d2",
   "metadata": {},
   "outputs": [
    {
     "data": {
      "text/plain": [
       "{'t_sphere_outer': [array([ 0.06921176, -0.5614941 ,  0.19983521]),\n",
       "  array([1.83958621e-17, 4.24264069e-01, 4.24264069e-01])],\n",
       " 't_sphere_inner': [array([ 0.05087209, -0.30028883,  0.25930416]),\n",
       "  array([0.01833967, 0.16305881, 0.36479512])],\n",
       " 't_p_1': [array([0.02783403, 0.02783403, 0.33400832])],\n",
       " 't_p_2': [array([2.59786817e-17, 4.24264069e-01, 4.24264069e-01])],\n",
       " 't_cone_outer': [array([-inf,  inf,  inf]), array([-inf,  inf,  inf])],\n",
       " 't_cone_inner': [array([-inf,  inf,  inf]), array([-inf,  inf,  inf])]}"
      ]
     },
     "execution_count": 18,
     "metadata": {},
     "output_type": "execute_result"
    }
   ],
   "source": [
    "inters"
   ]
  },
  {
   "cell_type": "code",
   "execution_count": 19,
   "id": "f4c639ce-cee1-4b3d-84ee-39750c4deafc",
   "metadata": {},
   "outputs": [
    {
     "data": {
      "text/plain": [
       "{'t_sphere_outer': [array([ 0.6       , -1.44815143,  1.23125071]),\n",
       "  array([0.6       , 1.57079633, 0.78539816])],\n",
       " 't_sphere_inner': [array([ 0.4       , -1.40297914,  0.8654988 ]),\n",
       "  array([0.4       , 1.45879432, 0.42269232])],\n",
       " 't_p_1': [array([0.33631982, 0.78539816, 0.11731003])],\n",
       " 't_p_2': [array([0.6       , 1.57079633, 0.78539816])],\n",
       " 't_cone_outer': [array([inf, nan, nan]), array([inf, nan, nan])],\n",
       " 't_cone_inner': [array([inf, nan, nan]), array([inf, nan, nan])]}"
      ]
     },
     "execution_count": 19,
     "metadata": {},
     "output_type": "execute_result"
    }
   ],
   "source": [
    "inters_sp"
   ]
  },
  {
   "cell_type": "code",
   "execution_count": 20,
   "id": "61cdfe7e-0f81-4a0a-901f-51e3b8932adf",
   "metadata": {},
   "outputs": [
    {
     "data": {
      "text/plain": [
       "{'t_sphere_outer': [False, False],\n",
       " 't_sphere_inner': [False, False],\n",
       " 't_p_1': [False],\n",
       " 't_p_2': [True],\n",
       " 't_cone_outer': [False, False],\n",
       " 't_cone_inner': [False, False]}"
      ]
     },
     "execution_count": 20,
     "metadata": {},
     "output_type": "execute_result"
    }
   ],
   "source": [
    "inters_bools"
   ]
  },
  {
   "cell_type": "code",
   "execution_count": 15,
   "id": "5049d4bd-fc9d-43b4-80f8-f9c3c7962745",
   "metadata": {},
   "outputs": [
    {
     "data": {
      "text/plain": [
       "1.0709628509683469"
      ]
     },
     "execution_count": 15,
     "metadata": {},
     "output_type": "execute_result"
    }
   ],
   "source": [
    "a = np.array([0.6300606 , 0.6300606 , 0.59414536])\n",
    "np.sqrt(a[0]**2 + a[1]**2 + a[2]**2)"
   ]
  },
  {
   "cell_type": "code",
   "execution_count": 10,
   "id": "069ab1da-3d28-427a-95c5-98227f7a89d8",
   "metadata": {},
   "outputs": [
    {
     "data": {
      "text/plain": [
       "array([ True,  True, False])"
      ]
     },
     "execution_count": 10,
     "metadata": {},
     "output_type": "execute_result"
    }
   ],
   "source": [
    "inters_sp['t_p_2'][0] >= left_edge"
   ]
  },
  {
   "cell_type": "code",
   "execution_count": 11,
   "id": "f43b92c3-6be1-4248-a92f-848303dda3d8",
   "metadata": {},
   "outputs": [
    {
     "data": {
      "text/plain": [
       "0.7853981633974483"
      ]
     },
     "execution_count": 11,
     "metadata": {},
     "output_type": "execute_result"
    }
   ],
   "source": [
    "left_edge[1]"
   ]
  },
  {
   "cell_type": "code",
   "execution_count": 12,
   "id": "6111c538-3af6-439f-8ce4-ab0a9267c7ce",
   "metadata": {},
   "outputs": [
    {
     "data": {
      "text/plain": [
       "1.4477447112461415"
      ]
     },
     "execution_count": 12,
     "metadata": {},
     "output_type": "execute_result"
    }
   ],
   "source": [
    "inters_sp['t_p_2'][0][1]"
   ]
  },
  {
   "cell_type": "code",
   "execution_count": null,
   "id": "dc5eada9-6050-4231-b97c-8700b7996870",
   "metadata": {},
   "outputs": [],
   "source": []
  },
  {
   "cell_type": "code",
   "execution_count": 62,
   "id": "86f81288-4cba-4eba-9db5-ce4dc7f3d1fe",
   "metadata": {},
   "outputs": [],
   "source": [
    "xg = np.linspace(-1, 1, 50)\n",
    "yg = np.linspace(-1, 1, 51)\n",
    "zg = np.linspace(-1, 1, 52)\n",
    "xg, yg, zg = np.meshgrid(xg, yg, zg, indexing='ij')"
   ]
  },
  {
   "cell_type": "code",
   "execution_count": 98,
   "id": "ab262885-d98d-4de2-90a0-96e24ed8a4bc",
   "metadata": {},
   "outputs": [],
   "source": [
    "R = np.sqrt(xg ** 2 + yg**2 + zg**2)\n",
    "Phi = np.arctan2(xg, yg)  # THe 2pi angle, inv tan(xg / yg) w quadraant selection\n",
    "Theta = np.arctan2(np.sqrt(xg**2 + yg**2), zg)\n",
    "\n",
    "in_element = 1 * (R >= left_edge[0]) * (R<=right_edge[0]) \n",
    "in_element = in_element * (Phi >= left_edge[1]) * (Phi <= right_edge[1]) \n",
    "in_element = in_element * (Theta <= right_edge[2]) * (Theta >= left_edge[2])"
   ]
  },
  {
   "cell_type": "code",
   "execution_count": 99,
   "id": "9a7c015f-e263-49c2-b5e0-7e4b2e46706d",
   "metadata": {},
   "outputs": [
    {
     "data": {
      "text/plain": [
       "(50, 51, 52)"
      ]
     },
     "execution_count": 99,
     "metadata": {},
     "output_type": "execute_result"
    }
   ],
   "source": [
    "in_element.shape"
   ]
  },
  {
   "cell_type": "code",
   "execution_count": 100,
   "id": "61bf86af-bddf-4d4e-b8d1-225b0b8a3657",
   "metadata": {},
   "outputs": [],
   "source": [
    "import matplotlib.pyplot as plt"
   ]
  },
  {
   "cell_type": "code",
   "execution_count": 101,
   "id": "2a44a142-9a22-4b05-8e5d-c7d5c9aaefe3",
   "metadata": {},
   "outputs": [
    {
     "data": {
      "image/png": "[encoded data removed]",
      "text/plain": [
       "<Figure size 640x480 with 1 Axes>"
      ]
     },
     "metadata": {},
     "output_type": "display_data"
    }
   ],
   "source": [
    "iz = 27\n",
    "plt.contourf(xg[:,:,iz], yg[:,:,iz], in_element[:,:,iz])\n",
    "plt.gca().set_aspect('equal')"
   ]
  },
  {
   "cell_type": "code",
   "execution_count": 83,
   "id": "815cc8bf-31fd-4254-a706-178bc602eb61",
   "metadata": {},
   "outputs": [
    {
     "data": {
      "text/plain": [
       "array([0.4       , 0.78539816, 0.78539816])"
      ]
     },
     "execution_count": 83,
     "metadata": {},
     "output_type": "execute_result"
    }
   ],
   "source": [
    "left_edge"
   ]
  },
  {
   "cell_type": "code",
   "execution_count": null,
   "id": "897aedc6-e74d-4b19-b315-7e6489141d57",
   "metadata": {},
   "outputs": [],
   "source": []
  }
 ],
 "metadata": {
  "kernelspec": {
   "display_name": "Python 3 (ipykernel)",
   "language": "python",
   "name": "python3"
  },
  "language_info": {
   "codemirror_mode": {
    "name": "ipython",
    "version": 3
   },
   "file_extension": ".py",
   "mimetype": "text/x-python",
   "name": "python",
   "nbconvert_exporter": "python",
   "pygments_lexer": "ipython3",
   "version": "3.10.11"
  }
 },
 "nbformat": 4,
 "nbformat_minor": 5
}
