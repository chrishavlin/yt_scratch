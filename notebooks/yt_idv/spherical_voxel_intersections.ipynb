{
 "cells": [
  {
   "cell_type": "code",
   "execution_count": 1,
   "id": "ebb343ca-2277-4ecf-b48c-caebb1c235c0",
   "metadata": {},
   "outputs": [],
   "source": [
    "from spherical_voxels.intersections import SphericalVoxel, find_all_intersections\n",
    "import numpy as np "
   ]
  },
  {
   "cell_type": "code",
   "execution_count": 2,
   "id": "b9a63caf-5783-4bff-a434-6192c1c5ba9f",
   "metadata": {},
   "outputs": [
    {
     "data": {
      "text/plain": [
       "(array([0.4       , 0.78539816, 0.78539816]),\n",
       " array([0.6       , 1.57079633, 1.57079633]))"
      ]
     },
     "execution_count": 2,
     "metadata": {},
     "output_type": "execute_result"
    }
   ],
   "source": [
    "# create a single voxel\n",
    "left_edge = np.array([0.4, np.pi/4, np.pi/4])\n",
    "right_edge = np.array([0.6, np.pi/2, np.pi/2])\n",
    "axis_id = {'r': 0, 'phi': 1, 'theta': 2}\n",
    "\n",
    "vox = SphericalVoxel(left_edge, right_edge, axis_id)\n",
    "left_edge, right_edge"
   ]
  },
  {
   "cell_type": "code",
   "execution_count": 3,
   "id": "df8b60ab-a68d-44c0-83af-5cd68b820061",
   "metadata": {},
   "outputs": [
    {
     "data": {
      "text/plain": [
       "array([ 0.2, -0.2,  0. ,  0. ])"
      ]
     },
     "execution_count": 3,
     "metadata": {},
     "output_type": "execute_result"
    }
   ],
   "source": [
    "vox.phi_plane_le"
   ]
  },
  {
   "cell_type": "code",
   "execution_count": 4,
   "id": "3cdae940-4bee-4522-9ab5-bdc98193f44d",
   "metadata": {},
   "outputs": [
    {
     "name": "stdout",
     "output_type": "stream",
     "text": [
      "0.6\n",
      "[0.3        0.3        0.42426407]\n"
     ]
    },
    {
     "name": "stderr",
     "output_type": "stream",
     "text": [
      "/home/chavlin/src/yt_general/yt_scratch/notebooks/yt_idv/spherical_voxels/intersections.py:114: RuntimeWarning: invalid value encountered in scalar divide\n",
      "  phi = np.arctan(v[1] / v[0])\n",
      "/home/chavlin/src/yt_general/yt_scratch/notebooks/yt_idv/spherical_voxels/intersections.py:116: RuntimeWarning: invalid value encountered in scalar divide\n",
      "  theta = np.arctan(xy / v[2])\n"
     ]
    }
   ],
   "source": [
    "# find intersections \n",
    "\n",
    "v_model_vertex = np.array([0.6, np.pi/4, np.pi/4])\n",
    "camer_pos_cartesian = np.array([0.01, -1, 0.01])\n",
    "t_points, inters, inters_sp, inters_bools = find_all_intersections(v_model_vertex, camer_pos_cartesian, vox)"
   ]
  },
  {
   "cell_type": "code",
   "execution_count": 5,
   "id": "8c7cee37-5183-4461-83bf-cf21317f059a",
   "metadata": {},
   "outputs": [
    {
     "data": {
      "text/plain": [
       "{'t_sphere_outer': array([-9.35927462e-01,  5.55111512e-17]),\n",
       " 't_sphere_inner': array([-0.60576813, -0.33015933]),\n",
       " 't_p_1': array([-0.]),\n",
       " 't_p_2': array([-1.4429884]),\n",
       " 't_cone_outer': array([-1.42856027,         inf]),\n",
       " 't_cone_inner': array([inf, inf])}"
      ]
     },
     "execution_count": 5,
     "metadata": {},
     "output_type": "execute_result"
    }
   ],
   "source": [
    "t_points"
   ]
  },
  {
   "cell_type": "code",
   "execution_count": 6,
   "id": "f9aaeae9-ad37-40df-b0cd-38187e2c77d2",
   "metadata": {},
   "outputs": [
    {
     "data": {
      "text/plain": [
       "{'t_sphere_outer': [array([-0.18458108, -1.87226001, -0.26795845]),\n",
       "  array([ 0.01, -1.  ,  0.01])],\n",
       " 't_sphere_inner': [array([-0.11594033, -1.56456012, -0.16990536]),\n",
       "  array([-0.05864074, -1.30769989, -0.08805308])],\n",
       " 't_p_1': [array([ 0.01, -1.  ,  0.01])],\n",
       " 't_p_2': [array([-0.29      , -2.34482759, -0.41854904])],\n",
       " 't_cone_outer': [array([-0.28700037, -2.33138095, -0.41426407]),\n",
       "  array([inf, inf, inf])],\n",
       " 't_cone_inner': [array([inf, inf, inf]), array([inf, inf, inf])]}"
      ]
     },
     "execution_count": 6,
     "metadata": {},
     "output_type": "execute_result"
    }
   ],
   "source": [
    "inters"
   ]
  },
  {
   "cell_type": "code",
   "execution_count": 7,
   "id": "f4c639ce-cee1-4b3d-84ee-39750c4deafc",
   "metadata": {},
   "outputs": [
    {
     "data": {
      "text/plain": [
       "{'t_sphere_outer': [array([ 1.90032351,  1.47252657, -1.42931807]),\n",
       "  array([ 1.0001    , -1.56079666,  1.56079716])],\n",
       " 't_sphere_inner': [array([ 1.57802356,  1.49682742, -1.46291748]),\n",
       "  array([ 1.31197221,  1.52598369, -1.50363079])],\n",
       " 't_p_1': [array([ 1.0001    , -1.56079666,  1.56079716])],\n",
       " 't_p_2': [array([ 2.39947905,  1.44774471, -1.39546612])],\n",
       " 't_cone_outer': [array([ 2.38522977,  1.44830942, -1.39623221]),\n",
       "  array([inf, nan, nan])],\n",
       " 't_cone_inner': [array([inf, nan, nan]), array([inf, nan, nan])]}"
      ]
     },
     "execution_count": 7,
     "metadata": {},
     "output_type": "execute_result"
    }
   ],
   "source": [
    "inters_sp"
   ]
  },
  {
   "cell_type": "code",
   "execution_count": 8,
   "id": "61cdfe7e-0f81-4a0a-901f-51e3b8932adf",
   "metadata": {},
   "outputs": [
    {
     "data": {
      "text/plain": [
       "{'t_sphere_outer': [False, False],\n",
       " 't_sphere_inner': [False, False],\n",
       " 't_p_1': [False],\n",
       " 't_p_2': [False],\n",
       " 't_cone_outer': [False, False],\n",
       " 't_cone_inner': [False, False]}"
      ]
     },
     "execution_count": 8,
     "metadata": {},
     "output_type": "execute_result"
    }
   ],
   "source": [
    "inters_bools"
   ]
  },
  {
   "cell_type": "code",
   "execution_count": 9,
   "id": "5049d4bd-fc9d-43b4-80f8-f9c3c7962745",
   "metadata": {},
   "outputs": [
    {
     "data": {
      "text/plain": [
       "1.0709628509683469"
      ]
     },
     "execution_count": 9,
     "metadata": {},
     "output_type": "execute_result"
    }
   ],
   "source": [
    "a = np.array([0.6300606 , 0.6300606 , 0.59414536])\n",
    "np.sqrt(a[0]**2 + a[1]**2 + a[2]**2)"
   ]
  },
  {
   "cell_type": "code",
   "execution_count": 10,
   "id": "069ab1da-3d28-427a-95c5-98227f7a89d8",
   "metadata": {},
   "outputs": [
    {
     "data": {
      "text/plain": [
       "array([ True,  True, False])"
      ]
     },
     "execution_count": 10,
     "metadata": {},
     "output_type": "execute_result"
    }
   ],
   "source": [
    "inters_sp['t_p_2'][0] >= left_edge"
   ]
  },
  {
   "cell_type": "code",
   "execution_count": 11,
   "id": "f43b92c3-6be1-4248-a92f-848303dda3d8",
   "metadata": {},
   "outputs": [
    {
     "data": {
      "text/plain": [
       "0.7853981633974483"
      ]
     },
     "execution_count": 11,
     "metadata": {},
     "output_type": "execute_result"
    }
   ],
   "source": [
    "left_edge[1]"
   ]
  },
  {
   "cell_type": "code",
   "execution_count": 12,
   "id": "6111c538-3af6-439f-8ce4-ab0a9267c7ce",
   "metadata": {},
   "outputs": [
    {
     "data": {
      "text/plain": [
       "1.4477447112461415"
      ]
     },
     "execution_count": 12,
     "metadata": {},
     "output_type": "execute_result"
    }
   ],
   "source": [
    "inters_sp['t_p_2'][0][1]"
   ]
  },
  {
   "cell_type": "code",
   "execution_count": null,
   "id": "dc5eada9-6050-4231-b97c-8700b7996870",
   "metadata": {},
   "outputs": [],
   "source": []
  }
 ],
 "metadata": {
  "kernelspec": {
   "display_name": "Python 3 (ipykernel)",
   "language": "python",
   "name": "python3"
  },
  "language_info": {
   "codemirror_mode": {
    "name": "ipython",
    "version": 3
   },
   "file_extension": ".py",
   "mimetype": "text/x-python",
   "name": "python",
   "nbconvert_exporter": "python",
   "pygments_lexer": "ipython3",
   "version": "3.9.16"
  }
 },
 "nbformat": 4,
 "nbformat_minor": 5
}
