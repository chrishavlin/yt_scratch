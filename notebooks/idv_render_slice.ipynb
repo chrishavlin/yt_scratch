{
 "cells": [
  {
   "cell_type": "code",
   "execution_count": null,
   "metadata": {},
   "outputs": [],
   "source": [
    "\n",
    "\n",
    "# k, now we need to load up data slice\n",
    "\n",
    "ds = yt.load(\"IsolatedGalaxy/galaxy0030/galaxy0030\")\n",
    "\n",
    "\n",
    "slc = ds.slice(1,.5)\n",
    "frb = slc.to_frb(1., (100,100))\n",
    "vals_fixed_y = frb[('gas','density')]\n",
    "\n",
    "\n",
    "slc = ds.slice(0,.5)\n",
    "frb = slc.to_frb(1., (100,100))\n",
    "vals_fixed_x = frb[('gas','density')]\n",
    "\n",
    "\n",
    "# \n",
    "\n",
    "\n",
    "def get_plane_from_frb(nx,ny,nz, frb_vals):\n",
    "\n",
    "\n",
    "    x = np.linspace(0, 1, nx) # element-centers\n",
    "    z = np.linspace(0, 1, nz) # element-centers\n",
    "    y = np.linspace(0, 1, ny)\n",
    "\n",
    "    def get_dval(xc,dmin = 0.01):\n",
    "        if len(xc) > 1:\n",
    "            return xc[1] - xc[0]\n",
    "        else:\n",
    "            return dmin\n",
    "\n",
    "    def get_edge(xc, dx):\n",
    "        if len(xc) > 1:\n",
    "            return np.append([xc - dx/2.], [xc[-1] + dx/2])\n",
    "        else:\n",
    "            return np.array([0.5 - dx/2., 0.5 + dx/2.])\n",
    "\n",
    "    dx = get_dval(x)\n",
    "    dz = get_dval(z)\n",
    "    dy = get_dval(y)\n",
    "\n",
    "    xe = get_edge(x, dx)\n",
    "    ye = get_edge(y, dy)\n",
    "    ze = get_edge(z, dz)\n",
    "\n",
    "    # assemble elements\n",
    "    coords = []\n",
    "    connectivity = []\n",
    "    element_center_data = []\n",
    "    icoord = 0\n",
    "\n",
    "    for ix in range(nx):\n",
    "        for iy in range(ny):\n",
    "            for iz in range(nz):\n",
    "\n",
    "                verts = [\n",
    "                            [xe[ix], ye[iy], ze[iz]],\n",
    "                            [xe[ix+1], ye[iy], ze[iz]],\n",
    "                            [xe[ix+1], ye[iy+1], ze[iz]],\n",
    "                            [xe[ix], ye[iy+1], ze[iz]],\n",
    "                            [xe[ix], ye[iy], ze[iz+1]],\n",
    "                            [xe[ix+1], ye[iy], ze[iz+1]],\n",
    "                            [xe[ix+1], ye[iy+1], ze[iz+1]],\n",
    "                            [xe[ix], ye[iy+1], ze[iz+1]]\n",
    "                        ]\n",
    "\n",
    "                connectivity += [[i for i in range(icoord, icoord+8)],]\n",
    "\n",
    "                coords += verts\n",
    "                icoord += 8\n",
    "\n",
    "                if nx == 1:\n",
    "                    these_vals = frb_vals[iy, iz]\n",
    "                elif ny ==1:\n",
    "                    these_vals = frb_vals[ix, iz]\n",
    "                elif nz ==1:\n",
    "                    these_vals = frb_vals[ix, iy]\n",
    "\n",
    "                element_center_data.append(these_vals)\n",
    "\n",
    "    coords = np.array(coords)\n",
    "    connectivity = np.array(connectivity)\n",
    "\n",
    "\n",
    "    return coords, connectivity, element_center_data\n",
    "\n",
    "full_con = []\n",
    "full_coord = []\n",
    "full_data = []\n",
    "offset = 0\n",
    "for nx,ny,nz, vals in [(100,1, 100, vals_fixed_y), (1,100, 100, vals_fixed_x) ]:\n",
    "    coord, conn, data = get_plane_from_frb(nx, ny, nz, vals)\n",
    "\n",
    "    full_con.append(conn + offset)\n",
    "    offset += coord.shape[0]\n",
    "    full_data.append(data)\n",
    "    full_coord.append(coord)\n",
    "\n",
    "full_coord = np.concatenate(full_coord)\n",
    "full_con = np.concatenate(full_con)\n",
    "full_data = {('connect1','test'): np.concatenate(full_data)}\n",
    "\n",
    "\n"
   ]
  },
  {
   "cell_type": "code",
   "execution_count": null,
   "metadata": {},
   "outputs": [],
   "source": []
  },
  {
   "cell_type": "code",
   "execution_count": null,
   "metadata": {},
   "outputs": [],
   "source": []
  },
  {
   "cell_type": "code",
   "execution_count": 3,
   "metadata": {},
   "outputs": [
    {
     "name": "stderr",
     "output_type": "stream",
     "text": [
      "/home/chris/src/yt_/yt_dev/yt/yt/utilities/logger.py:4: VisibleDeprecationWarning: The configuration file /home/chris/.config/yt/ytrc is deprecated in favor of /home/chris/.config/yt/yt.toml. Currently, both are present. Please manually remove the deprecated one to silence this warning.\n",
      "Deprecated since v4.0.0 . This feature will be removed in v4.1.0\n",
      "  from yt.config import ytcfg\n"
     ]
    }
   ],
   "source": [
    "import numpy as np\n"
   ]
  },
  {
   "cell_type": "code",
   "execution_count": 36,
   "metadata": {},
   "outputs": [],
   "source": [
    "import numpy as np\n",
    "\n",
    "def assemble_brute(xe, ye, ze, nx, ny, nz, field, frb_cell_center_vals):\n",
    "    # assemble elements! \n",
    "    print(\"assembling unstructured mesh for slice\")    \n",
    "\n",
    "    # containers that can be given to yt.load_unstructured()\n",
    "    coords = []\n",
    "    connectivity = []\n",
    "    element_center_data = []\n",
    "    icoord = 0\n",
    "\n",
    "    # this could be vectorized... but it's not as bad as it could be since\n",
    "    # one of the dimensions will always have 1 element... \n",
    "    for ix in range(nx):\n",
    "        for iy in range(ny):\n",
    "            for iz in range(nz):\n",
    "\n",
    "                # add vertices of our hexahedral elements (in the proper order!)\n",
    "                # to our coordinate array (this will repeat vertices in the \n",
    "                # coordinate array)\n",
    "                verts = [\n",
    "                            [xe[ix], ye[iy], ze[iz]],\n",
    "                            [xe[ix+1], ye[iy], ze[iz]],\n",
    "                            [xe[ix+1], ye[iy+1], ze[iz]],\n",
    "                            [xe[ix], ye[iy+1], ze[iz]],\n",
    "                            [xe[ix], ye[iy], ze[iz+1]],\n",
    "                            [xe[ix+1], ye[iy], ze[iz+1]],\n",
    "                            [xe[ix+1], ye[iy+1], ze[iz+1]],\n",
    "                            [xe[ix], ye[iy+1], ze[iz+1]]\n",
    "                        ]\n",
    "                coords += verts\n",
    "                \n",
    "                # because we are repeating our verticies, connectivity can \n",
    "                # just be incremented\n",
    "                connectivity += [[i for i in range(icoord, icoord+8)],]                \n",
    "                icoord += 8\n",
    "\n",
    "                # now extract our frb values for our cell_center values. \n",
    "                # the index order depends on which axis is orthoganal \n",
    "                # to our slice!\n",
    "                if nx == 1:\n",
    "                    these_vals = frb_cell_center_vals[iy, iz]\n",
    "                elif ny ==1:\n",
    "                    these_vals = frb_cell_center_vals[ix, iz]\n",
    "                elif nz ==1:\n",
    "                    these_vals = frb_cell_center_vals[ix, iy]\n",
    "                else:\n",
    "                    raise ValueError(\"One of the mesh dimensions must have a single element!\")\n",
    "                \n",
    "                element_center_data.append(these_vals)\n",
    "\n",
    "    # finalize our arrays which will now be ready to load as an unstructured_mesh! \n",
    "    coords = np.array(coords)\n",
    "    connectivity = np.array(connectivity)\n",
    "    \n",
    "    if type(field) == tuple:\n",
    "        field = field[1]\n",
    "        \n",
    "    element_center_data = {('connect1', field): np.array(element_center_data)}\n",
    "    print(\"unstructured mesh assembled!\")    \n",
    "    return coords, connectivity, element_center_data\n",
    "\n",
    "\n",
    "def assemble_smart(xe, ye, ze, nx, ny, nz, field, frb_cell_center_vals):\n",
    "    # assemble elements! \n",
    "    print(\"assembling unstructured mesh for slice\")    \n",
    "\n",
    "    # containers that can be given to yt.load_unstructured()\n",
    "    coords = []\n",
    "    connectivity = []\n",
    "    element_center_data = []\n",
    "    icoord = 0\n",
    "\n",
    "    # this could be vectorized... but it's not as bad as it could be since\n",
    "    # one of the dimensions will always have 1 element... \n",
    "    ix, iy, iz = np.meshgrid(np.arange(0,nx), np.arange(0,ny), np.arange(0,nz))\n",
    "    \n",
    "    \n",
    "    \n",
    "    for ix in range(nx):\n",
    "        for iy in range(ny):\n",
    "            for iz in range(nz):\n",
    "\n",
    "                # add vertices of our hexahedral elements (in the proper order!)\n",
    "                # to our coordinate array (this will repeat vertices in the \n",
    "                # coordinate array)\n",
    "                verts = [\n",
    "                            [xe[ix], ye[iy], ze[iz]],\n",
    "                            [xe[ix+1], ye[iy], ze[iz]],\n",
    "                            [xe[ix+1], ye[iy+1], ze[iz]],\n",
    "                            [xe[ix], ye[iy+1], ze[iz]],\n",
    "                            [xe[ix], ye[iy], ze[iz+1]],\n",
    "                            [xe[ix+1], ye[iy], ze[iz+1]],\n",
    "                            [xe[ix+1], ye[iy+1], ze[iz+1]],\n",
    "                            [xe[ix], ye[iy+1], ze[iz+1]]\n",
    "                        ]\n",
    "                coords += verts\n",
    "                \n",
    "                # because we are repeating our verticies, connectivity can \n",
    "                # just be incremented\n",
    "                connectivity += [[i for i in range(icoord, icoord+8)],]                \n",
    "                icoord += 8\n",
    "\n",
    "                # now extract our frb values for our cell_center values. \n",
    "                # the index order depends on which axis is orthoganal \n",
    "                # to our slice!\n",
    "                if nx == 1:\n",
    "                    these_vals = frb_cell_center_vals[iy, iz]\n",
    "                elif ny ==1:\n",
    "                    these_vals = frb_cell_center_vals[ix, iz]\n",
    "                elif nz ==1:\n",
    "                    these_vals = frb_cell_center_vals[ix, iy]\n",
    "                else:\n",
    "                    raise ValueError(\"One of the mesh dimensions must have a single element!\")\n",
    "                \n",
    "                element_center_data.append(these_vals)\n",
    "\n",
    "    # finalize our arrays which will now be ready to load as an unstructured_mesh! \n",
    "    coords = np.array(coords)\n",
    "    connectivity = np.array(connectivity)\n",
    "    \n",
    "    if type(field) == tuple:\n",
    "        field = field[1]\n",
    "        \n",
    "    element_center_data = {('connect1', field): np.array(element_center_data)}\n",
    "    print(\"unstructured mesh assembled!\")    \n",
    "    return coords, connectivity, element_center_data\n",
    "\n",
    "\n",
    "def unstructured_ds_from_frb_slice(frb, field):\n",
    "\n",
    "    # extract frb values and extract slice info\n",
    "    frb_vals = frb[field] \n",
    "    parent_slice = frb.data_source \n",
    "    coord = parent_slice.coord \n",
    "    bounds = frb.bounds\n",
    "    axis = parent_slice.axis \n",
    "    \n",
    "    # build a quasi-3d mesh. frb values will be cell-centered values, will build a grid to \n",
    "    # to surround the cell-centered values.\n",
    "    \n",
    "    # first decide on the thickness of our cells in the slice-orthoganal direction\n",
    "    d1 = (bounds[1] - bounds[0]) / frb.buff_size[0]\n",
    "    d2 = (bounds[2] - bounds[3]) / frb.buff_size[1]\n",
    "    pseudo_d = np.min([d1, d2]) / 1e2 # our cell width in the slice-orthoganal axis\n",
    "    pseudo_bounds = [coord - pseudo_d/2., coord + pseudo_d/2.]\n",
    "    \n",
    "    # now set the bounds and number of cells in each direction. The axis orthogonal to slicing plane will \n",
    "    # always have 1 element. \n",
    "    if axis == 0: \n",
    "        nx = 1\n",
    "        xlims = pseudo_bounds\n",
    "        ny = frb.buff_size[0]\n",
    "        ylims = [bounds[0], bounds[1]]\n",
    "        nz = frb.buff_size[1]\n",
    "        zlims = [bounds[2], bounds[3]]\n",
    "    elif axis == 1: \n",
    "        nx = frb.buff_size[0]\n",
    "        xlims = [bounds[0], bounds[1]]\n",
    "        ny = 1\n",
    "        ylims = pseudo_bounds\n",
    "        nz = frb.buff_size[1]  \n",
    "        zlims = [bounds[2], bounds[3]]\n",
    "    elif axis == 2: \n",
    "        nx = frb.buff_size[0]\n",
    "        xlims = [bounds[0], bounds[1]]\n",
    "        ny = frb.buff_size[1] \n",
    "        ylims = [bounds[2], bounds[3]]\n",
    "        nz = 1\n",
    "        ylims = pseudo_bounds\n",
    "        \n",
    "    \n",
    "    # construct cell-center arrays, cell widths and cell vertices arrays for each axis\n",
    "    def get_grid_axis(lims, N):        \n",
    "        grid_spacing = (lims[1] - lims[0])/N\n",
    "        hlf = grid_spacing / 2.\n",
    "        grid_edges = np.linspace(lims[0]-hlf, lims[1]+hlf, N+1)\n",
    "        return grid_edges, grid_spacing\n",
    "    \n",
    "    xe, dx = get_grid_axis(xlims, nx)\n",
    "    ye, dy = get_grid_axis(ylims, ny)\n",
    "    ze, dz = get_grid_axis(zlims, nz)\n",
    "        \n",
    "    coords, conn, e_center_data = assemble_brute(xe, ye, ze, nx, ny, nz, field, frb_vals)\n",
    "    return yt.load_unstructured_mesh(conn, coords, elem_data = e_center_data)\n",
    "\n",
    "\n",
    "def slices_as_unstructured_mesh(slc, field, frb_width=1., resolution=(400,400), **frb_kwargs):\n",
    "    # to_frb args and kwargs: width, resolution, center=None, height=None, periodic=False   \n",
    "    frb = slc.to_frb(frb_width, resolution, **frb_kwargs) \n",
    "    return unstructured_ds_from_frb_slice(frb, field)\n",
    "    "
   ]
  },
  {
   "cell_type": "code",
   "execution_count": 37,
   "metadata": {},
   "outputs": [
    {
     "name": "stderr",
     "output_type": "stream",
     "text": [
      "yt : [INFO     ] 2021-04-05 16:21:30,608 Parameters: current_time              = 0.0060000200028298\n",
      "yt : [INFO     ] 2021-04-05 16:21:30,608 Parameters: domain_dimensions         = [32 32 32]\n",
      "yt : [INFO     ] 2021-04-05 16:21:30,609 Parameters: domain_left_edge          = [0. 0. 0.]\n",
      "yt : [INFO     ] 2021-04-05 16:21:30,609 Parameters: domain_right_edge         = [1. 1. 1.]\n",
      "yt : [INFO     ] 2021-04-05 16:21:30,610 Parameters: cosmological_simulation   = 0\n",
      "yt : [INFO     ] 2021-04-05 16:21:30,612 Making a fixed resolution buffer of (('gas', 'density')) 400 by 400\n",
      "Parsing Hierarchy :  99%|█████████▉| 172/173 [00:00<00:00, 13955.86it/s]\n",
      "yt : [INFO     ] 2021-04-05 16:21:30,633 Gathering a field list (this may take a moment.)\n"
     ]
    },
    {
     "name": "stdout",
     "output_type": "stream",
     "text": [
      "assembling unstructured mesh for slice\n"
     ]
    },
    {
     "name": "stderr",
     "output_type": "stream",
     "text": [
      "yt : [INFO     ] 2021-04-05 16:21:48,176 Parameters: current_time              = 0.0\n",
      "yt : [INFO     ] 2021-04-05 16:21:48,177 Parameters: domain_dimensions         = [2 2 2]\n",
      "yt : [INFO     ] 2021-04-05 16:21:48,178 Parameters: domain_left_edge          = [-0.001375   0.4499775 -0.001375 ]\n",
      "yt : [INFO     ] 2021-04-05 16:21:48,179 Parameters: domain_right_edge         = [1.101375  0.5500275 1.101375 ]\n",
      "yt : [INFO     ] 2021-04-05 16:21:48,179 Parameters: cosmological_simulation   = 0\n"
     ]
    },
    {
     "name": "stdout",
     "output_type": "stream",
     "text": [
      "unstructured mesh assembled!\n"
     ]
    }
   ],
   "source": [
    "import yt\n",
    "ds = yt.load(\"IsolatedGalaxy/galaxy0030/galaxy0030\")\n",
    "\n",
    "slc = ds.slice(1, 0.5)\n",
    "ds_mesh = slices_as_unstructured_mesh(slc, ('gas', 'density'))"
   ]
  },
  {
   "cell_type": "code",
   "execution_count": 38,
   "metadata": {},
   "outputs": [
    {
     "name": "stdout",
     "output_type": "stream",
     "text": [
      "Setting position 560.0 200.0\n",
      "False False False True\n"
     ]
    }
   ],
   "source": [
    "import yt_idv\n",
    "from yt_idv.cameras.trackball_camera import TrackballCamera  # NOQA\n",
    "from yt_idv.scene_components.mesh import MeshRendering  # NOQA\n",
    "from yt_idv.scene_data.mesh import MeshData  # NOQA\n",
    "from yt_idv.scene_graph import SceneGraph  # NOQA\n",
    "\n",
    "\n",
    "def run_idv(combo_ds):\n",
    "    rc = yt_idv.render_context(height=800, width=800, gui=True)\n",
    "\n",
    "\n",
    "    c = TrackballCamera(position=[3.5, 3.5, 3.5], focus=[0.0, 0.0, 0.0])\n",
    "    rc.scene = SceneGraph(camera=c)\n",
    "\n",
    "    dd = combo_ds.all_data()\n",
    "    md = MeshData(data_source=dd)\n",
    "    md.add_data((\"connect1\", \"density\"))\n",
    "    mr = MeshRendering(data=md)\n",
    "\n",
    "    rc.scene.data_objects.append(md)\n",
    "    rc.scene.components.append(mr)\n",
    "    rc.run()\n",
    "    \n",
    "run_idv(combo_ds)"
   ]
  },
  {
   "cell_type": "code",
   "execution_count": 41,
   "metadata": {},
   "outputs": [],
   "source": [
    "um = ds_mesh.index.meshes[0]\n"
   ]
  },
  {
   "cell_type": "code",
   "execution_count": 43,
   "metadata": {},
   "outputs": [
    {
     "data": {
      "text/plain": [
       "array([[      0,       1,       2, ...,       5,       6,       7],\n",
       "       [      8,       9,      10, ...,      13,      14,      15],\n",
       "       [     16,      17,      18, ...,      21,      22,      23],\n",
       "       ...,\n",
       "       [1279976, 1279977, 1279978, ..., 1279981, 1279982, 1279983],\n",
       "       [1279984, 1279985, 1279986, ..., 1279989, 1279990, 1279991],\n",
       "       [1279992, 1279993, 1279994, ..., 1279997, 1279998, 1279999]])"
      ]
     },
     "execution_count": 43,
     "metadata": {},
     "output_type": "execute_result"
    }
   ],
   "source": [
    "um.connectivity_indices"
   ]
  },
  {
   "cell_type": "code",
   "execution_count": 44,
   "metadata": {},
   "outputs": [
    {
     "data": {
      "text/plain": [
       "(160000,)"
      ]
     },
     "execution_count": 44,
     "metadata": {},
     "output_type": "execute_result"
    }
   ],
   "source": [
    "dd['connect1','density'].shape"
   ]
  },
  {
   "cell_type": "code",
   "execution_count": 45,
   "metadata": {},
   "outputs": [
    {
     "data": {
      "text/plain": [
       "(160000, 8)"
      ]
     },
     "execution_count": 45,
     "metadata": {},
     "output_type": "execute_result"
    }
   ],
   "source": [
    "um.connectivity_indices.shape"
   ]
  },
  {
   "cell_type": "code",
   "execution_count": 55,
   "metadata": {},
   "outputs": [],
   "source": [
    "from collections import defaultdict \n",
    "\n",
    "\n",
    "def validate_meshes(mesh_ds_list):\n",
    "    \n",
    "    flist = mesh_ds_list[0].field_list\n",
    "    has_fields = True\n",
    "    for ds in mesh_ds_list:\n",
    "        has_fields = np.all([fld in flist for fld in ds.field_list])\n",
    "        if has_fields is False:\n",
    "            raise ValueError(\"All 3d mesh-slices must have the same fields to combine!\")\n",
    "    \n",
    "        \n",
    "def combine_slices(mesh_ds_list):\n",
    "    full_coords = []\n",
    "    full_conn = [ ]\n",
    "    offset = 0\n",
    "    full_data = defaultdict(list)\n",
    "    \n",
    "    validate_meshes(mesh_ds_list)\n",
    "    \n",
    "    for ds in mesh_ds_list:\n",
    "        ad = ds.all_data()  # all the data in the slice = element centered data\n",
    "        mesh = ds.index.meshes[0]\n",
    "        full_coords.append(mesh.connectivity_coords)\n",
    "        full_conn.append(mesh.connectivity_indices + offset)\n",
    "        offset = mesh.connectivity_coords.shape[0]\n",
    "        \n",
    "        for fld in ds_mesh.field_list:\n",
    "            if fld[0] != 'all':\n",
    "                full_data[fld].append(ad[fld])\n",
    "                \n",
    "    full_coords = np.concatenate(full_coords)\n",
    "    full_conn = np.concatenate(full_conn)\n",
    "    for ky, vals in full_data.items():\n",
    "        full_data[ky] = np.concatenate(vals)\n",
    "\n",
    "    return yt.load_unstructured_mesh(full_conn, full_coords, elem_data = full_data)\n",
    "        "
   ]
  },
  {
   "cell_type": "code",
   "execution_count": 56,
   "metadata": {},
   "outputs": [
    {
     "name": "stderr",
     "output_type": "stream",
     "text": [
      "yt : [INFO     ] 2021-04-05 16:41:19,340 Making a fixed resolution buffer of (('gas', 'density')) 400 by 400\n"
     ]
    },
    {
     "name": "stdout",
     "output_type": "stream",
     "text": [
      "assembling unstructured mesh for slice\n"
     ]
    },
    {
     "name": "stderr",
     "output_type": "stream",
     "text": [
      "yt : [INFO     ] 2021-04-05 16:41:35,891 Parameters: current_time              = 0.0\n",
      "yt : [INFO     ] 2021-04-05 16:41:35,892 Parameters: domain_dimensions         = [2 2 2]\n",
      "yt : [INFO     ] 2021-04-05 16:41:35,892 Parameters: domain_left_edge          = [-0.001375   0.4499775 -0.001375 ]\n",
      "yt : [INFO     ] 2021-04-05 16:41:35,893 Parameters: domain_right_edge         = [1.101375  0.5500275 1.101375 ]\n",
      "yt : [INFO     ] 2021-04-05 16:41:35,894 Parameters: cosmological_simulation   = 0\n"
     ]
    },
    {
     "name": "stdout",
     "output_type": "stream",
     "text": [
      "unstructured mesh assembled!\n"
     ]
    },
    {
     "name": "stderr",
     "output_type": "stream",
     "text": [
      "yt : [INFO     ] 2021-04-05 16:41:36,128 Making a fixed resolution buffer of (('gas', 'density')) 400 by 400\n"
     ]
    },
    {
     "name": "stdout",
     "output_type": "stream",
     "text": [
      "assembling unstructured mesh for slice\n"
     ]
    },
    {
     "name": "stderr",
     "output_type": "stream",
     "text": [
      "yt : [INFO     ] 2021-04-05 16:41:52,533 Parameters: current_time              = 0.0\n",
      "yt : [INFO     ] 2021-04-05 16:41:52,534 Parameters: domain_dimensions         = [2 2 2]\n",
      "yt : [INFO     ] 2021-04-05 16:41:52,534 Parameters: domain_left_edge          = [ 0.4499775 -0.001375  -0.001375 ]\n",
      "yt : [INFO     ] 2021-04-05 16:41:52,535 Parameters: domain_right_edge         = [0.5500275 1.101375  1.101375 ]\n",
      "yt : [INFO     ] 2021-04-05 16:41:52,536 Parameters: cosmological_simulation   = 0\n"
     ]
    },
    {
     "name": "stdout",
     "output_type": "stream",
     "text": [
      "unstructured mesh assembled!\n"
     ]
    }
   ],
   "source": [
    "slc = ds.slice(1, 0.5)\n",
    "ds_mesh = slices_as_unstructured_mesh(slc, ('gas', 'density'))\n",
    "\n",
    "slc2 = ds.slice(0, 0.5)\n",
    "ds_mesh2 = slices_as_unstructured_mesh(slc2, ('gas', 'density'))\n",
    "\n"
   ]
  },
  {
   "cell_type": "code",
   "execution_count": 57,
   "metadata": {},
   "outputs": [
    {
     "name": "stderr",
     "output_type": "stream",
     "text": [
      "yt : [INFO     ] 2021-04-05 16:41:55,219 Parameters: current_time              = 0.0\n",
      "yt : [INFO     ] 2021-04-05 16:41:55,219 Parameters: domain_dimensions         = [2 2 2]\n",
      "yt : [INFO     ] 2021-04-05 16:41:55,220 Parameters: domain_left_edge          = [-0.001375 -0.001375 -0.001375]\n",
      "yt : [INFO     ] 2021-04-05 16:41:55,221 Parameters: domain_right_edge         = [1.101375 1.101375 1.101375]\n",
      "yt : [INFO     ] 2021-04-05 16:41:55,221 Parameters: cosmological_simulation   = 0\n"
     ]
    }
   ],
   "source": [
    "combo_ds = combine_slices([ds_mesh, ds_mesh2])"
   ]
  },
  {
   "cell_type": "code",
   "execution_count": 62,
   "metadata": {},
   "outputs": [],
   "source": []
  },
  {
   "cell_type": "code",
   "execution_count": 63,
   "metadata": {},
   "outputs": [
    {
     "name": "stdout",
     "output_type": "stream",
     "text": [
      "Setting position 560.0 200.0\n",
      "False False False True\n"
     ]
    }
   ],
   "source": [
    "run_idv(combo_ds)"
   ]
  },
  {
   "cell_type": "code",
   "execution_count": 60,
   "metadata": {},
   "outputs": [
    {
     "name": "stdout",
     "output_type": "stream",
     "text": [
      "assembling unstructured mesh for slice\n"
     ]
    },
    {
     "name": "stderr",
     "output_type": "stream",
     "text": [
      "yt : [INFO     ] 2021-04-05 16:46:36,267 Parameters: current_time              = 0.0\n",
      "yt : [INFO     ] 2021-04-05 16:46:36,267 Parameters: domain_dimensions         = [2 2 2]\n",
      "yt : [INFO     ] 2021-04-05 16:46:36,268 Parameters: domain_left_edge          = [ 0.3599775 -0.001375  -0.001375 ]\n",
      "yt : [INFO     ] 2021-04-05 16:46:36,269 Parameters: domain_right_edge         = [0.4400275 1.101375  1.101375 ]\n",
      "yt : [INFO     ] 2021-04-05 16:46:36,269 Parameters: cosmological_simulation   = 0\n"
     ]
    },
    {
     "name": "stdout",
     "output_type": "stream",
     "text": [
      "unstructured mesh assembled!\n"
     ]
    }
   ],
   "source": [
    "slc3 = ds.slice(0, 0.4)\n",
    "ds_mesh3 = slices_as_unstructured_mesh(slc3, ('gas', 'density'))\n",
    "\n"
   ]
  },
  {
   "cell_type": "code",
   "execution_count": 61,
   "metadata": {},
   "outputs": [
    {
     "name": "stderr",
     "output_type": "stream",
     "text": [
      "yt : [INFO     ] 2021-04-05 16:46:39,873 Parameters: current_time              = 0.0\n",
      "yt : [INFO     ] 2021-04-05 16:46:39,874 Parameters: domain_dimensions         = [2 2 2]\n",
      "yt : [INFO     ] 2021-04-05 16:46:39,874 Parameters: domain_left_edge          = [-0.001375 -0.001375 -0.001375]\n",
      "yt : [INFO     ] 2021-04-05 16:46:39,875 Parameters: domain_right_edge         = [1.101375 1.101375 1.101375]\n",
      "yt : [INFO     ] 2021-04-05 16:46:39,876 Parameters: cosmological_simulation   = 0\n"
     ]
    }
   ],
   "source": [
    "combo_ds = combine_slices([ds_mesh, ds_mesh3])"
   ]
  },
  {
   "cell_type": "code",
   "execution_count": null,
   "metadata": {},
   "outputs": [],
   "source": [
    "run_idv(combo_ds)"
   ]
  },
  {
   "cell_type": "code",
   "execution_count": null,
   "metadata": {},
   "outputs": [],
   "source": []
  },
  {
   "cell_type": "code",
   "execution_count": null,
   "metadata": {},
   "outputs": [],
   "source": []
  },
  {
   "cell_type": "code",
   "execution_count": null,
   "metadata": {},
   "outputs": [],
   "source": []
  },
  {
   "cell_type": "code",
   "execution_count": 71,
   "metadata": {},
   "outputs": [],
   "source": []
  },
  {
   "cell_type": "code",
   "execution_count": null,
   "metadata": {},
   "outputs": [],
   "source": []
  },
  {
   "cell_type": "code",
   "execution_count": null,
   "metadata": {},
   "outputs": [],
   "source": []
  }
 ],
 "metadata": {
  "kernelspec": {
   "display_name": "Python 3",
   "language": "python",
   "name": "python3"
  },
  "language_info": {
   "codemirror_mode": {
    "name": "ipython",
    "version": 3
   },
   "file_extension": ".py",
   "mimetype": "text/x-python",
   "name": "python",
   "nbconvert_exporter": "python",
   "pygments_lexer": "ipython3",
   "version": "3.7.7"
  }
 },
 "nbformat": 4,
 "nbformat_minor": 4
}
