{
 "cells": [
  {
   "cell_type": "markdown",
   "id": "db312108-25c7-4ed2-a9af-e6f4960845f1",
   "metadata": {},
   "source": [
    "Inheritance exploration using https://github.com/chrishavlin/inheritance_explorer \n",
    "\n",
    "In addition to the requirements in the above repo, this notebook uses yt as the test code to map, so you need that too (`pip install yt`). While the above repo is general beyond yt, I've only actually tried it with yt, so no idea how it'll work out with other packages."
   ]
  },
  {
   "cell_type": "code",
   "execution_count": 2,
   "id": "b478c4f9-f34f-414f-8ab4-ae1f3e2b67d1",
   "metadata": {},
   "outputs": [
    {
     "data": {
      "text/html": [
       "\n",
       "        <iframe\n",
       "            width=\"1200px\"\n",
       "            height=\"1200px\"\n",
       "            src=\"_tmp.html\"\n",
       "            frameborder=\"0\"\n",
       "            allowfullscreen\n",
       "            \n",
       "        ></iframe>\n",
       "        "
      ],
      "text/plain": [
       "<IPython.lib.display.IFrame at 0x7f1f6c33ca60>"
      ]
     },
     "execution_count": 2,
     "metadata": {},
     "output_type": "execute_result"
    }
   ],
   "source": [
    "import yt\n",
    "from inheritance_explorer import ClassGraphTree\n",
    "\n",
    "base_class = yt.data_objects.static_output.Dataset # the starting class to map from\n",
    "fname = \"_parse_parameter_file\"  # the method to observe along the way\n",
    "\n",
    "cgt = ClassGraphTree(base_class, funcname=fname) # traces an inheritance tree\n",
    "graph = cgt.build_interactive_graph(width=\"1200px\", \n",
    "                                    height=\"1200px\", \n",
    "                                    bgcolor='#222222', \n",
    "                                    font_color='white') # constructs a pyvis interactive graph\n",
    "graph.show('_tmp.html')  # render the pyvis interactive graph here!"
   ]
  },
  {
   "cell_type": "markdown",
   "id": "beb52d1f-a618-401f-809c-161660ef185a",
   "metadata": {},
   "source": [
    "* Nodes: child classes, hover shows the class name with its direct parent class\n",
    "* Gray edges: point from child to parent classes\n",
    "* Blue-Purple nodes: this child over-rides the selected function\n",
    "* blue edges: connect child classes that over-ride the selected function AND are greater than 75% similar\n",
    "* isolated blue-purple nodes = over-rides that are below similarity cutoff (75%)"
   ]
  },
  {
   "cell_type": "code",
   "execution_count": null,
   "id": "02c01e84-7bc0-4789-b9f7-f04fbb300178",
   "metadata": {},
   "outputs": [],
   "source": []
  }
 ],
 "metadata": {
  "kernelspec": {
   "display_name": "Python 3 (ipykernel)",
   "language": "python",
   "name": "python3"
  },
  "language_info": {
   "codemirror_mode": {
    "name": "ipython",
    "version": 3
   },
   "file_extension": ".py",
   "mimetype": "text/x-python",
   "name": "python",
   "nbconvert_exporter": "python",
   "pygments_lexer": "ipython3",
   "version": "3.9.0"
  }
 },
 "nbformat": 4,
 "nbformat_minor": 5
}
