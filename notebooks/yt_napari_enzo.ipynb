{
 "cells": [
  {
   "cell_type": "code",
   "execution_count": 4,
   "id": "c8c0144d-6538-4f47-aeed-1b7f4e7cf6f8",
   "metadata": {},
   "outputs": [],
   "source": [
    "import napari\n",
    "from yt_napari.viewer import Scene as ytScene\n",
    "import yt"
   ]
  },
  {
   "cell_type": "code",
   "execution_count": 5,
   "id": "e05a8ea2-716c-44e6-84f9-8c5902fa5cc7",
   "metadata": {},
   "outputs": [
    {
     "name": "stderr",
     "output_type": "stream",
     "text": [
      "yt : [INFO     ] 2022-07-01 12:01:40,720 Parameters: current_time              = 285.81681901146\n",
      "yt : [INFO     ] 2022-07-01 12:01:40,721 Parameters: domain_dimensions         = [64 64 64]\n",
      "yt : [INFO     ] 2022-07-01 12:01:40,721 Parameters: domain_left_edge          = [0. 0. 0.]\n",
      "yt : [INFO     ] 2022-07-01 12:01:40,722 Parameters: domain_right_edge         = [1. 1. 1.]\n",
      "yt : [INFO     ] 2022-07-01 12:01:40,723 Parameters: cosmological_simulation   = 1\n",
      "yt : [INFO     ] 2022-07-01 12:01:40,723 Parameters: current_redshift          = 0.95096564911882\n",
      "yt : [INFO     ] 2022-07-01 12:01:40,723 Parameters: omega_lambda              = 0.7\n",
      "yt : [INFO     ] 2022-07-01 12:01:40,724 Parameters: omega_matter              = 0.3\n",
      "yt : [INFO     ] 2022-07-01 12:01:40,724 Parameters: omega_radiation           = 0.0\n",
      "yt : [INFO     ] 2022-07-01 12:01:40,725 Parameters: hubble_constant           = 0.71\n"
     ]
    }
   ],
   "source": [
    "ds = yt.load(\"Enzo_64/DD0019/data0019\")"
   ]
  },
  {
   "cell_type": "code",
   "execution_count": 6,
   "id": "ed79b983-719f-4839-97ae-825a731d76ac",
   "metadata": {},
   "outputs": [],
   "source": [
    "viewer = napari.Viewer()"
   ]
  },
  {
   "cell_type": "code",
   "execution_count": 7,
   "id": "2e9fb380-f9dd-4ea3-aff5-cc90aa664fe6",
   "metadata": {},
   "outputs": [],
   "source": [
    "yt_scene = ytScene()"
   ]
  },
  {
   "cell_type": "code",
   "execution_count": 8,
   "id": "77a2ffc3-a128-44d3-b0a4-c88c6a8518f3",
   "metadata": {},
   "outputs": [
    {
     "name": "stderr",
     "output_type": "stream",
     "text": [
      "Parsing Hierarchy : 100%|███████████████████| 399/399 [00:00<00:00, 2888.83it/s]\n",
      "yt : [INFO     ] 2022-07-01 12:03:20,809 Gathering a field list (this may take a moment.)\n"
     ]
    }
   ],
   "source": [
    "left_edge = ds.domain_left_edge\n",
    "right_edge = ds.domain_right_edge\n",
    "res = (600, 600, 600)\n",
    "field = ('enzo', 'Density')\n",
    "yt_scene.add_to_viewer(viewer, ds, field, left_edge = left_edge, right_edge= right_edge, resolution = res)"
   ]
  },
  {
   "cell_type": "code",
   "execution_count": null,
   "id": "86bdd700-7f7c-4b1d-9b9c-5e0df56cd88c",
   "metadata": {},
   "outputs": [],
   "source": []
  }
 ],
 "metadata": {
  "kernelspec": {
   "display_name": "Python 3 (ipykernel)",
   "language": "python",
   "name": "python3"
  },
  "language_info": {
   "codemirror_mode": {
    "name": "ipython",
    "version": 3
   },
   "file_extension": ".py",
   "mimetype": "text/x-python",
   "name": "python",
   "nbconvert_exporter": "python",
   "pygments_lexer": "ipython3",
   "version": "3.9.1"
  }
 },
 "nbformat": 4,
 "nbformat_minor": 5
}
