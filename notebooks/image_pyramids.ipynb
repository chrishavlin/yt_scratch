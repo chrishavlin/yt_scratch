{
 "cells": [
  {
   "cell_type": "code",
   "execution_count": 1,
   "id": "2ebee90b-b007-4b6c-8761-21cb42f6bb3e",
   "metadata": {},
   "outputs": [],
   "source": [
    "import yt"
   ]
  },
  {
   "cell_type": "code",
   "execution_count": 2,
   "id": "3c9273b8-269c-4061-94f5-f7d846f37e28",
   "metadata": {},
   "outputs": [
    {
     "name": "stderr",
     "output_type": "stream",
     "text": [
      "yt : [INFO     ] 2022-07-07 12:45:03,002 Sample dataset found in '/home/chavlin/hdd/data/yt_data/yt_sample_sets/IsolatedGalaxy/galaxy0030/galaxy0030'\n",
      "yt : [INFO     ] 2022-07-07 12:45:03,064 Parameters: current_time              = 0.0060000200028298\n",
      "yt : [INFO     ] 2022-07-07 12:45:03,065 Parameters: domain_dimensions         = [32 32 32]\n",
      "yt : [INFO     ] 2022-07-07 12:45:03,066 Parameters: domain_left_edge          = [0. 0. 0.]\n",
      "yt : [INFO     ] 2022-07-07 12:45:03,066 Parameters: domain_right_edge         = [1. 1. 1.]\n",
      "yt : [INFO     ] 2022-07-07 12:45:03,066 Parameters: cosmological_simulation   = 0\n"
     ]
    }
   ],
   "source": [
    "ds = yt.load_sample(\"IsolatedGalaxy\")"
   ]
  },
  {
   "cell_type": "code",
   "execution_count": 3,
   "id": "3100cbd6-2ecb-4f15-a5b8-d20e6c52d3ae",
   "metadata": {},
   "outputs": [
    {
     "name": "stderr",
     "output_type": "stream",
     "text": [
      "Parsing Hierarchy : 100%|██████████████████| 173/173 [00:00<00:00, 17704.39it/s]\n",
      "yt : [INFO     ] 2022-07-07 12:45:03,088 Gathering a field list (this may take a moment.)\n"
     ]
    },
    {
     "data": {
      "text/plain": [
       "8"
      ]
     },
     "execution_count": 3,
     "metadata": {},
     "output_type": "execute_result"
    }
   ],
   "source": [
    "ds.max_level"
   ]
  },
  {
   "cell_type": "code",
   "execution_count": 4,
   "id": "3ce67709-c513-4773-978c-f25fea770dd9",
   "metadata": {},
   "outputs": [],
   "source": [
    "def get_uniform_sample(ds,res, field=(\"gas\", \"density\")):\n",
    "    res_j= complex(0, res)\n",
    "    frb = ds.r[::res_j,::res_j,::res_j]\n",
    "    return frb[field]"
   ]
  },
  {
   "cell_type": "code",
   "execution_count": 5,
   "id": "8f5b1dce-e884-46c6-929a-233674e6094d",
   "metadata": {},
   "outputs": [
    {
     "name": "stdout",
     "output_type": "stream",
     "text": [
      "(128, 128, 128)\n",
      "(256, 256, 256)\n",
      "(512, 512, 512)\n"
     ]
    }
   ],
   "source": [
    "coarse = get_uniform_sample(ds, 2**7)\n",
    "mid = get_uniform_sample(ds, 2**8)\n",
    "fine = get_uniform_sample(ds, 2**9)\n",
    "pyramid = [coarse, mid, fine]\n",
    "for level in pyramid:\n",
    "    print(level.shape)"
   ]
  },
  {
   "cell_type": "code",
   "execution_count": 6,
   "id": "d1f1b142-f3ef-4aba-8eb9-80f17ae97d5e",
   "metadata": {},
   "outputs": [],
   "source": [
    "import napari"
   ]
  },
  {
   "cell_type": "code",
   "execution_count": 7,
   "id": "45a37e11-496d-4065-8fc2-ba04a6b45b59",
   "metadata": {},
   "outputs": [],
   "source": [
    "v = napari.viewer.Viewer()"
   ]
  },
  {
   "cell_type": "code",
   "execution_count": 9,
   "id": "7be88f2f-8f5c-46f9-bc90-18c4d1b540c1",
   "metadata": {},
   "outputs": [
    {
     "data": {
      "text/plain": [
       "<Image layer 'pyramid' at 0x7fab53b70cd0>"
      ]
     },
     "execution_count": 9,
     "metadata": {},
     "output_type": "execute_result"
    },
    {
     "name": "stderr",
     "output_type": "stream",
     "text": [
      "/home/chavlin/.pyenv/versions/3.9.1/envs/ytnapari/lib/python3.9/site-packages/napari/layers/image/image.py:617: UserWarning: Multiscale rendering is only supported in 2D. In 3D, only the lowest resolution scale is displayed\n",
      "  warnings.warn(\n"
     ]
    }
   ],
   "source": [
    "# napari.view_image(multiscale, contrast_limits=[0, 1], multiscale=True)\n",
    "v.add_image(pyramid, multiscale=True)"
   ]
  },
  {
   "cell_type": "code",
   "execution_count": 12,
   "id": "ba074cf6-190c-4524-a31b-bc9877af0862",
   "metadata": {},
   "outputs": [],
   "source": [
    "import matplotlib.pyplot as plt\n",
    "import numpy as np"
   ]
  },
  {
   "cell_type": "code",
   "execution_count": 14,
   "id": "69081daa-9a66-45a6-907d-672b2dc48c38",
   "metadata": {},
   "outputs": [
    {
     "data": {
      "text/plain": [
       "<matplotlib.image.AxesImage at 0x7fab53237b20>"
      ]
     },
     "execution_count": 14,
     "metadata": {},
     "output_type": "execute_result"
    },
    {
     "data": {
      "image/png": "[encoded data removed]",
      "text/plain": [
       "<Figure size 432x288 with 1 Axes>"
      ]
     },
     "metadata": {
      "needs_background": "light"
     },
     "output_type": "display_data"
    }
   ],
   "source": [
    "plt.imshow(np.log10(pyramid[0][:,:,64]))"
   ]
  },
  {
   "cell_type": "code",
   "execution_count": 41,
   "id": "d3ec74f4-d120-4664-bb23-0d759a34ed7e",
   "metadata": {},
   "outputs": [],
   "source": [
    "def get_slice_frb(ds,\n",
    "                  slice_normal,\n",
    "                  slice_center,                    \n",
    "                  slice_width, \n",
    "                  res=(400,400),\n",
    "                  field = ('gas', 'density'),\n",
    "                  apply_log=True):\n",
    "    slc = yt.SlicePlot(ds, \n",
    "                       normal=slice_normal, \n",
    "                       fields=field, \n",
    "                       center=slice_center, \n",
    "                       width=slice_width,\n",
    "                       buff_size=res)\n",
    "    data = slc.frb[field]    \n",
    "    if apply_log:\n",
    "        data = np.log10(data)\n",
    "    return data\n",
    "\n",
    "def get_tiles(ds, \n",
    "              slice_normal,\n",
    "              slice_center,                    \n",
    "              slice_width, \n",
    "              tiles,\n",
    "              tile_res,\n",
    "              field = ('gas', 'density'),\n",
    "              apply_log=True):\n",
    "    \n",
    "    slice_le = slice_center - slice_width/2.\n",
    "    slice_re = slice_center + slice_width/2.\n",
    "    \n",
    "    # note, x,y here are convenient for thinking \n",
    "    # but do not to actual coord axes\n",
    "    n_tiles_x = tiles[0]\n",
    "    tile_widths = slice_width / n_tiles_x\n",
    "    tile_edges_x = slice_le  * np.arange(n_tiles_x)\n",
    "\n",
    "              \n",
    "    \n",
    "def get_image_pyramid(ds, \n",
    "                      slice_axis,\n",
    "                      slice_coord, \n",
    "                      slice_center, \n",
    "                      slice_width,  \n",
    "                      coarse_tiles,\n",
    "                      coarse_tile_res,\n",
    "                      refinement_levels,\n",
    "                      field = ('gas', 'density')):\n",
    "    # coarse_res\n",
    "    slice_le = slice_center - slice_width/2\n",
    "    slice_re = slice_center + slice_width/2\n",
    "    \n",
    "    # get a slice for each tile\n",
    "    "
   ]
  },
  {
   "cell_type": "code",
   "execution_count": 103,
   "id": "d70e0373-13e9-4755-93a3-14cec69ecf57",
   "metadata": {},
   "outputs": [
    {
     "name": "stderr",
     "output_type": "stream",
     "text": [
      "yt : [INFO     ] 2022-07-07 11:49:34,669 xlim = 0.475000 0.525000\n",
      "yt : [INFO     ] 2022-07-07 11:49:34,670 ylim = 0.475000 0.525000\n",
      "yt : [INFO     ] 2022-07-07 11:49:34,671 xlim = 0.475000 0.525000\n",
      "yt : [INFO     ] 2022-07-07 11:49:34,671 ylim = 0.475000 0.525000\n",
      "yt : [INFO     ] 2022-07-07 11:49:34,672 Making a fixed resolution buffer of (('gas', 'density')) 400 by 400\n"
     ]
    },
    {
     "data": {
      "text/plain": [
       "(0.0, 400.0)"
      ]
     },
     "execution_count": 103,
     "metadata": {},
     "output_type": "execute_result"
    },
    {
     "data": {
      "image/png": "[encoded data removed]",
      "text/plain": [
       "<Figure size 432x288 with 1 Axes>"
      ]
     },
     "metadata": {
      "needs_background": "light"
     },
     "output_type": "display_data"
    }
   ],
   "source": [
    "slc = get_slice_frb(ds, 'z', ds.domain_center, ds.domain_width/20, res=(400,400))\n",
    "plt.imshow(slc)\n",
    "plt.plot([200, 200], [0, 400], '--k')\n",
    "plt.plot([0, 400], [200, 200], '--k')\n",
    "plt.xlim([0, 400])\n",
    "plt.ylim([0, 400])"
   ]
  },
  {
   "cell_type": "code",
   "execution_count": 22,
   "id": "4877782c-ce8e-443e-a1cf-8736710fc118",
   "metadata": {},
   "outputs": [
    {
     "name": "stderr",
     "output_type": "stream",
     "text": [
      "yt : [INFO     ] 2022-07-07 10:59:26,214 xlim = 0.250000 0.750000\n",
      "yt : [INFO     ] 2022-07-07 10:59:26,215 ylim = 0.250000 0.750000\n",
      "yt : [INFO     ] 2022-07-07 10:59:26,216 xlim = 0.250000 0.750000\n",
      "yt : [INFO     ] 2022-07-07 10:59:26,217 ylim = 0.250000 0.750000\n",
      "yt : [INFO     ] 2022-07-07 10:59:26,218 Making a fixed resolution buffer of (('gas', 'density')) 800 by 800\n"
     ]
    }
   ],
   "source": []
  },
  {
   "cell_type": "code",
   "execution_count": 68,
   "id": "c26d294c-6b73-4df1-9001-970f127ec6cb",
   "metadata": {},
   "outputs": [],
   "source": [
    "\n",
    "coarse_tiles = {'x': 2, 'y':2}\n",
    "normal = 'z'\n",
    "\n",
    "# cross-tile width\n",
    "slice_width = ds.domain_width\n",
    "slice_le = ds.domain_center - slice_width/2.\n",
    "\n",
    "# get a single axis centers and wids\n",
    "axis = 'x'\n"
   ]
  },
  {
   "cell_type": "code",
   "execution_count": 72,
   "id": "129e7f70-70fd-4b85-88db-6c7eaca98707",
   "metadata": {},
   "outputs": [
    {
     "data": {
      "text/plain": [
       "unyt_array([0. , 0.5], 'code_length')"
      ]
     },
     "execution_count": 72,
     "metadata": {},
     "output_type": "execute_result"
    }
   ],
   "source": [
    "tile_les"
   ]
  },
  {
   "cell_type": "code",
   "execution_count": 70,
   "id": "cbd695d8-3b58-4981-b7b3-65e42e4fc071",
   "metadata": {},
   "outputs": [
    {
     "data": {
      "text/plain": [
       "unyt_array([0.25, 0.75], 'code_length')"
      ]
     },
     "execution_count": 70,
     "metadata": {},
     "output_type": "execute_result"
    }
   ],
   "source": [
    "tile_centers"
   ]
  },
  {
   "cell_type": "code",
   "execution_count": 71,
   "id": "b071c119-a4aa-4369-ba2d-6d6eb430a399",
   "metadata": {},
   "outputs": [
    {
     "data": {
      "text/plain": [
       "unyt_array([0.5, 1. ], 'code_length')"
      ]
     },
     "execution_count": 71,
     "metadata": {},
     "output_type": "execute_result"
    }
   ],
   "source": [
    "tile_res"
   ]
  },
  {
   "cell_type": "code",
   "execution_count": 10,
   "id": "866f2be8-1d9c-42c4-b49d-666ccae58418",
   "metadata": {},
   "outputs": [],
   "source": [
    "import weakref\n",
    "import numpy as np\n",
    "import yt \n",
    "\n",
    "class PyramidSlice:\n",
    "    def __init__(self, ds, *, normal=None, center=None, width=None, \n",
    "                 coarse_tiles=None, coarse_tile_res=None, refinement_levels:int=2,\n",
    "                 fields=('gas', 'density'),\n",
    "                 transform_funcs = None):\n",
    "        self.ds = weakref.proxy(ds)\n",
    "        self.normal = normal\n",
    "        self.normal_id = self.ds.coordinates.axis_id[normal]\n",
    "        self.coarse_center = center  \n",
    "        self.coarse_width = width\n",
    "        self.coarse_le = center - width/2.\n",
    "        self.coarse_tiles = np.asarray(coarse_tiles)\n",
    "        self.coarse_tile_res = coarse_tile_res\n",
    "        self.refinement_levels = refinement_levels\n",
    "        self.fields = fields\n",
    "        if transform_funcs is None:\n",
    "            transform_funcs = []\n",
    "        self.transform_funcs = transform_funcs\n",
    "        self._setup_tiles()\n",
    "        \n",
    "    def _setup_tiles(self):\n",
    "        n_tiles_by_level = [self.coarse_tiles,]        \n",
    "        for _ in range(1, self.refinement_levels):\n",
    "            new_tiles = n_tiles_by_level[-1] * 2\n",
    "            new_tiles[self.normal_id] = 1\n",
    "            n_tiles_by_level.append(new_tiles)\n",
    "        self.n_tiles_by_level = n_tiles_by_level\n",
    "        \n",
    "        tile_centers_by_level_and_axis = []\n",
    "        tile_widths_by_level_and_axis = []\n",
    "        for level in range(self.refinement_levels):            \n",
    "            center_vals = {}\n",
    "            width_vals = {}\n",
    "            for ax in range(3):\n",
    "                centers, widths = self.get_tile_coords(ax, level)\n",
    "                center_vals[ax] = centers\n",
    "                width_vals[ax] = widths                \n",
    "                    \n",
    "            tile_centers_by_level_and_axis.append(center_vals)\n",
    "            tile_widths_by_level_and_axis.append(width_vals)\n",
    "            \n",
    "        self.tile_centers_by_level_and_axis = tile_centers_by_level_and_axis\n",
    "        self.tile_widths_by_level_and_axis = tile_widths_by_level_and_axis\n",
    "        self.tile_slice_args_by_level = []\n",
    "        for level in range(self.refinement_levels):     \n",
    "            self.tile_slice_args_by_level.append(self.get_slice_args_for_level(level))\n",
    "                                        \n",
    "    def get_tile_coords(self, axis, level):\n",
    "        if axis == self.normal_id:                    \n",
    "            return ds.arr([self.coarse_center[axis]]), ds.domain_width[axis]\n",
    "        \n",
    "        n_tiles = self.n_tiles_by_level[level][axis]        \n",
    "        ax_id = ds.coordinates.axis_id[axis]        \n",
    "        tile_widths = self.coarse_width[ax_id] / n_tiles\n",
    "        tile_les = self.coarse_le[ax_id] + tile_widths * np.arange(n_tiles)\n",
    "        tile_centers = tile_les + tile_widths/2.\n",
    "        tile_res = tile_les + tile_widths\n",
    "        return tile_centers, tile_widths\n",
    "        \n",
    "    \n",
    "    def get_slice_args_for_level(self, level):\n",
    "        centers = self.tile_centers_by_level_and_axis[level]\n",
    "        widths = self.tile_widths_by_level_and_axis[level]\n",
    "        \n",
    "        # assemble into 3d unyt arrays\n",
    "        ntiles = self.n_tiles_by_level[level]\n",
    "        \n",
    "        tile_args = []        \n",
    "        \n",
    "        tile_width = ds.arr([widths[id] for id in range(3) if id!=self.normal_id])          \n",
    "        res = np.asarray(self.coarse_tile_res) * (2 ** level)\n",
    "        res = [res[id] for id in range(3) if id != self.normal_id]\n",
    "        \n",
    "        \n",
    "        for itile_0 in range(ntiles[0]):\n",
    "            center_0 = centers[0][itile_0]            \n",
    "            for itile_1 in range(ntiles[1]):                \n",
    "                center_1 = centers[1][itile_1]            \n",
    "                for itile_2 in range(ntiles[2]):\n",
    "                    center_2 = centers[2][itile_2]            \n",
    "                    \n",
    "                    tile_center = ds.arr([center_0, center_1, center_2])\n",
    "                                                         \n",
    "                    \n",
    "                    tile_args.append({'center':tile_center, 'width':tile_width, 'buff_size':res})\n",
    "                    \n",
    "        return tile_args\n",
    "                    \n",
    "        \n",
    "    def get_slice_frb(self, level, i_tile):\n",
    "        tile_args = self.tile_slice_args_by_level[level][i_tile]\n",
    "        slc = yt.SlicePlot(self.ds, self.normal, self.fields, **tile_args)\n",
    "        \n",
    "        data = slc.frb[self.fields]\n",
    "        for func in self.transform_funcs:\n",
    "            data = func(data)\n",
    "        return data\n",
    "    \n",
    "\n",
    "    def get_level_slices(self, level):\n",
    "        n_tiles = np.asarray(self.n_tiles_by_level[level]).prod()\n",
    "        slice_data = []\n",
    "        for i_tile in range(n_tiles):\n",
    "            slice_data.append(self.get_slice_frb(level, i_tile))\n",
    "        return slice_data\n",
    "    \n",
    "    def get_pyramid_level(self, level):\n",
    "        slice_data = self.get_level_slices(level)\n",
    "        return np.asarray(slice_data)\n",
    "    \n",
    "    def get_pyramid(self):\n",
    "        #  from napari \n",
    "        # https://napari.org/howtos/layers/image.html#multiscale-images\n",
    "        # A multiscale image is a list of arrays, where each array is \n",
    "        #  downsampling of the previous array in the list, so that you end \n",
    "        #  up with images of successively smaller and smaller shapes\n",
    "        \n",
    "        # so th\n",
    "        # fine to coarse\n",
    "        return [self.get_pyramid_level(lev) for lev in reversed(range(self.refinement_levels))]\n",
    "        "
   ]
  },
  {
   "cell_type": "code",
   "execution_count": 33,
   "id": "b0b2fdd0-fad9-4d1a-9c02-7244d5cda6bc",
   "metadata": {},
   "outputs": [],
   "source": [
    "def add_noise(data):\n",
    "    noise_mag = data.max()/10\n",
    "    return data + noise_mag * np.random.random(data.shape)\n",
    "\n",
    "pyramid = PyramidSlice(ds, \n",
    "                       normal='y', \n",
    "                       center=ds.domain_center,\n",
    "                       width= ds.domain_width, \n",
    "                       coarse_tiles =(2, 1, 2), \n",
    "                       coarse_tile_res = (100, 1, 100),\n",
    "                        transform_funcs=[np.log10, add_noise])"
   ]
  },
  {
   "cell_type": "code",
   "execution_count": 34,
   "id": "6331ada6-4fd6-48f5-b706-13a86e49c47b",
   "metadata": {},
   "outputs": [
    {
     "name": "stderr",
     "output_type": "stream",
     "text": [
      "yt : [INFO     ] 2022-07-07 12:54:01,711 xlim = 0.000000 0.250000\n",
      "yt : [INFO     ] 2022-07-07 12:54:01,712 ylim = 0.000000 0.250000\n",
      "yt : [INFO     ] 2022-07-07 12:54:01,712 xlim = 0.000000 0.250000\n",
      "yt : [INFO     ] 2022-07-07 12:54:01,713 ylim = 0.000000 0.250000\n",
      "yt : [INFO     ] 2022-07-07 12:54:01,713 Making a fixed resolution buffer of (('gas', 'density')) 200 by 200\n",
      "yt : [INFO     ] 2022-07-07 12:54:01,821 xlim = 0.250000 0.500000\n",
      "yt : [INFO     ] 2022-07-07 12:54:01,821 ylim = 0.000000 0.250000\n",
      "yt : [INFO     ] 2022-07-07 12:54:01,822 xlim = 0.250000 0.500000\n",
      "yt : [INFO     ] 2022-07-07 12:54:01,823 ylim = 0.000000 0.250000\n",
      "yt : [INFO     ] 2022-07-07 12:54:01,823 Making a fixed resolution buffer of (('gas', 'density')) 200 by 200\n",
      "yt : [INFO     ] 2022-07-07 12:54:01,928 xlim = 0.500000 0.750000\n",
      "yt : [INFO     ] 2022-07-07 12:54:01,929 ylim = 0.000000 0.250000\n",
      "yt : [INFO     ] 2022-07-07 12:54:01,929 xlim = 0.500000 0.750000\n",
      "yt : [INFO     ] 2022-07-07 12:54:01,930 ylim = 0.000000 0.250000\n",
      "yt : [INFO     ] 2022-07-07 12:54:01,930 Making a fixed resolution buffer of (('gas', 'density')) 200 by 200\n",
      "yt : [INFO     ] 2022-07-07 12:54:02,035 xlim = 0.750000 1.000000\n",
      "yt : [INFO     ] 2022-07-07 12:54:02,035 ylim = 0.000000 0.250000\n",
      "yt : [INFO     ] 2022-07-07 12:54:02,036 xlim = 0.750000 1.000000\n",
      "yt : [INFO     ] 2022-07-07 12:54:02,036 ylim = 0.000000 0.250000\n",
      "yt : [INFO     ] 2022-07-07 12:54:02,037 Making a fixed resolution buffer of (('gas', 'density')) 200 by 200\n",
      "yt : [INFO     ] 2022-07-07 12:54:02,139 xlim = 0.000000 0.250000\n",
      "yt : [INFO     ] 2022-07-07 12:54:02,139 ylim = 0.250000 0.500000\n",
      "yt : [INFO     ] 2022-07-07 12:54:02,140 xlim = 0.000000 0.250000\n",
      "yt : [INFO     ] 2022-07-07 12:54:02,140 ylim = 0.250000 0.500000\n",
      "yt : [INFO     ] 2022-07-07 12:54:02,141 Making a fixed resolution buffer of (('gas', 'density')) 200 by 200\n",
      "yt : [INFO     ] 2022-07-07 12:54:02,247 xlim = 0.250000 0.500000\n",
      "yt : [INFO     ] 2022-07-07 12:54:02,247 ylim = 0.250000 0.500000\n",
      "yt : [INFO     ] 2022-07-07 12:54:02,248 xlim = 0.250000 0.500000\n",
      "yt : [INFO     ] 2022-07-07 12:54:02,248 ylim = 0.250000 0.500000\n",
      "yt : [INFO     ] 2022-07-07 12:54:02,249 Making a fixed resolution buffer of (('gas', 'density')) 200 by 200\n",
      "yt : [INFO     ] 2022-07-07 12:54:02,517 xlim = 0.500000 0.750000\n",
      "yt : [INFO     ] 2022-07-07 12:54:02,517 ylim = 0.250000 0.500000\n",
      "yt : [INFO     ] 2022-07-07 12:54:02,518 xlim = 0.500000 0.750000\n",
      "yt : [INFO     ] 2022-07-07 12:54:02,518 ylim = 0.250000 0.500000\n",
      "yt : [INFO     ] 2022-07-07 12:54:02,519 Making a fixed resolution buffer of (('gas', 'density')) 200 by 200\n",
      "yt : [INFO     ] 2022-07-07 12:54:02,626 xlim = 0.750000 1.000000\n",
      "yt : [INFO     ] 2022-07-07 12:54:02,626 ylim = 0.250000 0.500000\n",
      "yt : [INFO     ] 2022-07-07 12:54:02,627 xlim = 0.750000 1.000000\n",
      "yt : [INFO     ] 2022-07-07 12:54:02,627 ylim = 0.250000 0.500000\n",
      "yt : [INFO     ] 2022-07-07 12:54:02,628 Making a fixed resolution buffer of (('gas', 'density')) 200 by 200\n",
      "yt : [INFO     ] 2022-07-07 12:54:02,733 xlim = 0.000000 0.250000\n",
      "yt : [INFO     ] 2022-07-07 12:54:02,733 ylim = 0.500000 0.750000\n",
      "yt : [INFO     ] 2022-07-07 12:54:02,734 xlim = 0.000000 0.250000\n",
      "yt : [INFO     ] 2022-07-07 12:54:02,734 ylim = 0.500000 0.750000\n",
      "yt : [INFO     ] 2022-07-07 12:54:02,735 Making a fixed resolution buffer of (('gas', 'density')) 200 by 200\n",
      "yt : [INFO     ] 2022-07-07 12:54:02,839 xlim = 0.250000 0.500000\n",
      "yt : [INFO     ] 2022-07-07 12:54:02,840 ylim = 0.500000 0.750000\n",
      "yt : [INFO     ] 2022-07-07 12:54:02,840 xlim = 0.250000 0.500000\n",
      "yt : [INFO     ] 2022-07-07 12:54:02,841 ylim = 0.500000 0.750000\n",
      "yt : [INFO     ] 2022-07-07 12:54:02,841 Making a fixed resolution buffer of (('gas', 'density')) 200 by 200\n",
      "yt : [INFO     ] 2022-07-07 12:54:02,952 xlim = 0.500000 0.750000\n",
      "yt : [INFO     ] 2022-07-07 12:54:02,952 ylim = 0.500000 0.750000\n",
      "yt : [INFO     ] 2022-07-07 12:54:02,953 xlim = 0.500000 0.750000\n",
      "yt : [INFO     ] 2022-07-07 12:54:02,953 ylim = 0.500000 0.750000\n",
      "yt : [INFO     ] 2022-07-07 12:54:02,953 Making a fixed resolution buffer of (('gas', 'density')) 200 by 200\n",
      "yt : [INFO     ] 2022-07-07 12:54:03,065 xlim = 0.750000 1.000000\n",
      "yt : [INFO     ] 2022-07-07 12:54:03,065 ylim = 0.500000 0.750000\n",
      "yt : [INFO     ] 2022-07-07 12:54:03,066 xlim = 0.750000 1.000000\n",
      "yt : [INFO     ] 2022-07-07 12:54:03,066 ylim = 0.500000 0.750000\n",
      "yt : [INFO     ] 2022-07-07 12:54:03,066 Making a fixed resolution buffer of (('gas', 'density')) 200 by 200\n",
      "yt : [INFO     ] 2022-07-07 12:54:03,175 xlim = 0.000000 0.250000\n",
      "yt : [INFO     ] 2022-07-07 12:54:03,175 ylim = 0.750000 1.000000\n",
      "yt : [INFO     ] 2022-07-07 12:54:03,176 xlim = 0.000000 0.250000\n",
      "yt : [INFO     ] 2022-07-07 12:54:03,176 ylim = 0.750000 1.000000\n",
      "yt : [INFO     ] 2022-07-07 12:54:03,177 Making a fixed resolution buffer of (('gas', 'density')) 200 by 200\n",
      "yt : [INFO     ] 2022-07-07 12:54:03,286 xlim = 0.250000 0.500000\n",
      "yt : [INFO     ] 2022-07-07 12:54:03,287 ylim = 0.750000 1.000000\n",
      "yt : [INFO     ] 2022-07-07 12:54:03,287 xlim = 0.250000 0.500000\n",
      "yt : [INFO     ] 2022-07-07 12:54:03,289 ylim = 0.750000 1.000000\n",
      "yt : [INFO     ] 2022-07-07 12:54:03,289 Making a fixed resolution buffer of (('gas', 'density')) 200 by 200\n",
      "yt : [INFO     ] 2022-07-07 12:54:03,400 xlim = 0.500000 0.750000\n",
      "yt : [INFO     ] 2022-07-07 12:54:03,400 ylim = 0.750000 1.000000\n",
      "yt : [INFO     ] 2022-07-07 12:54:03,401 xlim = 0.500000 0.750000\n",
      "yt : [INFO     ] 2022-07-07 12:54:03,401 ylim = 0.750000 1.000000\n",
      "yt : [INFO     ] 2022-07-07 12:54:03,402 Making a fixed resolution buffer of (('gas', 'density')) 200 by 200\n",
      "yt : [INFO     ] 2022-07-07 12:54:03,509 xlim = 0.750000 1.000000\n",
      "yt : [INFO     ] 2022-07-07 12:54:03,509 ylim = 0.750000 1.000000\n",
      "yt : [INFO     ] 2022-07-07 12:54:03,510 xlim = 0.750000 1.000000\n",
      "yt : [INFO     ] 2022-07-07 12:54:03,510 ylim = 0.750000 1.000000\n",
      "yt : [INFO     ] 2022-07-07 12:54:03,511 Making a fixed resolution buffer of (('gas', 'density')) 200 by 200\n",
      "yt : [INFO     ] 2022-07-07 12:54:03,618 xlim = 0.000000 0.500000\n",
      "yt : [INFO     ] 2022-07-07 12:54:03,618 ylim = 0.000000 0.500000\n",
      "yt : [INFO     ] 2022-07-07 12:54:03,619 xlim = 0.000000 0.500000\n",
      "yt : [INFO     ] 2022-07-07 12:54:03,619 ylim = 0.000000 0.500000\n",
      "yt : [INFO     ] 2022-07-07 12:54:03,620 Making a fixed resolution buffer of (('gas', 'density')) 100 by 100\n",
      "yt : [INFO     ] 2022-07-07 12:54:03,728 xlim = 0.500000 1.000000\n",
      "yt : [INFO     ] 2022-07-07 12:54:03,728 ylim = 0.000000 0.500000\n",
      "yt : [INFO     ] 2022-07-07 12:54:03,729 xlim = 0.500000 1.000000\n",
      "yt : [INFO     ] 2022-07-07 12:54:03,729 ylim = 0.000000 0.500000\n",
      "yt : [INFO     ] 2022-07-07 12:54:03,730 Making a fixed resolution buffer of (('gas', 'density')) 100 by 100\n",
      "yt : [INFO     ] 2022-07-07 12:54:03,839 xlim = 0.000000 0.500000\n",
      "yt : [INFO     ] 2022-07-07 12:54:03,839 ylim = 0.500000 1.000000\n",
      "yt : [INFO     ] 2022-07-07 12:54:03,840 xlim = 0.000000 0.500000\n",
      "yt : [INFO     ] 2022-07-07 12:54:03,841 ylim = 0.500000 1.000000\n",
      "yt : [INFO     ] 2022-07-07 12:54:03,842 Making a fixed resolution buffer of (('gas', 'density')) 100 by 100\n",
      "yt : [INFO     ] 2022-07-07 12:54:03,952 xlim = 0.500000 1.000000\n",
      "yt : [INFO     ] 2022-07-07 12:54:03,952 ylim = 0.500000 1.000000\n",
      "yt : [INFO     ] 2022-07-07 12:54:03,953 xlim = 0.500000 1.000000\n",
      "yt : [INFO     ] 2022-07-07 12:54:03,953 ylim = 0.500000 1.000000\n",
      "yt : [INFO     ] 2022-07-07 12:54:03,954 Making a fixed resolution buffer of (('gas', 'density')) 100 by 100\n"
     ]
    }
   ],
   "source": [
    "multires = pyramid.get_pyramid()"
   ]
  },
  {
   "cell_type": "code",
   "execution_count": 35,
   "id": "56a3e007-2e33-473d-9163-4755981b8ace",
   "metadata": {},
   "outputs": [
    {
     "data": {
      "text/plain": [
       "(16, 200, 200)"
      ]
     },
     "execution_count": 35,
     "metadata": {},
     "output_type": "execute_result"
    }
   ],
   "source": [
    "multires[0].shape"
   ]
  },
  {
   "cell_type": "code",
   "execution_count": 36,
   "id": "62f20bae-3111-4bdb-a840-062486d4d849",
   "metadata": {},
   "outputs": [
    {
     "data": {
      "text/plain": [
       "(4, 100, 100)"
      ]
     },
     "execution_count": 36,
     "metadata": {},
     "output_type": "execute_result"
    }
   ],
   "source": [
    "multires[1].shape"
   ]
  },
  {
   "cell_type": "code",
   "execution_count": 37,
   "id": "30414c27-7ffb-4c01-8054-a75dd53e2b2d",
   "metadata": {},
   "outputs": [
    {
     "name": "stderr",
     "output_type": "stream",
     "text": [
      "/home/chavlin/.pyenv/versions/3.9.1/envs/ytnapari/lib/python3.9/site-packages/napari/layers/image/image.py:681: UserWarning: Multiscale rendering is only supported in 2D. In 3D, only the lowest resolution scale is displayed\n",
      "  warnings.warn(\n",
      "/home/chavlin/.pyenv/versions/3.9.1/envs/ytnapari/lib/python3.9/site-packages/napari/layers/image/image.py:681: UserWarning: Multiscale rendering is only supported in 2D. In 3D, only the lowest resolution scale is displayed\n",
      "  warnings.warn(\n"
     ]
    },
    {
     "data": {
      "text/plain": [
       "<Image layer 'multires' at 0x7f933d987ac0>"
      ]
     },
     "execution_count": 37,
     "metadata": {},
     "output_type": "execute_result"
    }
   ],
   "source": [
    "v.add_image(multires, multiscale=True)"
   ]
  },
  {
   "cell_type": "code",
   "execution_count": null,
   "id": "b7b11606-9272-4cf7-ade9-9909347dd514",
   "metadata": {},
   "outputs": [],
   "source": []
  },
  {
   "cell_type": "code",
   "execution_count": 252,
   "id": "ce7d48ac-3690-4a7a-9e4f-cd9b7f7ae475",
   "metadata": {},
   "outputs": [
    {
     "name": "stderr",
     "output_type": "stream",
     "text": [
      "yt : [INFO     ] 2022-07-07 12:36:19,643 xlim = 0.000000 0.500000\n",
      "yt : [INFO     ] 2022-07-07 12:36:19,644 ylim = 0.000000 0.500000\n",
      "yt : [INFO     ] 2022-07-07 12:36:19,645 xlim = 0.000000 0.500000\n",
      "yt : [INFO     ] 2022-07-07 12:36:19,645 ylim = 0.000000 0.500000\n",
      "yt : [INFO     ] 2022-07-07 12:36:19,646 Making a fixed resolution buffer of (('gas', 'density')) 100 by 100\n"
     ]
    }
   ],
   "source": [
    "vals = pyramid.get_slice_frb(0, 0)"
   ]
  },
  {
   "cell_type": "code",
   "execution_count": 253,
   "id": "817e11e2-8e5f-42bc-af17-67d78f5c9c5b",
   "metadata": {},
   "outputs": [
    {
     "data": {
      "text/plain": [
       "[{'center': unyt_array([0.25, 0.5 , 0.25], 'code_length'),\n",
       "  'width': unyt_array([0.5, 0.5], 'code_length'),\n",
       "  'buff_size': [100, 100]},\n",
       " {'center': unyt_array([0.25, 0.5 , 0.75], 'code_length'),\n",
       "  'width': unyt_array([0.5, 0.5], 'code_length'),\n",
       "  'buff_size': [100, 100]},\n",
       " {'center': unyt_array([0.75, 0.5 , 0.25], 'code_length'),\n",
       "  'width': unyt_array([0.5, 0.5], 'code_length'),\n",
       "  'buff_size': [100, 100]},\n",
       " {'center': unyt_array([0.75, 0.5 , 0.75], 'code_length'),\n",
       "  'width': unyt_array([0.5, 0.5], 'code_length'),\n",
       "  'buff_size': [100, 100]}]"
      ]
     },
     "execution_count": 253,
     "metadata": {},
     "output_type": "execute_result"
    }
   ],
   "source": [
    "pyramid.tile_slice_args_by_level[0]"
   ]
  },
  {
   "cell_type": "code",
   "execution_count": 254,
   "id": "20f9c7f2-b4a5-4ad2-850b-7108afa77ce2",
   "metadata": {},
   "outputs": [],
   "source": [
    "x = pyramid.tile_widths_by_level_and_axis[0]"
   ]
  },
  {
   "cell_type": "code",
   "execution_count": 255,
   "id": "ca79c168-65e7-4c7f-9739-667b4d5e7d7a",
   "metadata": {},
   "outputs": [
    {
     "data": {
      "text/plain": [
       "{0: unyt_quantity(0.5, 'code_length'),\n",
       " 1: unyt_quantity(1., 'code_length'),\n",
       " 2: unyt_quantity(0.5, 'code_length')}"
      ]
     },
     "execution_count": 255,
     "metadata": {},
     "output_type": "execute_result"
    }
   ],
   "source": [
    "x"
   ]
  },
  {
   "cell_type": "code",
   "execution_count": null,
   "id": "e4dd740d-9590-4764-90b7-5e8af442b745",
   "metadata": {},
   "outputs": [],
   "source": []
  },
  {
   "cell_type": "code",
   "execution_count": 256,
   "id": "f41f174b-74e4-47d0-93ec-3df49b1f13c2",
   "metadata": {},
   "outputs": [
    {
     "data": {
      "text/plain": [
       "unyt_array([0.5], 'code_length')"
      ]
     },
     "execution_count": 256,
     "metadata": {},
     "output_type": "execute_result"
    }
   ],
   "source": [
    "ds.arr([pyramid.coarse_center[0]])"
   ]
  },
  {
   "cell_type": "code",
   "execution_count": 257,
   "id": "99259bf5-3f4d-4699-b9e9-eff488991ca7",
   "metadata": {},
   "outputs": [
    {
     "name": "stderr",
     "output_type": "stream",
     "text": [
      "yt : [INFO     ] 2022-07-07 12:36:38,776 xlim = 0.000000 0.500000\n",
      "yt : [INFO     ] 2022-07-07 12:36:38,776 ylim = 0.000000 0.500000\n",
      "yt : [INFO     ] 2022-07-07 12:36:38,778 xlim = 0.000000 0.500000\n",
      "yt : [INFO     ] 2022-07-07 12:36:38,779 ylim = 0.000000 0.500000\n",
      "yt : [INFO     ] 2022-07-07 12:36:38,780 Making a fixed resolution buffer of (('gas', 'density')) 100 by 100\n",
      "yt : [INFO     ] 2022-07-07 12:36:38,894 xlim = 0.500000 1.000000\n",
      "yt : [INFO     ] 2022-07-07 12:36:38,894 ylim = 0.000000 0.500000\n",
      "yt : [INFO     ] 2022-07-07 12:36:38,895 xlim = 0.500000 1.000000\n",
      "yt : [INFO     ] 2022-07-07 12:36:38,896 ylim = 0.000000 0.500000\n",
      "yt : [INFO     ] 2022-07-07 12:36:38,897 Making a fixed resolution buffer of (('gas', 'density')) 100 by 100\n",
      "yt : [INFO     ] 2022-07-07 12:36:39,008 xlim = 0.000000 0.500000\n",
      "yt : [INFO     ] 2022-07-07 12:36:39,008 ylim = 0.500000 1.000000\n",
      "yt : [INFO     ] 2022-07-07 12:36:39,009 xlim = 0.000000 0.500000\n",
      "yt : [INFO     ] 2022-07-07 12:36:39,009 ylim = 0.500000 1.000000\n",
      "yt : [INFO     ] 2022-07-07 12:36:39,015 Making a fixed resolution buffer of (('gas', 'density')) 100 by 100\n",
      "yt : [INFO     ] 2022-07-07 12:36:39,128 xlim = 0.500000 1.000000\n",
      "yt : [INFO     ] 2022-07-07 12:36:39,128 ylim = 0.500000 1.000000\n",
      "yt : [INFO     ] 2022-07-07 12:36:39,129 xlim = 0.500000 1.000000\n",
      "yt : [INFO     ] 2022-07-07 12:36:39,129 ylim = 0.500000 1.000000\n",
      "yt : [INFO     ] 2022-07-07 12:36:39,130 Making a fixed resolution buffer of (('gas', 'density')) 100 by 100\n"
     ]
    }
   ],
   "source": [
    "slc_data = pyramid.get_level_slices(0)"
   ]
  },
  {
   "cell_type": "code",
   "execution_count": 258,
   "id": "2f1a5e1d-4c0a-4421-baa7-be924652cc2a",
   "metadata": {},
   "outputs": [
    {
     "data": {
      "text/plain": [
       "<matplotlib.image.AxesImage at 0x7faab3dfdfd0>"
      ]
     },
     "execution_count": 258,
     "metadata": {},
     "output_type": "execute_result"
    },
    {
     "data": {
      "image/png": "[encoded data removed]",
      "text/plain": [
       "<Figure size 432x288 with 1 Axes>"
      ]
     },
     "metadata": {
      "needs_background": "light"
     },
     "output_type": "display_data"
    }
   ],
   "source": [
    "plt.imshow(slc_data[0])"
   ]
  },
  {
   "cell_type": "code",
   "execution_count": 259,
   "id": "98f3e309-970c-4aea-8f5d-e00d07ebf7bd",
   "metadata": {},
   "outputs": [
    {
     "data": {
      "text/plain": [
       "<matplotlib.image.AxesImage at 0x7faab3d55ac0>"
      ]
     },
     "execution_count": 259,
     "metadata": {},
     "output_type": "execute_result"
    },
    {
     "data": {
      "image/png": "[encoded data removed]",
      "text/plain": [
       "<Figure size 432x288 with 1 Axes>"
      ]
     },
     "metadata": {
      "needs_background": "light"
     },
     "output_type": "display_data"
    }
   ],
   "source": [
    "plt.imshow(slc_data[1])"
   ]
  },
  {
   "cell_type": "code",
   "execution_count": 262,
   "id": "d21cae4d-d17d-46b8-8b47-7c01a7582d22",
   "metadata": {},
   "outputs": [
    {
     "data": {
      "text/plain": [
       "<matplotlib.image.AxesImage at 0x7faab3c9baf0>"
      ]
     },
     "execution_count": 262,
     "metadata": {},
     "output_type": "execute_result"
    },
    {
     "data": {
      "image/png": "[encoded data removed]",
      "text/plain": [
       "<Figure size 432x288 with 1 Axes>"
      ]
     },
     "metadata": {
      "needs_background": "light"
     },
     "output_type": "display_data"
    }
   ],
   "source": [
    "plt.imshow(slc_data[2])"
   ]
  },
  {
   "cell_type": "code",
   "execution_count": 261,
   "id": "79656a80-d682-4dcd-99a3-560f6bd3003c",
   "metadata": {},
   "outputs": [
    {
     "data": {
      "text/plain": [
       "<matplotlib.image.AxesImage at 0x7faab3c9b1c0>"
      ]
     },
     "execution_count": 261,
     "metadata": {},
     "output_type": "execute_result"
    },
    {
     "data": {
      "image/png": "[encoded data removed]",
      "text/plain": [
       "<Figure size 432x288 with 1 Axes>"
      ]
     },
     "metadata": {
      "needs_background": "light"
     },
     "output_type": "display_data"
    }
   ],
   "source": [
    "plt.imshow(slc_data[3])"
   ]
  },
  {
   "cell_type": "code",
   "execution_count": 263,
   "id": "e43815bc-74fe-4068-ad65-d0186a0a2b12",
   "metadata": {},
   "outputs": [],
   "source": [
    "pyr_level = np.asarray(slc_data)"
   ]
  },
  {
   "cell_type": "code",
   "execution_count": 264,
   "id": "e99e826e-b540-455d-9fc7-b81216add322",
   "metadata": {},
   "outputs": [
    {
     "data": {
      "text/plain": [
       "(4, 100, 100)"
      ]
     },
     "execution_count": 264,
     "metadata": {},
     "output_type": "execute_result"
    }
   ],
   "source": [
    "pyr_level.shape"
   ]
  },
  {
   "cell_type": "code",
   "execution_count": 16,
   "id": "0bea0fc0-e788-4705-99fa-2153d6aa74c7",
   "metadata": {},
   "outputs": [
    {
     "name": "stderr",
     "output_type": "stream",
     "text": [
      "yt : [INFO     ] 2022-07-07 12:49:13,678 xlim = 0.000000 0.250000\n",
      "yt : [INFO     ] 2022-07-07 12:49:13,679 ylim = 0.000000 0.250000\n",
      "yt : [INFO     ] 2022-07-07 12:49:13,680 xlim = 0.000000 0.250000\n",
      "yt : [INFO     ] 2022-07-07 12:49:13,680 ylim = 0.000000 0.250000\n",
      "yt : [INFO     ] 2022-07-07 12:49:13,682 Making a fixed resolution buffer of (('gas', 'density')) 200 by 200\n",
      "yt : [INFO     ] 2022-07-07 12:49:13,789 xlim = 0.250000 0.500000\n",
      "yt : [INFO     ] 2022-07-07 12:49:13,790 ylim = 0.000000 0.250000\n",
      "yt : [INFO     ] 2022-07-07 12:49:13,790 xlim = 0.250000 0.500000\n",
      "yt : [INFO     ] 2022-07-07 12:49:13,791 ylim = 0.000000 0.250000\n",
      "yt : [INFO     ] 2022-07-07 12:49:13,791 Making a fixed resolution buffer of (('gas', 'density')) 200 by 200\n",
      "yt : [INFO     ] 2022-07-07 12:49:13,896 xlim = 0.500000 0.750000\n",
      "yt : [INFO     ] 2022-07-07 12:49:13,897 ylim = 0.000000 0.250000\n",
      "yt : [INFO     ] 2022-07-07 12:49:13,897 xlim = 0.500000 0.750000\n",
      "yt : [INFO     ] 2022-07-07 12:49:13,898 ylim = 0.000000 0.250000\n",
      "yt : [INFO     ] 2022-07-07 12:49:13,899 Making a fixed resolution buffer of (('gas', 'density')) 200 by 200\n",
      "yt : [INFO     ] 2022-07-07 12:49:14,001 xlim = 0.750000 1.000000\n",
      "yt : [INFO     ] 2022-07-07 12:49:14,002 ylim = 0.000000 0.250000\n",
      "yt : [INFO     ] 2022-07-07 12:49:14,003 xlim = 0.750000 1.000000\n",
      "yt : [INFO     ] 2022-07-07 12:49:14,003 ylim = 0.000000 0.250000\n",
      "yt : [INFO     ] 2022-07-07 12:49:14,004 Making a fixed resolution buffer of (('gas', 'density')) 200 by 200\n",
      "yt : [INFO     ] 2022-07-07 12:49:14,109 xlim = 0.000000 0.250000\n",
      "yt : [INFO     ] 2022-07-07 12:49:14,110 ylim = 0.250000 0.500000\n",
      "yt : [INFO     ] 2022-07-07 12:49:14,110 xlim = 0.000000 0.250000\n",
      "yt : [INFO     ] 2022-07-07 12:49:14,111 ylim = 0.250000 0.500000\n",
      "yt : [INFO     ] 2022-07-07 12:49:14,111 Making a fixed resolution buffer of (('gas', 'density')) 200 by 200\n",
      "yt : [INFO     ] 2022-07-07 12:49:14,217 xlim = 0.250000 0.500000\n",
      "yt : [INFO     ] 2022-07-07 12:49:14,217 ylim = 0.250000 0.500000\n",
      "yt : [INFO     ] 2022-07-07 12:49:14,218 xlim = 0.250000 0.500000\n",
      "yt : [INFO     ] 2022-07-07 12:49:14,218 ylim = 0.250000 0.500000\n",
      "yt : [INFO     ] 2022-07-07 12:49:14,219 Making a fixed resolution buffer of (('gas', 'density')) 200 by 200\n",
      "yt : [INFO     ] 2022-07-07 12:49:14,325 xlim = 0.500000 0.750000\n",
      "yt : [INFO     ] 2022-07-07 12:49:14,325 ylim = 0.250000 0.500000\n",
      "yt : [INFO     ] 2022-07-07 12:49:14,326 xlim = 0.500000 0.750000\n",
      "yt : [INFO     ] 2022-07-07 12:49:14,326 ylim = 0.250000 0.500000\n",
      "yt : [INFO     ] 2022-07-07 12:49:14,327 Making a fixed resolution buffer of (('gas', 'density')) 200 by 200\n",
      "yt : [INFO     ] 2022-07-07 12:49:14,435 xlim = 0.750000 1.000000\n",
      "yt : [INFO     ] 2022-07-07 12:49:14,435 ylim = 0.250000 0.500000\n",
      "yt : [INFO     ] 2022-07-07 12:49:14,436 xlim = 0.750000 1.000000\n",
      "yt : [INFO     ] 2022-07-07 12:49:14,437 ylim = 0.250000 0.500000\n",
      "yt : [INFO     ] 2022-07-07 12:49:14,437 Making a fixed resolution buffer of (('gas', 'density')) 200 by 200\n",
      "yt : [INFO     ] 2022-07-07 12:49:14,540 xlim = 0.000000 0.250000\n",
      "yt : [INFO     ] 2022-07-07 12:49:14,541 ylim = 0.500000 0.750000\n",
      "yt : [INFO     ] 2022-07-07 12:49:14,541 xlim = 0.000000 0.250000\n",
      "yt : [INFO     ] 2022-07-07 12:49:14,542 ylim = 0.500000 0.750000\n",
      "yt : [INFO     ] 2022-07-07 12:49:14,542 Making a fixed resolution buffer of (('gas', 'density')) 200 by 200\n",
      "yt : [INFO     ] 2022-07-07 12:49:14,648 xlim = 0.250000 0.500000\n",
      "yt : [INFO     ] 2022-07-07 12:49:14,649 ylim = 0.500000 0.750000\n",
      "yt : [INFO     ] 2022-07-07 12:49:14,649 xlim = 0.250000 0.500000\n",
      "yt : [INFO     ] 2022-07-07 12:49:14,650 ylim = 0.500000 0.750000\n",
      "yt : [INFO     ] 2022-07-07 12:49:14,650 Making a fixed resolution buffer of (('gas', 'density')) 200 by 200\n",
      "yt : [INFO     ] 2022-07-07 12:49:14,760 xlim = 0.500000 0.750000\n",
      "yt : [INFO     ] 2022-07-07 12:49:14,760 ylim = 0.500000 0.750000\n",
      "yt : [INFO     ] 2022-07-07 12:49:14,761 xlim = 0.500000 0.750000\n",
      "yt : [INFO     ] 2022-07-07 12:49:14,761 ylim = 0.500000 0.750000\n",
      "yt : [INFO     ] 2022-07-07 12:49:14,762 Making a fixed resolution buffer of (('gas', 'density')) 200 by 200\n",
      "yt : [INFO     ] 2022-07-07 12:49:14,872 xlim = 0.750000 1.000000\n",
      "yt : [INFO     ] 2022-07-07 12:49:14,872 ylim = 0.500000 0.750000\n",
      "yt : [INFO     ] 2022-07-07 12:49:14,873 xlim = 0.750000 1.000000\n",
      "yt : [INFO     ] 2022-07-07 12:49:14,873 ylim = 0.500000 0.750000\n",
      "yt : [INFO     ] 2022-07-07 12:49:14,874 Making a fixed resolution buffer of (('gas', 'density')) 200 by 200\n",
      "yt : [INFO     ] 2022-07-07 12:49:14,980 xlim = 0.000000 0.250000\n",
      "yt : [INFO     ] 2022-07-07 12:49:14,980 ylim = 0.750000 1.000000\n",
      "yt : [INFO     ] 2022-07-07 12:49:14,981 xlim = 0.000000 0.250000\n",
      "yt : [INFO     ] 2022-07-07 12:49:14,981 ylim = 0.750000 1.000000\n",
      "yt : [INFO     ] 2022-07-07 12:49:14,982 Making a fixed resolution buffer of (('gas', 'density')) 200 by 200\n",
      "yt : [INFO     ] 2022-07-07 12:49:15,086 xlim = 0.250000 0.500000\n",
      "yt : [INFO     ] 2022-07-07 12:49:15,087 ylim = 0.750000 1.000000\n",
      "yt : [INFO     ] 2022-07-07 12:49:15,088 xlim = 0.250000 0.500000\n",
      "yt : [INFO     ] 2022-07-07 12:49:15,088 ylim = 0.750000 1.000000\n",
      "yt : [INFO     ] 2022-07-07 12:49:15,089 Making a fixed resolution buffer of (('gas', 'density')) 200 by 200\n",
      "yt : [INFO     ] 2022-07-07 12:49:15,348 xlim = 0.500000 0.750000\n",
      "yt : [INFO     ] 2022-07-07 12:49:15,348 ylim = 0.750000 1.000000\n",
      "yt : [INFO     ] 2022-07-07 12:49:15,349 xlim = 0.500000 0.750000\n",
      "yt : [INFO     ] 2022-07-07 12:49:15,349 ylim = 0.750000 1.000000\n",
      "yt : [INFO     ] 2022-07-07 12:49:15,350 Making a fixed resolution buffer of (('gas', 'density')) 200 by 200\n",
      "yt : [INFO     ] 2022-07-07 12:49:15,454 xlim = 0.750000 1.000000\n",
      "yt : [INFO     ] 2022-07-07 12:49:15,454 ylim = 0.750000 1.000000\n",
      "yt : [INFO     ] 2022-07-07 12:49:15,455 xlim = 0.750000 1.000000\n",
      "yt : [INFO     ] 2022-07-07 12:49:15,455 ylim = 0.750000 1.000000\n",
      "yt : [INFO     ] 2022-07-07 12:49:15,456 Making a fixed resolution buffer of (('gas', 'density')) 200 by 200\n"
     ]
    }
   ],
   "source": [
    "slc_data = pyramid.get_level_slices(1)"
   ]
  },
  {
   "cell_type": "code",
   "execution_count": 22,
   "id": "9bdbb72a-ce46-4d68-b9d0-84b309f1d194",
   "metadata": {},
   "outputs": [
    {
     "data": {
      "text/plain": [
       "<matplotlib.colorbar.Colorbar at 0x7f932015acd0>"
      ]
     },
     "execution_count": 22,
     "metadata": {},
     "output_type": "execute_result"
    },
    {
     "data": {
      "image/png": "[encoded data removed]",
      "text/plain": [
       "<Figure size 432x288 with 2 Axes>"
      ]
     },
     "metadata": {
      "needs_background": "light"
     },
     "output_type": "display_data"
    }
   ],
   "source": [
    "import matplotlib.pyplot as plt\n",
    "plt.imshow(slc_data[5])\n",
    "plt.colorbar()"
   ]
  },
  {
   "cell_type": "code",
   "execution_count": 38,
   "id": "196cca65-746f-4417-b03d-1a7f9637c0cb",
   "metadata": {},
   "outputs": [],
   "source": [
    "import skimage"
   ]
  },
  {
   "cell_type": "code",
   "execution_count": 40,
   "id": "43e4880d-7dc9-412a-ae05-f2e431d5dabf",
   "metadata": {},
   "outputs": [
    {
     "name": "stderr",
     "output_type": "stream",
     "text": [
      "/home/chavlin/.pyenv/versions/3.9.1/envs/ytnapari/lib/python3.9/site-packages/skimage/_shared/utils.py:338: FutureWarning: `multichannel` is a deprecated argument name for `pyramid_gaussian`. It will be removed in version 1.0.Please use `channel_axis` instead.\n",
      "  return func(*args, **kwargs)\n"
     ]
    },
    {
     "name": "stdout",
     "output_type": "stream",
     "text": [
      "multiscale level shapes:  [(6, 1536, 1536, 3), (6, 768, 768, 3), (6, 384, 384, 3), (6, 192, 192, 3)]\n"
     ]
    },
    {
     "data": {
      "text/plain": [
       "<Image layer 'multiscale' at 0x7f933d6dadf0>"
      ]
     },
     "execution_count": 40,
     "metadata": {},
     "output_type": "execute_result"
    }
   ],
   "source": [
    "# https://napari.org/gallery/nD_multiscale_image_non_uniform.html\n",
    "from skimage import data\n",
    "from skimage.transform import pyramid_gaussian\n",
    "import napari\n",
    "import numpy as np\n",
    "\n",
    "\n",
    "# create multiscale from astronaut image\n",
    "astronaut = data.astronaut()\n",
    "base = np.tile(astronaut, (3, 3, 1))\n",
    "multiscale = list(\n",
    "    pyramid_gaussian(base, downscale=2, max_layer=3, multichannel=True)\n",
    ")\n",
    "multiscale = [\n",
    "    np.array([p * (abs(3 - i) + 1) / 4 for i in range(6)]) for p in multiscale\n",
    "]\n",
    "print('multiscale level shapes: ', [p.shape for p in multiscale])\n",
    "\n",
    "# add image multiscale\n",
    "v.add_image(multiscale, multiscale=True)"
   ]
  },
  {
   "cell_type": "code",
   "execution_count": 47,
   "id": "296ff847-84f6-4e0b-af27-4f95bfbc783f",
   "metadata": {},
   "outputs": [
    {
     "name": "stderr",
     "output_type": "stream",
     "text": [
      "yt : [INFO     ] 2022-07-07 13:09:38,763 xlim = 0.475000 0.525000\n",
      "yt : [INFO     ] 2022-07-07 13:09:38,764 ylim = 0.475000 0.525000\n",
      "yt : [INFO     ] 2022-07-07 13:09:38,765 xlim = 0.475000 0.525000\n",
      "yt : [INFO     ] 2022-07-07 13:09:38,765 ylim = 0.475000 0.525000\n",
      "yt : [INFO     ] 2022-07-07 13:09:38,766 Making a fixed resolution buffer of (('gas', 'density')) 6400 by 6400\n",
      "yt : [INFO     ] 2022-07-07 13:09:40,671 xlim = 0.475000 0.525000\n",
      "yt : [INFO     ] 2022-07-07 13:09:40,672 ylim = 0.475000 0.525000\n",
      "yt : [INFO     ] 2022-07-07 13:09:40,673 xlim = 0.475000 0.525000\n",
      "yt : [INFO     ] 2022-07-07 13:09:40,673 ylim = 0.475000 0.525000\n",
      "yt : [INFO     ] 2022-07-07 13:09:40,674 Making a fixed resolution buffer of (('gas', 'density')) 3200 by 3200\n",
      "yt : [INFO     ] 2022-07-07 13:09:41,270 xlim = 0.475000 0.525000\n",
      "yt : [INFO     ] 2022-07-07 13:09:41,271 ylim = 0.475000 0.525000\n",
      "yt : [INFO     ] 2022-07-07 13:09:41,271 xlim = 0.475000 0.525000\n",
      "yt : [INFO     ] 2022-07-07 13:09:41,271 ylim = 0.475000 0.525000\n",
      "yt : [INFO     ] 2022-07-07 13:09:41,272 Making a fixed resolution buffer of (('gas', 'density')) 1600 by 1600\n",
      "yt : [INFO     ] 2022-07-07 13:09:41,483 xlim = 0.475000 0.525000\n",
      "yt : [INFO     ] 2022-07-07 13:09:41,484 ylim = 0.475000 0.525000\n",
      "yt : [INFO     ] 2022-07-07 13:09:41,484 xlim = 0.475000 0.525000\n",
      "yt : [INFO     ] 2022-07-07 13:09:41,485 ylim = 0.475000 0.525000\n",
      "yt : [INFO     ] 2022-07-07 13:09:41,485 Making a fixed resolution buffer of (('gas', 'density')) 800 by 800\n",
      "yt : [INFO     ] 2022-07-07 13:09:41,616 xlim = 0.475000 0.525000\n",
      "yt : [INFO     ] 2022-07-07 13:09:41,616 ylim = 0.475000 0.525000\n",
      "yt : [INFO     ] 2022-07-07 13:09:41,617 xlim = 0.475000 0.525000\n",
      "yt : [INFO     ] 2022-07-07 13:09:41,617 ylim = 0.475000 0.525000\n",
      "yt : [INFO     ] 2022-07-07 13:09:41,618 Making a fixed resolution buffer of (('gas', 'density')) 400 by 400\n"
     ]
    }
   ],
   "source": [
    "slc_finest = get_slice_frb(ds, 'z', ds.domain_center, ds.domain_width/20, res=(6400,6400))\n",
    "slc_finer = get_slice_frb(ds, 'z', ds.domain_center, ds.domain_width/20, res=(3200,3200))\n",
    "slc_fine = get_slice_frb(ds, 'z', ds.domain_center, ds.domain_width/20, res=(1600,1600))\n",
    "slc_mid = get_slice_frb(ds, 'z', ds.domain_center, ds.domain_width/20, res=(800,800))\n",
    "slc_coarse = get_slice_frb(ds, 'z', ds.domain_center, ds.domain_width/20, res=(400,400))"
   ]
  },
  {
   "cell_type": "code",
   "execution_count": 48,
   "id": "e6ff82b8-5138-4726-9ac5-522dac8b61ac",
   "metadata": {},
   "outputs": [],
   "source": [
    "multiscale = [slc_finest, slc_finer, slc_fine, slc_mid, slc_coarse]"
   ]
  },
  {
   "cell_type": "code",
   "execution_count": 59,
   "id": "d0e2dc1e-adc6-46cc-876c-d75c629d40b0",
   "metadata": {},
   "outputs": [
    {
     "data": {
      "text/plain": [
       "<Image layer 'multiscale' at 0x7f92dfd58fd0>"
      ]
     },
     "execution_count": 59,
     "metadata": {},
     "output_type": "execute_result"
    },
    {
     "name": "stderr",
     "output_type": "stream",
     "text": [
      "/home/chavlin/.pyenv/versions/3.9.1/envs/ytnapari/lib/python3.9/site-packages/napari/layers/image/image.py:681: UserWarning: Multiscale rendering is only supported in 2D. In 3D, only the lowest resolution scale is displayed\n",
      "  warnings.warn(\n"
     ]
    }
   ],
   "source": [
    "v.add_image(multiscale, multiscale=True)"
   ]
  },
  {
   "cell_type": "code",
   "execution_count": 51,
   "id": "707f5e50-0943-4845-ba34-bf31d3d08f80",
   "metadata": {},
   "outputs": [
    {
     "data": {
      "text/plain": [
       "<matplotlib.image.AxesImage at 0x7f92dc158c10>"
      ]
     },
     "execution_count": 51,
     "metadata": {},
     "output_type": "execute_result"
    },
    {
     "data": {
      "image/png": "[encoded data removed]",
      "text/plain": [
       "<Figure size 432x288 with 1 Axes>"
      ]
     },
     "metadata": {
      "needs_background": "light"
     },
     "output_type": "display_data"
    }
   ],
   "source": [
    "plt.imshow(slc_finest)"
   ]
  },
  {
   "cell_type": "code",
   "execution_count": 64,
   "id": "98082e6c-26f9-4927-abe1-12382882a54a",
   "metadata": {},
   "outputs": [
    {
     "data": {
      "text/plain": [
       "<Image layer 'slc_mid' at 0x7f933d994c10>"
      ]
     },
     "execution_count": 64,
     "metadata": {},
     "output_type": "execute_result"
    }
   ],
   "source": [
    "v.add_image(slc_mid)"
   ]
  },
  {
   "cell_type": "code",
   "execution_count": 54,
   "id": "ee4e1748-7b09-4801-bc8d-f7e144ccccca",
   "metadata": {},
   "outputs": [
    {
     "data": {
      "text/plain": [
       "<Image layer 'slc_coarse' at 0x7f933ce16220>"
      ]
     },
     "execution_count": 54,
     "metadata": {},
     "output_type": "execute_result"
    }
   ],
   "source": [
    "v.add_image(slc_coarse)"
   ]
  },
  {
   "cell_type": "code",
   "execution_count": 58,
   "id": "49deb8ae-b30e-4d28-9667-11bc5ecf6de8",
   "metadata": {},
   "outputs": [
    {
     "data": {
      "text/plain": [
       "(-27.57922211980599, -23.112236886454117)"
      ]
     },
     "execution_count": 58,
     "metadata": {},
     "output_type": "execute_result"
    }
   ],
   "source": [
    "slc_finest.min(), slc_finest.max()"
   ]
  },
  {
   "cell_type": "code",
   "execution_count": null,
   "id": "38ef6e96-b30b-41d3-a377-9aee3ba65206",
   "metadata": {},
   "outputs": [],
   "source": []
  }
 ],
 "metadata": {
  "kernelspec": {
   "display_name": "Python 3 (ipykernel)",
   "language": "python",
   "name": "python3"
  },
  "language_info": {
   "codemirror_mode": {
    "name": "ipython",
    "version": 3
   },
   "file_extension": ".py",
   "mimetype": "text/x-python",
   "name": "python",
   "nbconvert_exporter": "python",
   "pygments_lexer": "ipython3",
   "version": "3.9.1"
  }
 },
 "nbformat": 4,
 "nbformat_minor": 5
}
