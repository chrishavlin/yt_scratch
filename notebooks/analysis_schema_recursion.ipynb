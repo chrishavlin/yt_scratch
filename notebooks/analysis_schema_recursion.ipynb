{
 "cells": [
  {
   "cell_type": "code",
   "execution_count": 1,
   "id": "40b2cc86-7911-4607-9861-7d5dcfc1be39",
   "metadata": {},
   "outputs": [],
   "source": [
    "import analysis_schema\n",
    "import yt\n",
    "import inspect\n"
   ]
  },
  {
   "cell_type": "code",
   "execution_count": 2,
   "id": "b949f020-875f-4250-8360-d33df37de03f",
   "metadata": {},
   "outputs": [],
   "source": [
    "\n",
    "class YTrunner:\n",
    "    def __init__(self):\n",
    "        self.registry = {}\n",
    "        \n",
    "        "
   ]
  },
  {
   "cell_type": "code",
   "execution_count": 4,
   "id": "7567dda1-a61f-4fc7-bafd-e8d6f219ce4c",
   "metadata": {},
   "outputs": [
    {
     "data": {
      "text/plain": [
       "{'title': 'ytBaseModel',\n",
       " 'description': 'A class to connect attributes and their values to yt operations and their\\nkeyword arguments.\\n\\nArgs:\\n    BaseModel ([type]): A pydantic basemodel in the form of a json schema\\n\\nRaises:\\n    AttributeError: [description]\\n\\nReturns:\\n    [list]: A list of yt classes to be run and then displayed',\n",
       " 'type': 'object',\n",
       " 'properties': {}}"
      ]
     },
     "execution_count": 4,
     "metadata": {},
     "output_type": "execute_result"
    }
   ],
   "source": [
    "\n",
    "analysis_schema.base_model.ytBaseModel.schema()"
   ]
  },
  {
   "cell_type": "code",
   "execution_count": 6,
   "id": "3c4df526-61f8-458d-be82-fc2bdffc0864",
   "metadata": {},
   "outputs": [
    {
     "data": {
      "text/plain": [
       "{'title': 'Slice',\n",
       " 'description': 'An axis-aligned 2-d slice data selection object',\n",
       " 'type': 'object',\n",
       " 'properties': {'axis': {'title': 'Axis',\n",
       "   'anyOf': [{'type': 'integer'}, {'type': 'string'}]},\n",
       "  'coord': {'title': 'Coord', 'type': 'number'}},\n",
       " 'required': ['axis', 'coord']}"
      ]
     },
     "execution_count": 6,
     "metadata": {},
     "output_type": "execute_result"
    }
   ],
   "source": [
    "analysis_schema.data_classes.Slice.schema()"
   ]
  },
  {
   "cell_type": "code",
   "execution_count": 2,
   "id": "757f97f9-eb01-47ca-a6dc-ad5ff43febaf",
   "metadata": {},
   "outputs": [],
   "source": [
    "data_dict = {\n",
    "  \"$schema\": \"../analysis_schema/yt_analysis_schema.json\",\n",
    "  \"Data\": [{\"FileName\": \"not/a/real/file\", \"DatasetName\": \"blah\"}],  \n",
    "  \"Plot\": [\n",
    "    {\n",
    "      \"ProjectionPlot\": {\n",
    "        \"Dataset\": [\n",
    "          {\n",
    "            \"FileName\": \"../../Data/IsolatedGalaxy/galaxy0030/galaxy0030\",\n",
    "            \"DatasetName\": \"IG\"\n",
    "          },\n",
    "          {\n",
    "            \"FileName\": \"../../Data/enzo_tiny_cosmology/DD0000/DD0000\",\n",
    "            \"DatasetName\": \"Enzo\"\n",
    "          }\n",
    "        ],\n",
    "        \"Axis\":\"y\",\n",
    "        \"FieldNames\": {\n",
    "          \"field\": \"density\",\n",
    "          \"field_type\": \"gas\"\n",
    "        },\n",
    "        \"WeightFieldName\": {\n",
    "          \"field\": \"temperature\",\n",
    "          \"field_type\": \"gas\"\n",
    "        }\n",
    "      }\n",
    "    }\n",
    "  ]\n",
    "}\n"
   ]
  },
  {
   "cell_type": "code",
   "execution_count": 3,
   "id": "e832edca-32ff-40ab-bc87-593e73f4748d",
   "metadata": {},
   "outputs": [],
   "source": [
    "yt_model = analysis_schema.ytModel.parse_obj(data_dict)\n"
   ]
  },
  {
   "cell_type": "code",
   "execution_count": 4,
   "id": "85a26504-ef0f-45d3-9544-172ac19f9593",
   "metadata": {},
   "outputs": [
    {
     "data": {
      "text/plain": [
       "ytModel(Data=[Dataset(DatasetName='blah', fn=PosixPath('not/a/real/file'), comments=None)], Plot=[Visualizations(SlicePlot=None, ProjectionPlot=ProjectionPlot(ds=[Dataset(DatasetName='IG', fn=PosixPath('../../Data/IsolatedGalaxy/galaxy0030/galaxy0030'), comments=None), Dataset(DatasetName='Enzo', fn=PosixPath('../../Data/enzo_tiny_cosmology/DD0000/DD0000'), comments=None)], fields=FieldNames(field='density', field_type='gas', comments=None), normal='y', center=None, width=None, axes_unit=None, weight_field=FieldNames(field='temperature', field_type='gas', comments=None), max_level=None, origin=None, right_handed=None, fontsize=None, field_parameters=None, method=None, data_source=None, Comments=None), PhasePlot=None)])"
      ]
     },
     "execution_count": 4,
     "metadata": {},
     "output_type": "execute_result"
    }
   ],
   "source": [
    "yt_model"
   ]
  },
  {
   "cell_type": "code",
   "execution_count": 37,
   "id": "268ab1ea-8b43-45be-8947-2bc784acdbb1",
   "metadata": {},
   "outputs": [],
   "source": [
    "p  = yt_model.Plot[0]"
   ]
  },
  {
   "cell_type": "code",
   "execution_count": 38,
   "id": "8d326c16-c41f-436b-ba4f-509e501e8990",
   "metadata": {},
   "outputs": [
    {
     "data": {
      "text/plain": [
       "ProjectionPlot(ds=[Dataset(DatasetName='IG', fn=PosixPath('../../Data/IsolatedGalaxy/galaxy0030/galaxy0030'), comments=None), Dataset(DatasetName='Enzo', fn=PosixPath('../../Data/enzo_tiny_cosmology/DD0000/DD0000'), comments=None)], fields=FieldNames(field='density', field_type='gas', comments=None), normal='y', center=None, width=None, axes_unit=None, weight_field=FieldNames(field='temperature', field_type='gas', comments=None), max_level=None, origin=None, right_handed=None, fontsize=None, field_parameters=None, method=None, data_source=None, Comments=None)"
      ]
     },
     "execution_count": 38,
     "metadata": {},
     "output_type": "execute_result"
    }
   ],
   "source": [
    "p.ProjectionPlot"
   ]
  },
  {
   "cell_type": "code",
   "execution_count": 56,
   "id": "7f8d8224-b699-4003-9029-3bd12cfe4cb8",
   "metadata": {},
   "outputs": [],
   "source": [
    "import abc\n",
    "\n",
    "class YTRunner(abc.ABC):\n",
    "    def __init__(self, pydantic_class):\n",
    "        self.pydantic_class = pydantic_class        \n",
    "        \n",
    "    @abc.abstractmethod\n",
    "    def process_pydantic(self, pydantic_instance):\n",
    "        # retrieve the arguments required for run_function\n",
    "        pass\n",
    "\n",
    "    def run(self, pydantic_instance=None):    \n",
    "        if not isinstance(pydantic_instance, self.pydantic_class):\n",
    "            raise TypeError(\"provided pydantic model instance does not match\")             \n",
    "        return self.process_pydantic(pydantic_instance)\n",
    "                             \n",
    "            \n",
    "# example of a pydantic model not explicitly in the yt api            \n",
    "class YTFieldRunner(YTRunner): \n",
    "    \n",
    "    def __init__(self):        \n",
    "        super().__init__(analysis_schema.data_classes.FieldNames)    \n",
    "\n",
    "    def process_pydantic(self, pydantic_instance):\n",
    "        return (pydantic_instance.field, pydantic_instance.field_type)\n",
    "    \n",
    "    \n",
    "    \n",
    "yt_registry = {}\n",
    "yt_registry[analysis_schema.data_classes.FieldNames] = YTFieldRunner()\n",
    "    \n",
    "# a generic, recursive runner\n",
    "class GenericYtFunction(YTRunner):    \n",
    "    \n",
    "    def __init__(self, pydantic_class, yt_func_handle = None, _known_kwargs = None): \n",
    "        super().__init__(pydantic_class)\n",
    "        \n",
    "        if yt_func_handle is None: \n",
    "            yt_module = self.yt_handle_module()\n",
    "            if yt_module:            \n",
    "                yt_func_handle = getattr(yt_module, pydantic_class.__name__)\n",
    "        self.yt_func_handle = yt_func_handle\n",
    "        self.yt_func_spec = getfullargspec(self.yt_func_handle)\n",
    "        \n",
    "        if _known_kwargs is None:\n",
    "            _known_kwargs = ()            \n",
    "        self._known_kwargs = _known_kwargs\n",
    "        \n",
    "    def yt_handle_module(self, pydantic_class):\n",
    "        if hasattr(yt, pydantic_class.__name__):\n",
    "            return yt\n",
    "        return None\n",
    "    \n",
    "    @staticmethod\n",
    "    def expand_pydantic(arg_value):        \n",
    "        if type(arg_value) in yt_registry:\n",
    "            arg_value = yt_registry[type(arg_value)].process_pydantic(arg_value)\n",
    "        else:                    \n",
    "            result = GenericYtFunction(type(arg_value)).process_pydantic(arg_value)\n",
    "            # if it worked, add it to the registry for next time\n",
    "            yt_registry[type(arg_value)] = GenericYtFunction(type(arg_value))\n",
    "            arg_value = result\n",
    "        return arg_value\n",
    "    \n",
    "    @staticmethod\n",
    "    def process_func_spec_args(self, pydantic_instance) -> tuple:\n",
    "        \n",
    "        # the argument position number at which we have default values (a little\n",
    "        # hacky, should be a better way to do this, and not sure how to scale it to\n",
    "        # include *args and **kwargs)\n",
    "        n_args = len(func_spec.args)  # number of arguments\n",
    "        if func_spec.defaults is None:\n",
    "            # no default args, make sure we never get there...\n",
    "            named_kw_start_at = n_args + 1\n",
    "        else:\n",
    "            # the position at which named keyword args start\n",
    "            named_kw_start_at = n_args - len(func_spec.defaults)\n",
    "            \n",
    "        the_args = []\n",
    "        for arg_i, arg in enumerate(self.yt_func_spec.args):           \n",
    "            if arg in [\"self\", \"cls\"]:\n",
    "                continue\n",
    "\n",
    "            # get the value for this argument. If it's not there, attempt to set default\n",
    "            # values for arguments needed for yt but not exposed in our pydantic class\n",
    "            try:\n",
    "                arg_value = getattr(pydantic_instance, arg)\n",
    "                if arg_value is None:\n",
    "                    default_index = arg_i - named_kw_start_at\n",
    "                    arg_value = func_spec.defaults[default_index]\n",
    "            except AttributeError:\n",
    "                if arg_i >= named_kw_start_at:\n",
    "                    # we are in the named keyword arguments, grab the default\n",
    "                    # the func_spec.defaults tuple 0 index is the first named\n",
    "                    # argument, so need to offset the arg_i counter\n",
    "                    default_index = arg_i - named_kw_start_at\n",
    "                    arg_value = func_spec.defaults[default_index]\n",
    "                else:\n",
    "                    raise AttributeError(f\"could not find {arg}\")\n",
    "\n",
    "            if isinstance(arg_value, pydantic.BaseModel):\n",
    "                arg_value = self.expand_pydantic(arg_value)                \n",
    "\n",
    "            the_args.append(arg_value)\n",
    "        return tuple(the_args)\n",
    "        \n",
    "    def process_known_kwargs(self, pydantic_instance):\n",
    "        kwarg_dict = {}\n",
    "        if hasattr(self, \"_known_kwargs\"):\n",
    "            for kw in self._known_kwargs:\n",
    "                arg_value = getattr(pydantic_model, kw, None)\n",
    "                if isinstance(arg_value, pydantic.BaseModel):\n",
    "                       arg_value = self.expand_pydantic(arg_value)\n",
    "                kwarg_dict[kw] = arg_value\n",
    "        return kwarg_dict\n",
    "                \n",
    "    def retrieve_args_and_kwargs(self, pydantic_instance):\n",
    "        the_args = self.process_func_spec_args(pydantic_instance)\n",
    "        kwargd_dict = self.process_known_kwargs(pydantic_instance)                        \n",
    "        return the_args, kwarg_dict\n",
    "\n",
    "    def process_pydantic(self, pydantic_instance=None):        \n",
    "        args, kwargs = self.retrieve_args_and_kwargs(pydantic_instance)\n",
    "        return self.yt_func_handle(*args, **kwargs)\n",
    "                                                        "
   ]
  },
  {
   "cell_type": "code",
   "execution_count": 51,
   "id": "a5710f51-1002-49de-8a8c-79f5ada0d8fd",
   "metadata": {},
   "outputs": [],
   "source": [
    "from analysis_schema.data_classes import ProjectionPlot, FieldNames, Sphere"
   ]
  },
  {
   "cell_type": "code",
   "execution_count": 53,
   "id": "898a2dc5-d117-4ab3-aa67-3b8ec10e0027",
   "metadata": {},
   "outputs": [
    {
     "data": {
      "text/plain": [
       "{'title': 'Sphere',\n",
       " 'description': 'A sphere of points defined by a *center* and a *radius*.',\n",
       " 'type': 'object',\n",
       " 'properties': {'Center': {'title': 'Center',\n",
       "   'type': 'array',\n",
       "   'items': {'type': 'number'}},\n",
       "  'Radius': {'title': 'Radius',\n",
       "   'anyOf': [{'type': 'number'},\n",
       "    {'type': 'array',\n",
       "     'minItems': 2,\n",
       "     'maxItems': 2,\n",
       "     'items': [{'type': 'number'}, {'type': 'string'}]}]},\n",
       "  'DataSet': {'$ref': '#/definitions/Dataset'}},\n",
       " 'required': ['Center', 'Radius'],\n",
       " 'definitions': {'Dataset': {'title': 'Dataset',\n",
       "   'description': 'The dataset to load. Filename (fn) must be a string.\\n\\nRequired fields: Filename',\n",
       "   'type': 'object',\n",
       "   'properties': {'DatasetName': {'title': 'Datasetname', 'type': 'string'},\n",
       "    'FileName': {'title': 'Filename',\n",
       "     'description': 'A string containing the (path to the file and the) file name',\n",
       "     'type': 'string',\n",
       "     'format': 'path'},\n",
       "    'comments': {'title': 'Comments', 'type': 'string'}},\n",
       "   'required': ['DatasetName', 'FileName']}}}"
      ]
     },
     "execution_count": 53,
     "metadata": {},
     "output_type": "execute_result"
    }
   ],
   "source": [
    "Sphere.schema()"
   ]
  },
  {
   "cell_type": "code",
   "execution_count": 42,
   "id": "c556c2d8-4be8-44a6-968d-9967fb4dc80f",
   "metadata": {},
   "outputs": [
    {
     "data": {
      "text/plain": [
       "('density', 'gas')"
      ]
     },
     "execution_count": 42,
     "metadata": {},
     "output_type": "execute_result"
    }
   ],
   "source": [
    "field_runner = YTFieldRunner()\n",
    "field_runner.run(p.ProjectionPlot.fields)"
   ]
  },
  {
   "cell_type": "code",
   "execution_count": 49,
   "id": "34ee9d5a-5463-4797-8703-107872aea775",
   "metadata": {},
   "outputs": [
    {
     "data": {
      "text/plain": [
       "'Visualizations'"
      ]
     },
     "execution_count": 49,
     "metadata": {},
     "output_type": "execute_result"
    }
   ],
   "source": [
    "type(p).__name__"
   ]
  },
  {
   "cell_type": "code",
   "execution_count": 13,
   "id": "1da06228-b284-4c70-a801-e26e439e4235",
   "metadata": {},
   "outputs": [],
   "source": [
    "\n",
    "\n",
    "\n",
    "import inspect\n",
    "import yt\n",
    "import typing"
   ]
  },
  {
   "cell_type": "code",
   "execution_count": 9,
   "id": "3a448287-11be-4776-ad31-f37f8925c6dc",
   "metadata": {},
   "outputs": [
    {
     "data": {
      "text/plain": [
       "FullArgSpec(args=['ds', 'normal', 'fields', 'axis'], varargs='args', varkw='kwargs', defaults=(None, None, None), kwonlyargs=[], kwonlydefaults=None, annotations={})"
      ]
     },
     "execution_count": 9,
     "metadata": {},
     "output_type": "execute_result"
    }
   ],
   "source": [
    "inspect.getfullargspec(yt.SlicePlot)"
   ]
  },
  {
   "cell_type": "code",
   "execution_count": 14,
   "id": "c3bc57c8-2e25-43a9-97c6-dbe9366959eb",
   "metadata": {},
   "outputs": [
    {
     "data": {
      "text/plain": [
       "{}"
      ]
     },
     "execution_count": 14,
     "metadata": {},
     "output_type": "execute_result"
    }
   ],
   "source": [
    "typing.get_type_hints(yt.SlicePlot)"
   ]
  },
  {
   "cell_type": "code",
   "execution_count": 15,
   "id": "c201884d-f7e7-484d-9bde-123311111371",
   "metadata": {},
   "outputs": [],
   "source": [
    "import pydantic"
   ]
  },
  {
   "cell_type": "code",
   "execution_count": 16,
   "id": "e6d5d1aa-53ef-40e0-a922-49d41482da55",
   "metadata": {},
   "outputs": [
    {
     "data": {
      "text/plain": [
       "\u001b[0;31mSignature:\u001b[0m\n",
       "\u001b[0mpydantic\u001b[0m\u001b[0;34m.\u001b[0m\u001b[0mcreate_model\u001b[0m\u001b[0;34m(\u001b[0m\u001b[0;34m\u001b[0m\n",
       "\u001b[0;34m\u001b[0m    \u001b[0m__model_name\u001b[0m\u001b[0;34m:\u001b[0m \u001b[0mstr\u001b[0m\u001b[0;34m,\u001b[0m\u001b[0;34m\u001b[0m\n",
       "\u001b[0;34m\u001b[0m    \u001b[0;34m*\u001b[0m\u001b[0;34m,\u001b[0m\u001b[0;34m\u001b[0m\n",
       "\u001b[0;34m\u001b[0m    \u001b[0m__config__\u001b[0m\u001b[0;34m:\u001b[0m \u001b[0mUnion\u001b[0m\u001b[0;34m[\u001b[0m\u001b[0mType\u001b[0m\u001b[0;34m[\u001b[0m\u001b[0mpydantic\u001b[0m\u001b[0;34m.\u001b[0m\u001b[0mconfig\u001b[0m\u001b[0;34m.\u001b[0m\u001b[0mBaseConfig\u001b[0m\u001b[0;34m]\u001b[0m\u001b[0;34m,\u001b[0m \u001b[0mNoneType\u001b[0m\u001b[0;34m]\u001b[0m \u001b[0;34m=\u001b[0m \u001b[0;32mNone\u001b[0m\u001b[0;34m,\u001b[0m\u001b[0;34m\u001b[0m\n",
       "\u001b[0;34m\u001b[0m    \u001b[0m__base__\u001b[0m\u001b[0;34m:\u001b[0m \u001b[0mUnion\u001b[0m\u001b[0;34m[\u001b[0m\u001b[0mNoneType\u001b[0m\u001b[0;34m,\u001b[0m \u001b[0mType\u001b[0m\u001b[0;34m[\u001b[0m\u001b[0mForwardRef\u001b[0m\u001b[0;34m(\u001b[0m\u001b[0;34m'Model'\u001b[0m\u001b[0;34m)\u001b[0m\u001b[0;34m]\u001b[0m\u001b[0;34m,\u001b[0m \u001b[0mTuple\u001b[0m\u001b[0;34m[\u001b[0m\u001b[0mType\u001b[0m\u001b[0;34m[\u001b[0m\u001b[0mForwardRef\u001b[0m\u001b[0;34m(\u001b[0m\u001b[0;34m'Model'\u001b[0m\u001b[0;34m)\u001b[0m\u001b[0;34m]\u001b[0m\u001b[0;34m,\u001b[0m \u001b[0;34m...\u001b[0m\u001b[0;34m]\u001b[0m\u001b[0;34m]\u001b[0m \u001b[0;34m=\u001b[0m \u001b[0;32mNone\u001b[0m\u001b[0;34m,\u001b[0m\u001b[0;34m\u001b[0m\n",
       "\u001b[0;34m\u001b[0m    \u001b[0m__module__\u001b[0m\u001b[0;34m:\u001b[0m \u001b[0mstr\u001b[0m \u001b[0;34m=\u001b[0m \u001b[0;34m'pydantic.main'\u001b[0m\u001b[0;34m,\u001b[0m\u001b[0;34m\u001b[0m\n",
       "\u001b[0;34m\u001b[0m    \u001b[0m__validators__\u001b[0m\u001b[0;34m:\u001b[0m \u001b[0mDict\u001b[0m\u001b[0;34m[\u001b[0m\u001b[0mstr\u001b[0m\u001b[0;34m,\u001b[0m \u001b[0mForwardRef\u001b[0m\u001b[0;34m(\u001b[0m\u001b[0;34m'AnyClassMethod'\u001b[0m\u001b[0;34m)\u001b[0m\u001b[0;34m]\u001b[0m \u001b[0;34m=\u001b[0m \u001b[0;32mNone\u001b[0m\u001b[0;34m,\u001b[0m\u001b[0;34m\u001b[0m\n",
       "\u001b[0;34m\u001b[0m    \u001b[0;34m**\u001b[0m\u001b[0mfield_definitions\u001b[0m\u001b[0;34m:\u001b[0m \u001b[0mAny\u001b[0m\u001b[0;34m,\u001b[0m\u001b[0;34m\u001b[0m\n",
       "\u001b[0;34m\u001b[0m\u001b[0;34m)\u001b[0m \u001b[0;34m->\u001b[0m \u001b[0mType\u001b[0m\u001b[0;34m[\u001b[0m\u001b[0mForwardRef\u001b[0m\u001b[0;34m(\u001b[0m\u001b[0;34m'Model'\u001b[0m\u001b[0;34m)\u001b[0m\u001b[0;34m]\u001b[0m\u001b[0;34m\u001b[0m\u001b[0;34m\u001b[0m\u001b[0m\n",
       "\u001b[0;31mDocstring:\u001b[0m\n",
       "Dynamically create a model.\n",
       ":param __model_name: name of the created model\n",
       ":param __config__: config class to use for the new model\n",
       ":param __base__: base class for the new model to inherit from\n",
       ":param __module__: module of the created model\n",
       ":param __validators__: a dict of method names and @validator class methods\n",
       ":param field_definitions: fields of the model (or extra fields if a base is supplied)\n",
       "    in the format `<name>=(<type>, <default default>)` or `<name>=<default value>, e.g.\n",
       "    `foobar=(str, ...)` or `foobar=123`, or, for complex use-cases, in the format\n",
       "    `<name>=<FieldInfo>`, e.g. `foo=Field(default_factory=datetime.utcnow, alias='bar')`\n",
       "\u001b[0;31mFile:\u001b[0m      ~/.pyenv/versions/3.8.0/envs/analysis_schema/lib/python3.8/site-packages/pydantic/main.py\n",
       "\u001b[0;31mType:\u001b[0m      function\n"
      ]
     },
     "metadata": {},
     "output_type": "display_data"
    }
   ],
   "source": [
    "pydantic.create_model?"
   ]
  },
  {
   "cell_type": "code",
   "execution_count": 50,
   "id": "1ed80a35-b80b-4ace-9244-847ede72d3b9",
   "metadata": {},
   "outputs": [
    {
     "data": {
      "text/plain": [
       "FullArgSpec(args=['ds', 'normal', 'fields', 'axis'], varargs='args', varkw='kwargs', defaults=(None, None, None), kwonlyargs=[], kwonlydefaults=None, annotations={})"
      ]
     },
     "execution_count": 50,
     "metadata": {},
     "output_type": "execute_result"
    }
   ],
   "source": [
    "fas = inspect.getfullargspec(yt.SlicePlot)\n",
    "fas"
   ]
  },
  {
   "cell_type": "code",
   "execution_count": 20,
   "id": "16e501ef-4bd5-4aaa-9e12-d39ea5bb0b9e",
   "metadata": {},
   "outputs": [
    {
     "data": {
      "text/plain": [
       "[]"
      ]
     },
     "execution_count": 20,
     "metadata": {},
     "output_type": "execute_result"
    }
   ],
   "source": [
    "fas.kwonlyargs"
   ]
  },
  {
   "cell_type": "code",
   "execution_count": 30,
   "id": "05b29957-503c-4606-b833-28061df86b77",
   "metadata": {},
   "outputs": [
    {
     "data": {
      "text/plain": [
       "{'ds': typing.Any, 'normal': str, 'fields': str, 'axis': typing.Any}"
      ]
     },
     "execution_count": 30,
     "metadata": {},
     "output_type": "execute_result"
    }
   ],
   "source": [
    "model_fields = {}\n",
    "for ky, val in zip(fas.args, (typing.Any, str, str, typing.Any)):\n",
    "    model_fields[ky] = val\n",
    "    \n",
    "model_fields"
   ]
  },
  {
   "cell_type": "code",
   "execution_count": null,
   "id": "cc449438-8761-435f-a627-5bcd8a7cf0f8",
   "metadata": {},
   "outputs": [],
   "source": []
  },
  {
   "cell_type": "code",
   "execution_count": 32,
   "id": "01790380-2a02-49da-954b-311990db2306",
   "metadata": {},
   "outputs": [],
   "source": [
    "SlicePlotModel = pydantic.create_model(__model_name='SlicePlot', fields=str)"
   ]
  },
  {
   "cell_type": "code",
   "execution_count": 33,
   "id": "72c0a169-3e2b-48fc-b35e-eef233aed17c",
   "metadata": {},
   "outputs": [
    {
     "data": {
      "text/plain": [
       "pydantic.main.SlicePlot"
      ]
     },
     "execution_count": 33,
     "metadata": {},
     "output_type": "execute_result"
    }
   ],
   "source": [
    "SlicePlotModel"
   ]
  },
  {
   "cell_type": "code",
   "execution_count": 24,
   "id": "673c80e7-53ab-4e37-9ec7-68237d482914",
   "metadata": {},
   "outputs": [
    {
     "data": {
      "text/plain": [
       "\u001b[0;31mSignature:\u001b[0m \u001b[0myt\u001b[0m\u001b[0;34m.\u001b[0m\u001b[0mSlicePlot\u001b[0m\u001b[0;34m(\u001b[0m\u001b[0mds\u001b[0m\u001b[0;34m,\u001b[0m \u001b[0mnormal\u001b[0m\u001b[0;34m=\u001b[0m\u001b[0;32mNone\u001b[0m\u001b[0;34m,\u001b[0m \u001b[0mfields\u001b[0m\u001b[0;34m=\u001b[0m\u001b[0;32mNone\u001b[0m\u001b[0;34m,\u001b[0m \u001b[0maxis\u001b[0m\u001b[0;34m=\u001b[0m\u001b[0;32mNone\u001b[0m\u001b[0;34m,\u001b[0m \u001b[0;34m*\u001b[0m\u001b[0margs\u001b[0m\u001b[0;34m,\u001b[0m \u001b[0;34m**\u001b[0m\u001b[0mkwargs\u001b[0m\u001b[0;34m)\u001b[0m\u001b[0;34m\u001b[0m\u001b[0;34m\u001b[0m\u001b[0m\n",
       "\u001b[0;31mDocstring:\u001b[0m\n",
       "A factory function for\n",
       ":class:`yt.visualization.plot_window.AxisAlignedSlicePlot`\n",
       "and :class:`yt.visualization.plot_window.OffAxisSlicePlot` objects.  This\n",
       "essentially allows for a single entry point to both types of slice plots,\n",
       "the distinction being determined by the specified normal vector to the\n",
       "slice.\n",
       "\n",
       "The returned plot object can be updated using one of the many helper\n",
       "functions defined in PlotWindow.\n",
       "\n",
       "Parameters\n",
       "----------\n",
       "\n",
       "ds : :class:`yt.data_objects.static_output.Dataset`\n",
       "    This is the dataset object corresponding to the\n",
       "    simulation output to be plotted.\n",
       "normal : int or one of 'x', 'y', 'z', or sequence of floats\n",
       "    This specifies the normal vector to the slice.  If given as an integer\n",
       "    or a coordinate string (0=x, 1=y, 2=z), this function will return an\n",
       "    :class:`AxisAlignedSlicePlot` object.  If given as a sequence of floats,\n",
       "    this is interpreted as an off-axis vector and an\n",
       "    :class:`OffAxisSlicePlot` object is returned.\n",
       "fields : string\n",
       "     The name of the field(s) to be plotted.\n",
       "axis : int or one of 'x', 'y', 'z'\n",
       "     An int corresponding to the axis to slice along (0=x, 1=y, 2=z)\n",
       "     or the axis name itself.  If specified, this will replace normal.\n",
       "\n",
       "\n",
       "The following are nominally keyword arguments passed onto the respective\n",
       "slice plot objects generated by this function.\n",
       "\n",
       "Keyword Arguments\n",
       "-----------------\n",
       "\n",
       "center : A sequence floats, a string, or a tuple.\n",
       "     The coordinate of the center of the image. If set to 'c', 'center' or\n",
       "     left blank, the plot is centered on the middle of the domain. If set to\n",
       "     'max' or 'm', the center will be located at the maximum of the\n",
       "     ('gas', 'density') field. Centering on the max or min of a specific\n",
       "     field is supported by providing a tuple such as (\"min\",\"temperature\") or\n",
       "     (\"max\",\"dark_matter_density\"). Units can be specified by passing in *center*\n",
       "     as a tuple containing a coordinate and string unit name or by passing\n",
       "     in a YTArray. If a list or unitless array is supplied, code units are\n",
       "     assumed.\n",
       "width : tuple or a float.\n",
       "     Width can have four different formats to support windows with variable\n",
       "     x and y widths.  They are:\n",
       "\n",
       "     ==================================     =======================\n",
       "     format                                 example\n",
       "     ==================================     =======================\n",
       "     (float, string)                        (10,'kpc')\n",
       "     ((float, string), (float, string))     ((10,'kpc'),(15,'kpc'))\n",
       "     float                                  0.2\n",
       "     (float, float)                         (0.2, 0.3)\n",
       "     ==================================     =======================\n",
       "\n",
       "     For example, (10, 'kpc') requests a plot window that is 10 kiloparsecs\n",
       "     wide in the x and y directions, ((10,'kpc'),(15,'kpc')) requests a\n",
       "     window that is 10 kiloparsecs wide along the x axis and 15\n",
       "     kiloparsecs wide along the y axis.  In the other two examples, code\n",
       "     units are assumed, for example (0.2, 0.3) requests a plot that has an\n",
       "     x width of 0.2 and a y width of 0.3 in code units.  If units are\n",
       "     provided the resulting plot axis labels will use the supplied units.\n",
       "axes_unit : string\n",
       "     The name of the unit for the tick labels on the x and y axes.\n",
       "     Defaults to None, which automatically picks an appropriate unit.\n",
       "     If axes_unit is '1', 'u', or 'unitary', it will not display the\n",
       "     units, and only show the axes name.\n",
       "origin : string or length 1, 2, or 3 sequence.\n",
       "     The location of the origin of the plot coordinate system for\n",
       "     `AxisAlignedSlicePlot` object; for `OffAxisSlicePlot` objects this\n",
       "     parameter is discarded. This is typically represented by a '-'\n",
       "     separated string or a tuple of strings. In the first index the\n",
       "     y-location is given by 'lower', 'upper', or 'center'. The second index\n",
       "     is the x-location, given as 'left', 'right', or 'center'. Finally, the\n",
       "     whether the origin is applied in 'domain' space, plot 'window' space or\n",
       "     'native' simulation coordinate system is given. For example, both\n",
       "     'upper-right-domain' and ['upper', 'right', 'domain'] place the\n",
       "     origin in the upper right hand corner of domain space. If x or y\n",
       "     are not given, a value is inferred. For instance, 'left-domain'\n",
       "     corresponds to the lower-left hand corner of the simulation domain,\n",
       "     'center-domain' corresponds to the center of the simulation domain,\n",
       "     or 'center-window' for the center of the plot window. In the event\n",
       "     that none of these options place the origin in a desired location,\n",
       "     a sequence of tuples and a string specifying the\n",
       "     coordinate space can be given. If plain numeric types are input,\n",
       "     units of `code_length` are assumed. Further examples:\n",
       "\n",
       "     =============================================== ===============================\n",
       "     format                                          example\n",
       "     =============================================== ===============================\n",
       "     '{space}'                                       'domain'\n",
       "     '{xloc}-{space}'                                'left-window'\n",
       "     '{yloc}-{space}'                                'upper-domain'\n",
       "     '{yloc}-{xloc}-{space}'                         'lower-right-window'\n",
       "     ('{space}',)                                    ('window',)\n",
       "     ('{xloc}', '{space}')                           ('right', 'domain')\n",
       "     ('{yloc}', '{space}')                           ('lower', 'window')\n",
       "     ('{yloc}', '{xloc}', '{space}')                 ('lower', 'right', 'window')\n",
       "     ((yloc, '{unit}'), (xloc, '{unit}'), '{space}') ((0, 'm'), (.4, 'm'), 'window')\n",
       "     (xloc, yloc, '{space}')                         (0.23, 0.5, 'domain')\n",
       "     =============================================== ===============================\n",
       "north_vector : a sequence of floats\n",
       "    A vector defining the 'up' direction in the `OffAxisSlicePlot`; not\n",
       "    used in `AxisAlignedSlicePlot`.  This option sets the orientation of the\n",
       "    slicing plane.  If not set, an arbitrary grid-aligned north-vector is\n",
       "    chosen.\n",
       "fontsize : integer\n",
       "     The size of the fonts for the axis, colorbar, and tick labels.\n",
       "field_parameters : dictionary\n",
       "     A dictionary of field parameters than can be accessed by derived\n",
       "     fields.\n",
       "data_source : YTSelectionContainer Object\n",
       "     Object to be used for data selection.  Defaults to a region covering\n",
       "     the entire simulation.\n",
       "\n",
       "Raises\n",
       "------\n",
       "\n",
       "AssertionError\n",
       "    If a proper normal axis is not specified via the normal or axis\n",
       "    keywords, and/or if a field to plot is not specified.\n",
       "\n",
       "Examples\n",
       "--------\n",
       "\n",
       ">>> from yt import load\n",
       ">>> ds = load(\"IsolatedGalaxy/galaxy0030/galaxy0030\")\n",
       ">>> slc = SlicePlot(ds, \"x\", (\"gas\", \"density\"), center=[0.2, 0.3, 0.4])\n",
       "\n",
       ">>> slc = SlicePlot(\n",
       "...     ds, [0.4, 0.2, -0.1], (\"gas\", \"pressure\"), north_vector=[0.2, -0.3, 0.1]\n",
       "... )\n",
       "\u001b[0;31mFile:\u001b[0m      ~/.pyenv/versions/3.8.0/envs/analysis_schema/lib/python3.8/site-packages/yt/visualization/plot_window.py\n",
       "\u001b[0;31mType:\u001b[0m      function\n"
      ]
     },
     "metadata": {},
     "output_type": "display_data"
    }
   ],
   "source": [
    "yt.SlicePlot?"
   ]
  },
  {
   "cell_type": "code",
   "execution_count": null,
   "id": "37d04b21-433e-4432-960f-d7ef34b275b1",
   "metadata": {},
   "outputs": [],
   "source": []
  }
 ],
 "metadata": {
  "kernelspec": {
   "display_name": "Python 3",
   "language": "python",
   "name": "python3"
  },
  "language_info": {
   "codemirror_mode": {
    "name": "ipython",
    "version": 3
   },
   "file_extension": ".py",
   "mimetype": "text/x-python",
   "name": "python",
   "nbconvert_exporter": "python",
   "pygments_lexer": "ipython3",
   "version": "3.8.0"
  }
 },
 "nbformat": 4,
 "nbformat_minor": 5
}
