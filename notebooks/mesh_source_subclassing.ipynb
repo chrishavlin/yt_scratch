{
 "cells": [
  {
   "cell_type": "code",
   "execution_count": 1,
   "id": "theoretical-anime",
   "metadata": {},
   "outputs": [
    {
     "name": "stderr",
     "output_type": "stream",
     "text": [
      "yt : [INFO     ] 2021-03-23 15:38:45,582 Parameters: current_time              = 645.81707236914\n",
      "yt : [INFO     ] 2021-03-23 15:38:45,582 Parameters: domain_dimensions         = [64 64 64]\n",
      "yt : [INFO     ] 2021-03-23 15:38:45,582 Parameters: domain_left_edge          = [0. 0. 0.]\n",
      "yt : [INFO     ] 2021-03-23 15:38:45,583 Parameters: domain_right_edge         = [1. 1. 1.]\n",
      "yt : [INFO     ] 2021-03-23 15:38:45,583 Parameters: cosmological_simulation   = 1\n",
      "yt : [INFO     ] 2021-03-23 15:38:45,584 Parameters: current_redshift          = 0.0013930880640796\n",
      "yt : [INFO     ] 2021-03-23 15:38:45,584 Parameters: omega_lambda              = 0.7\n",
      "yt : [INFO     ] 2021-03-23 15:38:45,585 Parameters: omega_matter              = 0.3\n",
      "yt : [INFO     ] 2021-03-23 15:38:45,585 Parameters: omega_radiation           = 0.0\n",
      "yt : [INFO     ] 2021-03-23 15:38:45,585 Parameters: hubble_constant           = 0.71\n"
     ]
    }
   ],
   "source": [
    "import yt\n",
    "import numpy as np\n",
    "ds = yt.load(\"Enzo_64/DD0043/data0043\")"
   ]
  },
  {
   "cell_type": "code",
   "execution_count": 2,
   "id": "steady-ghost",
   "metadata": {},
   "outputs": [],
   "source": [
    "slc = ds.slice(0, 0.5)"
   ]
  },
  {
   "cell_type": "code",
   "execution_count": 3,
   "id": "improving-fleece",
   "metadata": {},
   "outputs": [],
   "source": [
    "frb = slc.to_frb(0.4, (100, 100))"
   ]
  },
  {
   "cell_type": "code",
   "execution_count": 17,
   "id": "rising-table",
   "metadata": {},
   "outputs": [
    {
     "data": {
      "text/plain": [
       "(10000,)"
      ]
     },
     "execution_count": 17,
     "metadata": {},
     "output_type": "execute_result"
    }
   ],
   "source": [
    "# field values, to be element-center values\n",
    "field_vals_c = frb['density']\n",
    "field_vals_c = field_vals_c.ravel()\n",
    "field_vals_c.shape"
   ]
  },
  {
   "cell_type": "code",
   "execution_count": 9,
   "id": "alike-kuwait",
   "metadata": {},
   "outputs": [
    {
     "data": {
      "text/plain": [
       "(100, 100)"
      ]
     },
     "execution_count": 9,
     "metadata": {},
     "output_type": "execute_result"
    }
   ],
   "source": [
    "# in-plane coordinates\n",
    "frb.buff_size\n"
   ]
  },
  {
   "cell_type": "code",
   "execution_count": 10,
   "id": "coastal-ordinance",
   "metadata": {},
   "outputs": [
    {
     "data": {
      "text/plain": [
       "(unyt_quantity(0.3, 'code_length'),\n",
       " unyt_quantity(0.7, 'code_length'),\n",
       " unyt_quantity(0.3, 'code_length'),\n",
       " unyt_quantity(0.7, 'code_length'))"
      ]
     },
     "execution_count": 10,
     "metadata": {},
     "output_type": "execute_result"
    }
   ],
   "source": [
    "frb.bounds"
   ]
  },
  {
   "cell_type": "code",
   "execution_count": 61,
   "id": "persistent-boutique",
   "metadata": {},
   "outputs": [],
   "source": [
    "# in-plane coordinates. \n",
    "y_c = np.linspace(frb.bounds[0], frb.bounds[1], frb.buff_size[0])\n",
    "z_c = np.linspace(frb.bounds[2], frb.bounds[3], frb.buff_size[1])\n",
    "dy = y_c[1] - y_c[0]\n",
    "dz = z_c[1] - z_c[0]\n",
    "\n"
   ]
  },
  {
   "cell_type": "code",
   "execution_count": 62,
   "id": "pressed-supervision",
   "metadata": {},
   "outputs": [
    {
     "data": {
      "text/plain": [
       "(100,)"
      ]
     },
     "execution_count": 62,
     "metadata": {},
     "output_type": "execute_result"
    }
   ],
   "source": [
    "z_c.shape"
   ]
  },
  {
   "cell_type": "code",
   "execution_count": 63,
   "id": "useful-functionality",
   "metadata": {},
   "outputs": [],
   "source": [
    "elements = []"
   ]
  },
  {
   "cell_type": "code",
   "execution_count": 64,
   "id": "cubic-trading",
   "metadata": {},
   "outputs": [],
   "source": [
    "# does not scale... whatevs, just get it working...\n",
    "ny = y_c.size \n",
    "nz = z_c.size\n",
    "i_el = 0\n",
    "for i_zc in range(z_c.size-1):\n",
    "    for i_yc in range(y_c.size-1):\n",
    "        \n",
    "        # global index of the vertices to add to this\n",
    "        # element\n",
    "        top_left = i_zc * ny + i_yc\n",
    "        top_right = top_left + 1\n",
    "        bot_right = top_right + ny\n",
    "        bot_left = bot_right -1\n",
    "                \n",
    "        verts = [top_left, top_right, bot_right, bot_left]\n",
    "        elements.append(verts)"
   ]
  },
  {
   "cell_type": "code",
   "execution_count": 65,
   "id": "eastern-grenada",
   "metadata": {},
   "outputs": [
    {
     "data": {
      "text/plain": [
       "[0, 1, 101, 100]"
      ]
     },
     "execution_count": 65,
     "metadata": {},
     "output_type": "execute_result"
    }
   ],
   "source": [
    "elements[0]"
   ]
  },
  {
   "cell_type": "code",
   "execution_count": 66,
   "id": "invalid-wholesale",
   "metadata": {},
   "outputs": [],
   "source": [
    "y_c, z_c = np.meshgrid(y_c, z_c) # element centers"
   ]
  },
  {
   "cell_type": "code",
   "execution_count": 67,
   "id": "current-camcorder",
   "metadata": {},
   "outputs": [],
   "source": [
    "y_c = y_c.ravel()\n",
    "z_c = z_c.ravel()\n",
    "x_c = np.full(x_c.shape, slc.coord)\n",
    "coords = np.column_stack([x_c, y_c, z_c])"
   ]
  },
  {
   "cell_type": "code",
   "execution_count": 68,
   "id": "disturbed-richardson",
   "metadata": {},
   "outputs": [
    {
     "data": {
      "text/plain": [
       "(10000,)"
      ]
     },
     "execution_count": 68,
     "metadata": {},
     "output_type": "execute_result"
    }
   ],
   "source": [
    "x_c.shape"
   ]
  },
  {
   "cell_type": "code",
   "execution_count": 69,
   "id": "stylish-revolution",
   "metadata": {},
   "outputs": [
    {
     "data": {
      "text/plain": [
       "unyt_array([[0.5      , 0.3      , 0.3      ],\n",
       "            [0.5      , 0.3040404, 0.3      ],\n",
       "            [0.5      , 0.3040404, 0.3040404],\n",
       "            [0.5      , 0.3      , 0.3040404]], '(dimensionless)')"
      ]
     },
     "execution_count": 69,
     "metadata": {},
     "output_type": "execute_result"
    }
   ],
   "source": [
    "coords[elements[0]]"
   ]
  },
  {
   "cell_type": "code",
   "execution_count": 70,
   "id": "metallic-princeton",
   "metadata": {},
   "outputs": [
    {
     "data": {
      "text/plain": [
       "ImageArray([9.51327058e-32, 9.51327058e-32, 9.51327058e-32,\n",
       "            9.51327058e-32], 'g/cm**3')"
      ]
     },
     "execution_count": 70,
     "metadata": {},
     "output_type": "execute_result"
    }
   ],
   "source": [
    "field_vals_c[elements[0]]\n",
    "\n",
    "\n"
   ]
  },
  {
   "cell_type": "code",
   "execution_count": 1,
   "id": "surgical-pollution",
   "metadata": {},
   "outputs": [],
   "source": [
    "from yt.visualization.volume_rendering.render_source import MeshSource\n",
    "from yt.utilities.lib.bounding_volume_hierarchy import BVH\n",
    "import numpy as np"
   ]
  },
  {
   "cell_type": "code",
   "execution_count": 32,
   "id": "referenced-keyboard",
   "metadata": {},
   "outputs": [],
   "source": [
    "class PlaneSource(MeshSource):        \n",
    "            \n",
    "    def __init__(self, slice_frb, field):        \n",
    "        # check that it's a frb\n",
    "        # assert(slice)\n",
    "#         self.frb = slice_frb\n",
    "        super().__init__(slice_frb.data_source, field, engine='yt', frb = slice_frb)\n",
    "        \n",
    "        \n",
    "    def build_volume_bvh(self):\n",
    "        \"\"\"\n",
    "\n",
    "        This constructs the mesh that will be ray-traced.\n",
    "\n",
    "        \"\"\"\n",
    "        ftype, fname = self.field\n",
    "        \n",
    "        # in-plane coordinates. \n",
    "        frb = self.frb\n",
    "        buff_size = frb.buff_size\n",
    "        slice_ax = self.data_source.axis \n",
    "        field_data = self.frb[self.field].d # strip units\n",
    "        field_data = field_data.ravel()\n",
    "\n",
    "        dim_1d_arrays = []\n",
    "        d_dim = []\n",
    "        ibuf = 0\n",
    "        for idim in range(3):\n",
    "            if idim != slice_ax:                \n",
    "                ibuf_z = ibuf*2\n",
    "                ax_coor = np.linspace(frb.bounds[ibuf_z], frb.bounds[ibuf_z+1], frb.buff_size[ibuf])\n",
    "                dim_1d_arrays.append(ax_coor)  \n",
    "                d_dim.append(ax_coor[1] - ax_coor[0])\n",
    "                ibuf += 1\n",
    "                \n",
    "        # does not scale... whatevs, just get it working...\n",
    "        n0 = dim_1d_arrays[0].size \n",
    "        n1 = dim_1d_arrays[1].size\n",
    "        i_el = 0\n",
    "        elements = []\n",
    "        field_vals = []\n",
    "        for i_1 in range(n1-1):\n",
    "            for i_0 in range(n0-1):\n",
    "\n",
    "                # global index of the vertices to add to this\n",
    "                # element\n",
    "                top_left = i_1 * n0 + i_0\n",
    "                top_right = top_left + 1\n",
    "                bot_right = top_right + n0\n",
    "                bot_left = bot_right -1\n",
    "\n",
    "                verts = [top_left, top_right, bot_right, bot_left]\n",
    "                field_vals.append(field_data[verts])\n",
    "                elements.append(verts)\n",
    "        field_vals = np.array(field_vals)\n",
    "        elements = np.array(elements)\n",
    "        \n",
    "        n0_c, n1_c = np.meshgrid(dim_1d_arrays[0], dim_1d_arrays[1]) # element centers\n",
    "        n0_c = n0_c.ravel()\n",
    "        n1_c = n1_c.ravel()\n",
    "        \n",
    "        # figure out what is x,y,z\n",
    "        if slice_ax == 0:\n",
    "            x_c = np.full(n0_c.shape, slc.coord)\n",
    "            y_c = n0_c\n",
    "            z_c = n1_c\n",
    "        elif slice_ax == 1:\n",
    "            x_c = n0_c\n",
    "            y_c = np.full(n0_c.shape, slc.coord)\n",
    "            z_c = n1_c\n",
    "        elif slice_ax == 2:\n",
    "            x_c = n0_c\n",
    "            y_c = n1_c\n",
    "            z_c = np.full(n0_c.shape, slc.coord)\n",
    "                    \n",
    "        coords = np.column_stack([x_c, y_c, z_c]) # vertex coordinates\n",
    "                        \n",
    "        \n",
    "        print(field_data.shape)\n",
    "        print(coords.shape)\n",
    "        print(elements.shape)\n",
    "        print(elements.max())\n",
    "        print(elements.min())\n",
    "        self.volume = BVH(coords, elements, field_vals)\n",
    "\n"
   ]
  },
  {
   "cell_type": "code",
   "execution_count": 33,
   "id": "environmental-navigation",
   "metadata": {},
   "outputs": [
    {
     "name": "stderr",
     "output_type": "stream",
     "text": [
      "yt : [INFO     ] 2021-03-23 17:51:38,889 Parameters: current_time              = 645.81707236914\n",
      "yt : [INFO     ] 2021-03-23 17:51:38,889 Parameters: domain_dimensions         = [64 64 64]\n",
      "yt : [INFO     ] 2021-03-23 17:51:38,890 Parameters: domain_left_edge          = [0. 0. 0.]\n",
      "yt : [INFO     ] 2021-03-23 17:51:38,891 Parameters: domain_right_edge         = [1. 1. 1.]\n",
      "yt : [INFO     ] 2021-03-23 17:51:38,892 Parameters: cosmological_simulation   = 1\n",
      "yt : [INFO     ] 2021-03-23 17:51:38,893 Parameters: current_redshift          = 0.0013930880640796\n",
      "yt : [INFO     ] 2021-03-23 17:51:38,893 Parameters: omega_lambda              = 0.7\n",
      "yt : [INFO     ] 2021-03-23 17:51:38,893 Parameters: omega_matter              = 0.3\n",
      "yt : [INFO     ] 2021-03-23 17:51:38,894 Parameters: omega_radiation           = 0.0\n",
      "yt : [INFO     ] 2021-03-23 17:51:38,894 Parameters: hubble_constant           = 0.71\n"
     ]
    }
   ],
   "source": [
    "import yt\n",
    "ds = yt.load(\"Enzo_64/DD0043/data0043\")"
   ]
  },
  {
   "cell_type": "code",
   "execution_count": 34,
   "id": "expected-noise",
   "metadata": {},
   "outputs": [],
   "source": [
    "slc = ds.slice(0, 0.5)"
   ]
  },
  {
   "cell_type": "code",
   "execution_count": 35,
   "id": "aging-sussex",
   "metadata": {},
   "outputs": [],
   "source": [
    "slice_frb = slc.to_frb(1.,(30,30))"
   ]
  },
  {
   "cell_type": "code",
   "execution_count": 36,
   "id": "visible-function",
   "metadata": {},
   "outputs": [
    {
     "name": "stderr",
     "output_type": "stream",
     "text": [
      "Parsing Hierarchy : 100%|█████████▉| 751/752 [00:00<00:00, 13600.99it/s]\n",
      "yt : [INFO     ] 2021-03-23 17:51:40,325 Gathering a field list (this may take a moment.)\n",
      "yt : [INFO     ] 2021-03-23 17:51:41,493 Making a fixed resolution buffer of (('gas', 'density')) 30 by 30\n"
     ]
    },
    {
     "name": "stdout",
     "output_type": "stream",
     "text": [
      "(900,)\n",
      "(900, 3)\n",
      "(841, 4)\n",
      "899\n",
      "0\n"
     ]
    }
   ],
   "source": [
    "p_src = PlaneSource(slice_frb, \"density\")"
   ]
  },
  {
   "cell_type": "code",
   "execution_count": 37,
   "id": "adverse-collar",
   "metadata": {},
   "outputs": [
    {
     "name": "stderr",
     "output_type": "stream",
     "text": [
      "yt : [INFO     ] 2021-03-23 17:51:47,433 Setting default field to ('gas', 'density')\n",
      "yt : [INFO     ] 2021-03-23 17:51:47,457 Rendering scene (Can take a while).\n"
     ]
    },
    {
     "data": {
      "image/png": "[encoded data removed]",
      "text/plain": [
       "<Scene Object>:\n",
       "Sources: \n",
       "    source_00: <Mesh Source>:YTSlice (data0043): , axis=0, coord=0.5 \n",
       "Camera: \n",
       "    <Camera Object>:\n",
       "\tposition:[1. 1. 1.] unitary\n",
       "\tfocus:[0.5 0.5 0.5] unitary\n",
       "\tnorth_vector:[ 0.81649658 -0.40824829 -0.40824829] dimensionless\n",
       "\twidth:[1.5 1.5 1.5] unitary\n",
       "\tlight:None\n",
       "\tresolution:(512, 512)\n",
       "Lens: <Lens Object>:\n",
       "\tlens_type:perspective\n",
       "\tviewpoint:[0.0669873 0.0669873 0.0669873] unitary unitary"
      ]
     },
     "metadata": {},
     "output_type": "display_data"
    }
   ],
   "source": [
    "\n",
    "sc = yt.create_scene(ds, lens_type='perspective', init_sources=False)\n",
    "sc.add_source(p_src)\n",
    "sc.render()\n",
    "sc.show()\n",
    "# sc.save(\"../temp/helloplane.png\")\n",
    "\n",
    "# # sc = yt.create_scene(ds, lens_type='perspective', init_sources=False)\n",
    "# cb = [-30,-26]\n",
    "# slice = ds.slice(0,0.5)\n",
    "# plane = PlaneSource(slice, 'density', color_bounds=cb, logfield=True, alpha=1)\n",
    "# sc.add_source(plane)\n",
    "# # slice = ds.slice(0,0.65)\n",
    "# plane = PlaneSource(slice, 'density', color_bounds=cb, logfield=True, alpha=1)\n",
    "# sc.add_source(plane)\n",
    "\n"
   ]
  },
  {
   "cell_type": "code",
   "execution_count": null,
   "id": "internal-conjunction",
   "metadata": {},
   "outputs": [],
   "source": []
  }
 ],
 "metadata": {
  "kernelspec": {
   "display_name": "Python 3",
   "language": "python",
   "name": "python3"
  },
  "language_info": {
   "codemirror_mode": {
    "name": "ipython",
    "version": 3
   },
   "file_extension": ".py",
   "mimetype": "text/x-python",
   "name": "python",
   "nbconvert_exporter": "python",
   "pygments_lexer": "ipython3",
   "version": "3.8.0"
  }
 },
 "nbformat": 4,
 "nbformat_minor": 5
}
