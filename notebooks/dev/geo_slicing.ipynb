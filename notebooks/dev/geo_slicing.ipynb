{
 "cells": [
  {
   "cell_type": "code",
   "execution_count": 1,
   "id": "a6b7fb9b-514e-428c-8630-c0ff3975c828",
   "metadata": {},
   "outputs": [],
   "source": [
    "import yt "
   ]
  },
  {
   "cell_type": "code",
   "execution_count": 2,
   "id": "17d9711d-8155-4418-a248-f1aef088b383",
   "metadata": {},
   "outputs": [],
   "source": [
    "import numpy as np "
   ]
  },
  {
   "cell_type": "code",
   "execution_count": 3,
   "id": "f70c4723-3a5a-456a-af48-9edf9ae8afab",
   "metadata": {},
   "outputs": [],
   "source": [
    "from yt.testing import fake_amr_ds"
   ]
  },
  {
   "cell_type": "code",
   "execution_count": 4,
   "id": "2a8582cd-d064-48d0-8a6f-5356bba9b178",
   "metadata": {},
   "outputs": [
    {
     "name": "stderr",
     "output_type": "stream",
     "text": [
      "yt : [INFO     ] 2023-10-19 10:37:06,767 Parameters: current_time              = 0.0\n",
      "yt : [INFO     ] 2023-10-19 10:37:06,768 Parameters: domain_dimensions         = [32 32 32]\n",
      "yt : [INFO     ] 2023-10-19 10:37:06,768 Parameters: domain_left_edge          = [ -90. -180.    0.]\n",
      "yt : [INFO     ] 2023-10-19 10:37:06,769 Parameters: domain_right_edge         = [  90.  180. 1000.]\n",
      "yt : [INFO     ] 2023-10-19 10:37:06,769 Parameters: cosmological_simulation   = 0\n"
     ]
    }
   ],
   "source": [
    "ds = fake_amr_ds(geometry='geographic')"
   ]
  },
  {
   "cell_type": "code",
   "execution_count": 5,
   "id": "a63dc065-2d44-4513-84e4-b13d11d099f9",
   "metadata": {},
   "outputs": [
    {
     "data": {
      "text/plain": [
       "[('stream', 'Density')]"
      ]
     },
     "execution_count": 5,
     "metadata": {},
     "output_type": "execute_result"
    }
   ],
   "source": [
    "ds.field_list"
   ]
  },
  {
   "cell_type": "code",
   "execution_count": 7,
   "id": "9c469343-63c6-45df-b60b-9b7274e0ee2e",
   "metadata": {},
   "outputs": [
    {
     "data": {
      "text/plain": [
       "True"
      ]
     },
     "execution_count": 7,
     "metadata": {},
     "output_type": "execute_result"
    }
   ],
   "source": [
    "ds.geometry is yt.geometry.geometry_enum.Geometry.GEOGRAPHIC"
   ]
  },
  {
   "cell_type": "code",
   "execution_count": null,
   "id": "71e81ac8-c2b4-492b-9aec-c11961b0b3da",
   "metadata": {},
   "outputs": [],
   "source": [
    "def setup_cartesian_fields(ds):\n",
    "\n",
    "    \n",
    "    def _cartesian_x(field, data):\n",
    "        return (\n",
    "            data[(\"index\", \"r\")]\n",
    "            * np.sin(data[(\"index\", \"theta\")])\n",
    "            * np.cos(data[(\"index\", \"phi\")])\n",
    "        )\n",
    "\n",
    "    def _cartesian_y(field, data):\n",
    "        return (\n",
    "            data[(\"index\", \"r\")]\n",
    "            * np.sin(data[(\"index\", \"theta\")])\n",
    "            * np.sin(data[(\"index\", \"phi\")])\n",
    "        )\n",
    "\n",
    "    def _cartesian_z(field, data):\n",
    "        return data[(\"index\", \"r\")] * np.cos(data[(\"index\", \"theta\")])\n",
    "\n",
    "    ds.add_field(\n",
    "        (\"index\", \"cartesian_x\"),\n",
    "        sampling_type=\"cell\",\n",
    "        function=_cartesian_x,\n",
    "        units=\"code_length\",\n",
    "        display_field=True,\n",
    "        take_log=False,\n",
    "    )\n",
    "\n",
    "    ds.add_field(\n",
    "        (\"index\", \"cartesian_y\"),\n",
    "        sampling_type=\"cell\",\n",
    "        function=_cartesian_y,\n",
    "        units=\"code_length\",\n",
    "        display_field=True,\n",
    "        take_log=False,\n",
    "    )\n",
    "\n",
    "    ds.add_field(\n",
    "        (\"index\", \"cartesian_z\"),\n",
    "        sampling_type=\"cell\",\n",
    "        function=_cartesian_z,\n",
    "        units=\"code_length\",\n",
    "        display_field=True,\n",
    "        take_log=False,\n",
    "    )"
   ]
  }
 ],
 "metadata": {
  "kernelspec": {
   "display_name": "Python 3 (ipykernel)",
   "language": "python",
   "name": "python3"
  },
  "language_info": {
   "codemirror_mode": {
    "name": "ipython",
    "version": 3
   },
   "file_extension": ".py",
   "mimetype": "text/x-python",
   "name": "python",
   "nbconvert_exporter": "python",
   "pygments_lexer": "ipython3",
   "version": "3.10.11"
  }
 },
 "nbformat": 4,
 "nbformat_minor": 5
}
