{
 "cells": [
  {
   "cell_type": "code",
   "execution_count": 1,
   "id": "e4fbaa69-aaab-4ce2-95f9-c7853d783d1d",
   "metadata": {},
   "outputs": [
    {
     "name": "stderr",
     "output_type": "stream",
     "text": [
      "yt : [INFO     ] 2024-03-28 16:18:26,739 Parameters: current_time              = 0.0\n",
      "yt : [INFO     ] 2024-03-28 16:18:26,739 Parameters: domain_dimensions         = [128 128 128]\n",
      "yt : [INFO     ] 2024-03-28 16:18:26,740 Parameters: domain_left_edge          = [0. 0. 0.]\n",
      "yt : [INFO     ] 2024-03-28 16:18:26,740 Parameters: domain_right_edge         = [1.         3.14159265 6.28318531]\n",
      "yt : [INFO     ] 2024-03-28 16:18:26,741 Parameters: cosmological_simulation   = 0\n",
      "yt : [INFO     ] 2024-03-28 16:18:26,744 Making a fixed resolution buffer of (('index', 'ones')) 10 by 10\n",
      "yt : [INFO     ] 2024-03-28 16:18:27,531 Making a fixed resolution buffer of (('index', 'ones')) 453 by 453\n",
      "yt : [INFO     ] 2024-03-28 16:18:27,565 Making a fixed resolution buffer of (('index', 'ones')) 896 by 896\n",
      "yt : [INFO     ] 2024-03-28 16:18:27,671 Making a fixed resolution buffer of (('index', 'ones')) 1340 by 1340\n",
      "yt : [INFO     ] 2024-03-28 16:18:27,884 Making a fixed resolution buffer of (('index', 'ones')) 1783 by 1783\n",
      "yt : [INFO     ] 2024-03-28 16:18:28,255 Making a fixed resolution buffer of (('index', 'ones')) 2226 by 2226\n",
      "yt : [INFO     ] 2024-03-28 16:18:28,832 Making a fixed resolution buffer of (('index', 'ones')) 2670 by 2670\n",
      "yt : [INFO     ] 2024-03-28 16:18:29,667 Making a fixed resolution buffer of (('index', 'ones')) 3113 by 3113\n",
      "yt : [INFO     ] 2024-03-28 16:18:30,796 Making a fixed resolution buffer of (('index', 'ones')) 3556 by 3556\n",
      "yt : [INFO     ] 2024-03-28 16:18:32,239 Making a fixed resolution buffer of (('index', 'ones')) 4000 by 4000\n"
     ]
    },
    {
     "data": {
      "image/png": "[encoded data removed]",
      "text/plain": [
       "<Figure size 576x288 with 2 Axes>"
      ]
     },
     "metadata": {
      "needs_background": "light"
     },
     "output_type": "display_data"
    }
   ],
   "source": [
    "import numpy as np\n",
    "import yt\n",
    "from yt.testing import fake_amr_ds\n",
    "import matplotlib.pyplot as plt\n",
    "\n",
    "shp = (128, 128, 128)\n",
    "data = {\"density\": np.random.random(shp)}\n",
    "\n",
    "bbox = np.array([[0.0, 1.0], [0, np.pi], [0, 2 * np.pi]])\n",
    "\n",
    "\n",
    "ds = yt.load_uniform_grid(\n",
    "    data,\n",
    "    shp,\n",
    "    bbox=bbox,\n",
    "    geometry=\"spherical\",\n",
    "    axis_order=(\"r\", \"theta\", \"phi\"),\n",
    "    length_unit=\"m\",\n",
    ")\n",
    "\n",
    "normal = np.array([0.0, 0.0, 1.0])\n",
    "center = np.array([0.0, 0., 0.5])\n",
    "\n",
    "slc = ds.cartesian_cutting(normal, center)\n",
    "approx_areas = []\n",
    "res_vals = np.linspace(10, 4000, 10).astype(int)\n",
    "for res in res_vals:\n",
    "    frb = slc.to_frb(2.0, res)\n",
    "    vals = frb[\"index\", \"ones\"]\n",
    "    msk = frb.get_mask((\"index\", \"ones\"))\n",
    "    vals[~msk] = 0.0\n",
    "    \n",
    "    # get the approximate area \n",
    "    dx = (frb.bounds[1] - frb.bounds[0]) / frb.buff_size[0]\n",
    "    dy = (frb.bounds[3] - frb.bounds[2]) / frb.buff_size[1]\n",
    "    area_approx = vals.sum() * dx * dy \n",
    "    area_approx = area_approx.d\n",
    "    approx_areas.append(area_approx)\n",
    "    \n",
    "ro = np.sqrt(1.0**2 - center[2]**2)\n",
    "area = np.pi * ro * ro\n",
    "\n",
    "approx_areas = np.array(approx_areas)\n",
    "error = np.abs(approx_areas - area) / area \n",
    "\n",
    "f, axs = plt.subplots(ncols=2, nrows=1, figsize=(8, 4))\n",
    "axs[0].plot(res_vals, approx_areas)\n",
    "axs[0].plot([0, res_vals[-1]], [area, area], '--k')\n",
    "\n",
    "axs[1].semilogy(res_vals, error)\n",
    "plt.show()"
   ]
  },
  {
   "cell_type": "code",
   "execution_count": null,
   "id": "420c4863-fc8c-4807-9725-0cb01833547d",
   "metadata": {},
   "outputs": [],
   "source": []
  }
 ],
 "metadata": {
  "kernelspec": {
   "display_name": "Python 3 (ipykernel)",
   "language": "python",
   "name": "python3"
  },
  "language_info": {
   "codemirror_mode": {
    "name": "ipython",
    "version": 3
   },
   "file_extension": ".py",
   "mimetype": "text/x-python",
   "name": "python",
   "nbconvert_exporter": "python",
   "pygments_lexer": "ipython3",
   "version": "3.9.10"
  }
 },
 "nbformat": 4,
 "nbformat_minor": 5
}
