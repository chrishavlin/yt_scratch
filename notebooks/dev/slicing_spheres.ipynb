{
 "cells": [
  {
   "cell_type": "markdown",
   "id": "6c3abe9f-f515-4374-9cf1-441fac2d608f",
   "metadata": {},
   "source": [
    "## define some spherical data"
   ]
  },
  {
   "cell_type": "code",
   "execution_count": 1,
   "id": "37150fea-348e-4981-8947-c3b20dc62562",
   "metadata": {},
   "outputs": [],
   "source": [
    "from aglio.coordinate_transformations import build_full_uniform_grid\n",
    "import numpy as np"
   ]
  },
  {
   "cell_type": "code",
   "execution_count": 2,
   "id": "0654ede7-16d6-4649-b817-c4d5ad52306e",
   "metadata": {},
   "outputs": [],
   "source": [
    "input_shape = [10, 20, 30]\n",
    "r, theta, phi = build_full_uniform_grid([0.,]*3, [1., np.pi, 2*np.pi], input_shape)"
   ]
  },
  {
   "cell_type": "markdown",
   "id": "f8f70976-e5f9-4fb3-8a79-e39b973a8136",
   "metadata": {},
   "source": [
    "treat those nodes as cell bounds, so there will be n-1 cells in each dim"
   ]
  },
  {
   "cell_type": "code",
   "execution_count": 3,
   "id": "ac38408a-2b7c-4242-9095-00ccb3dfff7b",
   "metadata": {},
   "outputs": [
    {
     "data": {
      "text/plain": [
       "[10, 20, 30]"
      ]
     },
     "execution_count": 3,
     "metadata": {},
     "output_type": "execute_result"
    }
   ],
   "source": [
    "input_shape"
   ]
  },
  {
   "cell_type": "code",
   "execution_count": 4,
   "id": "00a8c6e4-1441-4ee1-94a7-73735be82a8e",
   "metadata": {},
   "outputs": [
    {
     "data": {
      "text/plain": [
       "6000"
      ]
     },
     "execution_count": 4,
     "metadata": {},
     "output_type": "execute_result"
    }
   ],
   "source": [
    "r.size"
   ]
  },
  {
   "cell_type": "code",
   "execution_count": 5,
   "id": "49a69789-9b52-4419-8fa1-882020d76a5b",
   "metadata": {},
   "outputs": [],
   "source": [
    "r = r.ravel()\n",
    "theta = theta.ravel()\n",
    "phi = phi.ravel()"
   ]
  },
  {
   "cell_type": "code",
   "execution_count": 6,
   "id": "e1f69e60-39f1-42a1-8a69-502bf3f25f3f",
   "metadata": {},
   "outputs": [],
   "source": [
    "\n",
    "cell_id = 0\n",
    "nphi = input_shape[2]\n",
    "ntheta = input_shape[1]\n",
    "nangles = nphi*ntheta\n",
    "\n",
    "def get_nodes(cell_id:int):\n",
    "    nodes = [\n",
    "        [r[cell_id], theta[cell_id], phi[cell_id]],\n",
    "        [r[cell_id], theta[cell_id], phi[cell_id+1]],\n",
    "        [r[cell_id], theta[cell_id+nphi], phi[cell_id]],\n",
    "        [r[cell_id], theta[cell_id+nphi], phi[cell_id+1]],\n",
    "        [r[cell_id+nangles], theta[cell_id], phi[cell_id]],\n",
    "        [r[cell_id+nangles], theta[cell_id], phi[cell_id+1]],\n",
    "        [r[cell_id+nangles], theta[cell_id+nphi], phi[cell_id]],\n",
    "        [r[cell_id+nangles], theta[cell_id+nphi], phi[cell_id+1]],\n",
    "    ]    \n",
    "    return nodes"
   ]
  },
  {
   "cell_type": "code",
   "execution_count": 10,
   "id": "28a4ad1b-b8ac-4e07-8bd5-0006c315b967",
   "metadata": {},
   "outputs": [
    {
     "data": {
      "text/plain": [
       "array([0.        , 0.21666156, 0.43332312, 0.64998469, 0.86664625,\n",
       "       1.08330781, 1.29996937, 1.51663094, 1.7332925 , 1.94995406,\n",
       "       2.16661562, 2.38327719, 2.59993875, 2.81660031, 3.03326187,\n",
       "       3.24992343, 3.466585  , 3.68324656, 3.89990812, 4.11656968,\n",
       "       4.33323125, 4.54989281, 4.76655437, 4.98321593, 5.1998775 ,\n",
       "       5.41653906, 5.63320062, 5.84986218, 6.06652374, 6.28318531])"
      ]
     },
     "execution_count": 10,
     "metadata": {},
     "output_type": "execute_result"
    }
   ],
   "source": [
    "r1d = r[range(0,r.size,nangles)]\n",
    "phi1d = phi[:nphi]\n",
    "theta1d = theta[range(nphi,r.size,nangles)]"
   ]
  },
  {
   "cell_type": "code",
   "execution_count": 13,
   "id": "45fb699e-57cc-4400-b964-a3321618fbbb",
   "metadata": {},
   "outputs": [
    {
     "data": {
      "text/plain": [
       "(0.0, 0.16534698176788384)"
      ]
     },
     "execution_count": 13,
     "metadata": {},
     "output_type": "execute_result"
    }
   ],
   "source": [
    "theta[0], theta[nphi]"
   ]
  },
  {
   "cell_type": "code",
   "execution_count": null,
   "id": "0a27194a-4a58-4a39-bed4-65eedd00aaa1",
   "metadata": {},
   "outputs": [],
   "source": [
    "theta[nphi]"
   ]
  }
 ],
 "metadata": {
  "kernelspec": {
   "display_name": "Python 3 (ipykernel)",
   "language": "python",
   "name": "python3"
  },
  "language_info": {
   "codemirror_mode": {
    "name": "ipython",
    "version": 3
   },
   "file_extension": ".py",
   "mimetype": "text/x-python",
   "name": "python",
   "nbconvert_exporter": "python",
   "pygments_lexer": "ipython3",
   "version": "3.9.10"
  }
 },
 "nbformat": 4,
 "nbformat_minor": 5
}
