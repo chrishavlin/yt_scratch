{
 "cells": [
  {
   "cell_type": "code",
   "execution_count": 1,
   "id": "b93a0c34-c7e6-450b-92dc-c669c68773d2",
   "metadata": {},
   "outputs": [],
   "source": [
    "import yt "
   ]
  },
  {
   "cell_type": "code",
   "execution_count": 2,
   "id": "a9f561be-e4e5-4cf8-8cf1-036af6418ae1",
   "metadata": {},
   "outputs": [],
   "source": [
    "import numpy as np "
   ]
  },
  {
   "cell_type": "code",
   "execution_count": 3,
   "id": "4eacc96e-456f-4653-9307-56301e9b94f7",
   "metadata": {},
   "outputs": [],
   "source": [
    "from yt.utilities.lib.pixelization_routines import sample_arbitrary_points_in_grid"
   ]
  },
  {
   "cell_type": "code",
   "execution_count": 4,
   "id": "ca3676df-13c7-4e86-bbc5-2f1dd76260d5",
   "metadata": {},
   "outputs": [
    {
     "data": {
      "text/plain": [
       "\u001b[0;31mSignature:\u001b[0m     \n",
       "\u001b[0msample_arbitrary_points_in_grid\u001b[0m\u001b[0;34m(\u001b[0m\u001b[0;34m\u001b[0m\n",
       "\u001b[0;34m\u001b[0m    \u001b[0mbuff\u001b[0m\u001b[0;34m,\u001b[0m\u001b[0;34m\u001b[0m\n",
       "\u001b[0;34m\u001b[0m    \u001b[0mbpos_0\u001b[0m\u001b[0;34m,\u001b[0m\u001b[0;34m\u001b[0m\n",
       "\u001b[0;34m\u001b[0m    \u001b[0mbpos_1\u001b[0m\u001b[0;34m,\u001b[0m\u001b[0;34m\u001b[0m\n",
       "\u001b[0;34m\u001b[0m    \u001b[0mbpos_2\u001b[0m\u001b[0;34m,\u001b[0m\u001b[0;34m\u001b[0m\n",
       "\u001b[0;34m\u001b[0m    \u001b[0mpos_0\u001b[0m\u001b[0;34m,\u001b[0m\u001b[0;34m\u001b[0m\n",
       "\u001b[0;34m\u001b[0m    \u001b[0mpos_1\u001b[0m\u001b[0;34m,\u001b[0m\u001b[0;34m\u001b[0m\n",
       "\u001b[0;34m\u001b[0m    \u001b[0mpos_2\u001b[0m\u001b[0;34m,\u001b[0m\u001b[0;34m\u001b[0m\n",
       "\u001b[0;34m\u001b[0m    \u001b[0mpos_0_dx\u001b[0m\u001b[0;34m,\u001b[0m\u001b[0;34m\u001b[0m\n",
       "\u001b[0;34m\u001b[0m    \u001b[0mpos_1_dx\u001b[0m\u001b[0;34m,\u001b[0m\u001b[0;34m\u001b[0m\n",
       "\u001b[0;34m\u001b[0m    \u001b[0mpos_2_dx\u001b[0m\u001b[0;34m,\u001b[0m\u001b[0;34m\u001b[0m\n",
       "\u001b[0;34m\u001b[0m    \u001b[0mindices\u001b[0m\u001b[0;34m,\u001b[0m\u001b[0;34m\u001b[0m\n",
       "\u001b[0;34m\u001b[0m    \u001b[0mdata\u001b[0m\u001b[0;34m,\u001b[0m\u001b[0;34m\u001b[0m\n",
       "\u001b[0;34m\u001b[0m    \u001b[0;34m*\u001b[0m\u001b[0;34m,\u001b[0m\u001b[0;34m\u001b[0m\n",
       "\u001b[0;34m\u001b[0m    \u001b[0mreturn_mask\u001b[0m\u001b[0;34m=\u001b[0m\u001b[0;36m0\u001b[0m\u001b[0;34m,\u001b[0m\u001b[0;34m\u001b[0m\n",
       "\u001b[0;34m\u001b[0m\u001b[0;34m)\u001b[0m\u001b[0;34m\u001b[0m\u001b[0;34m\u001b[0m\u001b[0m\n",
       "\u001b[0;31mCall signature:\u001b[0m \u001b[0msample_arbitrary_points_in_grid\u001b[0m\u001b[0;34m(\u001b[0m\u001b[0;34m*\u001b[0m\u001b[0margs\u001b[0m\u001b[0;34m,\u001b[0m \u001b[0;34m**\u001b[0m\u001b[0mkwargs\u001b[0m\u001b[0;34m)\u001b[0m\u001b[0;34m\u001b[0m\u001b[0;34m\u001b[0m\u001b[0m\n",
       "\u001b[0;31mType:\u001b[0m           cython_function_or_method\n",
       "\u001b[0;31mString form:\u001b[0m    <cyfunction sample_arbitrary_points_in_grid at 0x11e595d80>\n",
       "\u001b[0;31mDocstring:\u001b[0m     \n",
       "a 1D buffer pixelization. maybe you want to reshape it to be an image? or\n",
       "    sample an arbitrary set of points? maybe this is useful\n",
       "\n",
       "Parameters\n",
       "buff: 1d buffer array, modified in place to fill\n",
       "bpos_0, _1, _2: 1D arrays, the coordinates to sample\n",
       "native_x, y, z : 1D arrays, cell centers in their native coordinates\n",
       "native_dx, dy, dz : 1D positions cell widths in their native coordinates\n",
       "indices: 1D array, indices of the cells\n",
       "data : 1D array, actual data values"
      ]
     },
     "metadata": {},
     "output_type": "display_data"
    }
   ],
   "source": [
    "sample_arbitrary_points_in_grid?"
   ]
  },
  {
   "cell_type": "code",
   "execution_count": 5,
   "id": "61a7a863-b8d1-4562-a394-3d5a140521cd",
   "metadata": {},
   "outputs": [],
   "source": [
    "from yt.testing import fake_amr_ds"
   ]
  },
  {
   "cell_type": "code",
   "execution_count": 6,
   "id": "623afbd8-d3e6-425c-8518-b075cdba70ec",
   "metadata": {},
   "outputs": [
    {
     "name": "stderr",
     "output_type": "stream",
     "text": [
      "yt : [INFO     ] 2023-12-21 13:31:57,597 Sample dataset found in '/Users/chavlin/data/yt_data/IsolatedGalaxy/galaxy0030/galaxy0030'\n",
      "yt : [INFO     ] 2023-12-21 13:31:58,308 Parameters: current_time              = 0.0060000200028298\n",
      "yt : [INFO     ] 2023-12-21 13:31:58,309 Parameters: domain_dimensions         = [32 32 32]\n",
      "yt : [INFO     ] 2023-12-21 13:31:58,309 Parameters: domain_left_edge          = [0. 0. 0.]\n",
      "yt : [INFO     ] 2023-12-21 13:31:58,309 Parameters: domain_right_edge         = [1. 1. 1.]\n",
      "yt : [INFO     ] 2023-12-21 13:31:58,310 Parameters: cosmological_simulation   = 0\n"
     ]
    }
   ],
   "source": [
    "# ds = fake_amr_ds()\n",
    "ds = yt.load_sample(\"IsolatedGalaxy\")"
   ]
  },
  {
   "cell_type": "code",
   "execution_count": 7,
   "id": "7966ca97-e6f8-4fdf-a160-bd6867347f37",
   "metadata": {},
   "outputs": [
    {
     "name": "stderr",
     "output_type": "stream",
     "text": [
      "Parsing Hierarchy : 100%|██████████████████████████████████████████████████████████| 173/173 [00:00<00:00, 30156.04it/s]\n",
      "yt : [INFO     ] 2023-12-21 13:31:58,334 Gathering a field list (this may take a moment.)\n"
     ]
    }
   ],
   "source": [
    "ad = ds.all_data()\n",
    "\n",
    "# orig grid and values\n",
    "pos_0 = ad['index', 'x'].d\n",
    "pos_1 = ad['index', 'y'].d\n",
    "pos_2 = ad['index', 'z'].d\n",
    "pos_0_dx = ad['index', 'dx'].d\n",
    "pos_1_dx = ad['index', 'dy'].d\n",
    "pos_2_dx = ad['index', 'dz'].d\n",
    "# data = ad['stream', 'Density'].d\n",
    "data = ad['gas', 'density'].d\n",
    "\n",
    "indices = np.arange(0, pos_0_dx.size)"
   ]
  },
  {
   "cell_type": "code",
   "execution_count": 8,
   "id": "1362b662-e1c7-4264-bffb-0bbf5190c16a",
   "metadata": {},
   "outputs": [],
   "source": [
    "# sample points \n",
    "import numpy as np\n",
    "bpos_0 = np.array([0.2, 0.3, 0.4])\n",
    "bpos_1 = np.array([0.2, 0.3, 0.4])\n",
    "bpos_2 = np.array([0.2, 0.3, 0.4])\n",
    "buff = np.zeros((3,))"
   ]
  },
  {
   "cell_type": "code",
   "execution_count": 9,
   "id": "32947b41-fc9c-4e85-88fb-19511cdaeafc",
   "metadata": {},
   "outputs": [
    {
     "data": {
      "text/plain": [
       "1"
      ]
     },
     "execution_count": 9,
     "metadata": {},
     "output_type": "execute_result"
    }
   ],
   "source": [
    "buff.shape\n",
    "np.zeros(buff.shape).ndim"
   ]
  },
  {
   "cell_type": "code",
   "execution_count": 10,
   "id": "8c1c6f25-5b44-49c4-bf22-bbc40e7098a3",
   "metadata": {},
   "outputs": [
    {
     "data": {
      "application/vnd.jupyter.widget-view+json": {
       "model_id": "7ca98f388de04f6394e19bbec3074595",
       "version_major": 2,
       "version_minor": 0
      },
      "text/plain": [
       "HBox(children=(Text(value='1.0', disabled=True), Text(value='1.0', disabled=True), Text(value='1.0', disabled=…"
      ]
     },
     "metadata": {},
     "output_type": "display_data"
    }
   ],
   "source": [
    "ds.domain_right_edge"
   ]
  },
  {
   "cell_type": "code",
   "execution_count": 11,
   "id": "afdfe239-82a1-4d84-be24-a681f597ecb6",
   "metadata": {},
   "outputs": [],
   "source": [
    "sample_arbitrary_points_in_grid(buff, bpos_0, bpos_1, bpos_2, \n",
    "                                pos_0, pos_1, pos_2, \n",
    "                                pos_0_dx, pos_1_dx, pos_2_dx,\n",
    "                                indices, \n",
    "                                data)"
   ]
  },
  {
   "cell_type": "code",
   "execution_count": 12,
   "id": "f632e5d6-29dc-4d16-9ac8-d6b89ca57bd3",
   "metadata": {},
   "outputs": [
    {
     "data": {
      "text/plain": [
       "array([4.97026718e-31, 4.97426883e-31, 2.35961319e-30])"
      ]
     },
     "execution_count": 12,
     "metadata": {},
     "output_type": "execute_result"
    }
   ],
   "source": [
    "buff"
   ]
  },
  {
   "cell_type": "code",
   "execution_count": 17,
   "id": "e6fd58e7-3fd9-488a-a613-43a4fae1a369",
   "metadata": {},
   "outputs": [
    {
     "name": "stdout",
     "output_type": "stream",
     "text": [
      "CPU times: user 23.3 s, sys: 337 ms, total: 23.7 s\n",
      "Wall time: 23.7 s\n"
     ]
    }
   ],
   "source": [
    "%%time\n",
    "buff = np.zeros((100, 100))\n",
    "orig_shape = buff.shape\n",
    "xvals = np.linspace(.1, .9, buff.shape[0])\n",
    "yvals = np.linspace(.1, .9, buff.shape[1])\n",
    "bpos_0, bpos_1 = np.meshgrid(xvals, yvals)\n",
    "bpos_0 = bpos_0.ravel()\n",
    "bpos_1 = bpos_1.ravel()\n",
    "bpos_2 = np.full(bpos_1.shape, 0.5) # sampling at fixed z \n",
    "buff = buff.ravel() \n",
    "\n",
    "sample_arbitrary_points_in_grid(buff, bpos_0, bpos_1, bpos_2, \n",
    "                                pos_0, pos_1, pos_2, \n",
    "                                pos_0_dx, pos_1_dx, pos_2_dx,\n",
    "                                indices, \n",
    "                                data)"
   ]
  },
  {
   "cell_type": "code",
   "execution_count": 18,
   "id": "62af2c1d-413b-4ba9-8097-48f911ff9828",
   "metadata": {},
   "outputs": [
    {
     "data": {
      "text/plain": [
       "<matplotlib.image.AxesImage at 0x2b3de97b0>"
      ]
     },
     "execution_count": 18,
     "metadata": {},
     "output_type": "execute_result"
    },
    {
     "data": {
      "image/png": "[encoded data removed]",
      "text/plain": [
       "<Figure size 640x480 with 1 Axes>"
      ]
     },
     "metadata": {},
     "output_type": "display_data"
    }
   ],
   "source": [
    "import matplotlib.pyplot as plt \n",
    "# buff[buff==0] = np.min(buff[buff>0])\n",
    "plt.imshow(np.log10(buff.reshape(orig_shape)))"
   ]
  },
  {
   "cell_type": "code",
   "execution_count": 25,
   "id": "2292d7d3-ebb8-448b-a49a-7ef244c35f1e",
   "metadata": {},
   "outputs": [],
   "source": [
    "g = ds.index.grids[0]"
   ]
  },
  {
   "cell_type": "code",
   "execution_count": 29,
   "id": "ef50aeea-c749-407d-9884-d92dece125c8",
   "metadata": {},
   "outputs": [
    {
     "name": "stdout",
     "output_type": "stream",
     "text": [
      "1\n"
     ]
    }
   ],
   "source": [
    "\n",
    "for ch in g.chunks([('index','x')], 'io'):\n",
    "    print(1)"
   ]
  },
  {
   "cell_type": "code",
   "execution_count": 36,
   "id": "51c62a4f-c43d-4e8f-aa8f-832d2af2b012",
   "metadata": {},
   "outputs": [],
   "source": [
    "from dask import delayed, compute"
   ]
  },
  {
   "cell_type": "code",
   "execution_count": 65,
   "id": "d0f9f8ac-563c-4eae-b15c-34ab402d3237",
   "metadata": {},
   "outputs": [],
   "source": [
    "buff = np.zeros((500, 500))\n",
    "orig_shape = buff.shape\n",
    "xvals = np.linspace(.1, .9, buff.shape[0])\n",
    "yvals = np.linspace(.1, .9, buff.shape[1])\n",
    "bpos_0, bpos_1 = np.meshgrid(xvals, yvals)\n",
    "bpos_0 = bpos_0.ravel()\n",
    "bpos_1 = bpos_1.ravel()\n",
    "bpos_2 = np.full(bpos_1.shape, 0.5) # sampling at fixed z \n",
    "buff = buff.ravel() "
   ]
  },
  {
   "cell_type": "code",
   "execution_count": 41,
   "id": "08a7800f-871e-4621-99ee-b5beb62f6272",
   "metadata": {},
   "outputs": [
    {
     "data": {
      "text/plain": [
       "3.64446"
      ]
     },
     "execution_count": 41,
     "metadata": {},
     "output_type": "execute_result"
    }
   ],
   "source": [
    "pos_0.size / 1e6"
   ]
  },
  {
   "cell_type": "code",
   "execution_count": 42,
   "id": "44fc9a86-6c48-46e0-b240-ee19f4fe74e1",
   "metadata": {},
   "outputs": [],
   "source": [
    "ad = ds.all_data()"
   ]
  },
  {
   "cell_type": "code",
   "execution_count": 48,
   "id": "e5b22a56-42cc-46e0-afda-27a25ab77563",
   "metadata": {},
   "outputs": [
    {
     "data": {
      "text/plain": [
       "'io'"
      ]
     },
     "execution_count": 48,
     "metadata": {},
     "output_type": "execute_result"
    }
   ],
   "source": [
    "ad._derived_quantity_chunking"
   ]
  },
  {
   "cell_type": "code",
   "execution_count": 71,
   "id": "c1b0cab3-7068-47d0-ae17-f71d69e3fb28",
   "metadata": {},
   "outputs": [],
   "source": [
    "from dask import delayed, compute \n",
    "\n",
    "def process_chunk(ch, buff, bpos_0, bpos_1, bpos_2):\n",
    "    pos_0 = ch['index', 'x'].d\n",
    "    pos_1 = ch['index', 'y'].d\n",
    "    pos_2 = ch['index', 'z'].d\n",
    "    pos_0_dx = ch['index', 'dx'].d\n",
    "    pos_1_dx = ch['index', 'dy'].d\n",
    "    pos_2_dx = ch['index', 'dz'].d\n",
    "    data = ch['gas', 'density'].d\n",
    "    indi = np.arange(0, pos_0_dx.size)\n",
    "    sample_arbitrary_points_in_grid(buff, bpos_0, bpos_1, bpos_2, \n",
    "                                    pos_0, pos_1, pos_2, \n",
    "                                    pos_0_dx, pos_1_dx, pos_2_dx,\n",
    "                                    indi, \n",
    "                                    data)\n",
    "    return buff\n",
    "    \n",
    "chunks = ad.chunks(\n",
    "            [], chunking_style='io'\n",
    "        )\n",
    "\n",
    "buffs_by_chunk = []\n",
    "for ch in chunks:\n",
    "    # orig grid and values\n",
    "    buffs_by_chunk.append(delayed(process_chunk)(ch, buff, bpos_0, bpos_1, bpos_2))"
   ]
  },
  {
   "cell_type": "code",
   "execution_count": 72,
   "id": "435dfead-e3c8-4c7e-b6c7-e6d7a3f99ef8",
   "metadata": {},
   "outputs": [
    {
     "ename": "KeyboardInterrupt",
     "evalue": "",
     "output_type": "error",
     "traceback": [
      "\u001b[0;31m---------------------------------------------------------------------------\u001b[0m",
      "\u001b[0;31mKeyboardInterrupt\u001b[0m                         Traceback (most recent call last)",
      "File \u001b[0;32m<timed exec>:1\u001b[0m\n",
      "File \u001b[0;32m~/.pyenv/versions/3.10.11/envs/yt_dev/lib/python3.10/site-packages/dask/base.py:628\u001b[0m, in \u001b[0;36mcompute\u001b[0;34m(traverse, optimize_graph, scheduler, get, *args, **kwargs)\u001b[0m\n\u001b[1;32m    625\u001b[0m     postcomputes\u001b[38;5;241m.\u001b[39mappend(x\u001b[38;5;241m.\u001b[39m__dask_postcompute__())\n\u001b[1;32m    627\u001b[0m \u001b[38;5;28;01mwith\u001b[39;00m shorten_traceback():\n\u001b[0;32m--> 628\u001b[0m     results \u001b[38;5;241m=\u001b[39m \u001b[43mschedule\u001b[49m\u001b[43m(\u001b[49m\u001b[43mdsk\u001b[49m\u001b[43m,\u001b[49m\u001b[43m \u001b[49m\u001b[43mkeys\u001b[49m\u001b[43m,\u001b[49m\u001b[43m \u001b[49m\u001b[38;5;241;43m*\u001b[39;49m\u001b[38;5;241;43m*\u001b[39;49m\u001b[43mkwargs\u001b[49m\u001b[43m)\u001b[49m\n\u001b[1;32m    630\u001b[0m \u001b[38;5;28;01mreturn\u001b[39;00m repack([f(r, \u001b[38;5;241m*\u001b[39ma) \u001b[38;5;28;01mfor\u001b[39;00m r, (f, a) \u001b[38;5;129;01min\u001b[39;00m \u001b[38;5;28mzip\u001b[39m(results, postcomputes)])\n",
      "File \u001b[0;32m~/.pyenv/versions/3.10.11/lib/python3.10/queue.py:171\u001b[0m, in \u001b[0;36mQueue.get\u001b[0;34m(self, block, timeout)\u001b[0m\n\u001b[1;32m    169\u001b[0m \u001b[38;5;28;01melif\u001b[39;00m timeout \u001b[38;5;129;01mis\u001b[39;00m \u001b[38;5;28;01mNone\u001b[39;00m:\n\u001b[1;32m    170\u001b[0m     \u001b[38;5;28;01mwhile\u001b[39;00m \u001b[38;5;129;01mnot\u001b[39;00m \u001b[38;5;28mself\u001b[39m\u001b[38;5;241m.\u001b[39m_qsize():\n\u001b[0;32m--> 171\u001b[0m         \u001b[38;5;28;43mself\u001b[39;49m\u001b[38;5;241;43m.\u001b[39;49m\u001b[43mnot_empty\u001b[49m\u001b[38;5;241;43m.\u001b[39;49m\u001b[43mwait\u001b[49m\u001b[43m(\u001b[49m\u001b[43m)\u001b[49m\n\u001b[1;32m    172\u001b[0m \u001b[38;5;28;01melif\u001b[39;00m timeout \u001b[38;5;241m<\u001b[39m \u001b[38;5;241m0\u001b[39m:\n\u001b[1;32m    173\u001b[0m     \u001b[38;5;28;01mraise\u001b[39;00m \u001b[38;5;167;01mValueError\u001b[39;00m(\u001b[38;5;124m\"\u001b[39m\u001b[38;5;124m'\u001b[39m\u001b[38;5;124mtimeout\u001b[39m\u001b[38;5;124m'\u001b[39m\u001b[38;5;124m must be a non-negative number\u001b[39m\u001b[38;5;124m\"\u001b[39m)\n",
      "File \u001b[0;32m~/.pyenv/versions/3.10.11/lib/python3.10/threading.py:320\u001b[0m, in \u001b[0;36mCondition.wait\u001b[0;34m(self, timeout)\u001b[0m\n\u001b[1;32m    318\u001b[0m \u001b[38;5;28;01mtry\u001b[39;00m:    \u001b[38;5;66;03m# restore state no matter what (e.g., KeyboardInterrupt)\u001b[39;00m\n\u001b[1;32m    319\u001b[0m     \u001b[38;5;28;01mif\u001b[39;00m timeout \u001b[38;5;129;01mis\u001b[39;00m \u001b[38;5;28;01mNone\u001b[39;00m:\n\u001b[0;32m--> 320\u001b[0m         \u001b[43mwaiter\u001b[49m\u001b[38;5;241;43m.\u001b[39;49m\u001b[43macquire\u001b[49m\u001b[43m(\u001b[49m\u001b[43m)\u001b[49m\n\u001b[1;32m    321\u001b[0m         gotit \u001b[38;5;241m=\u001b[39m \u001b[38;5;28;01mTrue\u001b[39;00m\n\u001b[1;32m    322\u001b[0m     \u001b[38;5;28;01melse\u001b[39;00m:\n",
      "\u001b[0;31mKeyboardInterrupt\u001b[0m: "
     ]
    }
   ],
   "source": [
    "%%time\n",
    "buffs = compute(*buffs_by_chunk)"
   ]
  },
  {
   "cell_type": "code",
   "execution_count": 73,
   "id": "e2a238f9-cf56-4118-b3ae-3c81fb56f210",
   "metadata": {},
   "outputs": [],
   "source": [
    "final_buff = np.sum(buffs,axis=0)"
   ]
  },
  {
   "cell_type": "code",
   "execution_count": 74,
   "id": "19b25086-085c-4b6e-85d8-59d1686712f0",
   "metadata": {},
   "outputs": [
    {
     "data": {
      "text/plain": [
       "(10000,)"
      ]
     },
     "execution_count": 74,
     "metadata": {},
     "output_type": "execute_result"
    }
   ],
   "source": [
    "final_buff.shape"
   ]
  },
  {
   "cell_type": "code",
   "execution_count": 75,
   "id": "9b6163cc-19cb-40a9-8f3a-ad6254e7c754",
   "metadata": {},
   "outputs": [
    {
     "ename": "ValueError",
     "evalue": "cannot reshape array of size 10000 into shape (500,500)",
     "output_type": "error",
     "traceback": [
      "\u001b[0;31m---------------------------------------------------------------------------\u001b[0m",
      "\u001b[0;31mValueError\u001b[0m                                Traceback (most recent call last)",
      "Cell \u001b[0;32mIn[75], line 3\u001b[0m\n\u001b[1;32m      1\u001b[0m \u001b[38;5;28;01mimport\u001b[39;00m \u001b[38;5;21;01mmatplotlib\u001b[39;00m\u001b[38;5;21;01m.\u001b[39;00m\u001b[38;5;21;01mpyplot\u001b[39;00m \u001b[38;5;28;01mas\u001b[39;00m \u001b[38;5;21;01mplt\u001b[39;00m \n\u001b[1;32m      2\u001b[0m \u001b[38;5;66;03m# buff[buff==0] = np.min(buff[buff>0])\u001b[39;00m\n\u001b[0;32m----> 3\u001b[0m plt\u001b[38;5;241m.\u001b[39mimshow(np\u001b[38;5;241m.\u001b[39mlog10(\u001b[43mfinal_buff\u001b[49m\u001b[38;5;241;43m.\u001b[39;49m\u001b[43mreshape\u001b[49m\u001b[43m(\u001b[49m\u001b[43morig_shape\u001b[49m\u001b[43m)\u001b[49m))\n",
      "\u001b[0;31mValueError\u001b[0m: cannot reshape array of size 10000 into shape (500,500)"
     ]
    }
   ],
   "source": [
    "import matplotlib.pyplot as plt \n",
    "# buff[buff==0] = np.min(buff[buff>0])\n",
    "plt.imshow(np.log10(final_buff.reshape(orig_shape)))"
   ]
  },
  {
   "cell_type": "code",
   "execution_count": 85,
   "id": "7cf7818d-eb33-4907-aaa4-aa3781bc7f86",
   "metadata": {},
   "outputs": [],
   "source": [
    "buff = np.zeros((400, 400))\n",
    "orig_shape = buff.shape\n",
    "xvals = np.linspace(.1, .9, buff.shape[0])\n",
    "yvals = np.linspace(.1, .9, buff.shape[1])\n",
    "bpos_0, bpos_1 = np.meshgrid(xvals, yvals)\n",
    "bpos_0 = bpos_0.ravel()\n",
    "bpos_1 = bpos_1.ravel()\n",
    "bpos_2 = np.full(bpos_1.shape, 0.5) # sampling at fixed z \n",
    "buff = buff.ravel() \n",
    "\n",
    "coords = np.column_stack([bpos_0, bpos_1, bpos_2])\n",
    "buff = ds.find_field_values_at_points(('gas', 'density'), coords).reshape(orig_shape)"
   ]
  },
  {
   "cell_type": "code",
   "execution_count": 88,
   "id": "bb3158dd-64b9-44b6-932e-6a36966c823a",
   "metadata": {},
   "outputs": [
    {
     "data": {
      "text/plain": [
       "<matplotlib.image.AxesImage at 0x2f15d1de0>"
      ]
     },
     "execution_count": 88,
     "metadata": {},
     "output_type": "execute_result"
    },
    {
     "data": {
      "image/png": "[encoded data removed]",
      "text/plain": [
       "<Figure size 640x480 with 1 Axes>"
      ]
     },
     "metadata": {},
     "output_type": "display_data"
    }
   ],
   "source": [
    "plt.imshow(np.log10(buff))"
   ]
  },
  {
   "cell_type": "code",
   "execution_count": 89,
   "id": "193e90a6-b5f3-410f-ab4f-869bd918fcc5",
   "metadata": {},
   "outputs": [
    {
     "name": "stderr",
     "output_type": "stream",
     "text": [
      "yt : [INFO     ] 2023-12-21 14:31:00,184 Parameters: current_time              = 0.0\n",
      "yt : [INFO     ] 2023-12-21 14:31:00,189 Parameters: domain_dimensions         = [32 32 32]\n",
      "yt : [INFO     ] 2023-12-21 14:31:00,207 Parameters: domain_left_edge          = [0. 0. 0.]\n",
      "yt : [INFO     ] 2023-12-21 14:31:00,210 Parameters: domain_right_edge         = [1.         3.14159265 6.28318531]\n",
      "yt : [INFO     ] 2023-12-21 14:31:00,213 Parameters: cosmological_simulation   = 0\n"
     ]
    }
   ],
   "source": [
    "ds = fake_amr_ds(geometry='spherical')"
   ]
  },
  {
   "cell_type": "code",
   "execution_count": null,
   "id": "eb7f52c1-d19b-4f76-8076-313d4817481f",
   "metadata": {},
   "outputs": [],
   "source": [
    "def cart_to_sp(x, y, z):\n",
    "    r = np.sqrt(x*x+y*y+z*z)\n",
    "    phi = np.atan2(y, x)\n",
    "    theta = np.acos\n",
    "    "
   ]
  },
  {
   "cell_type": "code",
   "execution_count": null,
   "id": "5c679da2-d3d7-4693-a121-066219024caf",
   "metadata": {},
   "outputs": [],
   "source": []
  }
 ],
 "metadata": {
  "kernelspec": {
   "display_name": "Python 3 (ipykernel)",
   "language": "python",
   "name": "python3"
  },
  "language_info": {
   "codemirror_mode": {
    "name": "ipython",
    "version": 3
   },
   "file_extension": ".py",
   "mimetype": "text/x-python",
   "name": "python",
   "nbconvert_exporter": "python",
   "pygments_lexer": "ipython3",
   "version": "3.10.11"
  }
 },
 "nbformat": 4,
 "nbformat_minor": 5
}
