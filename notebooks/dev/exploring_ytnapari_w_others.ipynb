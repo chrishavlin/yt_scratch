{
 "cells": [
  {
   "cell_type": "code",
   "execution_count": 1,
   "id": "5324a76f-0f87-4425-9238-21bc3b90ab5a",
   "metadata": {},
   "outputs": [],
   "source": [
    "import napari \n",
    "from yt_napari.viewer import Scene\n",
    "import yt "
   ]
  },
  {
   "cell_type": "code",
   "execution_count": 2,
   "id": "bf0ec620-7076-4d12-a114-86677ef1c2a9",
   "metadata": {},
   "outputs": [
    {
     "data": {
      "text/plain": [
       "\u001b[0;31mSignature:\u001b[0m\n",
       "\u001b[0myt\u001b[0m\u001b[0;34m.\u001b[0m\u001b[0madd_field\u001b[0m\u001b[0;34m(\u001b[0m\u001b[0;34m\u001b[0m\n",
       "\u001b[0;34m\u001b[0m    \u001b[0mname\u001b[0m\u001b[0;34m,\u001b[0m\u001b[0;34m\u001b[0m\n",
       "\u001b[0;34m\u001b[0m    \u001b[0mfunction\u001b[0m\u001b[0;34m,\u001b[0m\u001b[0;34m\u001b[0m\n",
       "\u001b[0;34m\u001b[0m    \u001b[0msampling_type\u001b[0m\u001b[0;34m,\u001b[0m\u001b[0;34m\u001b[0m\n",
       "\u001b[0;34m\u001b[0m    \u001b[0;34m*\u001b[0m\u001b[0;34m,\u001b[0m\u001b[0;34m\u001b[0m\n",
       "\u001b[0;34m\u001b[0m    \u001b[0mforce_override\u001b[0m\u001b[0;34m=\u001b[0m\u001b[0;32mFalse\u001b[0m\u001b[0;34m,\u001b[0m\u001b[0;34m\u001b[0m\n",
       "\u001b[0;34m\u001b[0m    \u001b[0;34m**\u001b[0m\u001b[0mkwargs\u001b[0m\u001b[0;34m,\u001b[0m\u001b[0;34m\u001b[0m\n",
       "\u001b[0;34m\u001b[0m\u001b[0;34m)\u001b[0m\u001b[0;34m\u001b[0m\u001b[0;34m\u001b[0m\u001b[0m\n",
       "\u001b[0;31mDocstring:\u001b[0m\n",
       "Add a new field, along with supplemental metadata, to the list of\n",
       "available fields.  This respects a number of arguments, all of which\n",
       "are passed on to the constructor for\n",
       ":class:`~yt.data_objects.api.DerivedField`.\n",
       "\n",
       "Parameters\n",
       "----------\n",
       "\n",
       "name : tuple[str, str]\n",
       "   field (or particle) type, field name\n",
       "function : callable\n",
       "   A function handle that defines the field.  Should accept\n",
       "   arguments (field, data)\n",
       "sampling_type: str\n",
       "   \"cell\" or \"particle\" or \"local\"\n",
       "force_override: bool\n",
       "   If False (default), an error will be raised if a field of the same name already exists.\n",
       "alias: DerivedField (optional):\n",
       "   existing field to be aliased\n",
       "units : str\n",
       "   A plain text string encoding the unit.  Powers must be in\n",
       "   python syntax (** instead of ^). If set to \"auto\" the units\n",
       "   will be inferred from the return value of the field function.\n",
       "take_log : bool\n",
       "   Describes whether the field should be logged\n",
       "validators : list\n",
       "   A list of :class:`FieldValidator` objects\n",
       "vector_field : bool\n",
       "   Describes the dimensionality of the field.  Currently unused.\n",
       "display_name : str\n",
       "   A name used in the plots\n",
       "\u001b[0;31mFile:\u001b[0m      ~/.pyenv/versions/3.10.11/envs/yt-napari/lib/python3.10/site-packages/yt/fields/local_fields.py\n",
       "\u001b[0;31mType:\u001b[0m      method"
      ]
     },
     "metadata": {},
     "output_type": "display_data"
    }
   ],
   "source": [
    "yt.add_field?"
   ]
  },
  {
   "cell_type": "code",
   "execution_count": 3,
   "id": "f74e9088-acc5-4ff2-a4dc-513272fe40a8",
   "metadata": {},
   "outputs": [
    {
     "name": "stderr",
     "output_type": "stream",
     "text": [
      "yt : [INFO     ] 2023-08-28 16:20:17,767 Sample dataset found in '/Users/chavlin/data/yt_data/enzo_tiny_cosmology/DD0046/DD0046'\n",
      "yt : [INFO     ] 2023-08-28 16:20:17,873 Parameters: current_time              = 230.66527489234\n",
      "yt : [INFO     ] 2023-08-28 16:20:17,874 Parameters: domain_dimensions         = [32 32 32]\n",
      "yt : [INFO     ] 2023-08-28 16:20:17,874 Parameters: domain_left_edge          = [0. 0. 0.]\n",
      "yt : [INFO     ] 2023-08-28 16:20:17,874 Parameters: domain_right_edge         = [1. 1. 1.]\n",
      "yt : [INFO     ] 2023-08-28 16:20:17,874 Parameters: cosmological_simulation   = 1\n",
      "yt : [INFO     ] 2023-08-28 16:20:17,875 Parameters: current_redshift          = -2.7810863612032e-09\n",
      "yt : [INFO     ] 2023-08-28 16:20:17,875 Parameters: omega_lambda              = 0.727\n",
      "yt : [INFO     ] 2023-08-28 16:20:17,875 Parameters: omega_matter              = 0.273\n",
      "yt : [INFO     ] 2023-08-28 16:20:17,875 Parameters: omega_radiation           = 0.0\n",
      "yt : [INFO     ] 2023-08-28 16:20:17,875 Parameters: hubble_constant           = 0.702\n"
     ]
    }
   ],
   "source": [
    "ds = yt.load_sample(\"enzo_tiny_cosmology\")\n",
    "\n",
    "import numpy as np\n",
    "\n",
    "# def _pos_div_only(field, data):\n",
    "#     pos_div = data[('gas', 'velocity_divergence')].copy()\n",
    "#     pos_div[pos_div <= 0] = np.nan \n",
    "#     return pos_div\n",
    "\n",
    "# ds.add_field(('gas', 'vel_div_pos_only'), _pos_div_only, force_override=True, sampling_type='cell')\n"
   ]
  },
  {
   "cell_type": "code",
   "execution_count": 4,
   "id": "825b3bfe-526d-4b5b-b350-f53ea9493142",
   "metadata": {},
   "outputs": [],
   "source": [
    "sc = Scene()"
   ]
  },
  {
   "cell_type": "code",
   "execution_count": 5,
   "id": "4a0e0e14-1614-4332-aca6-2da39f4202b5",
   "metadata": {},
   "outputs": [
    {
     "name": "stderr",
     "output_type": "stream",
     "text": [
      "Parsing Hierarchy : 100%|███████████████████████████████████████████████████████████| 211/211 [00:00<00:00, 3309.22it/s]\n",
      "yt : [INFO     ] 2023-08-28 16:20:17,957 Gathering a field list (this may take a moment.)\n",
      "yt : [INFO     ] 2023-08-28 16:20:18,232 max value is 2.56902e-25 at 0.5551757812500000 0.6635742187500000 0.8588867187500000\n"
     ]
    },
    {
     "data": {
      "text/plain": [
       "unyt_array([0.55517578, 0.66357422, 0.85888672], 'code_length')"
      ]
     },
     "execution_count": 5,
     "metadata": {},
     "output_type": "execute_result"
    }
   ],
   "source": [
    "mx_val, mx_loc = ds.find_max('density')\n",
    "mx_loc"
   ]
  },
  {
   "cell_type": "code",
   "execution_count": 6,
   "id": "f9958df3-50ee-4edc-a73a-0142e4840e6b",
   "metadata": {},
   "outputs": [],
   "source": [
    "v = napari.Viewer()\n"
   ]
  },
  {
   "cell_type": "code",
   "execution_count": 7,
   "id": "5613c041-3a21-471b-a1c3-6e88a016e5d7",
   "metadata": {},
   "outputs": [],
   "source": [
    "v.layers.clear()"
   ]
  },
  {
   "cell_type": "code",
   "execution_count": 8,
   "id": "b78cbec5-e28a-4384-ab7c-74837ae1f2e1",
   "metadata": {},
   "outputs": [
    {
     "name": "stderr",
     "output_type": "stream",
     "text": [
      "yt : [INFO     ] 2023-08-28 16:20:19,452 Making a fixed resolution buffer of (('enzo', 'Dark_Matter_Density')) 1200 by 1200\n",
      "/Users/chavlin/.pyenv/versions/3.10.11/envs/yt-napari/lib/python3.10/site-packages/unyt/array.py:1802: RuntimeWarning: divide by zero encountered in log10\n",
      "  out_arr = func(np.asarray(inp), out=out_func, **kwargs)\n",
      "/Users/chavlin/src/yt_/napari_work/yt-napari/src/yt_napari/_model_ingestor.py:540: RuntimeWarning: invalid value encountered in subtract\n",
      "  return (data - data_min) / (data_max - data_min)\n",
      "/Users/chavlin/src/yt_/napari_work/yt-napari/src/yt_napari/_model_ingestor.py:540: RuntimeWarning: invalid value encountered in divide\n",
      "  return (data - data_min) / (data_max - data_min)\n",
      "yt : [INFO     ] 2023-08-28 16:20:19,548 Making a fixed resolution buffer of (('enzo', 'Density')) 1200 by 1200\n",
      "yt : [INFO     ] 2023-08-28 16:20:19,611 Making a fixed resolution buffer of (('enzo', 'Metal_Density')) 1200 by 1200\n",
      "yt : [INFO     ] 2023-08-28 16:20:19,675 Making a fixed resolution buffer of (('enzo', 'Temperature')) 1200 by 1200\n",
      "yt : [INFO     ] 2023-08-28 16:20:19,808 Making a fixed resolution buffer of (('enzo', 'TotalEnergy')) 1200 by 1200\n"
     ]
    }
   ],
   "source": [
    "flds = (('enzo', 'Dark_Matter_Density'),\n",
    " ('enzo', 'Density'),\n",
    " ('enzo', 'Metal_Density'),\n",
    " ('enzo', 'Temperature'),\n",
    " ('enzo', 'TotalEnergy'),)\n",
    "for fld in flds:\n",
    "    sc.add_slice(v, ds, 'x', fld, center=mx_loc, resolution=(1200,1200), \n",
    "                take_log=True, rescale=True)"
   ]
  },
  {
   "cell_type": "code",
   "execution_count": null,
   "id": "f4b76fca-37de-446d-b0e1-28c0e45870b7",
   "metadata": {},
   "outputs": [],
   "source": []
  },
  {
   "cell_type": "code",
   "execution_count": null,
   "id": "7a3a51a8-5d06-4ea8-8fc6-2c107489dc64",
   "metadata": {},
   "outputs": [],
   "source": []
  },
  {
   "cell_type": "code",
   "execution_count": 9,
   "id": "d6b72cff-99c9-4922-983c-3dc7cf733ed3",
   "metadata": {},
   "outputs": [],
   "source": [
    "# sc.add_slice(v, ds, 'x', ('gas', 'vel_div_pos_only'), center=mx_loc, resolution=(1200,1200), take_log=True)"
   ]
  },
  {
   "cell_type": "code",
   "execution_count": null,
   "id": "332e70fe-88a8-4d46-8073-4609a4b4059b",
   "metadata": {},
   "outputs": [],
   "source": []
  },
  {
   "cell_type": "code",
   "execution_count": null,
   "id": "f3148a03-0658-449a-b368-426d613e7e87",
   "metadata": {},
   "outputs": [],
   "source": []
  },
  {
   "cell_type": "code",
   "execution_count": null,
   "id": "f1abc1fa-4c50-4510-b749-1c4a9de474f0",
   "metadata": {},
   "outputs": [],
   "source": []
  }
 ],
 "metadata": {
  "kernelspec": {
   "display_name": "Python 3 (ipykernel)",
   "language": "python",
   "name": "python3"
  },
  "language_info": {
   "codemirror_mode": {
    "name": "ipython",
    "version": 3
   },
   "file_extension": ".py",
   "mimetype": "text/x-python",
   "name": "python",
   "nbconvert_exporter": "python",
   "pygments_lexer": "ipython3",
   "version": "3.10.11"
  }
 },
 "nbformat": 4,
 "nbformat_minor": 5
}
