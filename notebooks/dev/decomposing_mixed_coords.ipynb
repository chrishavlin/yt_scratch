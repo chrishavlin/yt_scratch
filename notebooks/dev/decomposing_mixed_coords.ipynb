{
 "cells": [
  {
   "cell_type": "code",
   "execution_count": 1,
   "id": "7c692fa4-2143-46b1-a4cc-20b23308114e",
   "metadata": {},
   "outputs": [],
   "source": [
    "import numpy as np "
   ]
  },
  {
   "cell_type": "code",
   "execution_count": 2,
   "id": "b192c427-cacb-4b31-85e3-79fb8c59756c",
   "metadata": {},
   "outputs": [],
   "source": [
    "def sphere_to_cart(r, theta, phi):\n",
    "    z = r * np.cos(theta) \n",
    "    xy = r * np.sin(theta)\n",
    "    x = xy * np.cos(phi)\n",
    "    y = xy * np.sin(phi)\n",
    "    return x, y, z\n",
    "\n",
    "def cart_to_sphere(x, y, z):\n",
    "    xy = x**2 + y**2\n",
    "    R = np.asarray(np.sqrt(xy + z**2))\n",
    "    theta = np.asarray(np.arccos(z / R))\n",
    "    phi = np.asarray(np.arctan2(y, x))\n",
    "    phi[phi < 0] = phi[phi < 0] + np.pi * 2\n",
    "    return R, theta, phi\n",
    "\n",
    "def bbox_from_range(r, theta, phi):\n",
    "    xyz = sphere_to_cart(r, theta, phi)\n",
    "    bbox_cart = []\n",
    "    for idim in range(3):\n",
    "        bbox_cart.append([np.min(xyz[idim]), np.max(xyz[idim])])\n",
    "    bbox_cart = np.array(bbox_cart)\n",
    "\n",
    "    return bbox_cart\n",
    "\n",
    "\n",
    "def get_cart_bbox(bbox_spherical, \n",
    "                  n_test_points = 100, \n",
    "                  expand_frac = 0.001, \n",
    "                  round_box=True, \n",
    "                 override_to_full_range=False):\n",
    "    # bbox_spherical, ordered as (r, theta, phi), theta = colat angle, phi = polar 0 to 2pi angle    \n",
    "    \n",
    "    r_min = bbox_spherical[0,0]\n",
    "    r_max = bbox_spherical[0,1]\n",
    "\n",
    "    angular_bounds = np.array([[0, np.pi], [0, 2 * np.pi]])\n",
    "    \n",
    "    if np.allclose(bbox_spherical[1:,:], angular_bounds) or override_to_full_range:    \n",
    "        bbox_cart = np.array([[-r_max, r_max], \n",
    "                             [-r_max, r_max], \n",
    "                             [-r_max, r_max], ])\n",
    "        return bbox_cart    \n",
    "    \n",
    "    \n",
    "    theta_test = np.linspace(bbox_spherical[1][0], bbox_spherical[1][1], n_test_points)\n",
    "    phi_test = np.linspace(bbox_spherical[2][0], bbox_spherical[2][1], n_test_points)\n",
    "    \n",
    "    theta_test, phi_test = np.meshgrid(theta_test, phi_test)\n",
    "    \n",
    "    bbox_1 = bbox_from_range(r_min, theta_test, phi_test)    \n",
    "    bbox_2 = bbox_from_range(r_max, theta_test, phi_test)\n",
    "    \n",
    "    bbox_cart = np.zeros((3,2))\n",
    "    bbox_cart[:, 0] = np.min([bbox_1[:, 0], bbox_2[:,0]], axis=0)\n",
    "    bbox_cart[:, 1] = np.max([bbox_1[:, 1], bbox_2[:,1]], axis=0)\n",
    "\n",
    "    bbox_cart[:, 0] = bbox_cart[:, 0] * (1. + expand_frac)\n",
    "    bbox_cart[:, 1] = bbox_cart[:, 1] * (1. + expand_frac)\n",
    "    if round_box:\n",
    "        bbox_cart = np.round(bbox_cart)\n",
    "    return bbox_cart\n",
    "\n",
    "\n",
    "def get_grid_edges_by_dim(le, grid_wids, starting_n_grids):\n",
    "    left_edges_by_dim = []\n",
    "    right_edges_by_dim = []\n",
    "    for idim in range(3):    \n",
    "        edges = le[idim] + grid_wids[idim] * (np.cumsum(np.ones((starting_n_grids[idim]+1,))) - 1)\n",
    "        left_edges = edges[0:-1]\n",
    "        right_edges = edges[1:]\n",
    "        left_edges_by_dim.append(left_edges)\n",
    "        right_edges_by_dim.append(right_edges)\n",
    "    return left_edges_by_dim, right_edges_by_dim\n",
    "    \n",
    "\n",
    "def decompose_level_0(bbox_cart,\n",
    "                      bbox_spherical,\n",
    "                      starting_dims,\n",
    "                      starting_n_grids,):\n",
    "\n",
    "    ndim = 3\n",
    "    if isinstance(starting_dims, int):\n",
    "        starting_dims = np.array([starting_dims,]*ndim, dtype=int)\n",
    "\n",
    "    if isinstance(starting_n_grids, int):\n",
    "        starting_n_grids = np.array([starting_n_grids,]*ndim, dtype=int)\n",
    "        \n",
    "    re_cart = bbox_cart[:,1]\n",
    "    le_cart = bbox_cart[:,0]\n",
    "    domain_width = re_cart - le_cart # domain_width\n",
    "    dxyz = domain_width / starting_dims\n",
    "\n",
    "    n_per_grid = starting_dims / starting_n_grids  # nodes per coarse grid\n",
    "    grid_wids = n_per_grid * dxyz  # grid widths\n",
    "\n",
    "    les_by_dim, res_by_dim = get_grid_edges_by_dim(le_cart, grid_wids, starting_n_grids)\n",
    "    nodes_by_dim = [np.full((starting_n_grids[idim]),n_per_grid[idim], dtype=int) for idim in range(3)]\n",
    "\n",
    "\n",
    "    left_edges = by_dims_to_grid_list(les_by_dim)\n",
    "    right_edges = by_dims_to_grid_list(res_by_dim)\n",
    "    grid_shapes = by_dims_to_grid_list(nodes_by_dim)\n",
    "    \n",
    "    grid_list = []\n",
    "    for igrid in range(len(left_edges)):\n",
    "        grid_dict = {\n",
    "            'left_edge': left_edges[igrid], \n",
    "            'right_edge': right_edges[igrid],             \n",
    "            \"level\": 0,\n",
    "            \"dimensions\": grid_shapes[igrid],\n",
    "        }\n",
    "        grid_list.append(grid_dict)\n",
    "\n",
    "    return grid_list, list(starting_dims)\n",
    "\n",
    "def by_dims_to_grid_list(list_by_dim):\n",
    "    point_combos = np.meshgrid(*list_by_dim, indexing='ij')\n",
    "    return np.column_stack([le.ravel() for le in point_combos])\n"
   ]
  },
  {
   "cell_type": "code",
   "execution_count": 3,
   "id": "cc6bee3d-fc72-4cb8-a9ea-30ed1bb5a138",
   "metadata": {},
   "outputs": [],
   "source": [
    "bbox_spherical = np.array([[5000, 6371], \n",
    "                           [0, np.pi], \n",
    "                           [0, 2*np.pi]])\n",
    "bbox_cart = get_cart_bbox(bbox_spherical)\n",
    "grids, starting_dims = decompose_level_0(bbox_cart, bbox_spherical, 24, 3)"
   ]
  },
  {
   "cell_type": "code",
   "execution_count": 4,
   "id": "e35032b4-7343-42fe-ae24-1b4a4160dc6e",
   "metadata": {},
   "outputs": [
    {
     "data": {
      "text/plain": [
       "{'left_edge': array([-6371.        , -6371.        , -2123.66666667]),\n",
       " 'right_edge': array([-2123.66666667, -2123.66666667,  2123.66666667]),\n",
       " 'level': 0,\n",
       " 'dimensions': array([8, 8, 8])}"
      ]
     },
     "execution_count": 4,
     "metadata": {},
     "output_type": "execute_result"
    }
   ],
   "source": [
    "grids[1].copy()"
   ]
  },
  {
   "cell_type": "code",
   "execution_count": 104,
   "id": "97db23c0-0021-4f62-b6da-379d6198159e",
   "metadata": {},
   "outputs": [
    {
     "data": {
      "text/plain": [
       "{'left_edge': array([-5309.16666667, -5309.16666667, -1061.83333333]),\n",
       " 'right_edge': array([-3185.5       , -3185.5       ,  1061.83333333]),\n",
       " 'level': 1,\n",
       " 'dimensions': array([8, 8, 8])}"
      ]
     },
     "execution_count": 104,
     "metadata": {},
     "output_type": "execute_result"
    }
   ],
   "source": [
    "lev_1 = grids[1].copy()\n",
    "wid = lev_1['right_edge'] - lev_1['left_edge']\n",
    "dxyz = wid / lev_1['dimensions']\n",
    "\n",
    "lev_1['left_edge'] = lev_1['left_edge'] + dxyz*2.\n",
    "lev_1['right_edge'] = lev_1['right_edge'] - dxyz*2\n",
    "lev_1['level'] = 1\n",
    "grids.append(lev_1)\n",
    "lev_1"
   ]
  },
  {
   "cell_type": "code",
   "execution_count": 5,
   "id": "c8bd3a60-14ed-4aaa-99e5-7662923e31df",
   "metadata": {},
   "outputs": [],
   "source": [
    "def _reader(grid ,field):\n",
    "\n",
    "    x = grid.fcoords[:,0].reshape(grid.ActiveDimensions)\n",
    "    y = grid.fcoords[:,1].reshape(grid.ActiveDimensions)\n",
    "    z = grid.fcoords[:,2].reshape(grid.ActiveDimensions)\n",
    "\n",
    "    r, theta, phi = cart_to_sphere(x, y, z)\n",
    "    \n",
    "    rmask = np.logical_and(r >= bbox_spherical[0,0], r <= bbox_spherical[0,1])\n",
    "    thmask = np.logical_and(theta >= bbox_spherical[1,0], theta <= bbox_spherical[1,1])\n",
    "    phmask = np.logical_and(phi >= bbox_spherical[2,0], phi <= bbox_spherical[2,1])\n",
    "    mask = np.logical_and(rmask, thmask)\n",
    "    mask = np.logical_and(mask, phmask)\n",
    "\n",
    "    dens = np.zeros(x.shape)\n",
    "    dens[mask] = 1.0\n",
    "    return dens"
   ]
  },
  {
   "cell_type": "code",
   "execution_count": 6,
   "id": "30474cbc-e1c3-43d2-99e4-3dedcd5627f1",
   "metadata": {},
   "outputs": [],
   "source": [
    "for gid in range(len(grids)):    \n",
    "    grids[gid]['field0'] = (_reader, '')"
   ]
  },
  {
   "cell_type": "code",
   "execution_count": 7,
   "id": "4769a32d-45ef-443b-89c2-1e9048114a0c",
   "metadata": {},
   "outputs": [
    {
     "name": "stderr",
     "output_type": "stream",
     "text": [
      "yt : [INFO     ] 2024-02-05 14:40:12,244 Parameters: current_time              = 0.0\n",
      "yt : [INFO     ] 2024-02-05 14:40:12,245 Parameters: domain_dimensions         = [24 24 24]\n",
      "yt : [INFO     ] 2024-02-05 14:40:12,245 Parameters: domain_left_edge          = [-6371. -6371. -6371.]\n",
      "yt : [INFO     ] 2024-02-05 14:40:12,245 Parameters: domain_right_edge         = [6371. 6371. 6371.]\n",
      "yt : [INFO     ] 2024-02-05 14:40:12,246 Parameters: cosmological_simulation   = 0\n"
     ]
    }
   ],
   "source": [
    "import yt \n",
    "\n",
    "ds = yt.load_amr_grids(grids, starting_dims, bbox=bbox_cart, length_unit='km')"
   ]
  },
  {
   "cell_type": "code",
   "execution_count": 9,
   "id": "447a5b99-d761-4b21-ace1-f59b3a100a8b",
   "metadata": {},
   "outputs": [
    {
     "name": "stderr",
     "output_type": "stream",
     "text": [
      "yt : [INFO     ] 2024-02-05 14:40:21,299 xlim = -6371.000000 6371.000000\n",
      "yt : [INFO     ] 2024-02-05 14:40:21,300 ylim = -6371.000000 6371.000000\n",
      "yt : [INFO     ] 2024-02-05 14:40:21,304 xlim = -6371.000000 6371.000000\n",
      "yt : [INFO     ] 2024-02-05 14:40:21,305 ylim = -6371.000000 6371.000000\n",
      "yt : [INFO     ] 2024-02-05 14:40:21,306 Making a fixed resolution buffer of (('stream', 'field0')) 800 by 800\n",
      "/home/chavlin/miniconda3/envs/yt_py39/lib/python3.9/site-packages/unyt/array.py:1862: RuntimeWarning: invalid value encountered in divide\n",
      "  out_arr = func(\n"
     ]
    },
    {
     "data": {
      "text/html": [
       "<img style=\"max-width:100%;max-height:100%;\" src=\"data:image/png;base64,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\"><br>"
      ],
      "text/plain": [
       "<yt.visualization.plot_window.AxisAlignedSlicePlot at 0x7fe45558faf0>"
      ]
     },
     "execution_count": 9,
     "metadata": {},
     "output_type": "execute_result"
    }
   ],
   "source": [
    "slc = yt.SlicePlot(ds, 'x', ('stream', 'field0'))\n",
    "slc.set_log(('stream', 'field0'), False)\n",
    "slc.annotate_grids()"
   ]
  },
  {
   "cell_type": "code",
   "execution_count": null,
   "id": "54783890-c6bb-4f8e-98ee-93d3fe897412",
   "metadata": {},
   "outputs": [],
   "source": []
  },
  {
   "cell_type": "code",
   "execution_count": null,
   "id": "9f9b9ef1-0853-4c77-a88b-19a19ffa5a32",
   "metadata": {},
   "outputs": [],
   "source": []
  },
  {
   "cell_type": "code",
   "execution_count": null,
   "id": "f09100c7-0c5e-48f5-9bc6-fbd6ff897e63",
   "metadata": {},
   "outputs": [],
   "source": []
  },
  {
   "cell_type": "code",
   "execution_count": null,
   "id": "9ed73dc5-7b73-45a7-94b0-4cb080f07fa0",
   "metadata": {},
   "outputs": [],
   "source": []
  }
 ],
 "metadata": {
  "kernelspec": {
   "display_name": "Python 3 (ipykernel)",
   "language": "python",
   "name": "python3"
  },
  "language_info": {
   "codemirror_mode": {
    "name": "ipython",
    "version": 3
   },
   "file_extension": ".py",
   "mimetype": "text/x-python",
   "name": "python",
   "nbconvert_exporter": "python",
   "pygments_lexer": "ipython3",
   "version": "3.9.10"
  }
 },
 "nbformat": 4,
 "nbformat_minor": 5
}
