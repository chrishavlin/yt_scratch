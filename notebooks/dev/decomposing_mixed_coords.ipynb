{
 "cells": [
  {
   "cell_type": "code",
   "execution_count": 1,
   "id": "7c692fa4-2143-46b1-a4cc-20b23308114e",
   "metadata": {},
   "outputs": [],
   "source": [
    "import numpy as np "
   ]
  },
  {
   "cell_type": "code",
   "execution_count": 101,
   "id": "b192c427-cacb-4b31-85e3-79fb8c59756c",
   "metadata": {},
   "outputs": [],
   "source": [
    "def sphere_to_cart(r, theta, phi):\n",
    "    z = r * np.cos(theta) \n",
    "    xy = r * np.sin(theta)\n",
    "    x = xy * np.cos(phi)\n",
    "    y = xy * np.sin(phi)\n",
    "    return x, y, z\n",
    "\n",
    "def cart_to_sphere(x, y, z):\n",
    "    xy = x**2 + y**2\n",
    "    R = np.asarray(np.sqrt(xy + z**2))\n",
    "    theta = np.asarray(np.arccos(z / R))\n",
    "    phi = np.asarray(np.arctan2(y, x))\n",
    "    phi[phi < 0] = phi[phi < 0] + np.pi * 2\n",
    "    return R, theta, phi\n",
    "\n",
    "def bbox_from_range(r, theta, phi):\n",
    "    xyz = sphere_to_cart(r, theta, phi)\n",
    "    bbox_cart = []\n",
    "    for idim in range(3):\n",
    "        bbox_cart.append([np.min(xyz[idim]), np.max(xyz[idim])])\n",
    "    bbox_cart = np.array(bbox_cart)\n",
    "\n",
    "    return bbox_cart\n",
    "\n",
    "\n",
    "def get_cart_bbox(bbox_spherical, \n",
    "                  n_test_points = 100, \n",
    "                  expand_frac = 0.001, \n",
    "                  round_box=True, \n",
    "                 override_to_full_range=False):\n",
    "    # bbox_spherical, ordered as (r, theta, phi), theta = colat angle, phi = polar 0 to 2pi angle    \n",
    "    \n",
    "    r_min = bbox_spherical[0,0]\n",
    "    r_max = bbox_spherical[0,1]\n",
    "\n",
    "    angular_bounds = np.array([[0, np.pi], [0, 2 * np.pi]])\n",
    "    \n",
    "    if np.allclose(bbox_spherical[1:,:], angular_bounds) or override_to_full_range:    \n",
    "        bbox_cart = np.array([[-r_max, r_max], \n",
    "                             [-r_max, r_max], \n",
    "                             [-r_max, r_max], ])\n",
    "        return bbox_cart    \n",
    "    \n",
    "    \n",
    "    theta_test = np.linspace(bbox_spherical[1][0], bbox_spherical[1][1], n_test_points)\n",
    "    phi_test = np.linspace(bbox_spherical[2][0], bbox_spherical[2][1], n_test_points)\n",
    "    \n",
    "    theta_test, phi_test = np.meshgrid(theta_test, phi_test)\n",
    "    \n",
    "    bbox_1 = bbox_from_range(r_min, theta_test, phi_test)    \n",
    "    bbox_2 = bbox_from_range(r_max, theta_test, phi_test)\n",
    "    \n",
    "    bbox_cart = np.zeros((3,2))\n",
    "    bbox_cart[:, 0] = np.min([bbox_1[:, 0], bbox_2[:,0]], axis=0)\n",
    "    bbox_cart[:, 1] = np.max([bbox_1[:, 1], bbox_2[:,1]], axis=0)\n",
    "\n",
    "    bbox_cart[:, 0] = bbox_cart[:, 0] * (1. + expand_frac)\n",
    "    bbox_cart[:, 1] = bbox_cart[:, 1] * (1. + expand_frac)\n",
    "    if round_box:\n",
    "        bbox_cart = np.round(bbox_cart)\n",
    "    return bbox_cart\n",
    "\n",
    "\n",
    "def get_grid_edges_by_dim(le, grid_wids, starting_n_grids):\n",
    "    left_edges_by_dim = []\n",
    "    right_edges_by_dim = []\n",
    "    for idim in range(3):    \n",
    "        edges = le[idim] + grid_wids[idim] * (np.cumsum(np.ones((starting_n_grids[idim]+1,))) - 1)\n",
    "        left_edges = edges[0:-1]\n",
    "        right_edges = edges[1:]\n",
    "        left_edges_by_dim.append(left_edges)\n",
    "        right_edges_by_dim.append(right_edges)\n",
    "    return left_edges_by_dim, right_edges_by_dim\n",
    "    \n",
    "\n",
    "def decompose_level_0(bbox_cart,\n",
    "                      bbox_spherical,\n",
    "                      starting_dims,\n",
    "                      starting_n_grids,):\n",
    "\n",
    "    ndim = 3\n",
    "    if isinstance(starting_dims, int):\n",
    "        starting_dims = np.array([starting_dims,]*ndim, dtype=int)\n",
    "\n",
    "    if isinstance(starting_n_grids, int):\n",
    "        starting_n_grids = np.array([starting_n_grids,]*ndim, dtype=int)\n",
    "        \n",
    "    re_cart = bbox_cart[:,1]\n",
    "    le_cart = bbox_cart[:,0]\n",
    "    domain_width = re_cart - le_cart # domain_width\n",
    "    dxyz = domain_width / starting_dims\n",
    "\n",
    "    n_per_grid = starting_dims / starting_n_grids  # nodes per coarse grid\n",
    "    grid_wids = n_per_grid * dxyz  # grid widths\n",
    "\n",
    "    les_by_dim, res_by_dim = get_grid_edges_by_dim(le_cart, grid_wids, starting_n_grids)\n",
    "    nodes_by_dim = [np.full((starting_n_grids[idim]),n_per_grid[idim], dtype=int) for idim in range(3)]\n",
    "\n",
    "\n",
    "    left_edges = by_dims_to_grid_list(les_by_dim)\n",
    "    right_edges = by_dims_to_grid_list(res_by_dim)\n",
    "    grid_shapes = by_dims_to_grid_list(nodes_by_dim)\n",
    "    \n",
    "    grid_list = []\n",
    "    for igrid in range(len(left_edges)):\n",
    "        grid_dict = {\n",
    "            'left_edge': left_edges[igrid], \n",
    "            'right_edge': right_edges[igrid],             \n",
    "            \"level\": 0,\n",
    "            \"dimensions\": grid_shapes[igrid],\n",
    "        }\n",
    "        grid_list.append(grid_dict)\n",
    "\n",
    "    return grid_list, list(starting_dims)\n",
    "\n",
    "def by_dims_to_grid_list(list_by_dim):\n",
    "    point_combos = np.meshgrid(*list_by_dim, indexing='ij')\n",
    "    return np.column_stack([le.ravel() for le in point_combos])\n"
   ]
  },
  {
   "cell_type": "code",
   "execution_count": 102,
   "id": "cc6bee3d-fc72-4cb8-a9ea-30ed1bb5a138",
   "metadata": {},
   "outputs": [],
   "source": [
    "bbox_spherical = np.array([[5000, 6371], \n",
    "                           [0, np.pi], \n",
    "                           [0, 2*np.pi]])\n",
    "bbox_cart = get_cart_bbox(bbox_spherical)\n",
    "grids, starting_dims = decompose_level_0(bbox_cart, bbox_spherical, 24, 3)"
   ]
  },
  {
   "cell_type": "code",
   "execution_count": 103,
   "id": "e35032b4-7343-42fe-ae24-1b4a4160dc6e",
   "metadata": {},
   "outputs": [
    {
     "data": {
      "text/plain": [
       "{'left_edge': array([-6371.        , -6371.        , -2123.66666667]),\n",
       " 'right_edge': array([-2123.66666667, -2123.66666667,  2123.66666667]),\n",
       " 'level': 0,\n",
       " 'dimensions': array([8, 8, 8])}"
      ]
     },
     "execution_count": 103,
     "metadata": {},
     "output_type": "execute_result"
    }
   ],
   "source": [
    "grids[1].copy()"
   ]
  },
  {
   "cell_type": "code",
   "execution_count": 104,
   "id": "97db23c0-0021-4f62-b6da-379d6198159e",
   "metadata": {},
   "outputs": [
    {
     "data": {
      "text/plain": [
       "{'left_edge': array([-5309.16666667, -5309.16666667, -1061.83333333]),\n",
       " 'right_edge': array([-3185.5       , -3185.5       ,  1061.83333333]),\n",
       " 'level': 1,\n",
       " 'dimensions': array([8, 8, 8])}"
      ]
     },
     "execution_count": 104,
     "metadata": {},
     "output_type": "execute_result"
    }
   ],
   "source": [
    "lev_1 = grids[1].copy()\n",
    "wid = lev_1['right_edge'] - lev_1['left_edge']\n",
    "dxyz = wid / lev_1['dimensions']\n",
    "\n",
    "lev_1['left_edge'] = lev_1['left_edge'] + dxyz*2.\n",
    "lev_1['right_edge'] = lev_1['right_edge'] - dxyz*2\n",
    "lev_1['level'] = 1\n",
    "grids.append(lev_1)\n",
    "lev_1"
   ]
  },
  {
   "cell_type": "code",
   "execution_count": 98,
   "id": "c8bd3a60-14ed-4aaa-99e5-7662923e31df",
   "metadata": {},
   "outputs": [],
   "source": [
    "def _reader(grid ,field):\n",
    "\n",
    "    x = grid.fcoords[:,0].reshape(grid.ActiveDimensions)\n",
    "    y = grid.fcoords[:,1].reshape(grid.ActiveDimensions)\n",
    "    z = grid.fcoords[:,2].reshape(grid.ActiveDimensions)\n",
    "\n",
    "    r, theta, phi = cart_to_sphere(x, y, z)\n",
    "    \n",
    "    rmask = np.logical_and(r >= bbox_spherical[0,0], r <= bbox_spherical[0,1])\n",
    "    thmask = np.logical_and(theta >= bbox_spherical[1,0], theta <= bbox_spherical[1,1])\n",
    "    phmask = np.logical_and(phi >= bbox_spherical[2,0], phi <= bbox_spherical[2,1])\n",
    "    mask = np.logical_and(rmask, thmask)\n",
    "    mask = np.logical_and(mask, phmask)\n",
    "\n",
    "    dens = np.zeros(x.shape)\n",
    "    dens[mask] = 1.0\n",
    "    return dens"
   ]
  },
  {
   "cell_type": "code",
   "execution_count": 99,
   "id": "30474cbc-e1c3-43d2-99e4-3dedcd5627f1",
   "metadata": {},
   "outputs": [],
   "source": [
    "for gid in range(len(grids)):    \n",
    "    grids[gid]['field0'] = (_reader, '')"
   ]
  },
  {
   "cell_type": "code",
   "execution_count": 100,
   "id": "4769a32d-45ef-443b-89c2-1e9048114a0c",
   "metadata": {},
   "outputs": [
    {
     "ename": "YTIllDefinedAMR",
     "evalue": "Grids on the level 1 are not properly aligned with cell edges on the parent level ('z' axis)",
     "output_type": "error",
     "traceback": [
      "\u001b[0;31m---------------------------------------------------------------------------\u001b[0m",
      "\u001b[0;31mYTIllDefinedAMR\u001b[0m                           Traceback (most recent call last)",
      "Input \u001b[0;32mIn [100]\u001b[0m, in \u001b[0;36m<cell line: 3>\u001b[0;34m()\u001b[0m\n\u001b[1;32m      1\u001b[0m \u001b[38;5;28;01mimport\u001b[39;00m \u001b[38;5;21;01myt\u001b[39;00m \n\u001b[0;32m----> 3\u001b[0m ds \u001b[38;5;241m=\u001b[39m \u001b[43myt\u001b[49m\u001b[38;5;241;43m.\u001b[39;49m\u001b[43mload_amr_grids\u001b[49m\u001b[43m(\u001b[49m\u001b[43mgrids\u001b[49m\u001b[43m,\u001b[49m\u001b[43m \u001b[49m\u001b[43mstarting_dims\u001b[49m\u001b[43m,\u001b[49m\u001b[43m \u001b[49m\u001b[43mbbox\u001b[49m\u001b[38;5;241;43m=\u001b[39;49m\u001b[43mbbox_cart\u001b[49m\u001b[43m,\u001b[49m\u001b[43m \u001b[49m\u001b[43mlength_unit\u001b[49m\u001b[38;5;241;43m=\u001b[39;49m\u001b[38;5;124;43m'\u001b[39;49m\u001b[38;5;124;43mkm\u001b[39;49m\u001b[38;5;124;43m'\u001b[39;49m\u001b[43m)\u001b[49m\n",
      "File \u001b[0;32m~/src/yt_general/yt/yt/loaders.py:636\u001b[0m, in \u001b[0;36mload_amr_grids\u001b[0;34m(grid_data, domain_dimensions, bbox, sim_time, length_unit, mass_unit, time_unit, velocity_unit, magnetic_unit, periodicity, geometry, refine_by, unit_system, default_species_fields, parameters, dataset_name, axis_order)\u001b[0m\n\u001b[1;32m    632\u001b[0m         cell_edges \u001b[38;5;241m=\u001b[39m np\u001b[38;5;241m.\u001b[39mlinspace(\n\u001b[1;32m    633\u001b[0m             domain_left_edge[iax], domain_right_edge[iax], dims[iax], endpoint\u001b[38;5;241m=\u001b[39m\u001b[38;5;28;01mFalse\u001b[39;00m\n\u001b[1;32m    634\u001b[0m         )\n\u001b[1;32m    635\u001b[0m         \u001b[38;5;28;01mif\u001b[39;00m \u001b[38;5;28mset\u001b[39m(grid_left_edges[idx, iax]) \u001b[38;5;241m-\u001b[39m \u001b[38;5;28mset\u001b[39m(cell_edges):\n\u001b[0;32m--> 636\u001b[0m             \u001b[38;5;28;01mraise\u001b[39;00m YTIllDefinedAMR(lvl, ax)\n\u001b[1;32m    638\u001b[0m \u001b[38;5;28;01mif\u001b[39;00m length_unit \u001b[38;5;129;01mis\u001b[39;00m \u001b[38;5;28;01mNone\u001b[39;00m:\n\u001b[1;32m    639\u001b[0m     length_unit \u001b[38;5;241m=\u001b[39m \u001b[38;5;124m\"\u001b[39m\u001b[38;5;124mcode_length\u001b[39m\u001b[38;5;124m\"\u001b[39m\n",
      "\u001b[0;31mYTIllDefinedAMR\u001b[0m: Grids on the level 1 are not properly aligned with cell edges on the parent level ('z' axis)"
     ]
    }
   ],
   "source": [
    "import yt \n",
    "\n",
    "ds = yt.load_amr_grids(grids, starting_dims, bbox=bbox_cart, length_unit='km')"
   ]
  },
  {
   "cell_type": "code",
   "execution_count": 80,
   "id": "447a5b99-d761-4b21-ace1-f59b3a100a8b",
   "metadata": {},
   "outputs": [
    {
     "name": "stderr",
     "output_type": "stream",
     "text": [
      "yt : [INFO     ] 2024-02-02 15:47:13,839 xlim = -6371.000000 6371.000000\n",
      "yt : [INFO     ] 2024-02-02 15:47:13,840 ylim = -6371.000000 6371.000000\n",
      "yt : [INFO     ] 2024-02-02 15:47:13,842 xlim = -6371.000000 6371.000000\n",
      "yt : [INFO     ] 2024-02-02 15:47:13,842 ylim = -6371.000000 6371.000000\n",
      "yt : [INFO     ] 2024-02-02 15:47:13,843 Making a fixed resolution buffer of (('stream', 'field0')) 800 by 800\n"
     ]
    },
    {
     "data": {
      "text/html": [
       "<img style=\"max-width:100%;max-height:100%;\" src=\"data:image/png;base64,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\"><br>"
      ],
      "text/plain": [
       "<yt.visualization.plot_window.AxisAlignedSlicePlot at 0x7f9e55aed2b0>"
      ]
     },
     "execution_count": 80,
     "metadata": {},
     "output_type": "execute_result"
    }
   ],
   "source": [
    "slc = yt.SlicePlot(ds, 'x', ('stream', 'field0'))\n",
    "slc.set_log(('stream', 'field0'), False)\n",
    "# slc.annotate_grids()"
   ]
  },
  {
   "cell_type": "code",
   "execution_count": 97,
   "id": "54783890-c6bb-4f8e-98ee-93d3fe897412",
   "metadata": {},
   "outputs": [],
   "source": [
    "g = ds.index.grids[0]\n"
   ]
  },
  {
   "cell_type": "code",
   "execution_count": 100,
   "id": "9f9b9ef1-0853-4c77-a88b-19a19ffa5a32",
   "metadata": {},
   "outputs": [
    {
     "data": {
      "text/plain": [
       "array([8, 8, 8], dtype=int32)"
      ]
     },
     "execution_count": 100,
     "metadata": {},
     "output_type": "execute_result"
    }
   ],
   "source": [
    "g.ActiveDimensions"
   ]
  },
  {
   "cell_type": "code",
   "execution_count": 73,
   "id": "f09100c7-0c5e-48f5-9bc6-fbd6ff897e63",
   "metadata": {},
   "outputs": [
    {
     "data": {
      "text/plain": [
       "4096"
      ]
     },
     "execution_count": 73,
     "metadata": {},
     "output_type": "execute_result"
    }
   ],
   "source": [
    "16*16*16"
   ]
  },
  {
   "cell_type": "code",
   "execution_count": null,
   "id": "9ed73dc5-7b73-45a7-94b0-4cb080f07fa0",
   "metadata": {},
   "outputs": [],
   "source": []
  }
 ],
 "metadata": {
  "kernelspec": {
   "display_name": "Python 3 (ipykernel)",
   "language": "python",
   "name": "python3"
  },
  "language_info": {
   "codemirror_mode": {
    "name": "ipython",
    "version": 3
   },
   "file_extension": ".py",
   "mimetype": "text/x-python",
   "name": "python",
   "nbconvert_exporter": "python",
   "pygments_lexer": "ipython3",
   "version": "3.9.10"
  }
 },
 "nbformat": 4,
 "nbformat_minor": 5
}
