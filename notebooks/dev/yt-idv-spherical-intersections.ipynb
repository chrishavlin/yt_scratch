{
 "cells": [
  {
   "cell_type": "code",
   "execution_count": 1,
   "id": "7ea4d33c-1324-4fe3-a2bf-c82a14c35574",
   "metadata": {},
   "outputs": [],
   "source": [
    "import numpy as np \n",
    "\n",
    "from yt_idv.coordinate_utilities import (\n",
    "    SphericalMixedCoordBBox,\n",
    "    cartesian_bboxes,\n",
    "    cartesian_bboxes_edges, # from edges \n",
    "    cartesian_to_spherical,\n",
    "    spherical_to_cartesian,\n",
    ")\n",
    "import matplotlib.pyplot as plt "
   ]
  },
  {
   "cell_type": "markdown",
   "id": "3dd1eaa4-8bff-4e22-8b7e-46fcbdb82d57",
   "metadata": {},
   "source": [
    "yt conventions for spherical coordinates:\n",
    "\n",
    "* r : radius\n",
    "* theta: colatitude, 0 to pi\n",
    "* phi: azimuth (longitudinal angle), 0 to 2pi"
   ]
  },
  {
   "cell_type": "code",
   "execution_count": null,
   "id": "3c4d67e1-9f92-46ef-a34c-dd63c9a4de8d",
   "metadata": {},
   "outputs": [],
   "source": []
  },
  {
   "cell_type": "markdown",
   "id": "e9ac73a1-319b-41dd-9b57-e89b516d08a3",
   "metadata": {},
   "source": []
  },
  {
   "cell_type": "code",
   "execution_count": 2,
   "id": "d02a4955-2833-4642-8e1a-7e5d2b28274b",
   "metadata": {},
   "outputs": [],
   "source": [
    "bbox_handler = SphericalMixedCoordBBox()"
   ]
  },
  {
   "cell_type": "markdown",
   "id": "d38a29cd-e7f1-4025-b01c-6e2cd5d85581",
   "metadata": {},
   "source": [
    "set some ray cases, single elements, select which to use.\n",
    "\n",
    "Note that in order to create visualizations easily, the element should span the equator (theta=pi/2) over a very narrow range. this allows an almost 2d element, and we can plot in 2d... the intersections below are calculated in 3d (though not the initial bounding box...) but visualized in 2d.\n",
    "\n",
    "i_ray = 3, i_el = 0 is a nice place to start."
   ]
  },
  {
   "cell_type": "code",
   "execution_count": 3,
   "id": "80b52748-a804-4fde-a2df-672835637c9a",
   "metadata": {},
   "outputs": [],
   "source": [
    "ray_cases = [\n",
    "    {'origin': [.6, .3, .0], 'camera_position': [.9, .45, .0]},\n",
    "    {'origin': [.65, .48, .0], 'camera_position': [.9, .45, .0]},   \n",
    "    {'origin': [.65, .48, .0], 'camera_position': [.85, .325, .0]},   \n",
    "    {'origin': [.4, .3, .0], 'camera_position': [.9, .45, .0]},    \n",
    "    {'origin': [-1., .2, .0], 'camera_position': [1.2, .1, .0]},    \n",
    "]\n",
    "i_ray = 4\n",
    "\n",
    "element_cases = [\n",
    "    {'phi': [0.4, 0.6], 'r': [0.8, 0.9], 'theta': [np.pi/2 - 0.01, np.pi/2 + 0.01]},\n",
    "    {'phi': [0.1, np.pi*0.95], 'r': [0.3, 0.9], 'theta': [np.pi/2 - 0.01, np.pi/2 + 0.01]}\n",
    "]\n",
    "i_el = 1"
   ]
  },
  {
   "cell_type": "code",
   "execution_count": 4,
   "id": "2bc9e215-e5c3-4df2-b793-a7d18e98c24c",
   "metadata": {},
   "outputs": [],
   "source": [
    "el = element_cases[i_el]\n",
    "r0 = np.atleast_1d(np.array(el['r'][0]) )\n",
    "r1 =  np.atleast_1d(np.array(el['r'][1]))\n",
    "\n",
    "# a small variation about np.pi/2 will be almost 2d, nice for visualization here\n",
    "theta0 =  np.atleast_1d(np.array(el['theta'][0]))\n",
    "theta1 =  np.atleast_1d(np.array(el['theta'][1]))\n",
    "\n",
    "phi0 =  np.atleast_1d(np.array(el['phi'][0]))\n",
    "phi1 =  np.atleast_1d(np.array(el['phi'][1]))\n"
   ]
  },
  {
   "cell_type": "code",
   "execution_count": 5,
   "id": "56469e89-fc39-41bd-a77c-defb217568d4",
   "metadata": {},
   "outputs": [],
   "source": [
    "le, re = cartesian_bboxes_edges(bbox_handler, r0, theta0, phi0, r1, theta1, phi1)"
   ]
  },
  {
   "cell_type": "code",
   "execution_count": 6,
   "id": "e86749aa-d106-4219-b513-1e051bc4026f",
   "metadata": {},
   "outputs": [],
   "source": [
    "# create a ray, get x, y values for plotting\n",
    "ray_origin = np.array(ray_cases[i_ray]['origin'])\n",
    "camera_position = np.array(ray_cases[i_ray]['camera_position'])\n",
    "\n",
    "ray_dir = (camera_position - ray_origin) / np.linalg.norm(camera_position - ray_origin)\n",
    "dist = np.linalg.norm(camera_position - ray_origin)\n",
    "\n",
    "t = np.linspace(0, dist, 50)\n",
    "\n",
    "x = ray_origin[0] + t * ray_dir[0]\n",
    "y = ray_origin[1] + t * ray_dir[1]\n",
    "z = ray_origin[2] + t * ray_dir[2]"
   ]
  },
  {
   "cell_type": "code",
   "execution_count": 7,
   "id": "ab207bba-25dd-4d4e-bec0-a0092c0f8dd6",
   "metadata": {},
   "outputs": [],
   "source": [
    "# x-y projection of element -- sort of, since it spans the equator, wont be too bad \n",
    "\n",
    "phi_range = np.linspace(phi0, phi1, 25)\n",
    "\n",
    "x_el_in = r0 * np.cos(phi_range)\n",
    "y_el_in = r0 * np.sin(phi_range)\n",
    "\n",
    "x_el_out = r1 * np.cos(phi_range)\n",
    "y_el_out = r1 * np.sin(phi_range)\n",
    "\n",
    "r_range = np.linspace(r0, r1, 25)\n",
    "x_el_phi0 = r_range * np.cos(phi0)\n",
    "y_el_phi0 = r_range * np.sin(phi0)\n",
    "x_el_phi1 = r_range * np.cos(phi1)\n",
    "y_el_phi1 = r_range * np.sin(phi1)\n"
   ]
  },
  {
   "cell_type": "code",
   "execution_count": 8,
   "id": "7396d605-4e5a-40b2-9c90-f71ffb5ba3fb",
   "metadata": {},
   "outputs": [
    {
     "data": {
      "text/plain": [
       "(<Figure size 640x480 with 1 Axes>, <Axes: >)"
      ]
     },
     "execution_count": 8,
     "metadata": {},
     "output_type": "execute_result"
    },
    {
     "data": {
      "image/png": "[encoded data removed]",
      "text/plain": [
       "<Figure size 640x480 with 1 Axes>"
      ]
     },
     "metadata": {},
     "output_type": "display_data"
    }
   ],
   "source": [
    "def plot_elements():\n",
    "    fig, axs = plt.subplots(1)\n",
    "    # cartesian bounding box \n",
    "    axs.plot([le[0], re[0]], [le[1], le[1]],'k')\n",
    "    axs.plot([le[0], re[0]], [re[1], re[1]],'k')\n",
    "    axs.plot([le[0], le[0]], [le[1], re[1]],'k')\n",
    "    axs.plot([re[0], re[0]], [le[1], re[1]],'k')\n",
    "    \n",
    "    # the element \n",
    "    axs.plot(x_el_in,y_el_in,'g')\n",
    "    axs.plot(x_el_out,y_el_out,'g')\n",
    "    axs.plot(x_el_phi0,y_el_phi0,'g')\n",
    "    axs.plot(x_el_phi1,y_el_phi1,'g')\n",
    "    \n",
    "    # a ray \n",
    "    axs.plot(x, y,'r')\n",
    "    axs.set_aspect('equal')\n",
    "    return fig, axs\n",
    "\n",
    "plot_elements()    "
   ]
  },
  {
   "cell_type": "markdown",
   "id": "69b04aaa-d2cb-4d09-998e-d456f1716fe8",
   "metadata": {},
   "source": [
    "# slab test\n",
    "\n",
    "e.g., https://tavianator.com/2022/ray_box_boundary.html"
   ]
  },
  {
   "cell_type": "code",
   "execution_count": 9,
   "id": "e01e8bd3-ab57-4ce7-b025-943bb1e3ec68",
   "metadata": {},
   "outputs": [
    {
     "data": {
      "image/png": "[encoded data removed]",
      "text/plain": [
       "<Figure size 640x480 with 1 Axes>"
      ]
     },
     "metadata": {},
     "output_type": "display_data"
    }
   ],
   "source": [
    "\n",
    "t1 = (le[0] - ray_origin[0])/ray_dir[0]\n",
    "t2 = (re[0] - ray_origin[0])/ray_dir[0]\n",
    "tmin = min(t1,t2)\n",
    "tmax = max(t1,t2)\n",
    "\n",
    "tmin = max(tmin, min(t1, t2))\n",
    "tmax = min(tmax, max(t1, t2))\n",
    "\n",
    "intersects = tmax > tmin\n",
    "\n",
    "if intersects:\n",
    "    t_range = np.linspace(tmin, tmax, 25)\n",
    "    x_intx = ray_origin[0] + t_range * ray_dir[0]\n",
    "    y_intx = ray_origin[1] + t_range * ray_dir[1]\n",
    "    \n",
    "    f, axs = plot_elements()    \n",
    "    axs.plot(x_intx, y_intx,'--b')"
   ]
  },
  {
   "cell_type": "markdown",
   "id": "fbcfec6f-e9f7-4215-976a-e1657bd6b9a0",
   "metadata": {},
   "source": [
    "### additional intersections?\n",
    "\n",
    "\n",
    "in 3d, 3 primitive shapes define the boundaries of a spherical volume element\n",
    "\n",
    "* ray-sphere for rmin, rmax. \n",
    "* ray-plane for the fixed phi at phi0, phi1\n",
    "* ray-cone for fixed theta at theta1, thetat2 \n",
    "\n",
    "so that's additional 6 intersection tests, some of which may have multiple intersections (ray-sphere will have 0, 1, or 2, ray-cone can have 0, 1, 2, and 2+imaginary ghost-cone intersection, ray-plane is 0, 1 or infinite). \n",
    "\n",
    "So kinda a lot to do... \n",
    "\n",
    "modifying the initial glsl implementations i had:"
   ]
  },
  {
   "cell_type": "code",
   "execution_count": 10,
   "id": "75497c5b-d835-4fac-a519-3ddcb89c5704",
   "metadata": {},
   "outputs": [],
   "source": [
    "def get_ray_plane_intersection(p_normal, p_constant, ray_origin, ray_dir):\n",
    "    # intersection with a plane defined by constant phi\n",
    "    n_dot_u = np.dot(p_normal, ray_dir)\n",
    "    n_dot_ro = np.dot(p_normal, ray_origin)\n",
    "\n",
    "    # ray is parallel to plane with infinite or no intersections \n",
    "    if (n_dot_u == float(0.0)):\n",
    "        return False, []    \n",
    "\n",
    "    # otherwise, the the intersection is at\n",
    "    t_point = [np.asarray([(p_constant - n_dot_ro) / n_dot_u,]),]\n",
    "    return True, t_point"
   ]
  },
  {
   "cell_type": "code",
   "execution_count": 11,
   "id": "f17087c5-073a-45fa-b812-ef2b739db5de",
   "metadata": {},
   "outputs": [],
   "source": [
    "def get_ray_sphere_intersection(r, ray_origin, ray_dir):\n",
    "    # intersection with a sphere defined by constant r\n",
    "    dir_dot_dir = np.dot(ray_dir, ray_dir)\n",
    "    ro_dot_ro = np.dot(ray_origin, ray_origin)\n",
    "    dir_dot_ro = np.dot(ray_dir, ray_origin)\n",
    "    rsq = r * r\n",
    "\n",
    "    a_2 = 2.0 * dir_dot_dir\n",
    "    b = 2.0 * dir_dot_ro\n",
    "    c =  ro_dot_ro - rsq\n",
    "    determinate = b*b - 2.0 * a_2 * c\n",
    "    \n",
    "    if determinate < 0.0:\n",
    "        return False, []    \n",
    "    elif determinate == 0.0:\n",
    "        t_point = -b / a_2;\n",
    "        return True, [t_point,]\n",
    "    else:\n",
    "        t_point1 = (-b - np.sqrt(determinate))/ a_2\n",
    "        t_point2 = (-b + np.sqrt(determinate))/ a_2\n",
    "        return True, [t_point1, t_point2]    \n",
    "    "
   ]
  },
  {
   "cell_type": "code",
   "execution_count": 15,
   "id": "d9de8d77-0458-4ed0-8321-d57d5d6d9af2",
   "metadata": {},
   "outputs": [],
   "source": [
    "def get_ray_cone_intersection(theta, ray_origin, ray_dir):\n",
    "    # intersection with a cone defined by constant theta\n",
    "    \n",
    "    if theta > np.pi/2.0:\n",
    "        # if theta is past PI/2, the cone will point in negative z and the\n",
    "        # half angle should be measured from the -z axis, not +z.\n",
    "        vhat = np.array([0.0, 0.0, -1.0])\n",
    "        costheta = np.cos(np.pi - theta)  \n",
    "    else:    \n",
    "        vhat = np.array([0.0, 0.0, 1.0])\n",
    "        costheta = np.cos(theta)\n",
    "    \n",
    "    cos2t = costheta **2 \n",
    "    # note: theta = PI/2.0 is well defined. determinate = 0 in that case and\n",
    "    # the cone becomes a plane in x-y.\n",
    "\n",
    "    dir_dot_vhat = np.dot(ray_dir, vhat)\n",
    "    dir_dot_dir = np.dot(ray_dir, ray_dir)\n",
    "    ro_dot_vhat = np.dot(ray_origin, vhat)\n",
    "    ro_dot_dir = np.dot(ray_origin, ray_dir)\n",
    "    ro_dot_ro = np.dot(ray_origin, ray_dir)\n",
    "\n",
    "    a_2 = 2.0*(np.power(dir_dot_vhat, 2) - dir_dot_dir * cos2t)\n",
    "    b = 2.0 * (ro_dot_vhat * dir_dot_vhat - ro_dot_dir*cos2t)\n",
    "    c = np.power(ro_dot_vhat, 2) - ro_dot_ro*cos2t\n",
    "    determinate = b*b - 2.0 * a_2 * c;\n",
    "    \n",
    "    if determinate < 0.0:\n",
    "        # no intersections\n",
    "        return False, []    \n",
    "    elif determinate == 0.0:  \n",
    "        # single intersection\n",
    "        t_point = -b / a_2\n",
    "        return True, [t_point,]\n",
    "    else:    \n",
    "        # 2 intersections. But note that:\n",
    "        # note: it is also possible to have real solutions that intersect the shadow cone\n",
    "        # and not the actual cone. those values will fail the bounds checks for\n",
    "        # interesecting the volume so no special treatment is needed.\n",
    "        t_point1 = (-b - np.sqrt(determinate))/ a_2\n",
    "        t_point2 = (-b + np.sqrt(determinate))/ a_2;\n",
    "        return True, [t_point1, t_point2]"
   ]
  },
  {
   "cell_type": "markdown",
   "id": "fa68c8ee-351d-473d-bda5-e3fa4f7a6387",
   "metadata": {},
   "source": [
    "So... let's calculate all those intersections. Remember -- still doing this in 3D here, the plots are just 2Dish enough to make sense."
   ]
  },
  {
   "cell_type": "code",
   "execution_count": 16,
   "id": "dc263695-2f95-4de4-8239-d2a8b8b2c922",
   "metadata": {},
   "outputs": [
    {
     "data": {
      "text/plain": [
       "((True, [array([0.75082459]), array([1.26527555])]),\n",
       " (True, [array([0.12139064]), array([1.8947095])]))"
      ]
     },
     "execution_count": 16,
     "metadata": {},
     "output_type": "execute_result"
    }
   ],
   "source": [
    "sphere_int_1 = get_ray_sphere_intersection(r0, ray_origin, ray_dir)\n",
    "sphere_int_2 = get_ray_sphere_intersection(r1, ray_origin, ray_dir)\n",
    "sphere_int_1, sphere_int_2"
   ]
  },
  {
   "cell_type": "code",
   "execution_count": 17,
   "id": "f2bd060f-a77e-4934-ae5b-ef5496f57fd2",
   "metadata": {},
   "outputs": [
    {
     "data": {
      "text/plain": [
       "((True, [array([2.43079918]), array([-0.41469903])]),\n",
       " (True, [array([2.43079918]), array([-0.41469903])]))"
      ]
     },
     "execution_count": 17,
     "metadata": {},
     "output_type": "execute_result"
    }
   ],
   "source": [
    "cone_int_1 = get_ray_cone_intersection(theta0, ray_origin, ray_dir)\n",
    "cone_int_2 = get_ray_cone_intersection(theta1, ray_origin, ray_dir)\n",
    "cone_int_1, cone_int_2"
   ]
  },
  {
   "cell_type": "markdown",
   "id": "4b230029-6d95-4b2a-b52c-695ceb386095",
   "metadata": {},
   "source": [
    "Cone intersections will always be null for this notebook, since rays line in the z = 0 plane.\n",
    "\n",
    "anyway, Using `get_ray_plane_intersection` will require calculating those phi-normal planes first"
   ]
  },
  {
   "cell_type": "code",
   "execution_count": 18,
   "id": "cdb4ab86-b5e9-488b-afdf-7bd224ab3f03",
   "metadata": {},
   "outputs": [],
   "source": [
    "import numpy as np\n",
    "\n",
    "\n",
    "def phi_normal_plane(r, theta, phi):\n",
    "    # simplified from\n",
    "    # https://github.com/yt-project/yt_idv/blob/3cef5b304a403cec17bd02ba6d11bb9b934c98db/yt_idv/scene_data/_geometry_utils.py\n",
    "    # for use with a single plane    \n",
    "\n",
    "    # get the cartesian values of the coordinates\n",
    "    z = r * np.cos(theta)\n",
    "    r_xy = r * np.sin(theta)\n",
    "    x = r_xy * np.cos(phi)\n",
    "    y = r_xy * np.sin(phi)\n",
    "    xyz = np.concatenate([x, y, z])    \n",
    "\n",
    "    # construct the plane\n",
    "    z_hat = np.array([0, 0, 1])\n",
    "    normal_vec = np.cross(xyz, z_hat)    \n",
    "    d = np.dot(normal_vec, xyz) # find any point in the plane.\n",
    "\n",
    "    plane = [normal_vec, float(d)]\n",
    "    return plane \n",
    "\n",
    "p0 = phi_normal_plane(r0, theta0, phi0) # r, theta values should not matter\n",
    "p1 = phi_normal_plane(r0, theta0, phi1) # r, theta values should not matter"
   ]
  },
  {
   "cell_type": "code",
   "execution_count": 19,
   "id": "5775d2e1-aa7c-450b-b2ab-ea7bbf21f9da",
   "metadata": {},
   "outputs": [
    {
     "data": {
      "text/plain": [
       "((True, [array([2.062188])]), (True, [array([-0.3688884])]))"
      ]
     },
     "execution_count": 19,
     "metadata": {},
     "output_type": "execute_result"
    }
   ],
   "source": [
    "plane_1 = get_ray_plane_intersection(p0[0], p0[1], ray_origin, ray_dir)\n",
    "plane_2 = get_ray_plane_intersection(p1[0], p1[1], ray_origin, ray_dir)\n",
    "plane_1, plane_2"
   ]
  },
  {
   "cell_type": "code",
   "execution_count": 20,
   "id": "69c6b188-ad53-450d-9701-96cbe9efd926",
   "metadata": {},
   "outputs": [
    {
     "data": {
      "text/plain": [
       "array([ 2.062188  , -0.3688884 ,  2.43079918, -0.41469903,  2.43079918,\n",
       "       -0.41469903,  0.75082459,  1.26527555,  0.12139064,  1.8947095 ])"
      ]
     },
     "execution_count": 20,
     "metadata": {},
     "output_type": "execute_result"
    }
   ],
   "source": [
    "all_t_vals = plane_1[1] + plane_2[1] + cone_int_1[1] + cone_int_2[1] + sphere_int_1[1] + sphere_int_2[1]\n",
    "all_t_vals = np.concatenate(all_t_vals)\n",
    "all_t_vals"
   ]
  },
  {
   "cell_type": "code",
   "execution_count": 21,
   "id": "c68ae0a5-ad1d-40d8-ad17-956bbd61af49",
   "metadata": {},
   "outputs": [],
   "source": [
    "new_t = [t for t in all_t_vals if t > tmin and t<tmax]"
   ]
  },
  {
   "cell_type": "code",
   "execution_count": 22,
   "id": "47fc7b4a-6e88-430f-9735-bc98427be872",
   "metadata": {},
   "outputs": [
    {
     "data": {
      "text/plain": [
       "[0.750824590659408,\n",
       " 1.2652755541286511,\n",
       " 0.12139064033817637,\n",
       " 1.8947095044498827]"
      ]
     },
     "execution_count": 22,
     "metadata": {},
     "output_type": "execute_result"
    }
   ],
   "source": [
    "new_t"
   ]
  },
  {
   "cell_type": "code",
   "execution_count": null,
   "id": "55bab8dc-7aef-49cc-884e-12f906c6730e",
   "metadata": {},
   "outputs": [],
   "source": []
  },
  {
   "cell_type": "markdown",
   "id": "dcdcba6b-3d2b-4c39-8a3e-4a657e151fd3",
   "metadata": {},
   "source": [
    "### tricky edge cases????\n",
    "\n",
    "`new_t` will be intersections falling within the bounding box (and will always be >0), but its length may vary:"
   ]
  },
  {
   "cell_type": "code",
   "execution_count": 23,
   "id": "78ad2d3d-e49c-47bf-ae3d-3093e056f255",
   "metadata": {},
   "outputs": [
    {
     "name": "stdout",
     "output_type": "stream",
     "text": [
      "[0.12139064 0.75082459 1.26527555 1.8947095 ]\n"
     ]
    }
   ],
   "source": [
    "len_new_t = len(new_t)\n",
    "if len_new_t == 0:\n",
    "    # intersects bounding box, but not actual element. \n",
    "    # neglecting infinite intersections if ray is on the fixed phi-plane... \n",
    "    intersects = False\n",
    "elif len_new_t == 1: \n",
    "    # intersects exactly once, ray hits the cusp of the outer radius sphere\n",
    "    # just drop it for now\n",
    "    intersects = False\n",
    "elif len_new_t not in (2, 4): \n",
    "    raise RuntimeError(\"should only be 2 or 4 at this point\") \n",
    "\n",
    "# 4 intersections is hard... \n",
    "\n",
    "if intersects:\n",
    "    if len_new_t == 2:\n",
    "        # trivial\n",
    "        # new_t guaranteed to be positive!\n",
    "        # if 4 intersections, need to sort\n",
    "        new_tmin = min(new_t)\n",
    "        new_tmax = max(new_t)\n",
    "        new_t = [new_tmin, new_tmax]\n",
    "    elif len_new_t == 4:\n",
    "        # a sort to implement in glsl, this is probably not as efficient as it could be, \n",
    "        # but it will work.\n",
    "        full_max = np.max(new_t)\n",
    "        full_min = np.min(new_t)        \n",
    "\n",
    "        # store the other 2 points \n",
    "        mid_ts = np.full((2,), -1.0)            \n",
    "        i_mid = 0\n",
    "        for i in range(4):\n",
    "            if new_t[i] > full_min and new_t[i] < full_max:                \n",
    "                mid_ts[i_mid] = new_t[i]\n",
    "                i_mid += 1\n",
    "        mid_min = np.min(mid_ts)\n",
    "        mid_max = np.max(mid_ts)\n",
    "        \n",
    "        new_t = np.array([full_min, mid_min, mid_max, full_max])\n",
    "            \n",
    "    print(new_t)"
   ]
  },
  {
   "cell_type": "code",
   "execution_count": 24,
   "id": "886a6580-3ad7-4fa3-8191-1dc1011921ab",
   "metadata": {},
   "outputs": [
    {
     "data": {
      "image/png": "[encoded data removed]",
      "text/plain": [
       "<Figure size 640x480 with 1 Axes>"
      ]
     },
     "metadata": {},
     "output_type": "display_data"
    }
   ],
   "source": [
    "if intersects:\n",
    "    f, axs = plot_elements()    \n",
    "    axs.plot(x_intx, y_intx,'--b')\n",
    "\n",
    "    \n",
    "    t_range = np.linspace(new_t[0], new_t[1], 25)    \n",
    "    x_intx_n = ray_origin[0] + t_range * ray_dir[0]\n",
    "    y_intx_n = ray_origin[1] + t_range * ray_dir[1]\n",
    "    axs.plot(x_intx_n, y_intx_n,'b')\n",
    "\n",
    "    if len_new_t == 4: \n",
    "        t_range = np.linspace(new_t[2], new_t[3], 25)    \n",
    "        x_intx_n = ray_origin[0] + t_range * ray_dir[0]\n",
    "        y_intx_n = ray_origin[1] + t_range * ray_dir[1]\n",
    "        axs.plot(x_intx_n, y_intx_n,'b')"
   ]
  },
  {
   "cell_type": "code",
   "execution_count": 25,
   "id": "7f8bcd1a-b813-40c1-8ead-ef55b4396f1f",
   "metadata": {},
   "outputs": [
    {
     "data": {
      "image/png": "[encoded data removed]",
      "text/plain": [
       "<Figure size 640x480 with 1 Axes>"
      ]
     },
     "metadata": {},
     "output_type": "display_data"
    }
   ],
   "source": [
    "# let's also plot all the t values, just to see where they would fall\n",
    "if intersects:\n",
    "    f, axs = plot_elements()    \n",
    "    axs.plot(x_intx, y_intx,'--b')\n",
    "    \n",
    "    for tval in all_t_vals:           \n",
    "        x_intx_t = ray_origin[0] + tval * ray_dir[0]\n",
    "        y_intx_t = ray_origin[1] + tval * ray_dir[1]\n",
    "        axs.plot(x_intx_t, y_intx_t,'.b')\n"
   ]
  },
  {
   "cell_type": "markdown",
   "id": "078a2151-0738-477c-bc70-b60a76067960",
   "metadata": {},
   "source": []
  },
  {
   "cell_type": "code",
   "execution_count": null,
   "id": "089d73c1-e806-45a6-8316-e005fe518a9a",
   "metadata": {},
   "outputs": [],
   "source": []
  },
  {
   "cell_type": "code",
   "execution_count": null,
   "id": "1c486128-b208-4153-85a8-224576a84c6c",
   "metadata": {},
   "outputs": [],
   "source": []
  }
 ],
 "metadata": {
  "kernelspec": {
   "display_name": "Python 3 (ipykernel)",
   "language": "python",
   "name": "python3"
  },
  "language_info": {
   "codemirror_mode": {
    "name": "ipython",
    "version": 3
   },
   "file_extension": ".py",
   "mimetype": "text/x-python",
   "name": "python",
   "nbconvert_exporter": "python",
   "pygments_lexer": "ipython3",
   "version": "3.9.16"
  }
 },
 "nbformat": 4,
 "nbformat_minor": 5
}
