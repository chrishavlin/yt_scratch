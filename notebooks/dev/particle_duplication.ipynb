{
 "cells": [
  {
   "cell_type": "markdown",
   "id": "8841ffc8-12bf-4111-a039-eafecbb1755b",
   "metadata": {},
   "source": [
    "trying to reproduce particle duplication issue in https://github.com/yt-project/yt/issues/4565"
   ]
  },
  {
   "cell_type": "code",
   "execution_count": 1,
   "id": "60616f2c-e2d7-42b8-adcc-ff1325a5abe2",
   "metadata": {},
   "outputs": [
    {
     "name": "stderr",
     "output_type": "stream",
     "text": [
      "yt : [INFO     ] 2023-07-21 18:06:41,796 Parameters: current_time              = 0.0\n",
      "yt : [INFO     ] 2023-07-21 18:06:41,797 Parameters: domain_dimensions         = [1 1 1]\n",
      "yt : [INFO     ] 2023-07-21 18:06:41,797 Parameters: domain_left_edge          = [0. 0. 0.]\n",
      "yt : [INFO     ] 2023-07-21 18:06:41,798 Parameters: domain_right_edge         = [1. 1. 1.]\n",
      "yt : [INFO     ] 2023-07-21 18:06:41,798 Parameters: cosmological_simulation   = 0\n",
      "yt : [INFO     ] 2023-07-21 18:06:41,800 Allocating for 1e+06 particles\n"
     ]
    }
   ],
   "source": [
    "import yt\n",
    "import numpy as np\n",
    "\n",
    "n_particles = int(1e6)\n",
    "ppx, ppy, ppz = np.random.random(size=[3, n_particles])\n",
    "ppm = np.arange(0, n_particles)\n",
    "data = {\n",
    "    \"particle_position_x\": ppx,\n",
    "    \"particle_position_y\": ppy,\n",
    "    \"particle_position_z\": ppz,\n",
    "    \"particle_mass\": ppm,\n",
    "}\n",
    "\n",
    "\n",
    "ds = yt.load_particles(data)\n",
    "ad = ds.all_data()\n",
    "\n"
   ]
  },
  {
   "cell_type": "code",
   "execution_count": 2,
   "id": "1033fadf-fbb1-4e7f-a987-6fe7f8e0b5ee",
   "metadata": {},
   "outputs": [
    {
     "name": "stderr",
     "output_type": "stream",
     "text": [
      "yt : [INFO     ] 2023-07-21 18:06:44,207 Saving field data to yt dataset: ./test_save.h5.\n",
      "yt : [INFO     ] 2023-07-21 18:06:44,745 Parameters: current_time              = 0.0 code_time\n",
      "yt : [INFO     ] 2023-07-21 18:06:44,746 Parameters: domain_dimensions         = [1 1 1]\n",
      "yt : [INFO     ] 2023-07-21 18:06:44,747 Parameters: domain_left_edge          = [0. 0. 0.] code_length\n",
      "yt : [INFO     ] 2023-07-21 18:06:44,748 Parameters: domain_right_edge         = [1. 1. 1.] code_length\n",
      "yt : [INFO     ] 2023-07-21 18:06:44,748 Parameters: cosmological_simulation   = 0\n",
      "yt : [INFO     ] 2023-07-21 18:06:44,765 Allocating for 3e+06 particles\n",
      "Initializing coarse index : 100%|█████████████████████████████████████████████| 4/4 [00:00<00:00, 2735.12it/s]\n",
      "Initializing refined index: 100%|█████████████████████████████████████████████| 4/4 [00:00<00:00, 1414.84it/s]\n"
     ]
    },
    {
     "name": "stdout",
     "output_type": "stream",
     "text": [
      "4000000 False 4.0\n"
     ]
    }
   ],
   "source": [
    "\n",
    "fn= ad.save_as_dataset('./test_save', fields=ds.field_list)\n",
    "ds1 = yt.load(fn)\n",
    "ad1 = ds1.all_data()\n",
    "\n",
    "n_particles_out = ad1[('all', 'particle_mass')].shape[0]\n",
    "print(n_particles_out, n_particles_out == n_particles, n_particles_out / n_particles)"
   ]
  },
  {
   "cell_type": "code",
   "execution_count": 122,
   "id": "e219858a-1a6d-4414-833f-36198c364398",
   "metadata": {},
   "outputs": [
    {
     "name": "stderr",
     "output_type": "stream",
     "text": [
      "yt : [INFO     ] 2023-07-21 17:55:49,029 Parameters: current_time              = 0.0 code_time\n",
      "yt : [INFO     ] 2023-07-21 17:55:49,030 Parameters: domain_dimensions         = [1 1 1]\n",
      "yt : [INFO     ] 2023-07-21 17:55:49,031 Parameters: domain_left_edge          = [0. 0. 0.] code_length\n",
      "yt : [INFO     ] 2023-07-21 17:55:49,031 Parameters: domain_right_edge         = [1. 1. 1.] code_length\n",
      "yt : [INFO     ] 2023-07-21 17:55:49,032 Parameters: cosmological_simulation   = 0\n",
      "yt : [INFO     ] 2023-07-21 17:55:49,048 Allocating for 3e+06 particles\n",
      "Initializing coarse index : 100%|█████████████████████████████████████████████| 4/4 [00:00<00:00, 2461.45it/s]\n",
      "Initializing refined index: 100%|█████████████████████████████████████████████| 4/4 [00:00<00:00, 1718.45it/s]\n"
     ]
    },
    {
     "name": "stdout",
     "output_type": "stream",
     "text": [
      "4000000 False 4.0\n"
     ]
    }
   ],
   "source": [
    "ds1 = yt.load(fn)\n",
    "ad1 = ds1.all_data()\n",
    "\n",
    "n_particles_out = ad1[('all', 'particle_mass')].shape[0]\n",
    "print(n_particles_out, n_particles_out == n_particles, n_particles_out / n_particles)\n"
   ]
  },
  {
   "cell_type": "code",
   "execution_count": 130,
   "id": "01fbb22f-87de-485e-bda4-23db81758546",
   "metadata": {},
   "outputs": [
    {
     "data": {
      "text/plain": [
       "(1000000,)"
      ]
     },
     "execution_count": 130,
     "metadata": {},
     "output_type": "execute_result"
    }
   ],
   "source": [
    "np.unique(ad1[('all','particle_mass')]).shape"
   ]
  },
  {
   "cell_type": "code",
   "execution_count": 129,
   "id": "cd7c4ce1-a367-456b-b72f-452b7ca1fde8",
   "metadata": {},
   "outputs": [
    {
     "data": {
      "text/plain": [
       "(1000000,)"
      ]
     },
     "execution_count": 129,
     "metadata": {},
     "output_type": "execute_result"
    }
   ],
   "source": [
    "x_ = np.unique(x)\n",
    "x_.shape"
   ]
  },
  {
   "cell_type": "code",
   "execution_count": null,
   "id": "c91b7b12-d79c-4b5f-a3a9-3828e2b9928b",
   "metadata": {},
   "outputs": [],
   "source": [
    "np.un"
   ]
  }
 ],
 "metadata": {
  "kernelspec": {
   "display_name": "Python 3 (ipykernel)",
   "language": "python",
   "name": "python3"
  },
  "language_info": {
   "codemirror_mode": {
    "name": "ipython",
    "version": 3
   },
   "file_extension": ".py",
   "mimetype": "text/x-python",
   "name": "python",
   "nbconvert_exporter": "python",
   "pygments_lexer": "ipython3",
   "version": "3.9.10"
  }
 },
 "nbformat": 4,
 "nbformat_minor": 5
}
