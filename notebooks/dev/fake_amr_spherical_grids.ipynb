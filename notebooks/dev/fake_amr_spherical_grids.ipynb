{
 "cells": [
  {
   "cell_type": "code",
   "execution_count": 1,
   "id": "6fa5821a-a88f-44d8-9849-f4961559de1c",
   "metadata": {
    "tags": []
   },
   "outputs": [],
   "source": [
    "from yt.testing import fake_amr_ds"
   ]
  },
  {
   "cell_type": "code",
   "execution_count": 2,
   "id": "860d547d-87ce-4bc4-a60f-4ed899f7c468",
   "metadata": {
    "tags": []
   },
   "outputs": [
    {
     "name": "stderr",
     "output_type": "stream",
     "text": [
      "yt : [INFO     ] 2025-02-05 16:01:57,497 Parameters: current_time              = 0.0\n",
      "yt : [INFO     ] 2025-02-05 16:01:57,498 Parameters: domain_dimensions         = [32 32 32]\n",
      "yt : [INFO     ] 2025-02-05 16:01:57,498 Parameters: domain_left_edge          = [0. 0. 0.]\n",
      "yt : [INFO     ] 2025-02-05 16:01:57,499 Parameters: domain_right_edge         = [1.         3.14159265 6.28318531]\n",
      "yt : [INFO     ] 2025-02-05 16:01:57,499 Parameters: cosmological_simulation   = 0\n"
     ]
    }
   ],
   "source": [
    "ds = fake_amr_ds(geometry='spherical')"
   ]
  },
  {
   "cell_type": "code",
   "execution_count": 4,
   "id": "f26c56ce-7698-4883-81a9-35c40862b900",
   "metadata": {
    "tags": []
   },
   "outputs": [
    {
     "data": {
      "text/plain": [
       "40"
      ]
     },
     "execution_count": 4,
     "metadata": {},
     "output_type": "execute_result"
    }
   ],
   "source": [
    "len(ds.index.grids)"
   ]
  },
  {
   "cell_type": "code",
   "execution_count": 10,
   "id": "7b1eeda5-8671-4fb6-a01d-02f865216575",
   "metadata": {
    "tags": []
   },
   "outputs": [
    {
     "name": "stdout",
     "output_type": "stream",
     "text": [
      "0: [32 32 32]\n",
      "1: [16 18 16]\n",
      "2: [16 18 16]\n",
      "3: [18 16 16]\n",
      "4: [16 16 16]\n",
      "5: [16 16 16]\n",
      "6: [16 16 16]\n",
      "7: [16 16 16]\n",
      "8: [16 16 16]\n",
      "9: [28 28 28]\n",
      "10: [42 40 46]\n",
      "11: [50 52 52]\n",
      "12: [28 30 28]\n",
      "13: [42 44 42]\n",
      "14: [48 50 50]\n",
      "15: [28 28 28]\n",
      "16: [44 42 42]\n",
      "17: [52 48 50]\n",
      "18: [28 28 28]\n",
      "19: [42 42 44]\n",
      "20: [6 6 6]\n",
      "21: [48 48 50]\n",
      "22: [28 28 28]\n",
      "23: [46 50 42]\n",
      "24: [48 52 50]\n",
      "25: [30 28 28]\n",
      "26: [42 40 44]\n",
      "27: [50 54 48]\n",
      "28: [28 30 28]\n",
      "29: [42 46 44]\n",
      "30: [24 52 48]\n",
      "31: [ 8 10 28]\n",
      "32: [ 4 14 10]\n",
      "33: [32 32 32]\n",
      "34: [10  4 10]\n",
      "35: [12  6 10]\n",
      "36: [6 6 2]\n",
      "37: [30 28 28]\n",
      "38: [44 42 44]\n",
      "39: [44 48 48]\n"
     ]
    }
   ],
   "source": [
    "for gid, grid in enumerate(ds.index.grids):\n",
    "    print(f\"{gid}: {grid.shape}\")"
   ]
  },
  {
   "cell_type": "code",
   "execution_count": 11,
   "id": "4e5a4119-4eda-4f7e-a2bc-32d78f71ee9d",
   "metadata": {
    "tags": []
   },
   "outputs": [],
   "source": [
    "ad = ds.all_data()"
   ]
  },
  {
   "cell_type": "code",
   "execution_count": 16,
   "id": "0f6551e4-71ab-4a75-9f63-cc7ff26ed6f3",
   "metadata": {
    "tags": []
   },
   "outputs": [],
   "source": [
    "ad.tiles.set_fields([('stream', 'Density'),], [False], no_ghost=True)"
   ]
  },
  {
   "cell_type": "code",
   "execution_count": 38,
   "id": "27731186-38e3-42f4-8f61-8309ebfeb59b",
   "metadata": {
    "tags": []
   },
   "outputs": [
    {
     "name": "stderr",
     "output_type": "stream",
     "text": [
      "yt : [INFO     ] 2025-02-05 16:20:21,996 Parameters: current_time              = 0.0\n",
      "yt : [INFO     ] 2025-02-05 16:20:21,996 Parameters: domain_dimensions         = [32 32 32]\n",
      "yt : [INFO     ] 2025-02-05 16:20:21,997 Parameters: domain_left_edge          = [0. 0. 0.]\n",
      "yt : [INFO     ] 2025-02-05 16:20:21,997 Parameters: domain_right_edge         = [1.         3.14159265 6.28318531]\n",
      "yt : [INFO     ] 2025-02-05 16:20:21,997 Parameters: cosmological_simulation   = 0\n"
     ]
    },
    {
     "name": "stdout",
     "output_type": "stream",
     "text": [
      "\n",
      "BAD BLOCK\n",
      "(4, 0, 16) 54 5897647408\n",
      "(5, 1, 17)\n",
      "\n",
      "BAD BLOCK\n",
      "(2, 0, 5) 66 5897648752\n",
      "(3, 1, 6)\n",
      "\n",
      "BAD BLOCK\n",
      "(4, 0, 32) 67 5897648864\n",
      "(5, 1, 33)\n",
      "\n",
      "BAD BLOCK\n",
      "(3, 0, 28) 86 5879301056\n",
      "(4, 1, 29)\n",
      "\n",
      "BAD BLOCK\n",
      "(6, 0, 32) 87 5879301168\n",
      "(7, 1, 33)\n"
     ]
    }
   ],
   "source": [
    "import numpy as np \n",
    "from yt.testing import fake_amr_ds\n",
    "\n",
    "ds = fake_amr_ds(geometry='spherical')\n",
    "\n",
    "bad_blocks = []\n",
    "for i, block in enumerate(ad.tiles.traverse()):\n",
    "    bsrc_msk = block.source_mask.shape\n",
    "    if np.any(np.array(bsrc_msk)==0):\n",
    "        print(\"\\nBAD BLOCK\")\n",
    "        print(bsrc_msk, i, id(block))\n",
    "        print(block.my_data[0].shape)\n",
    "        bad_blocks.append((i, block))"
   ]
  },
  {
   "cell_type": "code",
   "execution_count": 41,
   "id": "c547d295-4bab-4fb9-abed-e94b566dc285",
   "metadata": {
    "tags": []
   },
   "outputs": [],
   "source": [
    "pg = bad_blocks[0][1]"
   ]
  },
  {
   "cell_type": "code",
   "execution_count": 45,
   "id": "539196aa-dcce-45d7-b2b4-4bbbba5c11ec",
   "metadata": {
    "tags": []
   },
   "outputs": [
    {
     "data": {
      "text/plain": [
       "(5, 1, 17)"
      ]
     },
     "execution_count": 45,
     "metadata": {},
     "output_type": "execute_result"
    }
   ],
   "source": [
    "pg.my_data[0].shape"
   ]
  },
  {
   "cell_type": "code",
   "execution_count": 37,
   "id": "91f45918-8000-4056-abb8-7f69f33079a9",
   "metadata": {
    "tags": []
   },
   "outputs": [
    {
     "data": {
      "text/plain": [
       "172"
      ]
     },
     "execution_count": 37,
     "metadata": {},
     "output_type": "execute_result"
    }
   ],
   "source": [
    "len(block_list)"
   ]
  },
  {
   "cell_type": "code",
   "execution_count": 46,
   "id": "0b5db2ad-fbcd-43af-9cb6-87cd13a4134f",
   "metadata": {
    "tags": []
   },
   "outputs": [
    {
     "data": {
      "text/plain": [
       "<yt.utilities.amr_kdtree.amr_kdtree.AMRKDTree at 0x15f2eead0>"
      ]
     },
     "execution_count": 46,
     "metadata": {},
     "output_type": "execute_result"
    }
   ],
   "source": [
    "ad.tiles"
   ]
  },
  {
   "cell_type": "code",
   "execution_count": null,
   "id": "d661d96b-b4c8-441b-a28f-92d7c96f099a",
   "metadata": {},
   "outputs": [],
   "source": []
  }
 ],
 "metadata": {
  "kernelspec": {
   "display_name": "Python 3 (ipykernel)",
   "language": "python",
   "name": "python3"
  },
  "language_info": {
   "codemirror_mode": {
    "name": "ipython",
    "version": 3
   },
   "file_extension": ".py",
   "mimetype": "text/x-python",
   "name": "python",
   "nbconvert_exporter": "python",
   "pygments_lexer": "ipython3",
   "version": "3.10.11"
  }
 },
 "nbformat": 4,
 "nbformat_minor": 5
}
