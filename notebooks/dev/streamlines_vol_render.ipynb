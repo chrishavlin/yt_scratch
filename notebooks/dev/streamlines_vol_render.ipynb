{
 "cells": [
  {
   "cell_type": "code",
   "execution_count": 1,
   "id": "b6fb0edf-e408-4e46-94ff-d76119dfc5c0",
   "metadata": {},
   "outputs": [
    {
     "name": "stderr",
     "output_type": "stream",
     "text": [
      "yt : [INFO     ] 2023-11-06 11:28:14,900 Parameters: current_time              = 0.0060000200028298\n",
      "yt : [INFO     ] 2023-11-06 11:28:14,900 Parameters: domain_dimensions         = [32 32 32]\n",
      "yt : [INFO     ] 2023-11-06 11:28:14,901 Parameters: domain_left_edge          = [0. 0. 0.]\n",
      "yt : [INFO     ] 2023-11-06 11:28:14,901 Parameters: domain_right_edge         = [1. 1. 1.]\n",
      "yt : [INFO     ] 2023-11-06 11:28:14,902 Parameters: cosmological_simulation   = 0\n",
      "Parsing Hierarchy : 100%|██████████████████| 173/173 [00:00<00:00, 23194.43it/s]\n",
      "yt : [INFO     ] 2023-11-06 11:28:14,922 Gathering a field list (this may take a moment.)\n",
      "yt : [INFO     ] 2023-11-06 11:29:12,428 AMRKDTree rebuilt, Final Volume: 1.000000e+00\n"
     ]
    }
   ],
   "source": [
    "import yt\n",
    "from yt.units import Mpc\n",
    "from yt.visualization.api import Streamlines\n",
    "from yt.visualization.volume_rendering.api import LineSource\n",
    "import numpy as np \n",
    "\n",
    "# Load the dataset\n",
    "ds = yt.load(\"IsolatedGalaxy/galaxy0030/galaxy0030\")\n",
    "\n",
    "# Define c: the center of the box, N: the number of streamlines,\n",
    "# scale: the spatial scale of the streamlines relative to the boxsize,\n",
    "# and then pos: the random positions of the streamlines.\n",
    "c = ds.domain_center\n",
    "N = 10\n",
    "scale = ds.domain_width[0]\n",
    "pos_dx = np.random.random((N, 3)) * scale - scale / 2.0\n",
    "pos = c + pos_dx\n",
    "\n",
    "# Create streamlines of the 3D vector velocity and integrate them through\n",
    "# the box defined above\n",
    "streamlines = Streamlines(\n",
    "    ds,\n",
    "    pos,\n",
    "    (\"gas\", \"velocity_x\"),\n",
    "    (\"gas\", \"velocity_y\"),\n",
    "    (\"gas\", \"velocity_z\"),\n",
    "    length=1.0 * Mpc,\n",
    "    get_magnitude=True,\n",
    ")\n",
    "streamlines.integrate_through_volume()\n",
    "\n",
    "###############################################################################\n",
    "# Coercing streamlines for creating LineSource objects\n",
    "#\n",
    "# LineSource expects expects line segments... this is not memory efficient, but \n",
    "# we'll explode each streamline into a series of line segments. The\n",
    "# following function takes the positions of a single streamline and resamples\n",
    "# and reshapes to turn an array of line segments.\n",
    "\n",
    "def segment_single_streamline(pos_i):\n",
    "    index_range = np.arange(0, pos_i.shape[0])\n",
    "    line_indices = np.column_stack([index_range, index_range]).ravel()[1:-1]\n",
    "\n",
    "    line_segments = pos_i[line_indices, :]\n",
    "    n_line_segments = int(line_segments.size/6)\n",
    "    return line_segments.reshape((n_line_segments, 2, 3))\n",
    "\n",
    "# for example\n",
    "pos = streamlines.streamlines\n",
    "line_segments = segment_single_streamline(pos[0])\n",
    "print(line_segments.shape)\n",
    "\n",
    "# note the starting point of second position is the end point of first position\n",
    "print(line_segments[0])\n",
    "print(line_segments[1])\n",
    "\n",
    "sc = yt.create_scene(ds)\n",
    "\n",
    "# for each streamline, expand into line segments and\n",
    "# add a LineSource\n",
    "for sid in range(streamlines.streamlines.shape[0]):        \n",
    "    line_segments = segment_single_streamline(pos[sid])    \n",
    "    colors = np.ones([line_segments.shape[0], 4])\n",
    "    # drop opacity -- need to fiddle with this depending on \n",
    "    # volume rendering \n",
    "    colors[:, -1] = 0.01\n",
    "    lines = LineSource(line_segments, colors)    \n",
    "    sc.add_source(lines)\n",
    "\n",
    "sc.save(sigma_clip=4.0)\n"
   ]
  },
  {
   "cell_type": "code",
   "execution_count": 2,
   "id": "b80d686b-50b6-4094-abf2-3185570229de",
   "metadata": {},
   "outputs": [
    {
     "name": "stderr",
     "output_type": "stream",
     "text": [
      "Streamlining: 100%|█████████████████████████████| 10/10 [00:02<00:00,  4.91it/s]\n"
     ]
    }
   ],
   "source": []
  },
  {
   "cell_type": "code",
   "execution_count": 10,
   "id": "e5014c7b-a409-42e7-9b51-db6cdb333ce1",
   "metadata": {},
   "outputs": [
    {
     "name": "stderr",
     "output_type": "stream",
     "text": [
      "yt : [INFO     ] 2023-11-06 11:32:33,329 Setting default field to ('gas', 'density')\n",
      "yt : [WARNING  ] 2023-11-06 11:32:33,345 No previously rendered image found, rendering now.\n",
      "yt : [INFO     ] 2023-11-06 11:32:33,346 Rendering scene (Can take a while).\n",
      "yt : [INFO     ] 2023-11-06 11:32:33,380 Creating volume\n"
     ]
    },
    {
     "name": "stdout",
     "output_type": "stream",
     "text": [
      "(8191, 2, 3)\n",
      "[[0.68724773 0.18647061 0.78763723]\n",
      " [0.6872004  0.18655274 0.78756033]] code_length\n",
      "[[0.6872004  0.18655274 0.78756033]\n",
      " [0.68715308 0.18663487 0.78748344]] code_length\n"
     ]
    },
    {
     "name": "stderr",
     "output_type": "stream",
     "text": [
      "yt : [INFO     ] 2023-11-06 11:32:35,129 Creating transfer function\n",
      "yt : [INFO     ] 2023-11-06 11:32:35,129 Calculating data bounds. This may take a while. Set the TransferFunctionHelper.bounds to avoid this.\n",
      "yt : [INFO     ] 2023-11-06 11:32:36,120 Saving rendered image to galaxy0030_Render_density.png\n"
     ]
    }
   ],
   "source": []
  },
  {
   "cell_type": "code",
   "execution_count": null,
   "id": "7a35551d-7c13-4bf9-af2a-c4a08ffa3286",
   "metadata": {},
   "outputs": [],
   "source": []
  }
 ],
 "metadata": {
  "kernelspec": {
   "display_name": "Python 3 (ipykernel)",
   "language": "python",
   "name": "python3"
  },
  "language_info": {
   "codemirror_mode": {
    "name": "ipython",
    "version": 3
   },
   "file_extension": ".py",
   "mimetype": "text/x-python",
   "name": "python",
   "nbconvert_exporter": "python",
   "pygments_lexer": "ipython3",
   "version": "3.9.10"
  }
 },
 "nbformat": 4,
 "nbformat_minor": 5
}
