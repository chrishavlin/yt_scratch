{
 "cells": [
  {
   "cell_type": "markdown",
   "id": "8e376b7f-3146-4748-912a-69fc43a61965",
   "metadata": {},
   "source": [
    "checking out the mesh samplers... using https://github.com/yt-project/yt/pull/4398 to sample multiple points at once\n",
    "\n",
    "### 3D, linear, hexahedral mesh element\n",
    "\n",
    "8 nodes, check check yt/utilities/mesh_types.yaml for node ordering for vert ordering \n",
    "\n",
    "signature for `sample_at_real_points`: \n",
    "\n",
    "returns sample values array:\n",
    "```python\n",
    " def sample_at_real_points(self,\n",
    "                               np.float64_t[:,::1] vertices,\n",
    "                               np.float64_t[::1] field_values,\n",
    "                               np.float64_t[:,::1] positions):\n",
    "```\n"
   ]
  },
  {
   "cell_type": "code",
   "execution_count": 1,
   "id": "bb8cef48-020f-4cfe-b55a-3ffff4fb0a92",
   "metadata": {},
   "outputs": [],
   "source": [
    "#  3D, linear, hexahedral mesh element has 8 nodes \n",
    "import numpy as np\n",
    "from yt.utilities.lib.element_mappings import Q1Sampler3D, Q1Sampler2D\n",
    "import matplotlib.pyplot as plt \n",
    "\n",
    "hex_sampler = Q1Sampler3D() \n",
    "\n",
    "\n",
    "verts = [[0., 0., 0.], \n",
    "         [1., 0., 0.], \n",
    "         [1., 1., 0.], \n",
    "         [0., 1., 0.],\n",
    "         [0., 0., 1.], \n",
    "         [1., 0., 1.], \n",
    "         [1., 1., 1.], \n",
    "         [0., 1., 1.]]\n",
    "verts = np.array(verts)\n",
    "\n",
    "field_vals = np.random.random((8,))\n",
    "\n",
    "positions_to_sample = verts.copy() # should return exact\n",
    "\n",
    "\n",
    "sampled_values = hex_sampler.sample_at_real_points(verts, field_vals, positions_to_sample)\n",
    "assert(np.allclose(sampled_values, field_vals))\n",
    "\n",
    "\n",
    "# set field values to vary from one side to the other \n",
    "field_vals = np.full((8,), 5.) * (verts[:,2] == 1)\n",
    "\n",
    "# sample along z, should vary linearly from 0 to 5.\n",
    "nsamples = 100\n",
    "y_samples = np.full((nsamples,), 0.5)\n",
    "x_samples = np.full((nsamples,), 0.5)\n",
    "z_samples = np.linspace(0,1,nsamples)\n",
    "\n",
    "positions_to_sample = np.column_stack([x_samples, y_samples, z_samples])\n",
    "positions_to_sample.shape\n",
    "sampled_values = hex_sampler.sample_at_real_points(verts, field_vals, positions_to_sample)\n",
    "assert(np.allclose(sampled_values, z_samples * 5.0))\n"
   ]
  },
  {
   "cell_type": "markdown",
   "id": "130bd9f4-cc16-4b5b-84df-1376755772d9",
   "metadata": {},
   "source": [
    "### plot within the element"
   ]
  },
  {
   "cell_type": "code",
   "execution_count": 2,
   "id": "36bf36bb-e526-4f14-9bbc-094ec01ee5ae",
   "metadata": {},
   "outputs": [],
   "source": [
    "\n",
    "x0 = np.linspace(0,1,20)\n",
    "y0 = np.linspace(0,1,25)\n",
    "z0 = np.full((10,),0.5)\n",
    "xg, yg, zg = np.meshgrid(x0, y0, z0, indexing='ij')\n",
    "positions_to_sample = np.column_stack([xg.ravel(), yg.ravel(), zg.ravel()])\n",
    "\n",
    "field_vals = np.random.random((8,))\n",
    "sampled_values = hex_sampler.sample_at_real_points(verts, field_vals, positions_to_sample)\n",
    "sampled_values = sampled_values.reshape(xg.shape)"
   ]
  },
  {
   "cell_type": "code",
   "execution_count": 3,
   "id": "9345e69b-6500-48b0-916e-920803408a76",
   "metadata": {},
   "outputs": [
    {
     "data": {
      "text/plain": [
       "<matplotlib.colorbar.Colorbar at 0x12fda3670>"
      ]
     },
     "execution_count": 3,
     "metadata": {},
     "output_type": "execute_result"
    },
    {
     "data": {
      "image/png": "[encoded data removed]",
      "text/plain": [
       "<Figure size 640x480 with 2 Axes>"
      ]
     },
     "metadata": {},
     "output_type": "display_data"
    }
   ],
   "source": [
    "import matplotlib.pyplot as plt \n",
    "\n",
    "plt.contourf(y0, x0, sampled_values[:,:,0])\n",
    "plt.colorbar()"
   ]
  },
  {
   "cell_type": "code",
   "execution_count": 4,
   "id": "c6b1fa36-8186-4611-b9fe-69c0b7fc8205",
   "metadata": {},
   "outputs": [
    {
     "data": {
      "text/plain": [
       "array([[-1., -1.,  0.],\n",
       "       [-1., -1.,  0.],\n",
       "       [-1., -1.,  0.],\n",
       "       ...,\n",
       "       [ 1.,  1.,  0.],\n",
       "       [ 1.,  1.,  0.],\n",
       "       [ 1.,  1.,  0.]])"
      ]
     },
     "execution_count": 4,
     "metadata": {},
     "output_type": "execute_result"
    }
   ],
   "source": [
    "# element coordinate system goes -1, to 1 in all: \n",
    "\n",
    "units = hex_sampler.map_reals_to_unit(verts, positions_to_sample)\n",
    "units"
   ]
  },
  {
   "cell_type": "code",
   "execution_count": 5,
   "id": "343b22c6-2313-4dc9-9d1f-a080172cc028",
   "metadata": {},
   "outputs": [
    {
     "data": {
      "text/plain": [
       "(5000, 3)"
      ]
     },
     "execution_count": 5,
     "metadata": {},
     "output_type": "execute_result"
    }
   ],
   "source": [
    "units.shape"
   ]
  },
  {
   "cell_type": "markdown",
   "id": "17d2bb5c-4a55-4f91-9839-84551c5a6ad9",
   "metadata": {},
   "source": [
    "### use the unit position to mask samples outside element"
   ]
  },
  {
   "cell_type": "code",
   "execution_count": 6,
   "id": "140a5e58-4256-444a-9c06-273493b2b961",
   "metadata": {},
   "outputs": [
    {
     "data": {
      "text/plain": [
       "(2750,)"
      ]
     },
     "execution_count": 6,
     "metadata": {},
     "output_type": "execute_result"
    }
   ],
   "source": [
    "# pick some points outside the verts\n",
    "x0 = np.linspace(-1,2,10)\n",
    "y0 = np.linspace(-2,4,25)\n",
    "z0 = np.full((11,),0.5)\n",
    "xg, yg, zg = np.meshgrid(x0, y0, z0, indexing='ij')\n",
    "positions_to_sample = np.column_stack([xg.ravel(), yg.ravel(), zg.ravel()])\n",
    "\n",
    "\n",
    "unit_poss = hex_sampler.map_reals_to_unit(verts, positions_to_sample)\n",
    "\n",
    "pos_mask = (unit_poss >= -1.) & (unit_poss <=1.)\n",
    "pos_mask = np.all(pos_mask, axis=1)\n",
    "pos_mask.shape"
   ]
  },
  {
   "cell_type": "code",
   "execution_count": 7,
   "id": "94b2a977-7f82-49ff-9c1e-e2fecd35138d",
   "metadata": {},
   "outputs": [
    {
     "data": {
      "text/plain": [
       "220"
      ]
     },
     "execution_count": 7,
     "metadata": {},
     "output_type": "execute_result"
    }
   ],
   "source": [
    "pos_mask.sum()"
   ]
  },
  {
   "cell_type": "code",
   "execution_count": 8,
   "id": "941f86de-a4e4-45ed-96d1-386184e80a82",
   "metadata": {},
   "outputs": [],
   "source": [
    "samples = hex_sampler.sample_at_real_points(verts, field_vals, positions_to_sample)\n",
    "samples[~pos_mask] = np.nan\n",
    "samples = samples.reshape(xg.shape)"
   ]
  },
  {
   "cell_type": "code",
   "execution_count": 9,
   "id": "b29449ee-72f6-4bf7-af44-024fe86c0458",
   "metadata": {},
   "outputs": [
    {
     "data": {
      "text/plain": [
       "(10, 25, 11)"
      ]
     },
     "execution_count": 9,
     "metadata": {},
     "output_type": "execute_result"
    }
   ],
   "source": [
    "samples.shape"
   ]
  },
  {
   "cell_type": "code",
   "execution_count": 10,
   "id": "aeb58a6c-54e5-4bb9-a308-7a374c239fb9",
   "metadata": {},
   "outputs": [
    {
     "data": {
      "text/plain": [
       "(10, 25)"
      ]
     },
     "execution_count": 10,
     "metadata": {},
     "output_type": "execute_result"
    }
   ],
   "source": [
    "slc = samples[:,:,0]\n",
    "slc.shape"
   ]
  },
  {
   "cell_type": "code",
   "execution_count": 11,
   "id": "4fb04a89-7d6e-4ae4-9c39-4c02432935ef",
   "metadata": {},
   "outputs": [
    {
     "data": {
      "text/plain": [
       "<matplotlib.colorbar.Colorbar at 0x15a8bf070>"
      ]
     },
     "execution_count": 11,
     "metadata": {},
     "output_type": "execute_result"
    },
    {
     "data": {
      "image/png": "[encoded data removed]",
      "text/plain": [
       "<Figure size 640x480 with 2 Axes>"
      ]
     },
     "metadata": {},
     "output_type": "display_data"
    }
   ],
   "source": [
    "import matplotlib.pyplot as plt \n",
    "\n",
    "plt.contourf(y0, x0, samples[:,:,0])\n",
    "plt.colorbar()"
   ]
  },
  {
   "cell_type": "code",
   "execution_count": null,
   "id": "cc12de8b-9045-4c3c-908f-e673c8f147f6",
   "metadata": {},
   "outputs": [],
   "source": []
  },
  {
   "cell_type": "markdown",
   "id": "70c4d1e7-b793-4ed0-8f93-df0ec3b8025d",
   "metadata": {},
   "source": [
    "## linear 2d triangular element \n"
   ]
  },
  {
   "cell_type": "code",
   "execution_count": 17,
   "id": "bd8c2fa8-4bbd-4f2d-bc9d-b507a19f1c88",
   "metadata": {},
   "outputs": [],
   "source": [
    "from yt.utilities.lib.element_mappings import P1Sampler2D"
   ]
  },
  {
   "cell_type": "code",
   "execution_count": 21,
   "id": "ac97087a-b2ac-4d3b-81a8-fb3fcd3e28f9",
   "metadata": {},
   "outputs": [],
   "source": [
    "tri_sampler = P1Sampler2D()"
   ]
  },
  {
   "cell_type": "code",
   "execution_count": 48,
   "id": "5b33f25a-89c2-480d-97ae-91ca8370c1f9",
   "metadata": {},
   "outputs": [],
   "source": [
    "verts = [[0., 0.], \n",
    "         [1., 0.], \n",
    "         [0.5, 1.]]\n",
    "verts = np.array(verts)\n",
    "\n",
    "field_vals = np.random.random((3,))\n",
    "\n",
    "x0 = np.linspace(0,1,99)\n",
    "y0 = np.linspace(0,1,100)\n",
    "xg, yg = np.meshgrid(x0, y0, indexing='ij')\n",
    "\n",
    "positions_to_sample = np.column_stack([xg.ravel(), yg.ravel()])\n",
    "\n",
    "unit_pos = tri_sampler.map_reals_to_unit(verts, positions_to_sample)"
   ]
  },
  {
   "cell_type": "markdown",
   "id": "97bf50f5-6177-42d9-8c72-e17a71539e5a",
   "metadata": {},
   "source": [
    "barycentric coords go from 0 to 1 along each dim"
   ]
  },
  {
   "cell_type": "code",
   "execution_count": 49,
   "id": "1c509805-c180-471b-b1ba-1625ef94a9f7",
   "metadata": {},
   "outputs": [],
   "source": [
    "pos_mask = (unit_pos >= 0) & (unit_pos <= 1)\n",
    "pos_mask = np.all(pos_mask, axis=1)"
   ]
  },
  {
   "cell_type": "code",
   "execution_count": 50,
   "id": "dea11e33-fd25-43af-99a9-ad64af690a97",
   "metadata": {},
   "outputs": [],
   "source": [
    "samples = tri_sampler.sample_at_real_points(verts, field_vals, positions_to_sample)\n",
    "samples[~pos_mask] = np.nan \n",
    "samples = samples.reshape(xg.shape)"
   ]
  },
  {
   "cell_type": "code",
   "execution_count": 51,
   "id": "80ec757e-7181-4e6f-bd0d-828da066f253",
   "metadata": {},
   "outputs": [
    {
     "data": {
      "text/plain": [
       "<matplotlib.contour.QuadContourSet at 0x15cf81960>"
      ]
     },
     "execution_count": 51,
     "metadata": {},
     "output_type": "execute_result"
    },
    {
     "data": {
      "image/png": "[encoded data removed]",
      "text/plain": [
       "<Figure size 640x480 with 1 Axes>"
      ]
     },
     "metadata": {},
     "output_type": "display_data"
    }
   ],
   "source": [
    "plt.contourf(y0, x0, samples)"
   ]
  },
  {
   "cell_type": "markdown",
   "id": "ba3ec462-b0d0-4277-a9e7-19dc900b529e",
   "metadata": {},
   "source": [
    "## 2D Quad (broken?)"
   ]
  },
  {
   "cell_type": "code",
   "execution_count": 52,
   "id": "2ed9b46b-1538-4e88-beed-26104ae96a4c",
   "metadata": {},
   "outputs": [
    {
     "data": {
      "text/plain": [
       "100"
      ]
     },
     "execution_count": 52,
     "metadata": {},
     "output_type": "execute_result"
    }
   ],
   "source": [
    "import numpy as np\n",
    "from yt.utilities.lib.element_mappings import Q1Sampler2D\n",
    "\n",
    "\n",
    "quad_sampler = Q1Sampler2D()\n",
    "\n",
    "# filling a non-uniform quad\n",
    "verts = [[0., 0.,], \n",
    "         [1., 0.,], \n",
    "         [0., 1.,], \n",
    "         [1., 1.,]]\n",
    "verts = np.array(verts)\n",
    "\n",
    "field_vals = np.random.random((4,))\n",
    "\n",
    "nsamples = 10\n",
    "x0 = np.full((nsamples,), 0.5)\n",
    "y0 = np.linspace(0,1,nsamples)\n",
    "xg, yg = np.meshgrid(x0, y0, indexing='ij')\n",
    "\n",
    "positions_to_sample = np.column_stack([xg.ravel(), yg.ravel()])\n",
    "\n",
    "sampled_vals = quad_sampler.sample_at_real_points(verts, field_vals, positions_to_sample)\n",
    "np.isnan(sampled_vals).sum()"
   ]
  },
  {
   "cell_type": "code",
   "execution_count": 53,
   "id": "b160ec1f-c474-47e0-9df6-c3205e9b1ea8",
   "metadata": {},
   "outputs": [
    {
     "data": {
      "text/plain": [
       "200"
      ]
     },
     "execution_count": 53,
     "metadata": {},
     "output_type": "execute_result"
    }
   ],
   "source": [
    "np.isnan(quad_sampler.map_reals_to_unit(verts, positions_to_sample)).sum()"
   ]
  },
  {
   "cell_type": "code",
   "execution_count": null,
   "id": "8f290e54-fc9f-44ae-9f6b-f88b694c22fa",
   "metadata": {},
   "outputs": [],
   "source": []
  },
  {
   "cell_type": "markdown",
   "id": "cde933e9-10be-4330-97c4-c5089fd75b58",
   "metadata": {},
   "source": [
    "hmm.... maybe we need the 3rd dim?"
   ]
  },
  {
   "cell_type": "code",
   "execution_count": 32,
   "id": "1ee79249-07b1-4df9-a60b-052bb8ea965e",
   "metadata": {},
   "outputs": [
    {
     "data": {
      "text/plain": [
       "1000"
      ]
     },
     "execution_count": 32,
     "metadata": {},
     "output_type": "execute_result"
    }
   ],
   "source": [
    "\n",
    "# filling a non-uniform quad\n",
    "verts = [[0., 0., 0. ], \n",
    "         [1., 0., 0.], \n",
    "         [0., 1., 0.], \n",
    "         [1., 1., 0.]]\n",
    "verts = np.array(verts)\n",
    "\n",
    "field_vals = np.random.random((4,))\n",
    "\n",
    "nsamples = 10\n",
    "x_samples = np.full((nsamples,), 0.5)\n",
    "y_samples = np.linspace(0,1,nsamples)\n",
    "z_samples = np.zeros((nsamples,))\n",
    "\n",
    "x0 = np.full((nsamples,), 0.5)\n",
    "y0 = np.linspace(0,1,nsamples)\n",
    "z0 = np.zeros((nsamples,))\n",
    "xg, yg, zg = np.meshgrid(x0, y0, z0, indexing='ij')\n",
    "\n",
    "positions_to_sample = np.column_stack([xg.ravel(), yg.ravel(), zg.ravel()])\n",
    "\n",
    "np.sum(np.isnan(quad_sampler.sample_at_real_points(verts, field_vals, positions_to_sample)))"
   ]
  },
  {
   "cell_type": "code",
   "execution_count": 33,
   "id": "a2bf8502-a06a-4ca1-8040-8fb933e00abb",
   "metadata": {},
   "outputs": [
    {
     "data": {
      "text/plain": [
       "array([[            nan,             nan, 2.12935646e-314],\n",
       "       [            nan,             nan, 2.12935646e-314],\n",
       "       [            nan,             nan, 2.12935646e-314],\n",
       "       ...,\n",
       "       [            nan,             nan, 2.12935646e-314],\n",
       "       [            nan,             nan, 2.12935646e-314],\n",
       "       [            nan,             nan, 2.12935646e-314]])"
      ]
     },
     "execution_count": 33,
     "metadata": {},
     "output_type": "execute_result"
    }
   ],
   "source": [
    "quad_sampler.map_reals_to_unit(verts, positions_to_sample)"
   ]
  },
  {
   "cell_type": "markdown",
   "id": "a54c26af-78c5-4198-b48a-a9738966ffc3",
   "metadata": {},
   "source": []
  },
  {
   "cell_type": "markdown",
   "id": "719a4b03-d63a-4275-8d10-5972326dc424",
   "metadata": {},
   "source": [
    "maybe i'm using it wrong... maybe it's an issue with the nonlinear solvers?"
   ]
  }
 ],
 "metadata": {
  "kernelspec": {
   "display_name": "Python 3 (ipykernel)",
   "language": "python",
   "name": "python3"
  },
  "language_info": {
   "codemirror_mode": {
    "name": "ipython",
    "version": 3
   },
   "file_extension": ".py",
   "mimetype": "text/x-python",
   "name": "python",
   "nbconvert_exporter": "python",
   "pygments_lexer": "ipython3",
   "version": "3.10.11"
  }
 },
 "nbformat": 4,
 "nbformat_minor": 5
}
