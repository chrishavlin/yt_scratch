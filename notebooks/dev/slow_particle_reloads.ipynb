{
 "cells": [
  {
   "cell_type": "code",
   "execution_count": 1,
   "id": "cd554064-a4b5-4810-874b-5712dba22dfd",
   "metadata": {},
   "outputs": [],
   "source": []
  },
  {
   "cell_type": "code",
   "execution_count": 9,
   "id": "21608e43-e9ba-4c50-b33a-d9e0a31192c7",
   "metadata": {},
   "outputs": [
    {
     "name": "stderr",
     "output_type": "stream",
     "text": [
      "yt : [INFO     ] 2023-07-17 16:50:58,615 Parameters: current_time              = 0.0\n",
      "yt : [INFO     ] 2023-07-17 16:50:58,616 Parameters: domain_dimensions         = [1 1 1]\n",
      "yt : [INFO     ] 2023-07-17 16:50:58,616 Parameters: domain_left_edge          = [0. 0. 0.]\n",
      "yt : [INFO     ] 2023-07-17 16:50:58,617 Parameters: domain_right_edge         = [1. 1. 1.]\n",
      "yt : [INFO     ] 2023-07-17 16:50:58,617 Parameters: cosmological_simulation   = 0\n",
      "yt : [INFO     ] 2023-07-17 16:50:58,619 Allocating for 1e+07 particles\n",
      "yt : [INFO     ] 2023-07-17 16:51:02,842 Saving field data to yt dataset: test_data_10000000.h5.\n",
      "yt : [INFO     ] 2023-07-17 16:51:05,421 Parameters: current_time              = 0.0 code_time\n",
      "yt : [INFO     ] 2023-07-17 16:51:05,422 Parameters: domain_dimensions         = [1 1 1]\n",
      "yt : [INFO     ] 2023-07-17 16:51:05,422 Parameters: domain_left_edge          = [0. 0. 0.] code_length\n",
      "yt : [INFO     ] 2023-07-17 16:51:05,423 Parameters: domain_right_edge         = [1. 1. 1.] code_length\n",
      "yt : [INFO     ] 2023-07-17 16:51:05,423 Parameters: cosmological_simulation   = 0\n",
      "yt : [INFO     ] 2023-07-17 16:51:05,522 Allocating for 3e+07 particles\n",
      "Initializing coarse index : 100%|█████████████| 39/39 [00:00<00:00, 3852.61it/s]\n",
      "Initializing refined index: 100%|█████████████| 39/39 [00:00<00:00, 3597.81it/s]\n"
     ]
    },
    {
     "data": {
      "text/plain": [
       "<yt.geometry.particle_geometry_handler.ParticleIndex at 0x7fdb441975b0>"
      ]
     },
     "execution_count": 9,
     "metadata": {},
     "output_type": "execute_result"
    }
   ],
   "source": [
    "import yt\n",
    "from yt.testing import fake_particle_ds\n",
    "\n",
    "def create_tst_data_on_disk(nparticles):\n",
    "    nparticles = int(nparticles)\n",
    "    ds = fake_particle_ds(npart=nparticles)\n",
    "    ad = ds.all_data()\n",
    "    fn = f\"test_data_{nparticles}\"\n",
    "    ad.save_as_dataset(fn, fields = ds.field_list)\n",
    "    return fn + \".h5\"\n",
    "\n",
    "fn = create_tst_data_on_disk(1e7)\n",
    "ds = yt.load(fn)\n",
    "ds.field_list\n",
    "ds.index"
   ]
  },
  {
   "cell_type": "code",
   "execution_count": 4,
   "id": "8e2210ba-70a0-4a03-a278-4b0f6bf0ee13",
   "metadata": {},
   "outputs": [
    {
     "name": "stdout",
     "output_type": "stream",
     "text": [
      "5.46 s ± 89.1 ms per loop (mean ± std. dev. of 7 runs, 1 loop each)\n"
     ]
    }
   ],
   "source": [
    "%%timeit\n",
    "ad = ds.all_data()\n",
    "_ = ad['all', 'particle_velocity_x']"
   ]
  },
  {
   "cell_type": "code",
   "execution_count": 10,
   "id": "e22df08b-4cc6-4f8a-b64b-506ff2337221",
   "metadata": {},
   "outputs": [
    {
     "name": "stdout",
     "output_type": "stream",
     "text": [
      "CPU times: user 1min 23s, sys: 2.75 s, total: 1min 25s\n",
      "Wall time: 1min 25s\n"
     ]
    }
   ],
   "source": [
    "%%time\n",
    "ad = ds.all_data()\n",
    "_ = ad['all', 'particle_velocity_x']"
   ]
  },
  {
   "cell_type": "code",
   "execution_count": null,
   "id": "fec24835-59a5-4f7d-9c2f-d5ad2121efff",
   "metadata": {},
   "outputs": [],
   "source": []
  },
  {
   "cell_type": "markdown",
   "id": "30b01276-91b8-4a82-95d9-03108c5a4c10",
   "metadata": {},
   "source": []
  },
  {
   "cell_type": "code",
   "execution_count": 12,
   "id": "3af36aa7-894a-4523-b56e-b325508f2282",
   "metadata": {},
   "outputs": [
    {
     "data": {
      "text/plain": [
       "<matplotlib.legend.Legend at 0x7fdb3e7c1880>"
      ]
     },
     "execution_count": 12,
     "metadata": {},
     "output_type": "execute_result"
    },
    {
     "data": {
      "image/png": "[encoded data removed]",
      "text/plain": [
       "<Figure size 432x288 with 1 Axes>"
      ]
     },
     "metadata": {
      "needs_background": "light"
     },
     "output_type": "display_data"
    }
   ],
   "source": [
    "import pandas as pd \n",
    "import numpy as np \n",
    "import matplotlib.pyplot as plt\n",
    "import numpy as np\n",
    "\n",
    "# on ytdata_check_for_all_data:\n",
    "\n",
    "sizes = [1e6, 2.5e6, 5e6, 7.5e6, 1e7]\n",
    "elapsed_time_s = [18.5*1e-3, 1e1*1e-3, 671*1e-3, 1.44, 3.73]\n",
    "std_s = [253*1e-6, 1.84*1e-3, 9.98*1e-3, 20.5*1e-3, 1.03]\n",
    "df_check_for_all = pd.DataFrame({'sizes': sizes, 'elapsed_time_s': elapsed_time_s, 'std_s': std_s})\n",
    "\n",
    "# on main:\n",
    "sizes = [1e6, 2.5e6, 5e6, 7.5e6, 1e7]\n",
    "elapsed_time_s = [1.44, 5.46, 22.8, 48.1, 85]\n",
    "std_s = [20.5*1e-3, 89.1*1e-3, np.nan, np.nan, np.nan]\n",
    "df_main = pd.DataFrame({'sizes': sizes, 'elapsed_time_s': elapsed_time_s, 'std_s': std_s})\n",
    "\n",
    "plt.loglog(df_check_for_all.sizes, df_check_for_all.elapsed_time_s,'k', linewidth=2, label='this pr')\n",
    "plt.loglog(df_check_for_all.sizes, df_check_for_all.elapsed_time_s+2*df_check_for_all.std_s, '--k', label='_nolegend_')\n",
    "plt.loglog(df_check_for_all.sizes, df_check_for_all.elapsed_time_s-2*df_check_for_all.std_s, '--k', label='_nolegend_')\n",
    "plt.loglog(df_main.sizes, df_main.elapsed_time_s,'m', linewidth=2, label='on main')\n",
    "\n",
    "\n",
    "plt.xlabel('N particles', fontdict={'size':14})\n",
    "plt.ylabel('all_data() read time [s]', fontdict={'size':14})\n",
    "plt.gca().tick_params(axis='both',labelsize=14)        \n",
    "plt.legend()"
   ]
  },
  {
   "cell_type": "code",
   "execution_count": 29,
   "id": "6829b133-01da-47a4-987e-ed5d4e4939e2",
   "metadata": {},
   "outputs": [
    {
     "data": {
      "image/png": "[encoded data removed]",
      "text/plain": [
       "<Figure size 432x288 with 1 Axes>"
      ]
     },
     "metadata": {
      "needs_background": "light"
     },
     "output_type": "display_data"
    }
   ],
   "source": [
    "ax = plt.gca()\n",
    "ax"
   ]
  },
  {
   "cell_type": "code",
   "execution_count": null,
   "id": "6e2a5140-00b6-42bd-b70d-3477bb21e306",
   "metadata": {},
   "outputs": [],
   "source": []
  }
 ],
 "metadata": {
  "kernelspec": {
   "display_name": "Python 3 (ipykernel)",
   "language": "python",
   "name": "python3"
  },
  "language_info": {
   "codemirror_mode": {
    "name": "ipython",
    "version": 3
   },
   "file_extension": ".py",
   "mimetype": "text/x-python",
   "name": "python",
   "nbconvert_exporter": "python",
   "pygments_lexer": "ipython3",
   "version": "3.9.10"
  }
 },
 "nbformat": 4,
 "nbformat_minor": 5
}
