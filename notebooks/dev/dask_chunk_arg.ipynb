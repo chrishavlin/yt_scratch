{
 "cells": [
  {
   "cell_type": "code",
   "execution_count": 1,
   "id": "67587a02-840d-4935-8de4-0feaca1cbbe0",
   "metadata": {},
   "outputs": [],
   "source": [
    "from dask import array as da "
   ]
  },
  {
   "cell_type": "code",
   "execution_count": 9,
   "id": "5f5e45b5-c4ee-4c1e-9ca8-7cff683dabfc",
   "metadata": {},
   "outputs": [],
   "source": [
    "shp = (100, 100, 100) \n",
    "# Fully explicit sizes of all blocks along all dimensions, like \n",
    "# ((1000, 1000, 500), (400, 400), (5, 5, 5, 5, 5))\n",
    "chunks = ((10, 70, 20), \n",
    "          (75, 25), \n",
    "          (25, 25, 50))\n",
    "\n",
    "z = da.ones(shp, chunks=chunks)\n"
   ]
  },
  {
   "cell_type": "code",
   "execution_count": 10,
   "id": "100393e7-00f2-421f-9b85-f73383f53af9",
   "metadata": {},
   "outputs": [
    {
     "data": {
      "text/html": [
       "<table>\n",
       "    <tr>\n",
       "        <td>\n",
       "            <table>\n",
       "                <thead>\n",
       "                    <tr>\n",
       "                        <td> </td>\n",
       "                        <th> Array </th>\n",
       "                        <th> Chunk </th>\n",
       "                    </tr>\n",
       "                </thead>\n",
       "                <tbody>\n",
       "                    \n",
       "                    <tr>\n",
       "                        <th> Bytes </th>\n",
       "                        <td> 7.63 MiB </td>\n",
       "                        <td> 2.00 MiB </td>\n",
       "                    </tr>\n",
       "                    \n",
       "                    <tr>\n",
       "                        <th> Shape </th>\n",
       "                        <td> (100, 100, 100) </td>\n",
       "                        <td> (70, 75, 50) </td>\n",
       "                    </tr>\n",
       "                    <tr>\n",
       "                        <th> Count </th>\n",
       "                        <td> 18 Tasks </td>\n",
       "                        <td> 18 Chunks </td>\n",
       "                    </tr>\n",
       "                    <tr>\n",
       "                    <th> Type </th>\n",
       "                    <td> float64 </td>\n",
       "                    <td> numpy.ndarray </td>\n",
       "                    </tr>\n",
       "                </tbody>\n",
       "            </table>\n",
       "        </td>\n",
       "        <td>\n",
       "        <svg width=\"250\" height=\"240\" style=\"stroke:rgb(0,0,0);stroke-width:1\" >\n",
       "\n",
       "  <!-- Horizontal lines -->\n",
       "  <line x1=\"10\" y1=\"0\" x2=\"80\" y2=\"70\" style=\"stroke-width:2\" />\n",
       "  <line x1=\"10\" y1=\"90\" x2=\"80\" y2=\"160\" />\n",
       "  <line x1=\"10\" y1=\"120\" x2=\"80\" y2=\"190\" style=\"stroke-width:2\" />\n",
       "\n",
       "  <!-- Vertical lines -->\n",
       "  <line x1=\"10\" y1=\"0\" x2=\"10\" y2=\"120\" style=\"stroke-width:2\" />\n",
       "  <line x1=\"17\" y1=\"7\" x2=\"17\" y2=\"127\" />\n",
       "  <line x1=\"66\" y1=\"56\" x2=\"66\" y2=\"176\" />\n",
       "  <line x1=\"80\" y1=\"70\" x2=\"80\" y2=\"190\" style=\"stroke-width:2\" />\n",
       "\n",
       "  <!-- Colored Rectangle -->\n",
       "  <polygon points=\"10.0,0.0 80.58823529411765,70.58823529411765 80.58823529411765,190.58823529411765 10.0,120.0\" style=\"fill:#ECB172A0;stroke-width:0\"/>\n",
       "\n",
       "  <!-- Horizontal lines -->\n",
       "  <line x1=\"10\" y1=\"0\" x2=\"130\" y2=\"0\" style=\"stroke-width:2\" />\n",
       "  <line x1=\"17\" y1=\"7\" x2=\"137\" y2=\"7\" />\n",
       "  <line x1=\"66\" y1=\"56\" x2=\"186\" y2=\"56\" />\n",
       "  <line x1=\"80\" y1=\"70\" x2=\"200\" y2=\"70\" style=\"stroke-width:2\" />\n",
       "\n",
       "  <!-- Vertical lines -->\n",
       "  <line x1=\"10\" y1=\"0\" x2=\"80\" y2=\"70\" style=\"stroke-width:2\" />\n",
       "  <line x1=\"40\" y1=\"0\" x2=\"110\" y2=\"70\" />\n",
       "  <line x1=\"70\" y1=\"0\" x2=\"140\" y2=\"70\" />\n",
       "  <line x1=\"130\" y1=\"0\" x2=\"200\" y2=\"70\" style=\"stroke-width:2\" />\n",
       "\n",
       "  <!-- Colored Rectangle -->\n",
       "  <polygon points=\"10.0,0.0 130.0,0.0 200.58823529411765,70.58823529411765 80.58823529411765,70.58823529411765\" style=\"fill:#ECB172A0;stroke-width:0\"/>\n",
       "\n",
       "  <!-- Horizontal lines -->\n",
       "  <line x1=\"80\" y1=\"70\" x2=\"200\" y2=\"70\" style=\"stroke-width:2\" />\n",
       "  <line x1=\"80\" y1=\"160\" x2=\"200\" y2=\"160\" />\n",
       "  <line x1=\"80\" y1=\"190\" x2=\"200\" y2=\"190\" style=\"stroke-width:2\" />\n",
       "\n",
       "  <!-- Vertical lines -->\n",
       "  <line x1=\"80\" y1=\"70\" x2=\"80\" y2=\"190\" style=\"stroke-width:2\" />\n",
       "  <line x1=\"110\" y1=\"70\" x2=\"110\" y2=\"190\" />\n",
       "  <line x1=\"140\" y1=\"70\" x2=\"140\" y2=\"190\" />\n",
       "  <line x1=\"200\" y1=\"70\" x2=\"200\" y2=\"190\" style=\"stroke-width:2\" />\n",
       "\n",
       "  <!-- Colored Rectangle -->\n",
       "  <polygon points=\"80.58823529411765,70.58823529411765 200.58823529411765,70.58823529411765 200.58823529411765,190.58823529411765 80.58823529411765,190.58823529411765\" style=\"fill:#ECB172A0;stroke-width:0\"/>\n",
       "\n",
       "  <!-- Text -->\n",
       "  <text x=\"140.588235\" y=\"210.588235\" font-size=\"1.0rem\" font-weight=\"100\" text-anchor=\"middle\" >100</text>\n",
       "  <text x=\"220.588235\" y=\"130.588235\" font-size=\"1.0rem\" font-weight=\"100\" text-anchor=\"middle\" transform=\"rotate(-90,220.588235,130.588235)\">100</text>\n",
       "  <text x=\"35.294118\" y=\"175.294118\" font-size=\"1.0rem\" font-weight=\"100\" text-anchor=\"middle\" transform=\"rotate(45,35.294118,175.294118)\">100</text>\n",
       "</svg>\n",
       "        </td>\n",
       "    </tr>\n",
       "</table>"
      ],
      "text/plain": [
       "dask.array<ones_like, shape=(100, 100, 100), dtype=float64, chunksize=(70, 75, 50), chunktype=numpy.ndarray>"
      ]
     },
     "execution_count": 10,
     "metadata": {},
     "output_type": "execute_result"
    }
   ],
   "source": [
    "z"
   ]
  },
  {
   "cell_type": "code",
   "execution_count": 5,
   "id": "7b08325a-88ab-4e93-835a-32f592557bc3",
   "metadata": {},
   "outputs": [
    {
     "data": {
      "text/plain": [
       "((10, 50, 40), (50, 50), (25, 25, 25, 25))"
      ]
     },
     "execution_count": 5,
     "metadata": {},
     "output_type": "execute_result"
    }
   ],
   "source": [
    "z.chunks"
   ]
  },
  {
   "cell_type": "code",
   "execution_count": 6,
   "id": "3933d435-1f4b-4435-991a-f2e8f5dcbcff",
   "metadata": {},
   "outputs": [
    {
     "data": {
      "text/plain": [
       "(50, 50, 25)"
      ]
     },
     "execution_count": 6,
     "metadata": {},
     "output_type": "execute_result"
    }
   ],
   "source": [
    "z.chunksize"
   ]
  },
  {
   "cell_type": "code",
   "execution_count": 11,
   "id": "a97562fd-066c-4f11-be31-e506468b12e6",
   "metadata": {},
   "outputs": [],
   "source": [
    "import numpy as np "
   ]
  },
  {
   "cell_type": "code",
   "execution_count": 46,
   "id": "c276ec6e-8e90-4d59-9343-43fc3a1ccf7f",
   "metadata": {},
   "outputs": [
    {
     "data": {
      "text/plain": [
       "(4, 3, 5)"
      ]
     },
     "execution_count": 46,
     "metadata": {},
     "output_type": "execute_result"
    }
   ],
   "source": [
    "b1 = (np.random.random((3,))*100).astype(int)\n",
    "b2 = (np.random.random((4,))*100).astype(int)\n",
    "b3 = (np.random.random((5,))*100).astype(int)\n",
    "\n",
    "c,d,e = np.meshgrid(b1, b2, b3)\n",
    "c.shape"
   ]
  },
  {
   "cell_type": "code",
   "execution_count": 47,
   "id": "414fb566-810d-4616-beb7-eb48fd298db5",
   "metadata": {},
   "outputs": [
    {
     "data": {
      "text/plain": [
       "array([85,  7,  7])"
      ]
     },
     "execution_count": 47,
     "metadata": {},
     "output_type": "execute_result"
    }
   ],
   "source": [
    "b1"
   ]
  },
  {
   "cell_type": "code",
   "execution_count": 48,
   "id": "c3289ba7-da49-4958-a463-cbec6b099a19",
   "metadata": {},
   "outputs": [
    {
     "data": {
      "text/plain": [
       "array([41, 11, 12, 62])"
      ]
     },
     "execution_count": 48,
     "metadata": {},
     "output_type": "execute_result"
    }
   ],
   "source": [
    "b2"
   ]
  },
  {
   "cell_type": "code",
   "execution_count": 49,
   "id": "c5ec8ea7-9a65-42cb-85ab-a93c359351b6",
   "metadata": {},
   "outputs": [
    {
     "data": {
      "text/plain": [
       "array([19,  4, 73, 71, 40])"
      ]
     },
     "execution_count": 49,
     "metadata": {},
     "output_type": "execute_result"
    }
   ],
   "source": [
    "b3"
   ]
  },
  {
   "cell_type": "code",
   "execution_count": 52,
   "id": "9cacb848-81b6-4379-ac58-bf4539a83417",
   "metadata": {},
   "outputs": [
    {
     "data": {
      "text/plain": [
       "array([[[19,  4, 73, 71, 40],\n",
       "        [19,  4, 73, 71, 40],\n",
       "        [19,  4, 73, 71, 40]],\n",
       "\n",
       "       [[19,  4, 73, 71, 40],\n",
       "        [19,  4, 73, 71, 40],\n",
       "        [19,  4, 73, 71, 40]],\n",
       "\n",
       "       [[19,  4, 73, 71, 40],\n",
       "        [19,  4, 73, 71, 40],\n",
       "        [19,  4, 73, 71, 40]],\n",
       "\n",
       "       [[19,  4, 73, 71, 40],\n",
       "        [19,  4, 73, 71, 40],\n",
       "        [19,  4, 73, 71, 40]]])"
      ]
     },
     "execution_count": 52,
     "metadata": {},
     "output_type": "execute_result"
    }
   ],
   "source": [
    "e"
   ]
  },
  {
   "cell_type": "code",
   "execution_count": 43,
   "id": "30103b2f-ff47-46bc-bd2e-e9c943033713",
   "metadata": {},
   "outputs": [
    {
     "data": {
      "text/plain": [
       "array([[[ 0, 17, 16, ...,  1, 18, 19],\n",
       "        [ 0, 17, 16, ...,  1, 18, 19],\n",
       "        [ 0, 17, 16, ...,  1, 18, 19],\n",
       "        ...,\n",
       "        [ 0, 17, 16, ...,  1, 18, 19],\n",
       "        [ 0, 17, 16, ...,  1, 18, 19],\n",
       "        [ 0, 17, 16, ...,  1, 18, 19]],\n",
       "\n",
       "       [[ 0, 17, 16, ...,  1, 18, 19],\n",
       "        [ 0, 17, 16, ...,  1, 18, 19],\n",
       "        [ 0, 17, 16, ...,  1, 18, 19],\n",
       "        ...,\n",
       "        [ 0, 17, 16, ...,  1, 18, 19],\n",
       "        [ 0, 17, 16, ...,  1, 18, 19],\n",
       "        [ 0, 17, 16, ...,  1, 18, 19]],\n",
       "\n",
       "       [[ 0, 17, 16, ...,  1, 18, 19],\n",
       "        [ 0, 17, 16, ...,  1, 18, 19],\n",
       "        [ 0, 17, 16, ...,  1, 18, 19],\n",
       "        ...,\n",
       "        [ 0, 17, 16, ...,  1, 18, 19],\n",
       "        [ 0, 17, 16, ...,  1, 18, 19],\n",
       "        [ 0, 17, 16, ...,  1, 18, 19]],\n",
       "\n",
       "       ...,\n",
       "\n",
       "       [[ 0, 17, 16, ...,  1, 18, 19],\n",
       "        [ 0, 17, 16, ...,  1, 18, 19],\n",
       "        [ 0, 17, 16, ...,  1, 18, 19],\n",
       "        ...,\n",
       "        [ 0, 17, 16, ...,  1, 18, 19],\n",
       "        [ 0, 17, 16, ...,  1, 18, 19],\n",
       "        [ 0, 17, 16, ...,  1, 18, 19]],\n",
       "\n",
       "       [[ 0, 17, 16, ...,  1, 18, 19],\n",
       "        [ 0, 17, 16, ...,  1, 18, 19],\n",
       "        [ 0, 17, 16, ...,  1, 18, 19],\n",
       "        ...,\n",
       "        [ 0, 17, 16, ...,  1, 18, 19],\n",
       "        [ 0, 17, 16, ...,  1, 18, 19],\n",
       "        [ 0, 17, 16, ...,  1, 18, 19]],\n",
       "\n",
       "       [[ 0, 17, 16, ...,  1, 18, 19],\n",
       "        [ 0, 17, 16, ...,  1, 18, 19],\n",
       "        [ 0, 17, 16, ...,  1, 18, 19],\n",
       "        ...,\n",
       "        [ 0, 17, 16, ...,  1, 18, 19],\n",
       "        [ 0, 17, 16, ...,  1, 18, 19],\n",
       "        [ 0, 17, 16, ...,  1, 18, 19]]])"
      ]
     },
     "execution_count": 43,
     "metadata": {},
     "output_type": "execute_result"
    }
   ],
   "source": [
    "np.argsort(c)"
   ]
  },
  {
   "cell_type": "code",
   "execution_count": 1,
   "id": "b3210cfe-452f-4884-949a-8412cc046506",
   "metadata": {},
   "outputs": [
    {
     "name": "stderr",
     "output_type": "stream",
     "text": [
      "yt : [INFO     ] 2024-06-10 15:15:29,671 Sample dataset found in '/home/chavlin/hdd/data/yt_data/yt_sample_sets/IsolatedGalaxy/galaxy0030/galaxy0030'\n",
      "yt : [INFO     ] 2024-06-10 15:15:29,846 Parameters: current_time              = 0.0060000200028298\n",
      "yt : [INFO     ] 2024-06-10 15:15:29,847 Parameters: domain_dimensions         = [32 32 32]\n",
      "yt : [INFO     ] 2024-06-10 15:15:29,847 Parameters: domain_left_edge          = [0. 0. 0.]\n",
      "yt : [INFO     ] 2024-06-10 15:15:29,848 Parameters: domain_right_edge         = [1. 1. 1.]\n",
      "yt : [INFO     ] 2024-06-10 15:15:29,849 Parameters: cosmological_simulation   = 0\n",
      "Parsing Hierarchy : 100%|██████████████████| 173/173 [00:00<00:00, 23003.25it/s]\n",
      "yt : [INFO     ] 2024-06-10 15:15:29,866 Gathering a field list (this may take a moment.)\n"
     ]
    }
   ],
   "source": [
    "import yt \n",
    "from yt.data_objects.construction_data_containers import YTTiledArbitraryGrid\n",
    "import matplotlib.pyplot as plt \n",
    "import numpy as np\n",
    "\n",
    "\n",
    "ds = yt.load_sample(\"IsolatedGalaxy\")\n",
    "ds.index \n",
    "tag = YTTiledArbitraryGrid(ds.domain_left_edge,\n",
    "                     ds.domain_right_edge,\n",
    "                     (128,128,128), # global dimension\n",
    "                     10, # nchunks = nprocs\n",
    "                     ds=ds)"
   ]
  },
  {
   "cell_type": "code",
   "execution_count": 2,
   "id": "e3bba021-b8d2-4457-aafd-d90846bfc480",
   "metadata": {},
   "outputs": [
    {
     "data": {
      "text/plain": [
       "((128,), (64, 64), (25, 26, 25, 26, 26))"
      ]
     },
     "execution_count": 2,
     "metadata": {},
     "output_type": "execute_result"
    }
   ],
   "source": [
    "tag.chunks"
   ]
  },
  {
   "cell_type": "code",
   "execution_count": 4,
   "id": "8611708e-b4e2-4715-a024-12e1920ed77f",
   "metadata": {},
   "outputs": [
    {
     "data": {
      "text/plain": [
       "(slice(0, 128, None), slice(0, 64, None), slice(0, 25, None))"
      ]
     },
     "execution_count": 4,
     "metadata": {},
     "output_type": "execute_result"
    }
   ],
   "source": [
    "tag._grid_slc[0]"
   ]
  },
  {
   "cell_type": "code",
   "execution_count": 56,
   "id": "52f51250-f4ed-497a-867a-a0f97d242a15",
   "metadata": {},
   "outputs": [
    {
     "data": {
      "text/plain": [
       "0"
      ]
     },
     "execution_count": 56,
     "metadata": {},
     "output_type": "execute_result"
    }
   ],
   "source": [
    "slc.start"
   ]
  },
  {
   "cell_type": "code",
   "execution_count": 5,
   "id": "a598159e-c84b-403b-b2c4-640d01864058",
   "metadata": {},
   "outputs": [
    {
     "data": {
      "text/plain": [
       "(128,)"
      ]
     },
     "execution_count": 5,
     "metadata": {},
     "output_type": "execute_result"
    }
   ],
   "source": [
    "tuple(tag.chunks[0])"
   ]
  },
  {
   "cell_type": "code",
   "execution_count": 3,
   "id": "5e109cf6-8068-4fce-beab-6252d7f8c3bd",
   "metadata": {},
   "outputs": [],
   "source": [
    "val = tag.to_dask(('enzo', 'Density'))"
   ]
  },
  {
   "cell_type": "code",
   "execution_count": 4,
   "id": "cb7d8a19-aea2-441e-a821-34097d73c316",
   "metadata": {},
   "outputs": [
    {
     "data": {
      "text/html": [
       "<table>\n",
       "    <tr>\n",
       "        <td>\n",
       "            <table>\n",
       "                <thead>\n",
       "                    <tr>\n",
       "                        <td> </td>\n",
       "                        <th> Array </th>\n",
       "                        <th> Chunk </th>\n",
       "                    </tr>\n",
       "                </thead>\n",
       "                <tbody>\n",
       "                    \n",
       "                    <tr>\n",
       "                        <th> Bytes </th>\n",
       "                        <td> 16.00 MiB </td>\n",
       "                        <td> 1.62 MiB </td>\n",
       "                    </tr>\n",
       "                    \n",
       "                    <tr>\n",
       "                        <th> Shape </th>\n",
       "                        <td> (128, 128, 128) </td>\n",
       "                        <td> (128, 64, 26) </td>\n",
       "                    </tr>\n",
       "                    <tr>\n",
       "                        <th> Count </th>\n",
       "                        <td> 130 Tasks </td>\n",
       "                        <td> 10 Chunks </td>\n",
       "                    </tr>\n",
       "                    <tr>\n",
       "                    <th> Type </th>\n",
       "                    <td> float64 </td>\n",
       "                    <td> numpy.ndarray </td>\n",
       "                    </tr>\n",
       "                </tbody>\n",
       "            </table>\n",
       "        </td>\n",
       "        <td>\n",
       "        <svg width=\"250\" height=\"240\" style=\"stroke:rgb(0,0,0);stroke-width:1\" >\n",
       "\n",
       "  <!-- Horizontal lines -->\n",
       "  <line x1=\"10\" y1=\"0\" x2=\"80\" y2=\"70\" style=\"stroke-width:2\" />\n",
       "  <line x1=\"10\" y1=\"60\" x2=\"80\" y2=\"130\" />\n",
       "  <line x1=\"10\" y1=\"120\" x2=\"80\" y2=\"190\" style=\"stroke-width:2\" />\n",
       "\n",
       "  <!-- Vertical lines -->\n",
       "  <line x1=\"10\" y1=\"0\" x2=\"10\" y2=\"120\" style=\"stroke-width:2\" />\n",
       "  <line x1=\"80\" y1=\"70\" x2=\"80\" y2=\"190\" style=\"stroke-width:2\" />\n",
       "\n",
       "  <!-- Colored Rectangle -->\n",
       "  <polygon points=\"10.0,0.0 80.58823529411765,70.58823529411765 80.58823529411765,190.58823529411765 10.0,120.0\" style=\"fill:#ECB172A0;stroke-width:0\"/>\n",
       "\n",
       "  <!-- Horizontal lines -->\n",
       "  <line x1=\"10\" y1=\"0\" x2=\"130\" y2=\"0\" style=\"stroke-width:2\" />\n",
       "  <line x1=\"80\" y1=\"70\" x2=\"200\" y2=\"70\" style=\"stroke-width:2\" />\n",
       "\n",
       "  <!-- Vertical lines -->\n",
       "  <line x1=\"10\" y1=\"0\" x2=\"80\" y2=\"70\" style=\"stroke-width:2\" />\n",
       "  <line x1=\"33\" y1=\"0\" x2=\"104\" y2=\"70\" />\n",
       "  <line x1=\"57\" y1=\"0\" x2=\"128\" y2=\"70\" />\n",
       "  <line x1=\"81\" y1=\"0\" x2=\"151\" y2=\"70\" />\n",
       "  <line x1=\"105\" y1=\"0\" x2=\"176\" y2=\"70\" />\n",
       "  <line x1=\"130\" y1=\"0\" x2=\"200\" y2=\"70\" style=\"stroke-width:2\" />\n",
       "\n",
       "  <!-- Colored Rectangle -->\n",
       "  <polygon points=\"10.0,0.0 130.0,0.0 200.58823529411765,70.58823529411765 80.58823529411765,70.58823529411765\" style=\"fill:#ECB172A0;stroke-width:0\"/>\n",
       "\n",
       "  <!-- Horizontal lines -->\n",
       "  <line x1=\"80\" y1=\"70\" x2=\"200\" y2=\"70\" style=\"stroke-width:2\" />\n",
       "  <line x1=\"80\" y1=\"130\" x2=\"200\" y2=\"130\" />\n",
       "  <line x1=\"80\" y1=\"190\" x2=\"200\" y2=\"190\" style=\"stroke-width:2\" />\n",
       "\n",
       "  <!-- Vertical lines -->\n",
       "  <line x1=\"80\" y1=\"70\" x2=\"80\" y2=\"190\" style=\"stroke-width:2\" />\n",
       "  <line x1=\"104\" y1=\"70\" x2=\"104\" y2=\"190\" />\n",
       "  <line x1=\"128\" y1=\"70\" x2=\"128\" y2=\"190\" />\n",
       "  <line x1=\"151\" y1=\"70\" x2=\"151\" y2=\"190\" />\n",
       "  <line x1=\"176\" y1=\"70\" x2=\"176\" y2=\"190\" />\n",
       "  <line x1=\"200\" y1=\"70\" x2=\"200\" y2=\"190\" style=\"stroke-width:2\" />\n",
       "\n",
       "  <!-- Colored Rectangle -->\n",
       "  <polygon points=\"80.58823529411765,70.58823529411765 200.58823529411765,70.58823529411765 200.58823529411765,190.58823529411765 80.58823529411765,190.58823529411765\" style=\"fill:#ECB172A0;stroke-width:0\"/>\n",
       "\n",
       "  <!-- Text -->\n",
       "  <text x=\"140.588235\" y=\"210.588235\" font-size=\"1.0rem\" font-weight=\"100\" text-anchor=\"middle\" >128</text>\n",
       "  <text x=\"220.588235\" y=\"130.588235\" font-size=\"1.0rem\" font-weight=\"100\" text-anchor=\"middle\" transform=\"rotate(-90,220.588235,130.588235)\">128</text>\n",
       "  <text x=\"35.294118\" y=\"175.294118\" font-size=\"1.0rem\" font-weight=\"100\" text-anchor=\"middle\" transform=\"rotate(45,35.294118,175.294118)\">128</text>\n",
       "</svg>\n",
       "        </td>\n",
       "    </tr>\n",
       "</table>"
      ],
      "text/plain": [
       "dask.array<setitem, shape=(128, 128, 128), dtype=float64, chunksize=(128, 64, 26), chunktype=numpy.ndarray>"
      ]
     },
     "execution_count": 4,
     "metadata": {},
     "output_type": "execute_result"
    }
   ],
   "source": [
    "val"
   ]
  },
  {
   "cell_type": "code",
   "execution_count": 7,
   "id": "3d353568-7155-4c76-aa1f-cfcae3fdb7a3",
   "metadata": {},
   "outputs": [
    {
     "data": {
      "text/plain": [
       "128"
      ]
     },
     "execution_count": 7,
     "metadata": {},
     "output_type": "execute_result"
    }
   ],
   "source": [
    "np.sum(val.chunks[-1])"
   ]
  },
  {
   "cell_type": "code",
   "execution_count": null,
   "id": "797f06a0-58f5-444c-9573-30317293d1eb",
   "metadata": {},
   "outputs": [],
   "source": []
  }
 ],
 "metadata": {
  "kernelspec": {
   "display_name": "Python 3 (ipykernel)",
   "language": "python",
   "name": "python3"
  },
  "language_info": {
   "codemirror_mode": {
    "name": "ipython",
    "version": 3
   },
   "file_extension": ".py",
   "mimetype": "text/x-python",
   "name": "python",
   "nbconvert_exporter": "python",
   "pygments_lexer": "ipython3",
   "version": "3.9.10"
  }
 },
 "nbformat": 4,
 "nbformat_minor": 5
}
