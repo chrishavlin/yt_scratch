{
 "cells": [
  {
   "cell_type": "code",
   "execution_count": 16,
   "id": "bb4f7366-68e4-4cb7-8c99-17789eb490d0",
   "metadata": {},
   "outputs": [
    {
     "name": "stderr",
     "output_type": "stream",
     "text": [
      "yt : [INFO     ] 2023-03-27 17:57:57,358 Sample dataset found in '/home/chavlin/hdd/data/yt_data/yt_sample_sets/IsolatedGalaxy/galaxy0030/galaxy0030'\n",
      "yt : [INFO     ] 2023-03-27 17:57:57,456 Parameters: current_time              = 0.0060000200028298\n",
      "yt : [INFO     ] 2023-03-27 17:57:57,457 Parameters: domain_dimensions         = [32 32 32]\n",
      "yt : [INFO     ] 2023-03-27 17:57:57,458 Parameters: domain_left_edge          = [0. 0. 0.]\n",
      "yt : [INFO     ] 2023-03-27 17:57:57,459 Parameters: domain_right_edge         = [1. 1. 1.]\n",
      "yt : [INFO     ] 2023-03-27 17:57:57,460 Parameters: cosmological_simulation   = 0\n",
      "Parsing Hierarchy : 100%|██████████████████| 173/173 [00:00<00:00, 20769.82it/s]\n",
      "yt : [INFO     ] 2023-03-27 17:57:57,500 Gathering a field list (this may take a moment.)\n"
     ]
    },
    {
     "data": {
      "text/plain": [
       "<yt.geometry.selection_routines.PointsSelector at 0x7fda38324180>"
      ]
     },
     "execution_count": 1,
     "metadata": {},
     "output_type": "execute_result"
    }
   ],
   "source": [
    "import yt; \n",
    "import numpy as np \n",
    "\n",
    "ds = yt.load_sample(\"IsolatedGalaxy\")\n",
    "p = ds.points(np.array([[0.4, 0.3, 0.2], [0.4, 0.3, 0.1]]))\n",
    "p.selector"
   ]
  },
  {
   "cell_type": "code",
   "execution_count": 12,
   "id": "a5c52655-0fcf-457b-a5b1-5fbec49a4c29",
   "metadata": {},
   "outputs": [
    {
     "name": "stderr",
     "output_type": "stream",
     "text": [
      "yt : [INFO     ] 2023-03-27 17:59:16,471 Sample dataset found in '/home/chavlin/hdd/data/yt_data/yt_sample_sets/IsolatedGalaxy/galaxy0030/galaxy0030'\n",
      "yt : [INFO     ] 2023-03-27 17:59:16,547 Parameters: current_time              = 0.0060000200028298\n",
      "yt : [INFO     ] 2023-03-27 17:59:16,548 Parameters: domain_dimensions         = [32 32 32]\n",
      "yt : [INFO     ] 2023-03-27 17:59:16,548 Parameters: domain_left_edge          = [0. 0. 0.]\n",
      "yt : [INFO     ] 2023-03-27 17:59:16,549 Parameters: domain_right_edge         = [1. 1. 1.]\n",
      "yt : [INFO     ] 2023-03-27 17:59:16,549 Parameters: cosmological_simulation   = 0\n",
      "Parsing Hierarchy : 100%|██████████████████| 173/173 [00:00<00:00, 24368.29it/s]\n",
      "yt : [INFO     ] 2023-03-27 17:59:16,563 Gathering a field list (this may take a moment.)\n"
     ]
    },
    {
     "data": {
      "text/plain": [
       "<yt.frontends.enzo.data_structures.EnzoHierarchy at 0x7fd9d5dbd520>"
      ]
     },
     "execution_count": 12,
     "metadata": {},
     "output_type": "execute_result"
    }
   ],
   "source": [
    "import numpy as np \n",
    "ds = yt.load_sample(\"IsolatedGalaxy\")\n",
    "ds.index"
   ]
  },
  {
   "cell_type": "code",
   "execution_count": 28,
   "id": "818cd440-9692-4a5f-a2ab-21f9b2f76ec3",
   "metadata": {},
   "outputs": [],
   "source": [
    "points = np.random.random((1000, 3))\n",
    "p_pts = ds.points(points)"
   ]
  },
  {
   "cell_type": "code",
   "execution_count": 29,
   "id": "c1fb5259-caf6-4fc6-9655-e7fc32839d92",
   "metadata": {},
   "outputs": [
    {
     "name": "stdout",
     "output_type": "stream",
     "text": [
      "CPU times: user 2.7 s, sys: 3.48 ms, total: 2.71 s\n",
      "Wall time: 2.71 s\n"
     ]
    }
   ],
   "source": [
    "%%time\n",
    "p_pts = ds.points(points)\n",
    "temps = p_pts[\"enzo\", 'Temperature']"
   ]
  },
  {
   "cell_type": "code",
   "execution_count": 18,
   "id": "6cba0fee-2b6e-4660-b8ae-72b492fbb3d4",
   "metadata": {},
   "outputs": [
    {
     "name": "stdout",
     "output_type": "stream",
     "text": [
      "CPU times: user 1.72 s, sys: 142 ms, total: 1.86 s\n",
      "Wall time: 1.87 s\n"
     ]
    }
   ],
   "source": [
    "%%time\n",
    "temps_slow = []\n",
    "for p in points:\n",
    "    pt = ds.point(p)\n",
    "    # ptsell = pt.selector\n",
    "    temps_slow.append(pt[\"enzo\", 'Temperature'])"
   ]
  },
  {
   "cell_type": "code",
   "execution_count": 21,
   "id": "96e7d4dd-d1a1-4c34-a57e-cf8c55c4bb19",
   "metadata": {},
   "outputs": [
    {
     "data": {
      "text/plain": [
       "1000"
      ]
     },
     "execution_count": 21,
     "metadata": {},
     "output_type": "execute_result"
    }
   ],
   "source": [
    "len(temps_slow)"
   ]
  },
  {
   "cell_type": "code",
   "execution_count": 22,
   "id": "c1cb95be-4476-482c-99ad-d433c156cda9",
   "metadata": {},
   "outputs": [
    {
     "data": {
      "text/plain": [
       "991"
      ]
     },
     "execution_count": 22,
     "metadata": {},
     "output_type": "execute_result"
    }
   ],
   "source": [
    "len(temps)"
   ]
  },
  {
   "cell_type": "code",
   "execution_count": 23,
   "id": "29647ac7-31ed-4700-b4e8-b83db5ed23b6",
   "metadata": {},
   "outputs": [
    {
     "data": {
      "text/plain": [
       "unyt_array([9402.1640625], 'K')"
      ]
     },
     "execution_count": 23,
     "metadata": {},
     "output_type": "execute_result"
    }
   ],
   "source": [
    "temps_slow[0]"
   ]
  },
  {
   "cell_type": "code",
   "execution_count": 24,
   "id": "507ead22-954b-4987-b6cb-6f1fd788ae4b",
   "metadata": {},
   "outputs": [
    {
     "data": {
      "text/plain": [
       "unyt_quantity(9338.72070312, 'K')"
      ]
     },
     "execution_count": 24,
     "metadata": {},
     "output_type": "execute_result"
    }
   ],
   "source": [
    "temps[0]"
   ]
  },
  {
   "cell_type": "code",
   "execution_count": 25,
   "id": "f7b79ed4-7465-48e6-b288-a09a0716984c",
   "metadata": {},
   "outputs": [
    {
     "data": {
      "text/plain": [
       "array([0.39342839, 0.29101924, 0.55355254])"
      ]
     },
     "execution_count": 25,
     "metadata": {},
     "output_type": "execute_result"
    }
   ],
   "source": [
    "p"
   ]
  },
  {
   "cell_type": "code",
   "execution_count": 34,
   "id": "1014da4e-1723-498e-9a05-d86db2f0ba9b",
   "metadata": {},
   "outputs": [],
   "source": [
    "points = np.random.random((1000, 3))\n",
    "p_pts = ds.points(points)\n"
   ]
  },
  {
   "cell_type": "code",
   "execution_count": 35,
   "id": "2ec95433-b872-4b9c-a030-c41abda0532e",
   "metadata": {},
   "outputs": [],
   "source": [
    "sel = p_pts.selector"
   ]
  },
  {
   "cell_type": "code",
   "execution_count": 36,
   "id": "7845a98a-6dcf-4a04-8caa-82ad03a1df57",
   "metadata": {},
   "outputs": [
    {
     "data": {
      "text/plain": [
       "<yt.geometry.selection_routines.PointsSelector at 0x7fd9d6132030>"
      ]
     },
     "execution_count": 36,
     "metadata": {},
     "output_type": "execute_result"
    }
   ],
   "source": [
    "sel.fill_mask_regular_grid"
   ]
  },
  {
   "cell_type": "code",
   "execution_count": null,
   "id": "2eb555f1-e050-4239-8113-ed331845fda4",
   "metadata": {},
   "outputs": [],
   "source": []
  }
 ],
 "metadata": {
  "kernelspec": {
   "display_name": "Python 3 (ipykernel)",
   "language": "python",
   "name": "python3"
  },
  "language_info": {
   "codemirror_mode": {
    "name": "ipython",
    "version": 3
   },
   "file_extension": ".py",
   "mimetype": "text/x-python",
   "name": "python",
   "nbconvert_exporter": "python",
   "pygments_lexer": "ipython3",
   "version": "3.9.4"
  }
 },
 "nbformat": 4,
 "nbformat_minor": 5
}
