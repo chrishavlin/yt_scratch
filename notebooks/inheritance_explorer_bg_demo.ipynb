{
 "cells": [
  {
   "cell_type": "markdown",
   "id": "supposed-hours",
   "metadata": {},
   "source": [
    "# mapping out inheritance structures in yt\n",
    "\n",
    "(`pyenv activate yt_dev`)\n",
    "\n"
   ]
  },
  {
   "cell_type": "markdown",
   "id": "configured-syndication",
   "metadata": {},
   "source": [
    "a yt frontend: a `Dataset` class that implements some \"abstract\" classes:\n",
    "\n",
    "```\n",
    "class GadgetDataset(SPHDataset):\n",
    "    _index_class: Type[Index] = GadgetBinaryIndex\n",
    "    _file_class: Type[ParticleFile] = GadgetBinaryFile\n",
    "    _field_info_class: Type[FieldInfoContainer] = GadgetFieldInfo\n",
    "```\n",
    "\n",
    "The `_index_class` has an another attached \"abstract\" class, `_index_class.io` that each frontend implements, in this case, `IOHandlerGadgetHDF5`. Each of these classes have methods that may or may not need to be re-written for each frontend... at this stage, lots of code duplication, how to identify code structure that could be better abstracted?\n",
    "\n",
    "Help simplify writing new frontends, daskification...\n",
    "\n",
    "\n",
    "Concentrating on the most dask-relevant part of this, the `io` classes, want to know how classes implement specific methods. e.g., `io._read_particle_selection` and `io._read_particle_coords`... \n"
   ]
  },
  {
   "cell_type": "markdown",
   "id": "bridal-superior",
   "metadata": {},
   "source": [
    "# 1. identifying child classes"
   ]
  },
  {
   "cell_type": "code",
   "execution_count": null,
   "id": "white-prime",
   "metadata": {},
   "outputs": [],
   "source": [
    "# looking for children:\n",
    "from yt.utilities.io_handler import BaseIOHandler, BaseParticleIOHandler\n",
    "BaseIOHandler.__subclasses__()  # all the classes that override BaseIOHandler"
   ]
  },
  {
   "cell_type": "code",
   "execution_count": null,
   "id": "abandoned-truth",
   "metadata": {},
   "outputs": [],
   "source": [
    "BaseParticleIOHandler.__subclasses__()"
   ]
  },
  {
   "cell_type": "code",
   "execution_count": null,
   "id": "voluntary-cursor",
   "metadata": {},
   "outputs": [],
   "source": [
    "from yt.frontends.sph.io import IOHandlerSPH\n",
    "IOHandlerSPH.__subclasses__()"
   ]
  },
  {
   "cell_type": "markdown",
   "id": "historical-parliament",
   "metadata": {},
   "source": [
    "So, need to assemble recursively! "
   ]
  },
  {
   "cell_type": "code",
   "execution_count": null,
   "id": "velvet-segment",
   "metadata": {},
   "outputs": [],
   "source": [
    "all_subclasses = []\n",
    "def subclasses_assemble(parent):\n",
    "    for child in parent.__subclasses__(): \n",
    "        all_subclasses.append(child)  # add the name        \n",
    "        subclasses_assemble(child)  # continue downward... \n",
    "    \n",
    "subclasses_assemble(BaseParticleIOHandler)\n",
    "all_subclasses"
   ]
  },
  {
   "cell_type": "code",
   "execution_count": null,
   "id": "indonesian-forwarding",
   "metadata": {},
   "outputs": [],
   "source": []
  },
  {
   "cell_type": "markdown",
   "id": "seventh-natural",
   "metadata": {},
   "source": [
    "# 2. inspecting source code"
   ]
  },
  {
   "cell_type": "code",
   "execution_count": null,
   "id": "trying-portal",
   "metadata": {},
   "outputs": [],
   "source": [
    "import inspect\n",
    "from yt.frontends.gadget.io import IOHandlerGadgetBinary\n",
    "\n",
    "inspect.getsourcefile(IOHandlerGadgetBinary._read_particle_coords)"
   ]
  },
  {
   "cell_type": "code",
   "execution_count": null,
   "id": "quick-edinburgh",
   "metadata": {},
   "outputs": [],
   "source": [
    "inspect.getsourcefile(IOHandlerGadgetBinary._read_particle_selection)"
   ]
  },
  {
   "cell_type": "code",
   "execution_count": null,
   "id": "spectacular-purple",
   "metadata": {},
   "outputs": [],
   "source": []
  },
  {
   "cell_type": "code",
   "execution_count": null,
   "id": "dominant-lewis",
   "metadata": {},
   "outputs": [],
   "source": [
    "inspect.getsourcelines(IOHandlerGadgetBinary._read_particle_selection)"
   ]
  },
  {
   "cell_type": "code",
   "execution_count": null,
   "id": "insured-death",
   "metadata": {},
   "outputs": [],
   "source": [
    "import yt\n",
    "import inspect\n",
    "import ipywidgets\n",
    "import traitlets\n",
    "\n",
    "from IPython.display import Markdown, display\n",
    "import textwrap\n",
    "import collections"
   ]
  },
  {
   "cell_type": "code",
   "execution_count": null,
   "id": "brief-sweden",
   "metadata": {},
   "outputs": [],
   "source": [
    "base_class = BaseParticleIOHandler\n",
    "\n",
    "all_subclasses = []\n",
    "def subclasses_assemble(parent):\n",
    "    for child in parent.__subclasses__(): \n",
    "        all_subclasses.append(child)  # add the name        \n",
    "        subclasses_assemble(child)  # continue downward... \n",
    "    \n",
    "subclasses_assemble(base_class)\n",
    "\n",
    "# sort classes alphabetically  \n",
    "s_c_strings = [i.__name__ for i in all_subclasses]\n",
    "sorted_subclsses = [x for _, x in sorted(zip(s_c_strings, all_subclasses))]\n",
    "sorted_subclsses\n",
    "\n",
    "class_dropdown = ipywidgets.Dropdown(options=[(_.__name__, _) for _ in sorted_subclsses])\n",
    "func_dropdown = ipywidgets.Dropdown(options=[_ for _ in dir(base_class) if not _.startswith(\"__\")])\n",
    "defined_at = ipywidgets.HTML()\n",
    "source = ipywidgets.Output(layout=ipywidgets.Layout(width=\"100%\", height=\"50em\"))\n",
    "\n",
    "\n",
    "def update_class(event):\n",
    "    current_func = func_dropdown.value\n",
    "    func_dropdown.options = [_ for _ in dir(class_dropdown.value) if not _.startswith(\"__\")]\n",
    "    if current_func in func_dropdown.options:\n",
    "        func_dropdown.value = current_func\n",
    "\n",
    "update_class(None)\n",
    "class_dropdown.observe(update_class, [\"value\"])\n",
    "    \n",
    "def update_source(event):\n",
    "    cls = class_dropdown.value\n",
    "    f = getattr(cls, func_dropdown.value)\n",
    "    \n",
    "    source.clear_output()\n",
    "    if not isinstance(f, collections.abc.Callable): return\n",
    "    defined_at.value = f\"<tt>{inspect.getsourcefile(f)}:{inspect.getsourcelines(f)[1]}</tt>\"\n",
    "    with source:\n",
    "        display(\n",
    "            Markdown(\n",
    "                data=\"```python\\n\"\n",
    "                + textwrap.dedent(inspect.getsource(f))\n",
    "                + \"\\n```\"\n",
    "            )\n",
    "        )\n",
    "\n",
    "func_dropdown.observe(update_source, [\"value\"])\n",
    "class_dropdown.observe(update_class, [\"value\"])\n",
    "update_source(None)\n",
    "display(ipywidgets.VBox([class_dropdown, func_dropdown, defined_at, source]))\n",
    "\n",
    "# checkout out _read_particle_coords, Swift vs Gadget vs OWLSSubfind (uses Gadget)"
   ]
  },
  {
   "cell_type": "markdown",
   "id": "genuine-advance",
   "metadata": {},
   "source": [
    "## 3 semi-automation? \n",
    "\n",
    "understand which frontends use which over-rides of a given function... \n",
    "\n",
    "2 parts: building some graphs and testing code similarity\n",
    "\n"
   ]
  },
  {
   "cell_type": "markdown",
   "id": "suburban-proxy",
   "metadata": {},
   "source": [
    "### graph visualization with graphviz"
   ]
  },
  {
   "cell_type": "code",
   "execution_count": null,
   "id": "sexual-context",
   "metadata": {},
   "outputs": [],
   "source": [
    "# Add nodes 1 and 2\n",
    "from graphviz import Digraph  # \"directed\" graph\n",
    "dot = Digraph()\n",
    "dot.node('1',label='node 1')\n",
    "dot.node('2')\n",
    "dot.node('3')\n",
    "\n",
    "# Add edge between 1 and 2\n",
    "dot.edge('2','1')\n",
    "dot.edge('3','1')\n",
    "dot"
   ]
  },
  {
   "cell_type": "markdown",
   "id": "understood-volleyball",
   "metadata": {},
   "source": [
    "### inheritance digraph with yt\n",
    "\n",
    "Recursively construct inheritance structure, **highlighting when a class defines or overrides a specified function**"
   ]
  },
  {
   "cell_type": "code",
   "execution_count": null,
   "id": "medieval-convention",
   "metadata": {},
   "outputs": [],
   "source": [
    "import collections\n",
    "import inspect\n",
    "from graphviz import Digraph\n",
    "from typing import Optional, Any\n",
    "\n",
    "class ChildNode:\n",
    "    # a class that is a child of some parent\n",
    "    def __init__(self, \n",
    "                 child: Any, \n",
    "                 child_id: int, \n",
    "                 parent: Optional[Any]=None, \n",
    "                 parent_id: Optional[int]=None,\n",
    "                 color: Optional[str]=\"#000000\"):\n",
    "        self.child = child\n",
    "        self.child_name = child.__name__\n",
    "        self._child_id = child_id\n",
    "        self.parent = parent\n",
    "        \n",
    "        self._parent_id = parent_id\n",
    "        self.parent_name = None\n",
    "        if parent:\n",
    "            self.parent_name = parent.__name__\n",
    "            \n",
    "        self.color = color\n",
    "    \n",
    "    @property\n",
    "    def child_id(self) -> str:\n",
    "        return str(self._child_id)\n",
    "    \n",
    "    @property\n",
    "    def parent_id(self) -> str:        \n",
    "        if self._parent_id:            \n",
    "            return str(self._parent_id)\n",
    "        return\n",
    "    \n",
    "        \n",
    "class ClassGraphTree:\n",
    "    \n",
    "    def __init__(self, \n",
    "                 baseclass: Any, \n",
    "                 funcname: Optional[str]=None, \n",
    "                 default_color: Optional[str]= \"#000000\",\n",
    "                 func_override_color: Optional[str]= \"#ff0000\",\n",
    "                 **kwargs):\n",
    "        \"\"\"\n",
    "        baseclass: \n",
    "            the starting base class to begin mapping from\n",
    "        funcname: \n",
    "            the name of a function to watch for overrides\n",
    "        default_color: t\n",
    "            he default outline color of nodes, in any graphviz string\n",
    "        func_override_color: \n",
    "            the outline color of nodes that override funcname, in any graphviz string\n",
    "        **kwargs:\n",
    "            any additional keyword arguments are passed to graphviz.Digraph(**kwargs)\n",
    "        \"\"\"\n",
    "        self.baseclass = baseclass\n",
    "        self.basename: str = baseclass.__name__\n",
    "        self.funcname = funcname\n",
    "        self.dot = Digraph(**kwargs)\n",
    "        self._nodenum: int = 0\n",
    "        self._node_list = []        \n",
    "        self._current_node = 1                \n",
    "        self._default_color = default_color\n",
    "        self._override_color = func_override_color\n",
    "        self.build()\n",
    "        \n",
    "    def _get_source_info(self, obj) -> Optional[str]:\n",
    "        f = getattr(obj, self.funcname)\n",
    "        if isinstance(f, collections.abc.Callable):\n",
    "            return f\"{inspect.getsourcefile(f)}:{inspect.getsourcelines(f)[1]}\"\n",
    "        return None\n",
    "    \n",
    "    def _node_overrides_func(self, child, parent) -> bool:\n",
    "        childsrc = self._get_source_info(child)\n",
    "        parentsrc = self._get_source_info(parent)\n",
    "        if childsrc != parentsrc:            \n",
    "            return True # it overrides! \n",
    "        return False        \n",
    "\n",
    "    def _get_new_node_color(self, child, parent) -> str:\n",
    "        if self.funcname and self._node_overrides_func(child, parent):\n",
    "            return self._override_color\n",
    "        return self._default_color\n",
    "\n",
    "    def _get_baseclass_color(self) -> str:\n",
    "        color = self._default_color        \n",
    "        if self.funcname:\n",
    "            f = getattr(self.baseclass, self.funcname)\n",
    "            class_where_its_defined = f.__qualname__.split('.')[0]\n",
    "            if self.basename == class_where_its_defined: \n",
    "                # then its defined here, use the override color\n",
    "                color = self._override_color\n",
    "        return color\n",
    "        \n",
    "    \n",
    "    def check_subclasses(self, parent, parent_id: int, node_i: int) -> int:\n",
    "        for child in parent.__subclasses__():            \n",
    "            color = self._get_new_node_color(child, parent) # color changes if overridden\n",
    "            new_node = ChildNode(child, node_i, parent=parent, parent_id=parent_id, color=color)            \n",
    "            self._node_list.append(new_node)\n",
    "            \n",
    "            node_i += 1\n",
    "            node_i = self.check_subclasses(child, node_i - 1, node_i)\n",
    "        return node_i\n",
    "            \n",
    "            \n",
    "    def build(self):\n",
    "        # builds a list of nodes with references for inheritance \n",
    "        \n",
    "        # initialize with the top node       \n",
    "        color = self._get_baseclass_color()        \n",
    "        self._node_list.append(ChildNode(self.baseclass, self._current_node, parent=None, color=color))\n",
    "        self._current_node += 1\n",
    "        \n",
    "        # recursively follow the subclasses\n",
    "        _ = self.check_subclasses(self.baseclass, self._current_node - 1, self._current_node)        \n",
    "            \n",
    "        # now build the graph\n",
    "        for node in self._node_list:            \n",
    "            self.dot.node(node.child_id, label=node.child_name, color=node.color)\n",
    "            if node.parent:                \n",
    "                self.dot.edge(node.child_id, node.parent_id)                   \n",
    "            \n"
   ]
  },
  {
   "cell_type": "code",
   "execution_count": null,
   "id": "whole-alfred",
   "metadata": {},
   "outputs": [],
   "source": [
    "c = ClassGraphTree(BaseIOHandler, \"_read_particle_selection\")\n",
    "c.dot"
   ]
  },
  {
   "cell_type": "markdown",
   "id": "religious-croatia",
   "metadata": {},
   "source": [
    "ALL THE FRONTENDS (and intermediate classes)! \n",
    "* black arrows: point to the class' parent\n",
    "* red outlines: the selected function is different from the parent\n",
    "\n",
    "lots to see... limit by choosing a different top class. just the particle frontends:"
   ]
  },
  {
   "cell_type": "code",
   "execution_count": null,
   "id": "brutal-rotation",
   "metadata": {},
   "outputs": [],
   "source": [
    "c = ClassGraphTree(BaseParticleIOHandler, \"_read_particle_selection\")\n",
    "c.dot"
   ]
  },
  {
   "cell_type": "markdown",
   "id": "homeless-stopping",
   "metadata": {},
   "source": [
    "highlight a different function"
   ]
  },
  {
   "cell_type": "code",
   "execution_count": null,
   "id": "incomplete-google",
   "metadata": {},
   "outputs": [],
   "source": [
    "c = ClassGraphTree(BaseParticleIOHandler, \"_read_particle_coords\")\n",
    "c.dot"
   ]
  },
  {
   "cell_type": "markdown",
   "id": "filled-maker",
   "metadata": {},
   "source": [
    "## 4. code similarity ?\n",
    "\n",
    "Each of the red nodes over-rides the selected function. How similar is each over-ride? \n",
    "\n",
    "https://github.com/fyrestone/pycode_similar is nice and easy: \"This is a simple plagiarism detection tool for python code, the basic idea is to normalize python AST representation and use difflib to get the modification from referenced code to candidate code.\"\n",
    "\n",
    "AST = abstract syntax trees (https://docs.python.org/3/library/ast.html, https://ruslanspivak.com/lsbasi-part7/)"
   ]
  },
  {
   "cell_type": "code",
   "execution_count": null,
   "id": "negative-return",
   "metadata": {},
   "outputs": [],
   "source": [
    "import pycode_similar\n",
    "from yt.frontends.swift.io import IOHandlerSwift\n",
    "from yt.frontends.gadget.io import IOHandlerGadgetHDF5\n",
    "\n",
    "src_swift = textwrap.dedent(inspect.getsource(IOHandlerSwift._read_particle_coords))\n",
    "src_gadget = textwrap.dedent(inspect.getsource(IOHandlerGadgetHDF5._read_particle_coords))"
   ]
  },
  {
   "cell_type": "code",
   "execution_count": null,
   "id": "paperback-pregnancy",
   "metadata": {},
   "outputs": [],
   "source": [
    "# pycode_similar.detect([the reference, cadidate 1, candiate 2, ...])\n",
    "result = pycode_similar.detect([src_swift, src_swift, src_gadget])\n",
    "result"
   ]
  },
  {
   "cell_type": "code",
   "execution_count": null,
   "id": "parliamentary-butler",
   "metadata": {},
   "outputs": [],
   "source": [
    "# comparison of the same function\n",
    "def pull_result(result, indx):\n",
    "    return (result[indx][1][0].plagiarism_percent,\n",
    "            result[indx][1][0].plagiarism_count, \n",
    "            result[indx][1][0].total_count)\n",
    "\n",
    "pull_result(result, 0)\n"
   ]
  },
  {
   "cell_type": "code",
   "execution_count": null,
   "id": "industrial-indiana",
   "metadata": {},
   "outputs": [],
   "source": [
    "# gadget vs swift\n",
    "pull_result(result, 1)"
   ]
  },
  {
   "cell_type": "code",
   "execution_count": null,
   "id": "bizarre-brass",
   "metadata": {},
   "outputs": [],
   "source": [
    "# swift vs gadget\n",
    "pull_result(pycode_similar.detect([src_gadget, src_swift]), 0)"
   ]
  },
  {
   "cell_type": "markdown",
   "id": "comic-florist",
   "metadata": {},
   "source": [
    "not symmetric! intrinsic AST complexity or `pycode_similar` oddity? \n",
    "\n",
    "averaging from here on:"
   ]
  },
  {
   "cell_type": "code",
   "execution_count": null,
   "id": "extra-fortune",
   "metadata": {},
   "outputs": [],
   "source": [
    "r1 = pycode_similar.detect([src_swift, src_gadget])\n",
    "r2 = pycode_similar.detect([src_gadget, src_swift])\n",
    "\n",
    "(r1[0][1][0].plagiarism_percent + r2[0][1][0].plagiarism_percent)/2"
   ]
  },
  {
   "cell_type": "markdown",
   "id": "reliable-commercial",
   "metadata": {},
   "source": [
    "## 5. putting it all together\n",
    "\n",
    "things are getting complicated... new repo: https://github.com/chrishavlin/inheritance_explorer (not yt specific, but not tested on anything other than yt...)\n"
   ]
  },
  {
   "cell_type": "code",
   "execution_count": null,
   "id": "capable-reply",
   "metadata": {},
   "outputs": [],
   "source": [
    "import yt\n",
    "from inheritance_explorer import ClassGraphTree"
   ]
  },
  {
   "cell_type": "code",
   "execution_count": null,
   "id": "rental-motorcycle",
   "metadata": {},
   "outputs": [],
   "source": [
    "base_class = yt.utilities.io_handler.BaseParticleIOHandler\n",
    "# fname = \"_read_particle_selection\"\n",
    "fname = \"_read_particle_coords\""
   ]
  },
  {
   "cell_type": "code",
   "execution_count": null,
   "id": "numeric-league",
   "metadata": {},
   "outputs": [],
   "source": [
    "cgt = ClassGraphTree(base_class, funcname=fname)"
   ]
  },
  {
   "cell_type": "code",
   "execution_count": null,
   "id": "empirical-dinner",
   "metadata": {},
   "outputs": [],
   "source": [
    "cgt.digraph()"
   ]
  },
  {
   "cell_type": "markdown",
   "id": "above-enclosure",
   "metadata": {},
   "source": [
    "but now... pull the source code everytime the function gets over-ridden and then do a similarity test for every permuatation to get a \"similarity matrix\""
   ]
  },
  {
   "cell_type": "code",
   "execution_count": null,
   "id": "elder-blend",
   "metadata": {},
   "outputs": [],
   "source": [
    "M = cgt.similarity_results['matrix']\n",
    "M.shape"
   ]
  },
  {
   "cell_type": "code",
   "execution_count": null,
   "id": "circular-basics",
   "metadata": {},
   "outputs": [],
   "source": [
    "import matplotlib.pyplot as plt\n",
    "plt.figure(figsize=(12, 12))\n",
    "\n",
    "plt.imshow(M)\n",
    "_ = plt.gca().set_xticks(range(M.shape[0]))\n",
    "_ = plt.gca().set_yticks(range(M.shape[0]))\n",
    "plt.colorbar()"
   ]
  },
  {
   "cell_type": "markdown",
   "id": "other-wagon",
   "metadata": {},
   "source": [
    "each row and column is a child class, the color is how similar the function source is to other instances of overriding the function:\n",
    "\n",
    "* diagonal is always 1 (a self comparison)\n",
    "* symmetric because I'm averaging each comparison direction\n",
    "\n",
    "Look for similarity above some cutoff:"
   ]
  },
  {
   "cell_type": "code",
   "execution_count": null,
   "id": "diagnostic-dealer",
   "metadata": {},
   "outputs": [],
   "source": [
    "cgt.similarity_cutoff"
   ]
  },
  {
   "cell_type": "code",
   "execution_count": null,
   "id": "environmental-reality",
   "metadata": {},
   "outputs": [],
   "source": [
    "plt.figure(figsize=(8, 8))\n",
    "plt.imshow(M * (M>=cgt.similarity_cutoff), cmap=\"gray\")\n",
    "_ = plt.gca().set_xticks(range(M.shape[0]))\n",
    "_ = plt.gca().set_yticks(range(M.shape[0]))"
   ]
  },
  {
   "cell_type": "markdown",
   "id": "instrumental-thumbnail",
   "metadata": {},
   "source": [
    "since each row, column refers back to a node, we can add it to the graph!"
   ]
  },
  {
   "cell_type": "code",
   "execution_count": null,
   "id": "mechanical-heading",
   "metadata": {},
   "outputs": [],
   "source": [
    "cgt.digraph(include_similarity=True) "
   ]
  },
  {
   "cell_type": "markdown",
   "id": "grateful-murray",
   "metadata": {},
   "source": [
    "* black arrows: inheritance (same as before)\n",
    "* red outlines: the selected function is overridden\n",
    "* isolated red outline: did not find any other classes function source above cutoff\n",
    "* colored arrows: point between classes containing function source above similarity cutoff. The actual color isn't meaningful... yet?\n",
    "\n",
    "Look at that gadget, Halo loop! and the Swift, OWLs, Gadaget Binary loop!\n",
    "\n",
    "The simimilarity loops distinct from inheritance structure suggests there are simplifications to be made!"
   ]
  },
  {
   "cell_type": "markdown",
   "id": "opponent-nylon",
   "metadata": {},
   "source": [
    "# improvements?\n",
    "\n",
    "* Static graph: color nodes or arrow by similarity value\n",
    "* code similarity: other methods? build in the similarity matrix plot cause it's neat?\n",
    "\n",
    "Interactivity?\n",
    "* a node editor? the node list is separate from the graphviz digraph construction, easy to export as json (or whatever)\n",
    "* display the similarity arrows when hovering over a node?\n",
    "* option to display source code?\n",
    "* open the source code in external editor?"
   ]
  },
  {
   "cell_type": "code",
   "execution_count": null,
   "id": "reflected-oliver",
   "metadata": {},
   "outputs": [],
   "source": [
    "import subprocess\n",
    "file_list = list(cgt._override_src_files.values()) # list of files and line numbers of the functions\n",
    "vscode_args = ['code',\"-g\"] + file_list[:3]\n",
    "_ = subprocess.Popen(vscode_args)"
   ]
  },
  {
   "cell_type": "markdown",
   "id": "steady-antigua",
   "metadata": {},
   "source": [
    "* other packages for code comparison? I didn't find any that let me isolate a single function of my choice like this... \n",
    "* any other parts of yt (or other packages) that might be interesting to map out? "
   ]
  },
  {
   "cell_type": "code",
   "execution_count": null,
   "id": "announced-boards",
   "metadata": {},
   "outputs": [],
   "source": []
  }
 ],
 "metadata": {
  "kernelspec": {
   "display_name": "Python 3",
   "language": "python",
   "name": "python3"
  },
  "language_info": {
   "codemirror_mode": {
    "name": "ipython",
    "version": 3
   },
   "file_extension": ".py",
   "mimetype": "text/x-python",
   "name": "python",
   "nbconvert_exporter": "python",
   "pygments_lexer": "ipython3",
   "version": "3.8.0"
  }
 },
 "nbformat": 4,
 "nbformat_minor": 5
}
