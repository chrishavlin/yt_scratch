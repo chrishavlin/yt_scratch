{
 "cells": [
  {
   "cell_type": "markdown",
   "id": "5fe375b0-59d4-4d13-8024-34a06a1ece2e",
   "metadata": {},
   "source": [
    "## splitting a domain into a tile of stretched grids\n",
    "\n",
    "Requires all grids to be at level 0. \n",
    "\n",
    "Let's build a test set that we will split further:"
   ]
  },
  {
   "cell_type": "code",
   "execution_count": 61,
   "id": "6e6461c0-62c4-4d6f-8177-75bfed98584b",
   "metadata": {},
   "outputs": [
    {
     "name": "stdout",
     "output_type": "stream",
     "text": [
      "(99, 79, 39)\n"
     ]
    }
   ],
   "source": [
    "import numpy as np \n",
    "\n",
    "# initial gridding with variable widths \n",
    "\n",
    "x_wids = np.linspace(0, 1, 40)\n",
    "y_wids = np.linspace(0, 1, 80)\n",
    "z_wids = np.linspace(0, 1, 100)\n",
    "\n",
    "x = np.cumsum(x_wids)\n",
    "y = np.cumsum(y_wids)\n",
    "z = np.cumsum(z_wids)\n",
    "\n",
    "# rescale domain from 0 to 1\n",
    "\n",
    "x = x / x.max()  # cell edges\n",
    "x_wids = x[1:] - x[:-1] # cell widths\n",
    "\n",
    "y = y / y.max()\n",
    "y_wids = y[1:] - y[:-1]\n",
    "\n",
    "z = z / z.max()\n",
    "z_wids = z[1:] - z[:-1]\n",
    "\n",
    "\n",
    "# assuming data is defined at cell centers \n",
    "\n",
    "shape = (len(z_wids), len(y_wids), len(x_wids))\n",
    "data = {'density': np.random.random(shape)} \n",
    "print(shape)"
   ]
  },
  {
   "cell_type": "code",
   "execution_count": 62,
   "id": "78150dbe-d7c6-40d3-987a-b49c22a86b3f",
   "metadata": {},
   "outputs": [
    {
     "data": {
      "text/plain": [
       "(array([0.00128205, 0.0025641 , 0.00384615, 0.00512821, 0.00641026,\n",
       "        0.00769231, 0.00897436, 0.01025641, 0.01153846, 0.01282051,\n",
       "        0.01410256, 0.01538462, 0.01666667, 0.01794872, 0.01923077,\n",
       "        0.02051282, 0.02179487, 0.02307692, 0.02435897, 0.02564103,\n",
       "        0.02692308, 0.02820513, 0.02948718, 0.03076923, 0.03205128,\n",
       "        0.03333333, 0.03461538, 0.03589744, 0.03717949, 0.03846154,\n",
       "        0.03974359, 0.04102564, 0.04230769, 0.04358974, 0.04487179,\n",
       "        0.04615385, 0.0474359 , 0.04871795, 0.05      ]),\n",
       " array([0.        , 0.00128205, 0.00384615, 0.00769231, 0.01282051,\n",
       "        0.01923077, 0.02692308, 0.03589744, 0.04615385, 0.05769231,\n",
       "        0.07051282, 0.08461538, 0.1       , 0.11666667, 0.13461538,\n",
       "        0.15384615, 0.17435897, 0.19615385, 0.21923077, 0.24358974,\n",
       "        0.26923077, 0.29615385, 0.32435897, 0.35384615, 0.38461538,\n",
       "        0.41666667, 0.45      , 0.48461538, 0.52051282, 0.55769231,\n",
       "        0.59615385, 0.63589744, 0.67692308, 0.71923077, 0.76282051,\n",
       "        0.80769231, 0.85384615, 0.90128205, 0.95      , 1.        ]))"
      ]
     },
     "execution_count": 62,
     "metadata": {},
     "output_type": "execute_result"
    }
   ],
   "source": [
    "x_wids, x"
   ]
  },
  {
   "cell_type": "markdown",
   "id": "d82745ef-a44b-4b1e-88cc-60c7cf94c368",
   "metadata": {},
   "source": [
    "domain decomposition: splitting by element still makes sense, but we need to correctly calculate edges. \n",
    "\n",
    "The function for decomposing, `yt.utilities.decompose.split_array`, assumes uniform spacing:\n",
    "\n",
    "```python\n",
    "def split_array(gle, gre, shape, psize):\n",
    "    \"\"\"Split array into px*py*pz subarrays.\"\"\"\n",
    "    n_d = np.array(shape, dtype=np.int64)\n",
    "    dds = (gre - gle) / shape\n",
    "    left_edges = []\n",
    "    right_edges = []\n",
    "    shapes = []\n",
    "    slices = []\n",
    "    for i in range(psize[0]):\n",
    "        for j in range(psize[1]):\n",
    "            for k in range(psize[2]):\n",
    "                piece = np.array((i, j, k), dtype=np.int64)\n",
    "                lei = n_d * piece // psize\n",
    "                rei = n_d * (piece + np.ones(3, dtype=np.int64)) // psize\n",
    "                lle = gle + lei * dds\n",
    "                lre = gle + rei * dds\n",
    "                left_edges.append(lle)\n",
    "                right_edges.append(lre)\n",
    "                shapes.append(rei - lei)\n",
    "                slices.append(np.s_[lei[0] : rei[0], lei[1] : rei[1], lei[2] : rei[2]])\n",
    "\n",
    "    return left_edges, right_edges, shapes, slices\n",
    "```\n",
    "\n",
    "so let's first right this differently... first, it's OK to still use `get_psize` to get the number of grids since this works entirely in index space. So if we want to balance by number of elements in each grid, let's do that:"
   ]
  },
  {
   "cell_type": "code",
   "execution_count": 63,
   "id": "3e35f50c-8e29-44a1-be51-e9acfa5427d7",
   "metadata": {},
   "outputs": [],
   "source": [
    "from yt.utilities.decompose import get_psize "
   ]
  },
  {
   "cell_type": "code",
   "execution_count": 64,
   "id": "6c7d34a0-a36e-4236-be6b-420bd996b21a",
   "metadata": {},
   "outputs": [
    {
     "name": "stdout",
     "output_type": "stream",
     "text": [
      "[4 2 1]\n"
     ]
    }
   ],
   "source": [
    "psize = get_psize(np.array(shape), 8)  # 8 subgrids (or \"pieces\")\n",
    "print(psize)"
   ]
  },
  {
   "cell_type": "markdown",
   "id": "f6d0ed91-c11a-48b1-847c-fe42c9def91d",
   "metadata": {},
   "source": [
    "first, a function to split the array indices:"
   ]
  },
  {
   "cell_type": "code",
   "execution_count": 65,
   "id": "a9bb8525-9d6a-410a-9244-548c303c2643",
   "metadata": {},
   "outputs": [],
   "source": [
    "\n",
    "def split_array_indices(shape, psize):\n",
    "    \"\"\"Split array into px*py*pz subarrays.\"\"\"\n",
    "    n_d = np.array(shape, dtype=np.int64)    \n",
    "    left_edge_i = []\n",
    "    right_edge_i = []\n",
    "    shapes = []\n",
    "    slices = []\n",
    "    for i in range(psize[0]):\n",
    "        for j in range(psize[1]):\n",
    "            for k in range(psize[2]):\n",
    "                piece = np.array((i, j, k), dtype=np.int64)\n",
    "                lei = n_d * piece // psize\n",
    "                rei = n_d * (piece + np.ones(3, dtype=np.int64)) // psize                \n",
    "                left_edge_i.append(lei)\n",
    "                right_edge_i.append(rei)\n",
    "                shapes.append(rei - lei)\n",
    "                slices.append(np.s_[lei[0] : rei[0], lei[1] : rei[1], lei[2] : rei[2]])\n",
    "\n",
    "    return left_edge_i, right_edge_i, shapes, slices\n"
   ]
  },
  {
   "cell_type": "code",
   "execution_count": 66,
   "id": "a245d63f-0432-4bf2-85f9-57a8c40d59c4",
   "metadata": {},
   "outputs": [],
   "source": [
    "le_i, re_i, shapes, slices = split_array_indices(np.array(shape), psize)"
   ]
  },
  {
   "cell_type": "code",
   "execution_count": 67,
   "id": "04c35750-295f-4d0d-9eb2-42d28e97a6f8",
   "metadata": {},
   "outputs": [
    {
     "data": {
      "text/plain": [
       "[array([0, 0, 0]),\n",
       " array([ 0, 39,  0]),\n",
       " array([24,  0,  0]),\n",
       " array([24, 39,  0]),\n",
       " array([49,  0,  0]),\n",
       " array([49, 39,  0]),\n",
       " array([74,  0,  0]),\n",
       " array([74, 39,  0])]"
      ]
     },
     "execution_count": 67,
     "metadata": {},
     "output_type": "execute_result"
    }
   ],
   "source": [
    "le_i"
   ]
  },
  {
   "cell_type": "code",
   "execution_count": 68,
   "id": "8c754255-28cd-4930-92dd-40a315295fd8",
   "metadata": {},
   "outputs": [
    {
     "data": {
      "text/plain": [
       "[array([24, 39, 39]),\n",
       " array([24, 79, 39]),\n",
       " array([49, 39, 39]),\n",
       " array([49, 79, 39]),\n",
       " array([74, 39, 39]),\n",
       " array([74, 79, 39]),\n",
       " array([99, 39, 39]),\n",
       " array([99, 79, 39])]"
      ]
     },
     "execution_count": 68,
     "metadata": {},
     "output_type": "execute_result"
    }
   ],
   "source": [
    "re_i"
   ]
  },
  {
   "cell_type": "code",
   "execution_count": 69,
   "id": "b625a23c-2d6f-40a4-b5fd-784a1988ebcb",
   "metadata": {},
   "outputs": [
    {
     "data": {
      "text/plain": [
       "[array([24, 39, 39]),\n",
       " array([24, 40, 39]),\n",
       " array([25, 39, 39]),\n",
       " array([25, 40, 39]),\n",
       " array([25, 39, 39]),\n",
       " array([25, 40, 39]),\n",
       " array([25, 39, 39]),\n",
       " array([25, 40, 39])]"
      ]
     },
     "execution_count": 69,
     "metadata": {},
     "output_type": "execute_result"
    }
   ],
   "source": [
    "shapes"
   ]
  },
  {
   "cell_type": "markdown",
   "id": "07a502a0-75b2-4b29-aff4-b9044a174784",
   "metadata": {},
   "source": [
    "so we see the index ranges for each grid. now we need to get the left and right edges of each grid, along with the internal node positions. For a single grid, this would be:"
   ]
  },
  {
   "cell_type": "markdown",
   "id": "59f1dea5-df07-476c-94a6-5b599f4f8981",
   "metadata": {},
   "source": [
    "so we see the index ranges for each grid. now we need to get the left and right edges of each grid, along with the internal node positions"
   ]
  },
  {
   "cell_type": "code",
   "execution_count": 58,
   "id": "119c3af9-d0e0-4fc9-9e0b-1fcd3446d62d",
   "metadata": {},
   "outputs": [],
   "source": [
    "grid_i = 3\n",
    "\n",
    "left_edge = (z[le_i[grid_i][0]], y[le_i[grid_i][1]], x[le_i[grid_i][2]])\n",
    "right_edge = (z[re_i[grid_i][0]-1], y[re_i[grid_i][1]-1], x[re_i[grid_i][2]-1])\n",
    "\n"
   ]
  },
  {
   "cell_type": "code",
   "execution_count": 59,
   "id": "d4cc31c8-407a-4618-834e-fdec43a728ff",
   "metadata": {},
   "outputs": [
    {
     "data": {
      "text/plain": [
       "(0.06060606060606061, 0.24489795918367346, 0.0)"
      ]
     },
     "execution_count": 59,
     "metadata": {},
     "output_type": "execute_result"
    }
   ],
   "source": [
    "left_edge"
   ]
  },
  {
   "cell_type": "code",
   "execution_count": 60,
   "id": "642c0da8-a5fa-48db-9bca-b01bfcd81b9f",
   "metadata": {},
   "outputs": [
    {
     "data": {
      "text/plain": [
       "(0.23757575757575758, 0.96, 0.9)"
      ]
     },
     "execution_count": 60,
     "metadata": {},
     "output_type": "execute_result"
    }
   ],
   "source": [
    "right_edge"
   ]
  },
  {
   "cell_type": "code",
   "execution_count": null,
   "id": "53b372d7-2d6f-42c9-8e00-8bb55e844d24",
   "metadata": {},
   "outputs": [],
   "source": [
    "\n",
    "def split_array_indices(cell_widths, shape, psize):\n",
    "    \"\"\"Split array into px*py*pz subarrays.\"\"\"\n",
    "    n_d = np.array(shape, dtype=np.int64)    \n",
    "    left_edge_i = []\n",
    "    right_edge_i = []\n",
    "    shapes = []\n",
    "    slices = []\n",
    "    for i in range(psize[0]):\n",
    "        for j in range(psize[1]):\n",
    "            for k in range(psize[2]):\n",
    "                piece = np.array((i, j, k), dtype=np.int64)\n",
    "                lei = n_d * piece // psize\n",
    "                rei = n_d * (piece + np.ones(3, dtype=np.int64)) // psize\n",
    "                \n",
    "                \n",
    "                le_0 = cell_widths[0][:lei]\n",
    "                left_edge_i.append(lei)\n",
    "                right_edge_i.append(rei)\n",
    "                shapes.append(rei - lei)\n",
    "                slices.append(np.s_[lei[0] : rei[0], lei[1] : rei[1], lei[2] : rei[2]])\n",
    "\n",
    "    return left_edge_i, right_edge_i, shapes, slices\n"
   ]
  },
  {
   "cell_type": "code",
   "execution_count": 78,
   "id": "c4e654a0-ace6-4d7c-9999-a8460afee752",
   "metadata": {},
   "outputs": [
    {
     "data": {
      "text/plain": [
       "array([], dtype=float64)"
      ]
     },
     "execution_count": 78,
     "metadata": {},
     "output_type": "execute_result"
    }
   ],
   "source": [
    "b = z_wids[:0] \n"
   ]
  },
  {
   "cell_type": "code",
   "execution_count": 95,
   "id": "7d6d6823-ee01-4191-8d1f-06110a689ca6",
   "metadata": {},
   "outputs": [],
   "source": [
    "def get_dds_i(wid_i, lei_i, rei_i):\n",
    "    dds_i = wid_i[lei_i:rei_i]\n",
    "    if lei_i > 0: \n",
    "        \n",
    "        offset = np.array(wid_i[0:lei_i-1].sum())\n",
    "    else:\n",
    "        offset = np.array(wid_i[0])\n",
    "    le = offset - dds_i[0]/2.\n",
    "    re = le + dds_i[lei_i:rei_i].sum() + dds_i[-1]/2.  # not sure about the +/- 1/2\n",
    "    return dds_i, le, re                "
   ]
  },
  {
   "cell_type": "code",
   "execution_count": 100,
   "id": "aef2e513-b1a3-476a-b18d-779b6ac381af",
   "metadata": {},
   "outputs": [],
   "source": [
    "grid_i = 0\n",
    "dds_i_0, le_i_0, re_i_0 = get_dds_i(z_wids, le_i[grid_i][0], re_i[grid_i][0])\n",
    "dds_i_1, le_i_1, re_i_1 = get_dds_i(y_wids, le_i[grid_i][1], re_i[grid_i][1])\n",
    "dds_i_2, le_i_2, re_i_2 = get_dds_i(x_wids, le_i[grid_i][2], re_i[grid_i][2])"
   ]
  },
  {
   "cell_type": "code",
   "execution_count": 97,
   "id": "998f5479-4fb8-47b1-9418-6ce4b0ebd9e5",
   "metadata": {},
   "outputs": [
    {
     "data": {
      "text/plain": [
       "array([0.00020202, 0.00040404, 0.00060606, 0.00080808, 0.0010101 ,\n",
       "       0.00121212, 0.00141414, 0.00161616, 0.00181818, 0.0020202 ,\n",
       "       0.00222222, 0.00242424, 0.00262626, 0.00282828, 0.0030303 ,\n",
       "       0.00323232, 0.00343434, 0.00363636, 0.00383838, 0.0040404 ,\n",
       "       0.00424242, 0.00444444, 0.00464646, 0.00484848])"
      ]
     },
     "execution_count": 97,
     "metadata": {},
     "output_type": "execute_result"
    }
   ],
   "source": [
    "dds_0_0"
   ]
  },
  {
   "cell_type": "code",
   "execution_count": 98,
   "id": "eee4a3a4-9149-4f47-ac7b-7677eec70dd9",
   "metadata": {},
   "outputs": [
    {
     "data": {
      "text/plain": [
       "0.00010101010101010102"
      ]
     },
     "execution_count": 98,
     "metadata": {},
     "output_type": "execute_result"
    }
   ],
   "source": [
    "le_0_0"
   ]
  },
  {
   "cell_type": "code",
   "execution_count": 99,
   "id": "41b957e2-54e2-4b30-ab65-4b097bfe71c0",
   "metadata": {},
   "outputs": [
    {
     "data": {
      "text/plain": [
       "0.06313131313131312"
      ]
     },
     "execution_count": 99,
     "metadata": {},
     "output_type": "execute_result"
    }
   ],
   "source": [
    "re_0_0"
   ]
  },
  {
   "cell_type": "code",
   "execution_count": null,
   "id": "971eb458-4dec-401c-8445-5fdfca515925",
   "metadata": {},
   "outputs": [],
   "source": [
    "le = np.array(le_i_0, le_i_1, le_i_2)\n",
    "re = np.array(re_i_0, re_i_1, re_i_2)"
   ]
  }
 ],
 "metadata": {
  "kernelspec": {
   "display_name": "Python 3 (ipykernel)",
   "language": "python",
   "name": "python3"
  },
  "language_info": {
   "codemirror_mode": {
    "name": "ipython",
    "version": 3
   },
   "file_extension": ".py",
   "mimetype": "text/x-python",
   "name": "python",
   "nbconvert_exporter": "python",
   "pygments_lexer": "ipython3",
   "version": "3.9.4"
  }
 },
 "nbformat": 4,
 "nbformat_minor": 5
}
