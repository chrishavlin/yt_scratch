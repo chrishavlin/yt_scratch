{
 "cells": [
  {
   "cell_type": "markdown",
   "id": "057f0d5a-e7e7-4fff-bba1-263efa924d60",
   "metadata": {},
   "source": [
    "### particle chunk concatentation type cast order\n",
    "\n"
   ]
  },
  {
   "cell_type": "code",
   "execution_count": 1,
   "id": "f30ae3fd-aad7-476e-afae-3e76d990cba7",
   "metadata": {},
   "outputs": [],
   "source": [
    "import numpy as np "
   ]
  },
  {
   "cell_type": "code",
   "execution_count": 38,
   "id": "aea71c02-ffe7-4322-946c-411b66921502",
   "metadata": {},
   "outputs": [],
   "source": [
    "chunksize = int(1e8)\n",
    "chunks = 10"
   ]
  },
  {
   "cell_type": "code",
   "execution_count": 39,
   "id": "62374f00-c3ba-4e43-a54e-8cb05a6e88a7",
   "metadata": {},
   "outputs": [],
   "source": [
    "def get_chunk(chunksize):\n",
    "    # return list of arrays to concatentate    \n",
    "    return np.ones((chunksize,), dtype=\"int\")\n",
    "    \n",
    "    \n",
    "    "
   ]
  },
  {
   "cell_type": "code",
   "execution_count": 40,
   "id": "42a0ea9a-cf48-4d5b-aad3-1b85fd23ed23",
   "metadata": {},
   "outputs": [
    {
     "name": "stdout",
     "output_type": "stream",
     "text": [
      "14.5 s ± 1.22 s per loop (mean ± std. dev. of 7 runs, 1 loop each)\n"
     ]
    }
   ],
   "source": [
    "%%timeit\n",
    "chunk_list = []\n",
    "for _ in range(chunks):\n",
    "    chunk_list.append(get_chunk(chunksize))\n",
    "    \n",
    "result = np.concatenate(chunk_list, axis=0).astype(\"float64\")"
   ]
  },
  {
   "cell_type": "code",
   "execution_count": 41,
   "id": "c3f79587-7b04-4199-8d18-308d8a97635a",
   "metadata": {},
   "outputs": [
    {
     "name": "stdout",
     "output_type": "stream",
     "text": [
      "3.17 s ± 121 ms per loop (mean ± std. dev. of 7 runs, 1 loop each)\n"
     ]
    }
   ],
   "source": [
    "%%timeit\n",
    "chunk_list = []\n",
    "for _ in range(chunks):\n",
    "    chunk_list.append(get_chunk(chunksize).astype(\"float64\"))\n",
    "    \n",
    "result = np.concatenate(chunk_list, axis=0)"
   ]
  },
  {
   "cell_type": "code",
   "execution_count": 42,
   "id": "8da64809-5b52-4599-9b19-4591a74e3d98",
   "metadata": {},
   "outputs": [
    {
     "name": "stdout",
     "output_type": "stream",
     "text": [
      "2.99 s ± 9.97 ms per loop (mean ± std. dev. of 7 runs, 1 loop each)\n"
     ]
    }
   ],
   "source": [
    "%%timeit\n",
    "chunk_list = []\n",
    "for _ in range(chunks):\n",
    "    chunk_vals = get_chunk(chunksize)\n",
    "    if chunk_vals is not None:\n",
    "        chunk_vals = chunk_vals.astype(\"float64\")\n",
    "    chunk_list.append(chunk_vals)\n",
    "    \n",
    "result = np.concatenate(chunk_list, axis=0)"
   ]
  },
  {
   "cell_type": "code",
   "execution_count": null,
   "id": "1e181047-2684-4a70-91da-1447351d18dc",
   "metadata": {},
   "outputs": [],
   "source": []
  },
  {
   "cell_type": "code",
   "execution_count": null,
   "id": "dcfdbdb6-ef43-4234-be71-32fca49f0557",
   "metadata": {},
   "outputs": [],
   "source": []
  },
  {
   "cell_type": "code",
   "execution_count": 51,
   "id": "3c61bc3f-4dbc-4781-8f76-c2655110040e",
   "metadata": {},
   "outputs": [
    {
     "data": {
      "text/plain": [
       "['int16', 'int32', 'int64', 'float16', 'float32', 'float64']"
      ]
     },
     "execution_count": 51,
     "metadata": {},
     "output_type": "execute_result"
    }
   ],
   "source": [
    "bittypes = [\"16\", \"32\", \"64\"]\n",
    "dtypes = []\n",
    "for dtype in [\"int\", \"float\"]:\n",
    "    dtypes += [f\"{dtype}{btype}\" for btype in bittypes]\n",
    "dtypes"
   ]
  },
  {
   "cell_type": "code",
   "execution_count": 97,
   "id": "08fc438a-d0f7-4b9e-86ba-5b9a3b4cf6eb",
   "metadata": {},
   "outputs": [
    {
     "name": "stdout",
     "output_type": "stream",
     "text": [
      "from int16 to int16\n",
      "1.83 ms ± 104 µs per loop (mean ± std. dev. of 10 runs, 20 loops each)\n",
      "from int16 to int32\n",
      "4.95 ms ± 69.9 µs per loop (mean ± std. dev. of 10 runs, 20 loops each)\n",
      "from int16 to int64\n",
      "8.59 ms ± 76.1 µs per loop (mean ± std. dev. of 10 runs, 20 loops each)\n",
      "from int16 to float16\n",
      "39 ms ± 201 µs per loop (mean ± std. dev. of 10 runs, 20 loops each)\n",
      "from int16 to float32\n",
      "5.18 ms ± 208 µs per loop (mean ± std. dev. of 10 runs, 20 loops each)\n",
      "from int16 to float64\n",
      "8.83 ms ± 216 µs per loop (mean ± std. dev. of 10 runs, 20 loops each)\n",
      "from int32 to int16\n",
      "3.26 ms ± 79.5 µs per loop (mean ± std. dev. of 10 runs, 20 loops each)\n",
      "from int32 to int32\n",
      "6.43 ms ± 84 µs per loop (mean ± std. dev. of 10 runs, 20 loops each)\n",
      "from int32 to int64\n",
      "9.8 ms ± 407 µs per loop (mean ± std. dev. of 10 runs, 20 loops each)\n",
      "from int32 to float16\n",
      "37.3 ms ± 145 µs per loop (mean ± std. dev. of 10 runs, 20 loops each)\n",
      "from int32 to float32\n",
      "5.96 ms ± 175 µs per loop (mean ± std. dev. of 10 runs, 20 loops each)\n",
      "from int32 to float64\n",
      "10 ms ± 404 µs per loop (mean ± std. dev. of 10 runs, 20 loops each)\n",
      "from int64 to int16\n",
      "5.06 ms ± 104 µs per loop (mean ± std. dev. of 10 runs, 20 loops each)\n",
      "from int64 to int32\n",
      "7.74 ms ± 283 µs per loop (mean ± std. dev. of 10 runs, 20 loops each)\n",
      "from int64 to int64\n",
      "13.2 ms ± 354 µs per loop (mean ± std. dev. of 10 runs, 20 loops each)\n",
      "from int64 to float16\n",
      "40 ms ± 181 µs per loop (mean ± std. dev. of 10 runs, 20 loops each)\n",
      "from int64 to float32\n",
      "9.8 ms ± 331 µs per loop (mean ± std. dev. of 10 runs, 20 loops each)\n",
      "from int64 to float64\n",
      "12.4 ms ± 387 µs per loop (mean ± std. dev. of 10 runs, 20 loops each)\n",
      "from float16 to int16\n",
      "27.8 ms ± 88.7 µs per loop (mean ± std. dev. of 10 runs, 20 loops each)\n",
      "from float16 to int32\n",
      "33.1 ms ± 183 µs per loop (mean ± std. dev. of 10 runs, 20 loops each)\n",
      "from float16 to int64\n",
      "33.5 ms ± 210 µs per loop (mean ± std. dev. of 10 runs, 20 loops each)\n",
      "from float16 to float16\n",
      "1.31 ms ± 67.3 µs per loop (mean ± std. dev. of 10 runs, 20 loops each)\n",
      "from float16 to float32\n",
      "21.7 ms ± 139 µs per loop (mean ± std. dev. of 10 runs, 20 loops each)\n",
      "from float16 to float64\n",
      "35.9 ms ± 140 µs per loop (mean ± std. dev. of 10 runs, 20 loops each)\n",
      "from float32 to int16\n",
      "3.4 ms ± 109 µs per loop (mean ± std. dev. of 10 runs, 20 loops each)\n",
      "from float32 to int32\n",
      "6.05 ms ± 239 µs per loop (mean ± std. dev. of 10 runs, 20 loops each)\n",
      "from float32 to int64\n",
      "10.6 ms ± 98.6 µs per loop (mean ± std. dev. of 10 runs, 20 loops each)\n",
      "from float32 to float16\n",
      "30.6 ms ± 143 µs per loop (mean ± std. dev. of 10 runs, 20 loops each)\n",
      "from float32 to float32\n",
      "6.8 ms ± 284 µs per loop (mean ± std. dev. of 10 runs, 20 loops each)\n",
      "from float32 to float64\n",
      "10.2 ms ± 387 µs per loop (mean ± std. dev. of 10 runs, 20 loops each)\n",
      "from float64 to int16\n",
      "5.8 ms ± 164 µs per loop (mean ± std. dev. of 10 runs, 20 loops each)\n",
      "from float64 to int32\n",
      "8.11 ms ± 139 µs per loop (mean ± std. dev. of 10 runs, 20 loops each)\n",
      "from float64 to int64\n",
      "12.8 ms ± 385 µs per loop (mean ± std. dev. of 10 runs, 20 loops each)\n",
      "from float64 to float16\n",
      "35.6 ms ± 182 µs per loop (mean ± std. dev. of 10 runs, 20 loops each)\n",
      "from float64 to float32\n",
      "8.72 ms ± 380 µs per loop (mean ± std. dev. of 10 runs, 20 loops each)\n",
      "from float64 to float64\n",
      "12.3 ms ± 126 µs per loop (mean ± std. dev. of 10 runs, 20 loops each)\n"
     ]
    }
   ],
   "source": [
    "import numpy as np\n",
    "\n",
    "vals_best = np.zeros((len(dtypes), len(dtypes)))\n",
    "vals_ave = np.zeros((len(dtypes), len(dtypes)))\n",
    "\n",
    "n = int(1e7)\n",
    "\n",
    "for i_from, dtype_from in enumerate(dtypes):\n",
    "    for i_to, dtype_to in enumerate(dtypes):\n",
    "        b = np.ones((n,), dtype=dtype_from)\n",
    "        print(f\"from {dtype_from} to {dtype_to}\")\n",
    "        result = %timeit -n 20 -r 10 -o x = b.astype(dtype_to)\n",
    "        vals_best[i_from, i_to] = result.best\n",
    "        vals_ave[i_from, i_to] = result.average\n"
   ]
  },
  {
   "cell_type": "code",
   "execution_count": 104,
   "id": "f4204061-293d-48f7-a91d-666808e3c09b",
   "metadata": {},
   "outputs": [
    {
     "data": {
      "text/plain": [
       "array([[0.00183333, 0.00494814, 0.00858758, 0.03897181, 0.00518369,\n",
       "        0.00883442],\n",
       "       [0.00326183, 0.00643378, 0.00980492, 0.03731136, 0.00595639,\n",
       "        0.01004493],\n",
       "       [0.00505699, 0.00773735, 0.01316666, 0.04003745, 0.0097958 ,\n",
       "        0.0123682 ],\n",
       "       [0.02775951, 0.03311304, 0.0335287 , 0.00131025, 0.02171995,\n",
       "        0.03586415],\n",
       "       [0.00340246, 0.00605119, 0.01056642, 0.03055845, 0.00680273,\n",
       "        0.01018154],\n",
       "       [0.00580139, 0.00810732, 0.01279994, 0.03560552, 0.00871935,\n",
       "        0.01228621]])"
      ]
     },
     "execution_count": 104,
     "metadata": {},
     "output_type": "execute_result"
    }
   ],
   "source": [
    "vals_ave"
   ]
  },
  {
   "cell_type": "code",
   "execution_count": 105,
   "id": "2091e1e9-5468-4dcd-ac57-f7ea858d2a96",
   "metadata": {},
   "outputs": [
    {
     "data": {
      "text/plain": [
       "array([[0.00173263, 0.00487256, 0.00845992, 0.0387344 , 0.0049375 ,\n",
       "        0.00862253],\n",
       "       [0.00316919, 0.00628883, 0.0093055 , 0.03713874, 0.00576919,\n",
       "        0.00953648],\n",
       "       [0.00494247, 0.00742396, 0.01238488, 0.03989579, 0.0094871 ,\n",
       "        0.0121002 ],\n",
       "       [0.02765555, 0.03289047, 0.03325754, 0.0012204 , 0.02152496,\n",
       "        0.03569627],\n",
       "       [0.00324962, 0.0057259 , 0.01042656, 0.0303529 , 0.0064013 ,\n",
       "        0.00948433],\n",
       "       [0.00563293, 0.0079303 , 0.01242316, 0.03537925, 0.00809779,\n",
       "        0.01211935]])"
      ]
     },
     "execution_count": 105,
     "metadata": {},
     "output_type": "execute_result"
    }
   ],
   "source": [
    "vals_best"
   ]
  },
  {
   "cell_type": "code",
   "execution_count": 106,
   "id": "a382275a-02f2-4c46-92c7-6daae7e26126",
   "metadata": {},
   "outputs": [
    {
     "data": {
      "text/plain": [
       "<matplotlib.colorbar.Colorbar at 0x7f1eb39ec3d0>"
      ]
     },
     "execution_count": 106,
     "metadata": {},
     "output_type": "execute_result"
    },
    {
     "data": {
      "image/png": "[encoded data removed]",
      "text/plain": [
       "<Figure size 576x720 with 4 Axes>"
      ]
     },
     "metadata": {
      "needs_background": "light"
     },
     "output_type": "display_data"
    }
   ],
   "source": [
    "import matplotlib.pyplot as plt\n",
    "from matplotlib.colors import LogNorm\n",
    "\n",
    "lnorm = LogNorm(vmin=1, vmax=100)\n",
    "f,axs = plt.subplots(2, 1, figsize=(8,10))\n",
    "\n",
    "ax = axs[0]\n",
    "im = ax.imshow(vals_best*1000, cmap=\"copper\", norm=lnorm, origin='lower')\n",
    "ax.set_xticks(range(len(dtypes)))\n",
    "ax.set_xticklabels(dtypes)\n",
    "ax.set_xlabel(\"to\")\n",
    "ax.set_yticks(range(len(dtypes)))\n",
    "ax.set_yticklabels(dtypes)\n",
    "ax.set_ylabel(\"from\")\n",
    "plt.colorbar(im, ax=ax, label=\"best time [ms]\")\n",
    "\n",
    "ax = axs[1]\n",
    "im = ax.imshow(vals_ave*1000, cmap=\"copper\", norm=lnorm, origin='lower')\n",
    "ax.set_xticks(range(len(dtypes)))\n",
    "ax.set_xticklabels(dtypes)\n",
    "ax.set_xlabel(\"to\")\n",
    "ax.set_yticks(range(len(dtypes)))\n",
    "ax.set_yticklabels(dtypes)\n",
    "ax.set_ylabel(\"from\")\n",
    "plt.colorbar(im, ax=ax, label=\"average time [ms]\")"
   ]
  },
  {
   "cell_type": "code",
   "execution_count": null,
   "id": "0be08847-699f-40d1-b90a-8e9b64a7c834",
   "metadata": {},
   "outputs": [],
   "source": []
  },
  {
   "cell_type": "code",
   "execution_count": null,
   "id": "6d9f36e5-c970-47d7-82b4-d44e9eaf7078",
   "metadata": {},
   "outputs": [],
   "source": []
  },
  {
   "cell_type": "code",
   "execution_count": null,
   "id": "45b7d2b8-1f1b-40bc-8434-e8b70df39804",
   "metadata": {},
   "outputs": [],
   "source": []
  },
  {
   "cell_type": "code",
   "execution_count": null,
   "id": "6a99f45e-1297-413d-95ee-0a388a5a914b",
   "metadata": {},
   "outputs": [],
   "source": []
  },
  {
   "cell_type": "code",
   "execution_count": 39,
   "id": "92b80741-872a-4b8b-b7fd-8e3fb06df2e3",
   "metadata": {},
   "outputs": [],
   "source": [
    "n = int(1e7)\n",
    "b = np.ones((n,), dtype=\"int16\")"
   ]
  },
  {
   "cell_type": "code",
   "execution_count": 58,
   "id": "8c88c5f3-f0cc-443f-bb1b-a6445fe9e15e",
   "metadata": {},
   "outputs": [
    {
     "name": "stdout",
     "output_type": "stream",
     "text": [
      "12.6 ms ± 556 µs per loop (mean ± std. dev. of 10 runs, 20 loops each)\n"
     ]
    }
   ],
   "source": [
    "result = %timeit -n 20 -r 10 -o x = b.astype(\"float64\")"
   ]
  },
  {
   "cell_type": "code",
   "execution_count": 61,
   "id": "bcdc26cf-af89-4c40-a942-a3f6ad3fa4fd",
   "metadata": {},
   "outputs": [
    {
     "data": {
      "text/plain": [
       "0.011953547247685492"
      ]
     },
     "execution_count": 61,
     "metadata": {},
     "output_type": "execute_result"
    }
   ],
   "source": [
    "result.best"
   ]
  },
  {
   "cell_type": "code",
   "execution_count": 42,
   "id": "053adec8-f7fd-4c5f-83f0-cb01d702b1cd",
   "metadata": {},
   "outputs": [
    {
     "name": "stdout",
     "output_type": "stream",
     "text": [
      "39.4 ms ± 293 µs per loop (mean ± std. dev. of 10 runs, 20 loops each)\n"
     ]
    }
   ],
   "source": [
    "%%timeit -n 20 -r 10\n",
    "c = b.astype(\"float16\")"
   ]
  },
  {
   "cell_type": "code",
   "execution_count": 43,
   "id": "afa549e8-94bd-45b3-a4ee-3395de04d659",
   "metadata": {},
   "outputs": [
    {
     "name": "stdout",
     "output_type": "stream",
     "text": [
      "5.02 ms ± 67 µs per loop (mean ± std. dev. of 10 runs, 20 loops each)\n"
     ]
    }
   ],
   "source": [
    "%%timeit -n 20 -r 10\n",
    "c = b.astype(\"float32\")"
   ]
  },
  {
   "cell_type": "code",
   "execution_count": 44,
   "id": "9e90e59e-280b-42a9-84ef-ef42e429b1df",
   "metadata": {},
   "outputs": [
    {
     "name": "stdout",
     "output_type": "stream",
     "text": [
      "8.96 ms ± 384 µs per loop (mean ± std. dev. of 10 runs, 20 loops each)\n"
     ]
    }
   ],
   "source": [
    "%%timeit -n 20 -r 10\n",
    "c = b.astype(\"int64\")"
   ]
  },
  {
   "cell_type": "code",
   "execution_count": null,
   "id": "7dd48a43-c40e-494f-a3dd-89b0dfca2e2d",
   "metadata": {},
   "outputs": [],
   "source": []
  },
  {
   "cell_type": "code",
   "execution_count": null,
   "id": "87691e66-bfed-416f-b50b-50aa35005b5a",
   "metadata": {},
   "outputs": [],
   "source": []
  },
  {
   "cell_type": "code",
   "execution_count": null,
   "id": "831b2cbd-2617-4f34-a7f5-0dfc5194ab10",
   "metadata": {},
   "outputs": [],
   "source": []
  },
  {
   "cell_type": "code",
   "execution_count": null,
   "id": "9de79658-fb0f-4018-b643-3e0082f8e83e",
   "metadata": {},
   "outputs": [],
   "source": []
  },
  {
   "cell_type": "code",
   "execution_count": 45,
   "id": "4f6de279-4739-4ba4-9d0b-1790d9da525b",
   "metadata": {},
   "outputs": [],
   "source": [
    "b = np.ones((n,), dtype=\"int64\")"
   ]
  },
  {
   "cell_type": "code",
   "execution_count": 46,
   "id": "ebc3e1fb-eca4-4dfa-a3de-15726e371e5b",
   "metadata": {},
   "outputs": [
    {
     "name": "stdout",
     "output_type": "stream",
     "text": [
      "13.1 ms ± 509 µs per loop (mean ± std. dev. of 10 runs, 20 loops each)\n"
     ]
    }
   ],
   "source": [
    "%%timeit -n 20 -r 10\n",
    "c = b.astype(\"float64\")"
   ]
  },
  {
   "cell_type": "code",
   "execution_count": 47,
   "id": "45e48054-de95-45ee-bf42-f9d0a5d0034e",
   "metadata": {},
   "outputs": [
    {
     "name": "stdout",
     "output_type": "stream",
     "text": [
      "40.4 ms ± 278 µs per loop (mean ± std. dev. of 10 runs, 20 loops each)\n"
     ]
    }
   ],
   "source": [
    "%%timeit -n 20 -r 10\n",
    "c = b.astype(\"float16\")"
   ]
  },
  {
   "cell_type": "code",
   "execution_count": 48,
   "id": "2c26cceb-ec09-4825-a178-62793844c5ca",
   "metadata": {},
   "outputs": [
    {
     "name": "stdout",
     "output_type": "stream",
     "text": [
      "9.7 ms ± 300 µs per loop (mean ± std. dev. of 10 runs, 20 loops each)\n"
     ]
    }
   ],
   "source": [
    "%%timeit -n 20 -r 10\n",
    "c = b.astype(\"float32\")"
   ]
  },
  {
   "cell_type": "code",
   "execution_count": 49,
   "id": "9b57b656-c932-4355-9e05-84e642dc7b88",
   "metadata": {},
   "outputs": [
    {
     "name": "stdout",
     "output_type": "stream",
     "text": [
      "5.41 ms ± 357 µs per loop (mean ± std. dev. of 10 runs, 20 loops each)\n"
     ]
    }
   ],
   "source": [
    "%%timeit -n 20 -r 10\n",
    "c = b.astype(\"int16\")"
   ]
  },
  {
   "cell_type": "code",
   "execution_count": null,
   "id": "678f825e-74a1-4843-b58d-a18d8fb2194c",
   "metadata": {},
   "outputs": [],
   "source": []
  },
  {
   "cell_type": "code",
   "execution_count": 12,
   "id": "6d592510-cecf-4799-84c9-920d70c65ced",
   "metadata": {},
   "outputs": [],
   "source": [
    "b = np.ones((n,), dtype=\"float16\")"
   ]
  },
  {
   "cell_type": "code",
   "execution_count": 13,
   "id": "ca9c2a96-1297-49a0-8b51-472cfb58c409",
   "metadata": {},
   "outputs": [
    {
     "name": "stdout",
     "output_type": "stream",
     "text": [
      "3.07 ms ± 34.9 µs per loop (mean ± std. dev. of 7 runs, 100 loops each)\n"
     ]
    }
   ],
   "source": [
    "%%timeit\n",
    "c = b.astype(\"float64\")"
   ]
  },
  {
   "cell_type": "code",
   "execution_count": null,
   "id": "dde98f76-2e8a-4e3f-a30c-d2ebfade265b",
   "metadata": {},
   "outputs": [],
   "source": []
  }
 ],
 "metadata": {
  "kernelspec": {
   "display_name": "Python 3 (ipykernel)",
   "language": "python",
   "name": "python3"
  },
  "language_info": {
   "codemirror_mode": {
    "name": "ipython",
    "version": 3
   },
   "file_extension": ".py",
   "mimetype": "text/x-python",
   "name": "python",
   "nbconvert_exporter": "python",
   "pygments_lexer": "ipython3",
   "version": "3.9.1"
  }
 },
 "nbformat": 4,
 "nbformat_minor": 5
}
