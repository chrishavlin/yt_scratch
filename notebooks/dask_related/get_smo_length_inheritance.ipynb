{
 "cells": [
  {
   "cell_type": "code",
   "execution_count": 2,
   "metadata": {},
   "outputs": [
    {
     "data": {
      "text/html": [
       "\n",
       "        <iframe\n",
       "            width=\"1200px\"\n",
       "            height=\"800px\"\n",
       "            src=\"tmp.html\"\n",
       "            frameborder=\"0\"\n",
       "            allowfullscreen\n",
       "            \n",
       "        ></iframe>\n",
       "        "
      ],
      "text/plain": [
       "<IPython.lib.display.IFrame at 0x7fbe8acde3d0>"
      ]
     },
     "execution_count": 2,
     "metadata": {},
     "output_type": "execute_result"
    }
   ],
   "source": [
    "import yt\n",
    "from inheritance_explorer import ClassGraphTree\n",
    "from yt.frontends.sph.io import IOHandlerSPH\n",
    "base_class = IOHandlerSPH\n",
    "fname = \"_get_smoothing_length\"\n",
    "\n",
    "cgt = ClassGraphTree(base_class, funcname=fname) # traces an inheritance tree\n",
    "graph = cgt.build_interactive_graph(width=\"1200px\", \n",
    "                                    height=\"800px\", \n",
    "                                    bgcolor='#222222', \n",
    "                                    font_color='white') # constructs a pyvis interactive graph\n",
    "graph.show('tmp.html')  # a pyvis interactive graph"
   ]
  },
  {
   "cell_type": "code",
   "execution_count": null,
   "metadata": {},
   "outputs": [],
   "source": []
  },
  {
   "cell_type": "code",
   "execution_count": 1,
   "metadata": {},
   "outputs": [
    {
     "data": {
      "text/html": [
       "\n",
       "        <iframe\n",
       "            width=\"1200px\"\n",
       "            height=\"800px\"\n",
       "            src=\"tmp.html\"\n",
       "            frameborder=\"0\"\n",
       "            allowfullscreen\n",
       "            \n",
       "        ></iframe>\n",
       "        "
      ],
      "text/plain": [
       "<IPython.lib.display.IFrame at 0x7f959e6fbc70>"
      ]
     },
     "execution_count": 1,
     "metadata": {},
     "output_type": "execute_result"
    }
   ],
   "source": [
    "from inheritance_explorer import ClassGraphTree\n",
    "from yt.data_objects.static_output import ParticleFile\n",
    "base_class = ParticleFile\n",
    "fname = \"_read_field\"\n",
    "\n",
    "cgt = ClassGraphTree(base_class, funcname=fname) # traces an inheritance tree\n",
    "graph = cgt.build_interactive_graph(width=\"1200px\", \n",
    "                                    height=\"800px\", \n",
    "                                    bgcolor='#222222', \n",
    "                                    font_color='white') # constructs a pyvis interactive graph\n",
    "graph.show('tmp.html')  # a pyvis interactive graph"
   ]
  },
  {
   "cell_type": "code",
   "execution_count": 1,
   "metadata": {},
   "outputs": [
    {
     "data": {
      "text/html": [
       "\n",
       "        <iframe\n",
       "            width=\"1200px\"\n",
       "            height=\"800px\"\n",
       "            src=\"tmp.html\"\n",
       "            frameborder=\"0\"\n",
       "            allowfullscreen\n",
       "            \n",
       "        ></iframe>\n",
       "        "
      ],
      "text/plain": [
       "<IPython.lib.display.IFrame at 0x7f1495142e20>"
      ]
     },
     "execution_count": 1,
     "metadata": {},
     "output_type": "execute_result"
    }
   ],
   "source": [
    "from inheritance_explorer import ClassGraphTree\n",
    "from yt.data_objects.static_output import ParticleFile\n",
    "from yt.utilities.file_handler import BinaryContextMixin, HDFContextMixin\n",
    "base_class = ParticleFile\n",
    "fname = \"open_handle\"\n",
    "\n",
    "cgt = ClassGraphTree(base_class, funcname=fname) # traces an inheritance tree\n",
    "graph = cgt.build_interactive_graph(width=\"1200px\", \n",
    "                                    height=\"800px\", \n",
    "                                    bgcolor='#222222', \n",
    "                                    font_color='white') # constructs a pyvis interactive graph\n",
    "graph.show('tmp.html')  # a pyvis interactive graph"
   ]
  },
  {
   "cell_type": "code",
   "execution_count": null,
   "metadata": {},
   "outputs": [],
   "source": []
  }
 ],
 "metadata": {
  "kernelspec": {
   "display_name": "Python 3 (ipykernel)",
   "language": "python",
   "name": "python3"
  },
  "language_info": {
   "codemirror_mode": {
    "name": "ipython",
    "version": 3
   },
   "file_extension": ".py",
   "mimetype": "text/x-python",
   "name": "python",
   "nbconvert_exporter": "python",
   "pygments_lexer": "ipython3",
   "version": "3.9.0"
  }
 },
 "nbformat": 4,
 "nbformat_minor": 4
}
