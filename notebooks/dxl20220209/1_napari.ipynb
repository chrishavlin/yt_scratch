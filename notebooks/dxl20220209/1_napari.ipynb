{
 "cells": [
  {
   "cell_type": "markdown",
   "id": "available-notification",
   "metadata": {},
   "source": [
    "## yt-napari updates! \n",
    "\n",
    "(pyenv activate yt_dev)"
   ]
  },
  {
   "cell_type": "code",
   "execution_count": null,
   "id": "enormous-tenant",
   "metadata": {},
   "outputs": [],
   "source": [
    "import napari"
   ]
  },
  {
   "cell_type": "code",
   "execution_count": 4,
   "id": "terminal-invasion",
   "metadata": {},
   "outputs": [],
   "source": [
    "viewer = napari.Viewer()  # load yt_scratch/notebooks/dxl20220209/iso_galaxy.json"
   ]
  },
  {
   "cell_type": "markdown",
   "id": "skilled-drinking",
   "metadata": {},
   "source": [
    "json contents:\n",
    "\n",
    "```json\n",
    "{\"$schema\": \"yt-napari_0.0.1.json\",\n",
    "  \"dataset\": \"IsolatedGalaxy/galaxy0030/galaxy0030\",\n",
    "  \"field_type\": \"enzo\",\n",
    "  \"field_name\": \"Density\",\n",
    "  \"left_edge\": [0.45, 0.45, 0.45],\n",
    "  \"right_edge\": [0.55, 0.55, 0.55],\n",
    "  \"edge_units\": \"code_length\",\n",
    "  \"resolution\": [400, 400, 400],\n",
    "  \"take_log\": true}\n",
    "```\n"
   ]
  },
  {
   "cell_type": "code",
   "execution_count": 2,
   "id": "conscious-aquatic",
   "metadata": {},
   "outputs": [
    {
     "name": "stderr",
     "output_type": "stream",
     "text": [
      "yt : [INFO     ] 2022-02-08 14:42:31,331 Parameters: current_time              = 0.02\n",
      "yt : [INFO     ] 2022-02-08 14:42:31,332 Parameters: domain_dimensions         = [16 16 16]\n",
      "yt : [INFO     ] 2022-02-08 14:42:31,333 Parameters: domain_left_edge          = [0. 0. 0.]\n",
      "yt : [INFO     ] 2022-02-08 14:42:31,333 Parameters: domain_right_edge         = [2. 2. 2.]\n",
      "yt : [INFO     ] 2022-02-08 14:42:31,334 Parameters: cosmological_simulation   = 0\n",
      "yt : [INFO     ] 2022-02-08 14:42:31,355 Using full MHD energy for thermal pressure.\n"
     ]
    }
   ],
   "source": [
    "# open another\n",
    "viewer.layers.clear()\n",
    "viewer.open(\"./amrvac3d_eyeofsauron.json\")\n",
    "viewer.layers[0].colormap = \"inferno\"\n",
    "viewer.dims.ndisplay = 3"
   ]
  },
  {
   "cell_type": "markdown",
   "id": "precious-habitat",
   "metadata": {},
   "source": [
    "# how it works\n",
    "\n",
    "### Napari's new plugin engine (`npe2`) \n",
    "\n",
    "yaml specification of plugin hooks and source code location. `napari.yaml` (in `yt-napari/src/yt_napari`):\n",
    "\n",
    "```yaml\n",
    "name: yt-napari\n",
    "display_name: yt-napari\n",
    "contributions:\n",
    "  commands:\n",
    "    - id: yt-napari.get_reader\n",
    "      python_name: yt_napari._reader:napari_get_reader\n",
    "      title: Open data with napari FooBar  \n",
    "  readers:\n",
    "    - command: yt-napari.get_reader\n",
    "      accepts_directories: false\n",
    "      filename_patterns: ['*.json']\n",
    "```\n",
    "\n",
    "\n",
    "### The schema approach\n",
    "\n",
    "Currently a vast simplification of ideas in `analysis_schema` work:\n",
    "\n",
    "1. Data model & Schema:\n",
    "    * A pydantic class `yt_napari._data_model.InputModel`\n",
    "    * generated schema in `yt_napari/schemas/yt-napari_x.x.x.json`\n",
    "2. JSON ingestion: `yt_napari._reader.reader_function` redirects to `yt_napari._model_ingestor.load_from_json()`, \n",
    "\n",
    "```python\n",
    "def load_from_json(json_path: str):\n",
    "\n",
    "    # InputModel is a pydantic class, the following will validate the json\n",
    "    model = InputModel.parse_file(json_path)\n",
    "\n",
    "    # now that we have a validated model, we can use the model attributes to\n",
    "    # execute the code that will actually return our array for the image\n",
    "    return _process_validated_model(model)\n",
    "```\n",
    "\n",
    "`_process_validated_model` is where the yt commands get run. \n",
    "\n",
    "Will be easy to use `analysis_schema` directly when ready!\n",
    "\n",
    "\n"
   ]
  },
  {
   "cell_type": "markdown",
   "id": "unknown-final",
   "metadata": {},
   "source": [
    "## coming soon...\n",
    "\n",
    "For first beta release (https://github.com/data-exp-lab/yt-napari/issues/7):\n",
    "* specify multiple fields to get multiple layers\n",
    "* add 2d image layer functionality for slices\n",
    "* image layer spatial referencing (napari works in pixel/image coords, yt in spatial, need to scale + translate)\n",
    "* documentation\n",
    "\n",
    "Concurrent with first release:\n",
    "* On the yt side: add a `.to_napari` method to easily sample and add a field from a yt selection object to a napari viewer. \n",
    "\n",
    "Longer term:\n",
    "* semi-automated generation of a napari plugin widget for loading data (convert the schema to field inputs)\n",
    "* move to yt-project github\n",
    "   "
   ]
  },
  {
   "cell_type": "code",
   "execution_count": null,
   "id": "plastic-civilization",
   "metadata": {},
   "outputs": [],
   "source": []
  }
 ],
 "metadata": {
  "kernelspec": {
   "display_name": "Python 3",
   "language": "python",
   "name": "python3"
  },
  "language_info": {
   "codemirror_mode": {
    "name": "ipython",
    "version": 3
   },
   "file_extension": ".py",
   "mimetype": "text/x-python",
   "name": "python",
   "nbconvert_exporter": "python",
   "pygments_lexer": "ipython3",
   "version": "3.8.0"
  }
 },
 "nbformat": 4,
 "nbformat_minor": 5
}
