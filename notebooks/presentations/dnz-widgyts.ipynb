{
 "cells": [
  {
   "cell_type": "code",
   "execution_count": 1,
   "id": "b49edf10-13eb-4d47-8866-1392cccf258f",
   "metadata": {
    "tags": []
   },
   "outputs": [
    {
     "name": "stderr",
     "output_type": "stream",
     "text": [
      "yt : [INFO     ] 2024-06-25 10:12:31,403 Sample dataset found in '/home/chavlin/hdd/data/yt_data/yt_sample_sets/DeeplyNestedZoom/DD0025/data0025'\n",
      "yt : [INFO     ] 2024-06-25 10:12:31,575 Parameters: current_time              = 14.1336338797\n",
      "yt : [INFO     ] 2024-06-25 10:12:31,575 Parameters: domain_dimensions         = [128 128 128]\n",
      "yt : [INFO     ] 2024-06-25 10:12:31,576 Parameters: domain_left_edge          = [0. 0. 0.]\n",
      "yt : [INFO     ] 2024-06-25 10:12:31,576 Parameters: domain_right_edge         = [1. 1. 1.]\n",
      "yt : [INFO     ] 2024-06-25 10:12:31,577 Parameters: cosmological_simulation   = 1\n",
      "yt : [INFO     ] 2024-06-25 10:12:31,577 Parameters: current_redshift          = 14.092558914923\n",
      "yt : [INFO     ] 2024-06-25 10:12:31,578 Parameters: omega_lambda              = 0.6911\n",
      "yt : [INFO     ] 2024-06-25 10:12:31,578 Parameters: omega_matter              = 0.3089\n",
      "yt : [INFO     ] 2024-06-25 10:12:31,579 Parameters: omega_radiation           = 0.0\n",
      "yt : [INFO     ] 2024-06-25 10:12:31,579 Parameters: hubble_constant           = 0.6774\n"
     ]
    }
   ],
   "source": [
    "import yt \n",
    "ds = yt.load_sample(\"DeeplyNestedZoom\")"
   ]
  },
  {
   "cell_type": "code",
   "execution_count": 8,
   "id": "3a2af07e-92f9-4533-8d79-4a48b744375d",
   "metadata": {
    "tags": []
   },
   "outputs": [
    {
     "name": "stderr",
     "output_type": "stream",
     "text": [
      "yt : [INFO     ] 2024-06-25 10:14:14,838 xlim = 0.000000 1.000000\n",
      "yt : [INFO     ] 2024-06-25 10:14:14,839 ylim = 0.000000 1.000000\n",
      "yt : [INFO     ] 2024-06-25 10:14:14,841 xlim = 0.000000 1.000000\n",
      "yt : [INFO     ] 2024-06-25 10:14:14,842 ylim = 0.000000 1.000000\n",
      "yt : [INFO     ] 2024-06-25 10:14:14,843 Making a fixed resolution buffer of (('gas', 'density')) 800 by 800\n",
      "yt : [INFO     ] 2024-06-25 10:14:15,118 Saving plot dnz-with-grids.png\n"
     ]
    },
    {
     "data": {
      "text/plain": [
       "['dnz-with-grids.png']"
      ]
     },
     "execution_count": 8,
     "metadata": {},
     "output_type": "execute_result"
    }
   ],
   "source": [
    "slc = yt.SlicePlot(ds, 'x', ('gas', 'density'), window_size=(3,3))\n",
    "slc.annotate_grids()\n",
    "slc.zoom(10)\n",
    "slc.save('dnz-with-grids.png')"
   ]
  },
  {
   "cell_type": "code",
   "execution_count": 9,
   "id": "e937fbc1-affc-4a5a-af73-cd3b8231d81f",
   "metadata": {
    "tags": []
   },
   "outputs": [
    {
     "name": "stderr",
     "output_type": "stream",
     "text": [
      "yt : [INFO     ] 2024-06-25 10:14:21,701 xlim = 0.000000 1.000000\n",
      "yt : [INFO     ] 2024-06-25 10:14:21,701 ylim = 0.000000 1.000000\n",
      "yt : [INFO     ] 2024-06-25 10:14:21,704 xlim = 0.000000 1.000000\n",
      "yt : [INFO     ] 2024-06-25 10:14:21,704 ylim = 0.000000 1.000000\n",
      "yt : [INFO     ] 2024-06-25 10:14:21,705 Making a fixed resolution buffer of (('gas', 'density')) 800 by 800\n",
      "yt : [INFO     ] 2024-06-25 10:14:21,987 Saving plot dnz-without-grids.png\n"
     ]
    },
    {
     "data": {
      "text/plain": [
       "['dnz-without-grids.png']"
      ]
     },
     "execution_count": 9,
     "metadata": {},
     "output_type": "execute_result"
    }
   ],
   "source": [
    "slc = yt.SlicePlot(ds, 'x', ('gas', 'density'), window_size=(3,3))\n",
    "slc.zoom(10)\n",
    "slc.save('dnz-without-grids.png')"
   ]
  },
  {
   "cell_type": "code",
   "execution_count": 10,
   "id": "8f7c794c-4995-4a8a-a2c1-23c256c644b7",
   "metadata": {
    "tags": []
   },
   "outputs": [
    {
     "name": "stderr",
     "output_type": "stream",
     "text": [
      "yt : [INFO     ] 2024-06-25 10:15:46,309 Sample dataset found in '/home/chavlin/hdd/data/yt_data/yt_sample_sets/DeeplyNestedZoom/DD0025/data0025'\n",
      "yt : [INFO     ] 2024-06-25 10:15:46,380 Parameters: current_time              = 14.1336338797\n",
      "yt : [INFO     ] 2024-06-25 10:15:46,380 Parameters: domain_dimensions         = [128 128 128]\n",
      "yt : [INFO     ] 2024-06-25 10:15:46,380 Parameters: domain_left_edge          = [0. 0. 0.]\n",
      "yt : [INFO     ] 2024-06-25 10:15:46,381 Parameters: domain_right_edge         = [1. 1. 1.]\n",
      "yt : [INFO     ] 2024-06-25 10:15:46,381 Parameters: cosmological_simulation   = 1\n",
      "yt : [INFO     ] 2024-06-25 10:15:46,382 Parameters: current_redshift          = 14.092558914923\n",
      "yt : [INFO     ] 2024-06-25 10:15:46,383 Parameters: omega_lambda              = 0.6911\n",
      "yt : [INFO     ] 2024-06-25 10:15:46,383 Parameters: omega_matter              = 0.3089\n",
      "yt : [INFO     ] 2024-06-25 10:15:46,383 Parameters: omega_radiation           = 0.0\n",
      "yt : [INFO     ] 2024-06-25 10:15:46,384 Parameters: hubble_constant           = 0.6774\n",
      "Parsing Hierarchy : 100%|████████████████| 1825/1825 [00:00<00:00, 10309.79it/s]\n",
      "yt : [INFO     ] 2024-06-25 10:15:46,600 Gathering a field list (this may take a moment.)\n",
      "/home/chavlin/miniconda3/envs/yt_py39/lib/python3.9/site-packages/traittypes/traittypes.py:97: UserWarning: Given trait value dtype \"float32\" does not match required type \"float64\". A coerced copy has been created.\n",
      "  warnings.warn(\n"
     ]
    },
    {
     "data": {
      "application/vnd.jupyter.widget-view+json": {
       "model_id": "375fc5a37d1142ee808693f40f20d8e9",
       "version_major": 2,
       "version_minor": 0
      },
      "text/plain": [
       "Tab(children=(AppLayout(children=(Tab(children=(VBox(children=(Box(children=(Box(children=(Button(description=…"
      ]
     },
     "execution_count": 10,
     "metadata": {},
     "output_type": "execute_result"
    }
   ],
   "source": [
    "import yt\n",
    "import widgyts\n",
    "\n",
    "ds = yt.load_sample(\"DeeplyNestedZoom\")\n",
    "dsv = widgyts.DatasetViewer(ds=ds)\n",
    "dsv.widget()"
   ]
  },
  {
   "cell_type": "code",
   "execution_count": null,
   "id": "9539953b-6c3e-495b-9b11-56c6e4e23bca",
   "metadata": {},
   "outputs": [],
   "source": []
  }
 ],
 "metadata": {
  "kernelspec": {
   "display_name": "Python 3 (ipykernel)",
   "language": "python",
   "name": "python3"
  },
  "language_info": {
   "codemirror_mode": {
    "name": "ipython",
    "version": 3
   },
   "file_extension": ".py",
   "mimetype": "text/x-python",
   "name": "python",
   "nbconvert_exporter": "python",
   "pygments_lexer": "ipython3",
   "version": "3.10.11"
  }
 },
 "nbformat": 4,
 "nbformat_minor": 5
}
