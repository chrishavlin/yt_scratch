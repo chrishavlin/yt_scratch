{
 "cells": [
  {
   "cell_type": "code",
   "execution_count": 2,
   "id": "4e507076-c1c3-4192-9f68-bf4bb09f88aa",
   "metadata": {},
   "outputs": [
    {
     "name": "stderr",
     "output_type": "stream",
     "text": [
      "yt : [INFO     ] 2022-08-08 13:18:43,043 Sample dataset found in '/home/chris/hdd/data/yt_data/yt_sample_sets/IsolatedGalaxy/galaxy0030/galaxy0030'\n",
      "yt : [INFO     ] 2022-08-08 13:18:43,153 Parameters: current_time              = 0.0060000200028298\n",
      "yt : [INFO     ] 2022-08-08 13:18:43,155 Parameters: domain_dimensions         = [32 32 32]\n",
      "yt : [INFO     ] 2022-08-08 13:18:43,156 Parameters: domain_left_edge          = [0. 0. 0.]\n",
      "yt : [INFO     ] 2022-08-08 13:18:43,158 Parameters: domain_right_edge         = [1. 1. 1.]\n",
      "yt : [INFO     ] 2022-08-08 13:18:43,159 Parameters: cosmological_simulation   = 0\n",
      "Parsing Hierarchy : 100%|██████████████████| 173/173 [00:00<00:00, 10837.99it/s]\n",
      "yt : [INFO     ] 2022-08-08 13:18:43,195 Gathering a field list (this may take a moment.)\n"
     ]
    },
    {
     "data": {
      "text/plain": [
       "<matplotlib.image.AxesImage at 0x7ff99c8ff7f0>"
      ]
     },
     "execution_count": 2,
     "metadata": {},
     "output_type": "execute_result"
    },
    {
     "data": {
      "image/png": "[encoded data removed]",
      "text/plain": [
       "<Figure size 432x288 with 2 Axes>"
      ]
     },
     "metadata": {
      "needs_background": "light"
     },
     "output_type": "display_data"
    }
   ],
   "source": [
    "# uses branch covering_grid_datasources\n",
    "import yt\n",
    "import numpy as np\n",
    "import matplotlib.pyplot as plt \n",
    "\n",
    "ds = yt.load_sample(\"IsolatedGalaxy\")\n",
    "\n",
    "cg = ds.covering_grid(2, left_edge=[0.0, 0.0, 0.0], dims=[128, 128, 128])\n",
    "gridded_dens = cg[(\"gas\", \"density\")]\n",
    "\n",
    "sp = ds.sphere(ds.domain_center, 0.2)\n",
    "cg_sp_intx = ds.covering_grid(2, left_edge=[0.0, 0.0, 0.0], dims=[128, 128, 128], data_source=sp)\n",
    "gridded_dens_in_sphere = cg_sp_intx[(\"gas\", \"density\")]\n",
    "\n",
    "f, axs = plt.subplots(nrows=1, ncols=2)\n",
    "axs[0].imshow(np.log10(gridded_dens[:,:,64]))\n",
    "axs[1].imshow(np.log10(gridded_dens_in_sphere[:,:,64]))"
   ]
  },
  {
   "cell_type": "code",
   "execution_count": 3,
   "id": "671f20f5-f1a5-46c5-a812-3d65e3a04a0d",
   "metadata": {},
   "outputs": [
    {
     "data": {
      "text/plain": [
       "\u001b[0;31mSignature:\u001b[0m\n",
       "\u001b[0mplt\u001b[0m\u001b[0;34m.\u001b[0m\u001b[0msubplots\u001b[0m\u001b[0;34m(\u001b[0m\u001b[0;34m\u001b[0m\n",
       "\u001b[0;34m\u001b[0m    \u001b[0mnrows\u001b[0m\u001b[0;34m=\u001b[0m\u001b[0;36m1\u001b[0m\u001b[0;34m,\u001b[0m\u001b[0;34m\u001b[0m\n",
       "\u001b[0;34m\u001b[0m    \u001b[0mncols\u001b[0m\u001b[0;34m=\u001b[0m\u001b[0;36m1\u001b[0m\u001b[0;34m,\u001b[0m\u001b[0;34m\u001b[0m\n",
       "\u001b[0;34m\u001b[0m    \u001b[0;34m*\u001b[0m\u001b[0;34m,\u001b[0m\u001b[0;34m\u001b[0m\n",
       "\u001b[0;34m\u001b[0m    \u001b[0msharex\u001b[0m\u001b[0;34m=\u001b[0m\u001b[0;32mFalse\u001b[0m\u001b[0;34m,\u001b[0m\u001b[0;34m\u001b[0m\n",
       "\u001b[0;34m\u001b[0m    \u001b[0msharey\u001b[0m\u001b[0;34m=\u001b[0m\u001b[0;32mFalse\u001b[0m\u001b[0;34m,\u001b[0m\u001b[0;34m\u001b[0m\n",
       "\u001b[0;34m\u001b[0m    \u001b[0msqueeze\u001b[0m\u001b[0;34m=\u001b[0m\u001b[0;32mTrue\u001b[0m\u001b[0;34m,\u001b[0m\u001b[0;34m\u001b[0m\n",
       "\u001b[0;34m\u001b[0m    \u001b[0msubplot_kw\u001b[0m\u001b[0;34m=\u001b[0m\u001b[0;32mNone\u001b[0m\u001b[0;34m,\u001b[0m\u001b[0;34m\u001b[0m\n",
       "\u001b[0;34m\u001b[0m    \u001b[0mgridspec_kw\u001b[0m\u001b[0;34m=\u001b[0m\u001b[0;32mNone\u001b[0m\u001b[0;34m,\u001b[0m\u001b[0;34m\u001b[0m\n",
       "\u001b[0;34m\u001b[0m    \u001b[0;34m**\u001b[0m\u001b[0mfig_kw\u001b[0m\u001b[0;34m,\u001b[0m\u001b[0;34m\u001b[0m\n",
       "\u001b[0;34m\u001b[0m\u001b[0;34m)\u001b[0m\u001b[0;34m\u001b[0m\u001b[0;34m\u001b[0m\u001b[0m\n",
       "\u001b[0;31mDocstring:\u001b[0m\n",
       "Create a figure and a set of subplots.\n",
       "\n",
       "This utility wrapper makes it convenient to create common layouts of\n",
       "subplots, including the enclosing figure object, in a single call.\n",
       "\n",
       "Parameters\n",
       "----------\n",
       "nrows, ncols : int, default: 1\n",
       "    Number of rows/columns of the subplot grid.\n",
       "\n",
       "sharex, sharey : bool or {'none', 'all', 'row', 'col'}, default: False\n",
       "    Controls sharing of properties among x (*sharex*) or y (*sharey*)\n",
       "    axes:\n",
       "\n",
       "    - True or 'all': x- or y-axis will be shared among all subplots.\n",
       "    - False or 'none': each subplot x- or y-axis will be independent.\n",
       "    - 'row': each subplot row will share an x- or y-axis.\n",
       "    - 'col': each subplot column will share an x- or y-axis.\n",
       "\n",
       "    When subplots have a shared x-axis along a column, only the x tick\n",
       "    labels of the bottom subplot are created. Similarly, when subplots\n",
       "    have a shared y-axis along a row, only the y tick labels of the first\n",
       "    column subplot are created. To later turn other subplots' ticklabels\n",
       "    on, use `~matplotlib.axes.Axes.tick_params`.\n",
       "\n",
       "    When subplots have a shared axis that has units, calling\n",
       "    `~matplotlib.axis.Axis.set_units` will update each axis with the\n",
       "    new units.\n",
       "\n",
       "squeeze : bool, default: True\n",
       "    - If True, extra dimensions are squeezed out from the returned\n",
       "      array of `~matplotlib.axes.Axes`:\n",
       "\n",
       "      - if only one subplot is constructed (nrows=ncols=1), the\n",
       "        resulting single Axes object is returned as a scalar.\n",
       "      - for Nx1 or 1xM subplots, the returned object is a 1D numpy\n",
       "        object array of Axes objects.\n",
       "      - for NxM, subplots with N>1 and M>1 are returned as a 2D array.\n",
       "\n",
       "    - If False, no squeezing at all is done: the returned Axes object is\n",
       "      always a 2D array containing Axes instances, even if it ends up\n",
       "      being 1x1.\n",
       "\n",
       "subplot_kw : dict, optional\n",
       "    Dict with keywords passed to the\n",
       "    `~matplotlib.figure.Figure.add_subplot` call used to create each\n",
       "    subplot.\n",
       "\n",
       "gridspec_kw : dict, optional\n",
       "    Dict with keywords passed to the `~matplotlib.gridspec.GridSpec`\n",
       "    constructor used to create the grid the subplots are placed on.\n",
       "\n",
       "**fig_kw\n",
       "    All additional keyword arguments are passed to the\n",
       "    `.pyplot.figure` call.\n",
       "\n",
       "Returns\n",
       "-------\n",
       "fig : `~.figure.Figure`\n",
       "\n",
       "ax : `.axes.Axes` or array of Axes\n",
       "    *ax* can be either a single `~matplotlib.axes.Axes` object or an\n",
       "    array of Axes objects if more than one subplot was created.  The\n",
       "    dimensions of the resulting array can be controlled with the squeeze\n",
       "    keyword, see above.\n",
       "\n",
       "    Typical idioms for handling the return value are::\n",
       "\n",
       "        # using the variable ax for single a Axes\n",
       "        fig, ax = plt.subplots()\n",
       "\n",
       "        # using the variable axs for multiple Axes\n",
       "        fig, axs = plt.subplots(2, 2)\n",
       "\n",
       "        # using tuple unpacking for multiple Axes\n",
       "        fig, (ax1, ax2) = plt.subplots(1, 2)\n",
       "        fig, ((ax1, ax2), (ax3, ax4)) = plt.subplots(2, 2)\n",
       "\n",
       "    The names ``ax`` and pluralized ``axs`` are preferred over ``axes``\n",
       "    because for the latter it's not clear if it refers to a single\n",
       "    `~.axes.Axes` instance or a collection of these.\n",
       "\n",
       "See Also\n",
       "--------\n",
       ".pyplot.figure\n",
       ".pyplot.subplot\n",
       ".pyplot.axes\n",
       ".Figure.subplots\n",
       ".Figure.add_subplot\n",
       "\n",
       "Examples\n",
       "--------\n",
       "::\n",
       "\n",
       "    # First create some toy data:\n",
       "    x = np.linspace(0, 2*np.pi, 400)\n",
       "    y = np.sin(x**2)\n",
       "\n",
       "    # Create just a figure and only one subplot\n",
       "    fig, ax = plt.subplots()\n",
       "    ax.plot(x, y)\n",
       "    ax.set_title('Simple plot')\n",
       "\n",
       "    # Create two subplots and unpack the output array immediately\n",
       "    f, (ax1, ax2) = plt.subplots(1, 2, sharey=True)\n",
       "    ax1.plot(x, y)\n",
       "    ax1.set_title('Sharing Y axis')\n",
       "    ax2.scatter(x, y)\n",
       "\n",
       "    # Create four polar axes and access them through the returned array\n",
       "    fig, axs = plt.subplots(2, 2, subplot_kw=dict(projection=\"polar\"))\n",
       "    axs[0, 0].plot(x, y)\n",
       "    axs[1, 1].scatter(x, y)\n",
       "\n",
       "    # Share a X axis with each column of subplots\n",
       "    plt.subplots(2, 2, sharex='col')\n",
       "\n",
       "    # Share a Y axis with each row of subplots\n",
       "    plt.subplots(2, 2, sharey='row')\n",
       "\n",
       "    # Share both X and Y axes with all subplots\n",
       "    plt.subplots(2, 2, sharex='all', sharey='all')\n",
       "\n",
       "    # Note that this is the same as\n",
       "    plt.subplots(2, 2, sharex=True, sharey=True)\n",
       "\n",
       "    # Create figure number 10 with a single subplot\n",
       "    # and clears it if it already exists.\n",
       "    fig, ax = plt.subplots(num=10, clear=True)\n",
       "\u001b[0;31mFile:\u001b[0m      ~/miniconda3/envs/yt_dev_39/lib/python3.9/site-packages/matplotlib/pyplot.py\n",
       "\u001b[0;31mType:\u001b[0m      function\n"
      ]
     },
     "metadata": {},
     "output_type": "display_data"
    }
   ],
   "source": []
  },
  {
   "cell_type": "code",
   "execution_count": 2,
   "id": "94665478-d57c-4c99-97f8-cfc439436dd1",
   "metadata": {},
   "outputs": [
    {
     "name": "stderr",
     "output_type": "stream",
     "text": [
      "yt : [INFO     ] 2022-08-04 13:56:51,145 Sample dataset found in '/home/chris/hdd/data/yt_data/yt_sample_sets/IsolatedGalaxy/galaxy0030/galaxy0030'\n",
      "yt : [INFO     ] 2022-08-04 13:56:51,298 Parameters: current_time              = 0.0060000200028298\n",
      "yt : [INFO     ] 2022-08-04 13:56:51,299 Parameters: domain_dimensions         = [32 32 32]\n",
      "yt : [INFO     ] 2022-08-04 13:56:51,301 Parameters: domain_left_edge          = [0. 0. 0.]\n",
      "yt : [INFO     ] 2022-08-04 13:56:51,302 Parameters: domain_right_edge         = [1. 1. 1.]\n",
      "yt : [INFO     ] 2022-08-04 13:56:51,303 Parameters: cosmological_simulation   = 0\n"
     ]
    }
   ],
   "source": []
  },
  {
   "cell_type": "code",
   "execution_count": 3,
   "id": "a685eb92-f4b1-448c-96ad-a7266c8b35bc",
   "metadata": {},
   "outputs": [],
   "source": [
    "cube = ds.covering_grid(2, left_edge=[0.0, 0.0, 0.0], dims=[128, 128, 128])"
   ]
  },
  {
   "cell_type": "code",
   "execution_count": 6,
   "id": "7ecc2d78-dc4f-492e-ac07-2ab829f44987",
   "metadata": {},
   "outputs": [
    {
     "data": {
      "text/plain": [
       "(128, 128, 128)"
      ]
     },
     "execution_count": 6,
     "metadata": {},
     "output_type": "execute_result"
    }
   ],
   "source": [
    "cube[(\"gas\", \"density\")].shape"
   ]
  },
  {
   "cell_type": "code",
   "execution_count": 7,
   "id": "89eaa4f2-2313-42e5-8f0b-3a874547fac9",
   "metadata": {},
   "outputs": [
    {
     "data": {
      "text/plain": [
       "unyt_array([0., 0., 0.], 'code_length')"
      ]
     },
     "execution_count": 7,
     "metadata": {},
     "output_type": "execute_result"
    }
   ],
   "source": [
    "cube.left_edge"
   ]
  },
  {
   "cell_type": "code",
   "execution_count": 8,
   "id": "1df47dfe-42c1-442d-a8a3-0e189a9f0d1f",
   "metadata": {},
   "outputs": [
    {
     "data": {
      "text/plain": [
       "unyt_array([1., 1., 1.], 'code_length')"
      ]
     },
     "execution_count": 8,
     "metadata": {},
     "output_type": "execute_result"
    }
   ],
   "source": [
    "cube.right_edge"
   ]
  },
  {
   "cell_type": "code",
   "execution_count": 9,
   "id": "f7e26d06-2cac-494e-bcc7-4274e9bf79e0",
   "metadata": {},
   "outputs": [],
   "source": [
    "cube.center"
   ]
  },
  {
   "cell_type": "code",
   "execution_count": 3,
   "id": "821cd2a5-e6a6-4953-b6ff-f68cb908b2a3",
   "metadata": {},
   "outputs": [
    {
     "name": "stderr",
     "output_type": "stream",
     "text": [
      "Parsing Hierarchy : 100%|█████████████████████████████████████████| 173/173 [00:00<00:00, 8436.50it/s]\n",
      "yt : [INFO     ] 2022-08-04 13:56:51,353 Gathering a field list (this may take a moment.)\n"
     ]
    }
   ],
   "source": [
    "sp = ds.sphere(ds.domain_center, 0.5)"
   ]
  },
  {
   "cell_type": "code",
   "execution_count": 14,
   "id": "c5cae020-0d98-4583-9831-a25a629c34d9",
   "metadata": {},
   "outputs": [
    {
     "data": {
      "text/plain": [
       "\u001b[0;31mDocstring:\u001b[0m <no docstring>\n",
       "\u001b[0;31mType:\u001b[0m      builtin_function_or_method\n"
      ]
     },
     "metadata": {},
     "output_type": "display_data"
    }
   ],
   "source": [
    "sp.selector.fill_mask?"
   ]
  },
  {
   "cell_type": "code",
   "execution_count": 1,
   "id": "2f9cc1df-06ed-4085-8546-30c008cd3983",
   "metadata": {},
   "outputs": [
    {
     "name": "stderr",
     "output_type": "stream",
     "text": [
      "yt : [INFO     ] 2022-08-04 14:07:03,758 Sample dataset found in '/home/chris/hdd/data/yt_data/yt_sample_sets/IsolatedGalaxy/galaxy0030/galaxy0030'\n",
      "yt : [INFO     ] 2022-08-04 14:07:03,877 Parameters: current_time              = 0.0060000200028298\n",
      "yt : [INFO     ] 2022-08-04 14:07:03,879 Parameters: domain_dimensions         = [32 32 32]\n",
      "yt : [INFO     ] 2022-08-04 14:07:03,880 Parameters: domain_left_edge          = [0. 0. 0.]\n",
      "yt : [INFO     ] 2022-08-04 14:07:03,882 Parameters: domain_right_edge         = [1. 1. 1.]\n",
      "yt : [INFO     ] 2022-08-04 14:07:03,884 Parameters: cosmological_simulation   = 0\n"
     ]
    },
    {
     "name": "stdout",
     "output_type": "stream",
     "text": [
      "no intersection\n"
     ]
    },
    {
     "name": "stderr",
     "output_type": "stream",
     "text": [
      "Parsing Hierarchy : 100%|█████████████████████████████████████████| 173/173 [00:00<00:00, 4912.89it/s]\n",
      "yt : [INFO     ] 2022-08-04 14:07:03,945 Gathering a field list (this may take a moment.)\n"
     ]
    },
    {
     "name": "stdout",
     "output_type": "stream",
     "text": [
      "create an intersection\n"
     ]
    },
    {
     "data": {
      "text/plain": [
       "False"
      ]
     },
     "execution_count": 1,
     "metadata": {},
     "output_type": "execute_result"
    }
   ],
   "source": [
    "import yt\n",
    "ds = yt.load_sample(\"IsolatedGalaxy\")\n",
    "\n",
    "cube = ds.covering_grid(2, left_edge=[0.0, 0.0, 0.0], dims=[128, 128, 128])\n",
    "d = cube[(\"gas\", \"density\")]\n",
    "\n",
    "sp = ds.sphere(ds.domain_center, 0.2)\n",
    "cube2 = ds.covering_grid(2, left_edge=[0.0, 0.0, 0.0], dims=[128, 128, 128], data_source=sp)\n",
    "d2 = cube2[(\"gas\", \"density\")]\n",
    "\n",
    "import numpy as np \n",
    "np.all(d == d2)"
   ]
  },
  {
   "cell_type": "code",
   "execution_count": 2,
   "id": "36854eb4-4c31-4017-b32b-a8032533f4cc",
   "metadata": {},
   "outputs": [
    {
     "name": "stderr",
     "output_type": "stream",
     "text": [
      "/home/chris/miniconda3/envs/yt_dev_39/lib/python3.9/site-packages/unyt/array.py:1758: RuntimeWarning: divide by zero encountered in log10\n",
      "  out_arr = func(np.asarray(inp), out=out_func, **kwargs)\n"
     ]
    },
    {
     "data": {
      "text/plain": [
       "<matplotlib.image.AxesImage at 0x7fc324050340>"
      ]
     },
     "execution_count": 2,
     "metadata": {},
     "output_type": "execute_result"
    },
    {
     "data": {
      "image/png": "[encoded data removed]",
      "text/plain": [
       "<Figure size 432x288 with 1 Axes>"
      ]
     },
     "metadata": {
      "needs_background": "light"
     },
     "output_type": "display_data"
    }
   ],
   "source": [
    "import matplotlib.pyplot as plt \n",
    "\n",
    "plt.imshow(np.log10(d2[:,:,64]))"
   ]
  },
  {
   "cell_type": "code",
   "execution_count": 3,
   "id": "8dd5b6d7-3e18-4020-934c-706fdc7ab692",
   "metadata": {},
   "outputs": [
    {
     "data": {
      "text/plain": [
       "<matplotlib.image.AxesImage at 0x7fc31df27d30>"
      ]
     },
     "execution_count": 3,
     "metadata": {},
     "output_type": "execute_result"
    },
    {
     "data": {
      "image/png": "[encoded data removed]",
      "text/plain": [
       "<Figure size 432x288 with 1 Axes>"
      ]
     },
     "metadata": {
      "needs_background": "light"
     },
     "output_type": "display_data"
    }
   ],
   "source": [
    "\n",
    "plt.imshow(np.log10(d[:,:,64]))"
   ]
  },
  {
   "cell_type": "code",
   "execution_count": 4,
   "id": "7ad95361-712b-48c1-aa77-bd92ea6c3fa0",
   "metadata": {},
   "outputs": [
    {
     "ename": "TypeError",
     "evalue": "object.__new__(): not enough arguments",
     "output_type": "error",
     "traceback": [
      "\u001b[0;31m---------------------------------------------------------------------------\u001b[0m",
      "\u001b[0;31mTypeError\u001b[0m                                 Traceback (most recent call last)",
      "Input \u001b[0;32mIn [4]\u001b[0m, in \u001b[0;36m<cell line: 1>\u001b[0;34m()\u001b[0m\n\u001b[0;32m----> 1\u001b[0m \u001b[43msp\u001b[49m\u001b[38;5;241;43m.\u001b[39;49m\u001b[38;5;21;43m__new__\u001b[39;49m\u001b[43m(\u001b[49m\u001b[43m)\u001b[49m\n",
      "\u001b[0;31mTypeError\u001b[0m: object.__new__(): not enough arguments"
     ]
    }
   ],
   "source": []
  },
  {
   "cell_type": "code",
   "execution_count": null,
   "id": "0748beb3-834a-403b-8d8a-1f18dc0e6ba5",
   "metadata": {},
   "outputs": [],
   "source": []
  }
 ],
 "metadata": {
  "kernelspec": {
   "display_name": "Python 3 (ipykernel)",
   "language": "python",
   "name": "python3"
  },
  "language_info": {
   "codemirror_mode": {
    "name": "ipython",
    "version": 3
   },
   "file_extension": ".py",
   "mimetype": "text/x-python",
   "name": "python",
   "nbconvert_exporter": "python",
   "pygments_lexer": "ipython3",
   "version": "3.9.12"
  }
 },
 "nbformat": 4,
 "nbformat_minor": 5
}
